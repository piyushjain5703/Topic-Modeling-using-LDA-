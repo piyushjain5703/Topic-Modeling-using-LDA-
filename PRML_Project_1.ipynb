{
  "cells": [
    {
      "cell_type": "code",
      "source": [
        "# importing libraries \n",
        "import pandas as pd\n",
        "from sklearn.model_selection import train_test_split\n",
        "import re       #regular expression is used to search the words in a text\n",
        "import spacy\n",
        "import nltk \n",
        "nltk.download('wordnet')\n",
        "nltk.download('omw-1.4')\n",
        "nltk.download('stopwords')\n",
        "nltk.download('punkt')\n",
        "from nltk.corpus import stopwords  #stopwords means those words which doesn't add much value to text context like articles\n",
        "from nltk.stem.wordnet import WordNetLemmatizer\n",
        "from nltk.stem.porter import PorterStemmer\n",
        "import string\n",
        "from sklearn.feature_extraction.text import TfidfVectorizer, CountVectorizer\n",
        "from sklearn.decomposition import LatentDirichletAllocation as LDA\n",
        "import numpy as np"
      ],
      "metadata": {
        "colab": {
          "base_uri": "https://localhost:8080/"
        },
        "id": "HQ0gxSfq_l9G",
        "outputId": "85d37d7e-1d28-4bcc-9618-b92013b1468c"
      },
      "execution_count": null,
      "outputs": [
        {
          "output_type": "stream",
          "name": "stderr",
          "text": [
            "[nltk_data] Downloading package wordnet to /root/nltk_data...\n",
            "[nltk_data]   Package wordnet is already up-to-date!\n",
            "[nltk_data] Downloading package omw-1.4 to /root/nltk_data...\n",
            "[nltk_data]   Package omw-1.4 is already up-to-date!\n",
            "[nltk_data] Downloading package stopwords to /root/nltk_data...\n",
            "[nltk_data]   Package stopwords is already up-to-date!\n",
            "[nltk_data] Downloading package punkt to /root/nltk_data...\n",
            "[nltk_data]   Package punkt is already up-to-date!\n"
          ]
        }
      ]
    },
    {
      "cell_type": "markdown",
      "source": [
        "\n",
        "### Importing dataset"
      ],
      "metadata": {
        "id": "ys2GCAH-8si-"
      }
    },
    {
      "cell_type": "code",
      "execution_count": null,
      "metadata": {
        "colab": {
          "base_uri": "https://localhost:8080/",
          "height": 384
        },
        "id": "c6Ie4dzqdZ2y",
        "outputId": "c0f420ca-e2d0-40c8-d082-9a098b0e531d"
      },
      "outputs": [
        {
          "output_type": "execute_result",
          "data": {
            "text/plain": [
              "  Date received                Product       Sub-product  \\\n",
              "0      4/3/2020  Vehicle loan or lease              Loan   \n",
              "1     3/12/2020        Debt collection  Payday loan debt   \n",
              "\n",
              "                               Issue          Sub-issue  \\\n",
              "0            Getting a loan or lease    Fraudulent loan   \n",
              "1  Attempts to collect debt not owed  Debt is not yours   \n",
              "\n",
              "                        Consumer complaint narrative  \\\n",
              "0  This auto loan was opened on XX/XX/2020 in XXX...   \n",
              "1  In XXXX of 2019 I noticed a debt for {$620.00}...   \n",
              "\n",
              "                             Company public response  \\\n",
              "0  Company has responded to the consumer and the ...   \n",
              "1                                               None   \n",
              "\n",
              "                        Company State ZIP code  Tags  \\\n",
              "0  TRUIST FINANCIAL CORPORATION    PA     None  None   \n",
              "1    CURO Intermediate Holdings    CO    806XX  None   \n",
              "\n",
              "  Consumer consent provided? Submitted via Date sent to company  \\\n",
              "0           Consent provided           Web             4/3/2020   \n",
              "1           Consent provided           Web            3/12/2020   \n",
              "\n",
              "  Company response to consumer Timely response?  Consumer disputed?  \\\n",
              "0      Closed with explanation              Yes                 NaN   \n",
              "1      Closed with explanation              Yes                 NaN   \n",
              "\n",
              "   Complaint ID  \n",
              "0       3591341  \n",
              "1       3564184  "
            ],
            "text/html": [
              "\n",
              "  <div id=\"df-d7829224-b08c-482c-ae60-7c9de6226e21\">\n",
              "    <div class=\"colab-df-container\">\n",
              "      <div>\n",
              "<style scoped>\n",
              "    .dataframe tbody tr th:only-of-type {\n",
              "        vertical-align: middle;\n",
              "    }\n",
              "\n",
              "    .dataframe tbody tr th {\n",
              "        vertical-align: top;\n",
              "    }\n",
              "\n",
              "    .dataframe thead th {\n",
              "        text-align: right;\n",
              "    }\n",
              "</style>\n",
              "<table border=\"1\" class=\"dataframe\">\n",
              "  <thead>\n",
              "    <tr style=\"text-align: right;\">\n",
              "      <th></th>\n",
              "      <th>Date received</th>\n",
              "      <th>Product</th>\n",
              "      <th>Sub-product</th>\n",
              "      <th>Issue</th>\n",
              "      <th>Sub-issue</th>\n",
              "      <th>Consumer complaint narrative</th>\n",
              "      <th>Company public response</th>\n",
              "      <th>Company</th>\n",
              "      <th>State</th>\n",
              "      <th>ZIP code</th>\n",
              "      <th>Tags</th>\n",
              "      <th>Consumer consent provided?</th>\n",
              "      <th>Submitted via</th>\n",
              "      <th>Date sent to company</th>\n",
              "      <th>Company response to consumer</th>\n",
              "      <th>Timely response?</th>\n",
              "      <th>Consumer disputed?</th>\n",
              "      <th>Complaint ID</th>\n",
              "    </tr>\n",
              "  </thead>\n",
              "  <tbody>\n",
              "    <tr>\n",
              "      <th>0</th>\n",
              "      <td>4/3/2020</td>\n",
              "      <td>Vehicle loan or lease</td>\n",
              "      <td>Loan</td>\n",
              "      <td>Getting a loan or lease</td>\n",
              "      <td>Fraudulent loan</td>\n",
              "      <td>This auto loan was opened on XX/XX/2020 in XXX...</td>\n",
              "      <td>Company has responded to the consumer and the ...</td>\n",
              "      <td>TRUIST FINANCIAL CORPORATION</td>\n",
              "      <td>PA</td>\n",
              "      <td>None</td>\n",
              "      <td>None</td>\n",
              "      <td>Consent provided</td>\n",
              "      <td>Web</td>\n",
              "      <td>4/3/2020</td>\n",
              "      <td>Closed with explanation</td>\n",
              "      <td>Yes</td>\n",
              "      <td>NaN</td>\n",
              "      <td>3591341</td>\n",
              "    </tr>\n",
              "    <tr>\n",
              "      <th>1</th>\n",
              "      <td>3/12/2020</td>\n",
              "      <td>Debt collection</td>\n",
              "      <td>Payday loan debt</td>\n",
              "      <td>Attempts to collect debt not owed</td>\n",
              "      <td>Debt is not yours</td>\n",
              "      <td>In XXXX of 2019 I noticed a debt for {$620.00}...</td>\n",
              "      <td>None</td>\n",
              "      <td>CURO Intermediate Holdings</td>\n",
              "      <td>CO</td>\n",
              "      <td>806XX</td>\n",
              "      <td>None</td>\n",
              "      <td>Consent provided</td>\n",
              "      <td>Web</td>\n",
              "      <td>3/12/2020</td>\n",
              "      <td>Closed with explanation</td>\n",
              "      <td>Yes</td>\n",
              "      <td>NaN</td>\n",
              "      <td>3564184</td>\n",
              "    </tr>\n",
              "  </tbody>\n",
              "</table>\n",
              "</div>\n",
              "      <button class=\"colab-df-convert\" onclick=\"convertToInteractive('df-d7829224-b08c-482c-ae60-7c9de6226e21')\"\n",
              "              title=\"Convert this dataframe to an interactive table.\"\n",
              "              style=\"display:none;\">\n",
              "        \n",
              "  <svg xmlns=\"http://www.w3.org/2000/svg\" height=\"24px\"viewBox=\"0 0 24 24\"\n",
              "       width=\"24px\">\n",
              "    <path d=\"M0 0h24v24H0V0z\" fill=\"none\"/>\n",
              "    <path d=\"M18.56 5.44l.94 2.06.94-2.06 2.06-.94-2.06-.94-.94-2.06-.94 2.06-2.06.94zm-11 1L8.5 8.5l.94-2.06 2.06-.94-2.06-.94L8.5 2.5l-.94 2.06-2.06.94zm10 10l.94 2.06.94-2.06 2.06-.94-2.06-.94-.94-2.06-.94 2.06-2.06.94z\"/><path d=\"M17.41 7.96l-1.37-1.37c-.4-.4-.92-.59-1.43-.59-.52 0-1.04.2-1.43.59L10.3 9.45l-7.72 7.72c-.78.78-.78 2.05 0 2.83L4 21.41c.39.39.9.59 1.41.59.51 0 1.02-.2 1.41-.59l7.78-7.78 2.81-2.81c.8-.78.8-2.07 0-2.86zM5.41 20L4 18.59l7.72-7.72 1.47 1.35L5.41 20z\"/>\n",
              "  </svg>\n",
              "      </button>\n",
              "      \n",
              "  <style>\n",
              "    .colab-df-container {\n",
              "      display:flex;\n",
              "      flex-wrap:wrap;\n",
              "      gap: 12px;\n",
              "    }\n",
              "\n",
              "    .colab-df-convert {\n",
              "      background-color: #E8F0FE;\n",
              "      border: none;\n",
              "      border-radius: 50%;\n",
              "      cursor: pointer;\n",
              "      display: none;\n",
              "      fill: #1967D2;\n",
              "      height: 32px;\n",
              "      padding: 0 0 0 0;\n",
              "      width: 32px;\n",
              "    }\n",
              "\n",
              "    .colab-df-convert:hover {\n",
              "      background-color: #E2EBFA;\n",
              "      box-shadow: 0px 1px 2px rgba(60, 64, 67, 0.3), 0px 1px 3px 1px rgba(60, 64, 67, 0.15);\n",
              "      fill: #174EA6;\n",
              "    }\n",
              "\n",
              "    [theme=dark] .colab-df-convert {\n",
              "      background-color: #3B4455;\n",
              "      fill: #D2E3FC;\n",
              "    }\n",
              "\n",
              "    [theme=dark] .colab-df-convert:hover {\n",
              "      background-color: #434B5C;\n",
              "      box-shadow: 0px 1px 3px 1px rgba(0, 0, 0, 0.15);\n",
              "      filter: drop-shadow(0px 1px 2px rgba(0, 0, 0, 0.3));\n",
              "      fill: #FFFFFF;\n",
              "    }\n",
              "  </style>\n",
              "\n",
              "      <script>\n",
              "        const buttonEl =\n",
              "          document.querySelector('#df-d7829224-b08c-482c-ae60-7c9de6226e21 button.colab-df-convert');\n",
              "        buttonEl.style.display =\n",
              "          google.colab.kernel.accessAllowed ? 'block' : 'none';\n",
              "\n",
              "        async function convertToInteractive(key) {\n",
              "          const element = document.querySelector('#df-d7829224-b08c-482c-ae60-7c9de6226e21');\n",
              "          const dataTable =\n",
              "            await google.colab.kernel.invokeFunction('convertToInteractive',\n",
              "                                                     [key], {});\n",
              "          if (!dataTable) return;\n",
              "\n",
              "          const docLinkHtml = 'Like what you see? Visit the ' +\n",
              "            '<a target=\"_blank\" href=https://colab.research.google.com/notebooks/data_table.ipynb>data table notebook</a>'\n",
              "            + ' to learn more about interactive tables.';\n",
              "          element.innerHTML = '';\n",
              "          dataTable['output_type'] = 'display_data';\n",
              "          await google.colab.output.renderOutput(dataTable, element);\n",
              "          const docLink = document.createElement('div');\n",
              "          docLink.innerHTML = docLinkHtml;\n",
              "          element.appendChild(docLink);\n",
              "        }\n",
              "      </script>\n",
              "    </div>\n",
              "  </div>\n",
              "  "
            ]
          },
          "metadata": {},
          "execution_count": 6
        }
      ],
      "source": [
        "  #useful in creaing dataframs and storing the data in the dataframes\n",
        "data  = pd.read_csv(\"https://github.com/srivatsan88/YouTubeLI/blob/master/dataset/consumer_compliants.zip?raw=true\",compression='zip')\n",
        "data.head(2)"
      ]
    },
    {
      "cell_type": "markdown",
      "source": [
        "### Exploratory Data Analysis"
      ],
      "metadata": {
        "id": "bMAxpTJz81wy"
      }
    },
    {
      "cell_type": "code",
      "source": [
        "data['Product'].value_counts()"
      ],
      "metadata": {
        "colab": {
          "base_uri": "https://localhost:8080/"
        },
        "id": "67pd4OXnnByC",
        "outputId": "c36bb5a7-2865-4b8e-f56a-2a541adac82b"
      },
      "execution_count": null,
      "outputs": [
        {
          "output_type": "execute_result",
          "data": {
            "text/plain": [
              "Debt collection                21772\n",
              "Credit card or prepaid card    13193\n",
              "Mortgage                        9799\n",
              "Checking or savings account     7003\n",
              "Student loan                    2950\n",
              "Vehicle loan or lease           2736\n",
              "Name: Product, dtype: int64"
            ]
          },
          "metadata": {},
          "execution_count": 7
        }
      ]
    },
    {
      "cell_type": "code",
      "source": [
        "data['Company'].value_counts()"
      ],
      "metadata": {
        "colab": {
          "base_uri": "https://localhost:8080/"
        },
        "id": "IrGBKFH3nSSg",
        "outputId": "1247ca1e-166a-465d-b2f9-526ae65988d3"
      },
      "execution_count": null,
      "outputs": [
        {
          "output_type": "execute_result",
          "data": {
            "text/plain": [
              "CITIBANK, N.A.                                                    3226\n",
              "CAPITAL ONE FINANCIAL CORPORATION                                 2711\n",
              "BANK OF AMERICA, NATIONAL ASSOCIATION                             2580\n",
              "JPMORGAN CHASE & CO.                                              2409\n",
              "WELLS FARGO & COMPANY                                             2001\n",
              "                                                                  ... \n",
              "Time Investment Company, Inc.                                        1\n",
              "Automotive Services Finance, Inc.                                    1\n",
              "Foxstar Energy Resources LLC DBA Federal Student Loans Council       1\n",
              "Uplift, Inc                                                          1\n",
              "Keystone Credit Services LLC                                         1\n",
              "Name: Company, Length: 2197, dtype: int64"
            ]
          },
          "metadata": {},
          "execution_count": 8
        }
      ]
    },
    {
      "cell_type": "code",
      "execution_count": null,
      "metadata": {
        "colab": {
          "base_uri": "https://localhost:8080/",
          "height": 1000
        },
        "id": "vybq7sg1yCn4",
        "outputId": "6790ba5f-b6b2-419d-80ac-955de9569a8d"
      },
      "outputs": [
        {
          "output_type": "stream",
          "name": "stderr",
          "text": [
            "/usr/local/lib/python3.7/dist-packages/ipykernel_launcher.py:5: FutureWarning: Passing a negative integer is deprecated in version 1.0 and will not be supported in future version. Instead, use None to not limit the column width.\n",
            "  \"\"\"\n"
          ]
        },
        {
          "output_type": "execute_result",
          "data": {
            "text/plain": [
              "                           Product  \\\n",
              "0      Vehicle loan or lease         \n",
              "1      Debt collection               \n",
              "2      Vehicle loan or lease         \n",
              "3      Checking or savings account   \n",
              "4      Debt collection               \n",
              "...                ...               \n",
              "57448  Student loan                  \n",
              "57449  Debt collection               \n",
              "57450  Debt collection               \n",
              "57451  Checking or savings account   \n",
              "57452  Debt collection               \n",
              "\n",
              "                                                           Company  \\\n",
              "0      TRUIST FINANCIAL CORPORATION                                  \n",
              "1      CURO Intermediate Holdings                                    \n",
              "2      CAPITAL ONE FINANCIAL CORPORATION                             \n",
              "3      CAPITAL ONE FINANCIAL CORPORATION                             \n",
              "4      Merchants and Professional Bureau, Inc.                       \n",
              "...                                        ...                       \n",
              "57448  Nelnet, Inc.                                                  \n",
              "57449  The Receivable Management Services LLC, New York, NY Branch   \n",
              "57450  Convergent Resources, Inc.                                    \n",
              "57451  WELLS FARGO & COMPANY                                         \n",
              "57452  Exeter Finance Corp.                                          \n",
              "\n",
              "                                                                                                                                                                                                                                                                                                                                                                                                                                                                                                                                                                                                                                                                                                                                                                                                                                                                                                                                                                                                                                                                                                                                                    Complaint  \n",
              "0      This auto loan was opened on XX/XX/2020 in XXXX, NC with BB & T in my name. I have NEVER been to North Carolina and I have NEVER been a resident. I have filed a dispute twice through my credit bureaus but both times BB & T has claimed that this is an accurate loan. Which I wasn't aware of until today. I have tried to contact BB & T multiple times but I have never gotten through to a live person. I do n't drive and I have never owned a car before. I didn't have any knowledge of this account until I checked XXXXXXXX XXXX  and noticed it. I've tried twice to dispute it. Additionally I never received any bills or information about this account. This is my last resort in trying to remove this fraudulent loan off of my account.                                                                                                                                                                                                                                                                                                                                                                                             \n",
              "1      In XXXX of 2019 I noticed a debt for {$620.00} on my credit which i believed was mine I thought speedy cash had bought one of my old debts and sold it to XXXX XXXX XXXX XXXX. I contacted XXXX XXXX XXXX XXXX and after several attempts of giving my full name, nothing came up in their system. I gave my social and the rep said the account popped up but DID NOT tell me that the account was under someone elses name and continued to let me make a payment. The payment was for {$120.00}. Confirmation number-XXXX. After realizing it was not my account, I called back to get my money back and inform them of the mistake. I was told i needed to mail them an FTC report and dispute letter to get my money back. I completed all of this and when i called again they said they transferred the account back to speedy cash for fraud review and I would need to contact them. After contacting them i was again told that i can not get my money back. The issue im having is this representative at XXXX XXXX played blind to obvious fraud and let an innocent person make a payment on someone elses debt and i want my money back.  \n",
              "2      As stated from Capital One, XXXX XX/XX/XXXX and XXXX 2018, My wife and I went to several car dealerships to request for a car loan to get a used car. However, according to their credit requirements unfortunately my credit score was insufficient for the car loan approval at that time. It seemed as though they pulled my credit report multiple times.                                                                                                                                                                                                                                                                                                                                                                                                                                                                                                                                                                                                                                                                                                                                                                                           \n",
              "3      Please see CFPB case XXXX. \\n\\nCapital One, in the letter they provided ( and attached to that case as their response ) said this : \" The funds were reversed and sent back to XXXX XXXX XXXX  on XX/XX/XXXX ''. \\n\\nXXXX XXXX XXXX  ( now XXXX XXXX  ) has not received these funds. Staff at XXXX XXXX  - and also staff at the account-holder 's business - have looked for return of my money ( {$650.00} ) and find nothing. \\n\\nCapital One needs to document - actually prove - they returned the funds, as stated in their letter. Capital One must provide electronic information, if the return was made that way, or document the paper check they sent back to XXXX XXXX. \\n\\nI've left 3 messages about this problem for the person who signed the letter ( XXXX ) from Capital One. I have received no call-backs. \\n\\nSummary : Capital One said they returned my money on XX/XX/XXXX : they did not. If they continue claim they did, then they need to prove that.                                                                                                                                                                     \n",
              "4      This debt was incurred due to medical malpractice ( XXXX XXXX XXXX, XXXX, TX ). I asked the doctor to turn over my claim to his malpractice insurance company. This has cost me thousands of dollars to XXXX XXXX XXXX. I am still trying to collect damages from this doctor. He never responded and turned over me to collections Merchants and Professional Collection Bureau , Inc. I sent them a letter describing exactly this issue and instead of not contacting me and verifying my debt they start reporting this debt to the credit reporting agencies. They never verified the debt, like I asked and they never stopped it from being reported when I specifically told them not to, due to the circumstances above.                                                                                                                                                                                                                                                                                                                                                                                                                       \n",
              "...                                                                                                                                                                                                                                                                                                                                                                                                                                                                                                                                                                                                                                                                                                                                  ...                                                                                                                                                                                                                                                                                                                                                                                                                       \n",
              "57448  I am attempting to make a payment toward my student loans on the Nelnet website today, XX/XX/20, and Nelnet will not allow me to post the payment sooner than XX/XX/20. By the time the payment posts, 2-3 days of additional interest will have accrued and my payments will apply more to interest than is due today, the day that I'm attempting to pay. My understanding was that I could make a payment at any time but this does not appear to be true. The funds are available in my bank account today regardless of whether Nelnet can collect over the weekend. I should not be penalized for this. \\n\\nI submitted complaint XXXX in XXXX for other deceptive practices with Nelnet. They have not yet resolved the issue identified in that complaint or contacted me as they said they would in their response. I believe this new issue is just one more deceptive practice by this company that causes financial harm to borrowers.                                                                                                                                                                                                      \n",
              "57449  Received letter for {$480.00}. Original creditor didnt contact me until past statute of limitations for insurance company recoupment per Arizona law. Debt collection is illegal for phantom debt. Additionally they are phoning my office excessively.                                                                                                                                                                                                                                                                                                                                                                                                                                                                                                                                                                                                                                                                                                                                                                                                                                                                                                 \n",
              "57450  entire time 10 years until XX/XX/2020. XXXX makes my blood boil. I have called and was lied to told to provide my checking account information over the phone in order to turn my cell phone back on. i called at XXXX them at XXXX {$300.00} was added to my bill. \\n\\nScam scam scam I was told I can not call the office of the President just to write to XXXX XXXX XXXX XXXX XXXX XXXX XXXX, NM XXXX. I did three thousand times. the last letter I mailed on XX/XX/2020. Two collection agencies later. \\n\\nI chose to leave XXXX XXXX every time I called the XXXX supervisor would threaten me on a recorded line. I need peace of mind and a good Heart to beat inside of me. Im on a XXXX XXXX due to the stress at XXXX XXXX   taking all my money 4 10 years.                                                                                                                                                                                                                                                                                                                                                                               \n",
              "57451  I am a customer with Wells Fargo Bank. Recently money was withdrawn on a couple of occasions without my permission or consent to pay for a timeshare account that was never used by me nor anyone connected to me because of unfair policies pertaining to the fees of the said timeshare. I tried cancelling the said timeshare account several times because of these fees that were never mentioned at the initiation. My account was debited to pay for the timeshare fees without my knowledge or consent several times. I tried correcting this with Wells Fargo bank with no avail. I would appreciate it if you can look into this matter for me. I was left with no funds in my account and as such I could not take care of the basic necessities of my day to day life. \\nThanks in advance,                                                                                                                                                                                                                                                                                                                                                 \n",
              "57452  I spoken with them several times in a year. An in XXXX they informed me yes they sold my information to a third party without my knowledge. Also, I told them that I dont owe them anything because my car was paid off by insurance XXXX an Gap an they said no. I also informed them that constantly calling me an telling me that my credit score would be damage was inappropriate. But on my credit they written several negative things. An I didnt give Exeter financial Corp no authority to sell my information to XXXX XXXX                                                                                                                                                                                                                                                                                                                                                                                                                                                                                                                                                                                                                   \n",
              "\n",
              "[57453 rows x 3 columns]"
            ],
            "text/html": [
              "\n",
              "  <div id=\"df-525b54f0-4e1d-4b42-9461-75893b804c71\">\n",
              "    <div class=\"colab-df-container\">\n",
              "      <div>\n",
              "<style scoped>\n",
              "    .dataframe tbody tr th:only-of-type {\n",
              "        vertical-align: middle;\n",
              "    }\n",
              "\n",
              "    .dataframe tbody tr th {\n",
              "        vertical-align: top;\n",
              "    }\n",
              "\n",
              "    .dataframe thead th {\n",
              "        text-align: right;\n",
              "    }\n",
              "</style>\n",
              "<table border=\"1\" class=\"dataframe\">\n",
              "  <thead>\n",
              "    <tr style=\"text-align: right;\">\n",
              "      <th></th>\n",
              "      <th>Product</th>\n",
              "      <th>Company</th>\n",
              "      <th>Complaint</th>\n",
              "    </tr>\n",
              "  </thead>\n",
              "  <tbody>\n",
              "    <tr>\n",
              "      <th>0</th>\n",
              "      <td>Vehicle loan or lease</td>\n",
              "      <td>TRUIST FINANCIAL CORPORATION</td>\n",
              "      <td>This auto loan was opened on XX/XX/2020 in XXXX, NC with BB &amp; T in my name. I have NEVER been to North Carolina and I have NEVER been a resident. I have filed a dispute twice through my credit bureaus but both times BB &amp; T has claimed that this is an accurate loan. Which I wasn't aware of until today. I have tried to contact BB &amp; T multiple times but I have never gotten through to a live person. I do n't drive and I have never owned a car before. I didn't have any knowledge of this account until I checked XXXXXXXX XXXX  and noticed it. I've tried twice to dispute it. Additionally I never received any bills or information about this account. This is my last resort in trying to remove this fraudulent loan off of my account.</td>\n",
              "    </tr>\n",
              "    <tr>\n",
              "      <th>1</th>\n",
              "      <td>Debt collection</td>\n",
              "      <td>CURO Intermediate Holdings</td>\n",
              "      <td>In XXXX of 2019 I noticed a debt for {$620.00} on my credit which i believed was mine I thought speedy cash had bought one of my old debts and sold it to XXXX XXXX XXXX XXXX. I contacted XXXX XXXX XXXX XXXX and after several attempts of giving my full name, nothing came up in their system. I gave my social and the rep said the account popped up but DID NOT tell me that the account was under someone elses name and continued to let me make a payment. The payment was for {$120.00}. Confirmation number-XXXX. After realizing it was not my account, I called back to get my money back and inform them of the mistake. I was told i needed to mail them an FTC report and dispute letter to get my money back. I completed all of this and when i called again they said they transferred the account back to speedy cash for fraud review and I would need to contact them. After contacting them i was again told that i can not get my money back. The issue im having is this representative at XXXX XXXX played blind to obvious fraud and let an innocent person make a payment on someone elses debt and i want my money back.</td>\n",
              "    </tr>\n",
              "    <tr>\n",
              "      <th>2</th>\n",
              "      <td>Vehicle loan or lease</td>\n",
              "      <td>CAPITAL ONE FINANCIAL CORPORATION</td>\n",
              "      <td>As stated from Capital One, XXXX XX/XX/XXXX and XXXX 2018, My wife and I went to several car dealerships to request for a car loan to get a used car. However, according to their credit requirements unfortunately my credit score was insufficient for the car loan approval at that time. It seemed as though they pulled my credit report multiple times.</td>\n",
              "    </tr>\n",
              "    <tr>\n",
              "      <th>3</th>\n",
              "      <td>Checking or savings account</td>\n",
              "      <td>CAPITAL ONE FINANCIAL CORPORATION</td>\n",
              "      <td>Please see CFPB case XXXX. \\n\\nCapital One, in the letter they provided ( and attached to that case as their response ) said this : \" The funds were reversed and sent back to XXXX XXXX XXXX  on XX/XX/XXXX ''. \\n\\nXXXX XXXX XXXX  ( now XXXX XXXX  ) has not received these funds. Staff at XXXX XXXX  - and also staff at the account-holder 's business - have looked for return of my money ( {$650.00} ) and find nothing. \\n\\nCapital One needs to document - actually prove - they returned the funds, as stated in their letter. Capital One must provide electronic information, if the return was made that way, or document the paper check they sent back to XXXX XXXX. \\n\\nI've left 3 messages about this problem for the person who signed the letter ( XXXX ) from Capital One. I have received no call-backs. \\n\\nSummary : Capital One said they returned my money on XX/XX/XXXX : they did not. If they continue claim they did, then they need to prove that.</td>\n",
              "    </tr>\n",
              "    <tr>\n",
              "      <th>4</th>\n",
              "      <td>Debt collection</td>\n",
              "      <td>Merchants and Professional Bureau, Inc.</td>\n",
              "      <td>This debt was incurred due to medical malpractice ( XXXX XXXX XXXX, XXXX, TX ). I asked the doctor to turn over my claim to his malpractice insurance company. This has cost me thousands of dollars to XXXX XXXX XXXX. I am still trying to collect damages from this doctor. He never responded and turned over me to collections Merchants and Professional Collection Bureau , Inc. I sent them a letter describing exactly this issue and instead of not contacting me and verifying my debt they start reporting this debt to the credit reporting agencies. They never verified the debt, like I asked and they never stopped it from being reported when I specifically told them not to, due to the circumstances above.</td>\n",
              "    </tr>\n",
              "    <tr>\n",
              "      <th>...</th>\n",
              "      <td>...</td>\n",
              "      <td>...</td>\n",
              "      <td>...</td>\n",
              "    </tr>\n",
              "    <tr>\n",
              "      <th>57448</th>\n",
              "      <td>Student loan</td>\n",
              "      <td>Nelnet, Inc.</td>\n",
              "      <td>I am attempting to make a payment toward my student loans on the Nelnet website today, XX/XX/20, and Nelnet will not allow me to post the payment sooner than XX/XX/20. By the time the payment posts, 2-3 days of additional interest will have accrued and my payments will apply more to interest than is due today, the day that I'm attempting to pay. My understanding was that I could make a payment at any time but this does not appear to be true. The funds are available in my bank account today regardless of whether Nelnet can collect over the weekend. I should not be penalized for this. \\n\\nI submitted complaint XXXX in XXXX for other deceptive practices with Nelnet. They have not yet resolved the issue identified in that complaint or contacted me as they said they would in their response. I believe this new issue is just one more deceptive practice by this company that causes financial harm to borrowers.</td>\n",
              "    </tr>\n",
              "    <tr>\n",
              "      <th>57449</th>\n",
              "      <td>Debt collection</td>\n",
              "      <td>The Receivable Management Services LLC, New York, NY Branch</td>\n",
              "      <td>Received letter for {$480.00}. Original creditor didnt contact me until past statute of limitations for insurance company recoupment per Arizona law. Debt collection is illegal for phantom debt. Additionally they are phoning my office excessively.</td>\n",
              "    </tr>\n",
              "    <tr>\n",
              "      <th>57450</th>\n",
              "      <td>Debt collection</td>\n",
              "      <td>Convergent Resources, Inc.</td>\n",
              "      <td>entire time 10 years until XX/XX/2020. XXXX makes my blood boil. I have called and was lied to told to provide my checking account information over the phone in order to turn my cell phone back on. i called at XXXX them at XXXX {$300.00} was added to my bill. \\n\\nScam scam scam I was told I can not call the office of the President just to write to XXXX XXXX XXXX XXXX XXXX XXXX XXXX, NM XXXX. I did three thousand times. the last letter I mailed on XX/XX/2020. Two collection agencies later. \\n\\nI chose to leave XXXX XXXX every time I called the XXXX supervisor would threaten me on a recorded line. I need peace of mind and a good Heart to beat inside of me. Im on a XXXX XXXX due to the stress at XXXX XXXX   taking all my money 4 10 years.</td>\n",
              "    </tr>\n",
              "    <tr>\n",
              "      <th>57451</th>\n",
              "      <td>Checking or savings account</td>\n",
              "      <td>WELLS FARGO &amp; COMPANY</td>\n",
              "      <td>I am a customer with Wells Fargo Bank. Recently money was withdrawn on a couple of occasions without my permission or consent to pay for a timeshare account that was never used by me nor anyone connected to me because of unfair policies pertaining to the fees of the said timeshare. I tried cancelling the said timeshare account several times because of these fees that were never mentioned at the initiation. My account was debited to pay for the timeshare fees without my knowledge or consent several times. I tried correcting this with Wells Fargo bank with no avail. I would appreciate it if you can look into this matter for me. I was left with no funds in my account and as such I could not take care of the basic necessities of my day to day life. \\nThanks in advance,</td>\n",
              "    </tr>\n",
              "    <tr>\n",
              "      <th>57452</th>\n",
              "      <td>Debt collection</td>\n",
              "      <td>Exeter Finance Corp.</td>\n",
              "      <td>I spoken with them several times in a year. An in XXXX they informed me yes they sold my information to a third party without my knowledge. Also, I told them that I dont owe them anything because my car was paid off by insurance XXXX an Gap an they said no. I also informed them that constantly calling me an telling me that my credit score would be damage was inappropriate. But on my credit they written several negative things. An I didnt give Exeter financial Corp no authority to sell my information to XXXX XXXX</td>\n",
              "    </tr>\n",
              "  </tbody>\n",
              "</table>\n",
              "<p>57453 rows × 3 columns</p>\n",
              "</div>\n",
              "      <button class=\"colab-df-convert\" onclick=\"convertToInteractive('df-525b54f0-4e1d-4b42-9461-75893b804c71')\"\n",
              "              title=\"Convert this dataframe to an interactive table.\"\n",
              "              style=\"display:none;\">\n",
              "        \n",
              "  <svg xmlns=\"http://www.w3.org/2000/svg\" height=\"24px\"viewBox=\"0 0 24 24\"\n",
              "       width=\"24px\">\n",
              "    <path d=\"M0 0h24v24H0V0z\" fill=\"none\"/>\n",
              "    <path d=\"M18.56 5.44l.94 2.06.94-2.06 2.06-.94-2.06-.94-.94-2.06-.94 2.06-2.06.94zm-11 1L8.5 8.5l.94-2.06 2.06-.94-2.06-.94L8.5 2.5l-.94 2.06-2.06.94zm10 10l.94 2.06.94-2.06 2.06-.94-2.06-.94-.94-2.06-.94 2.06-2.06.94z\"/><path d=\"M17.41 7.96l-1.37-1.37c-.4-.4-.92-.59-1.43-.59-.52 0-1.04.2-1.43.59L10.3 9.45l-7.72 7.72c-.78.78-.78 2.05 0 2.83L4 21.41c.39.39.9.59 1.41.59.51 0 1.02-.2 1.41-.59l7.78-7.78 2.81-2.81c.8-.78.8-2.07 0-2.86zM5.41 20L4 18.59l7.72-7.72 1.47 1.35L5.41 20z\"/>\n",
              "  </svg>\n",
              "      </button>\n",
              "      \n",
              "  <style>\n",
              "    .colab-df-container {\n",
              "      display:flex;\n",
              "      flex-wrap:wrap;\n",
              "      gap: 12px;\n",
              "    }\n",
              "\n",
              "    .colab-df-convert {\n",
              "      background-color: #E8F0FE;\n",
              "      border: none;\n",
              "      border-radius: 50%;\n",
              "      cursor: pointer;\n",
              "      display: none;\n",
              "      fill: #1967D2;\n",
              "      height: 32px;\n",
              "      padding: 0 0 0 0;\n",
              "      width: 32px;\n",
              "    }\n",
              "\n",
              "    .colab-df-convert:hover {\n",
              "      background-color: #E2EBFA;\n",
              "      box-shadow: 0px 1px 2px rgba(60, 64, 67, 0.3), 0px 1px 3px 1px rgba(60, 64, 67, 0.15);\n",
              "      fill: #174EA6;\n",
              "    }\n",
              "\n",
              "    [theme=dark] .colab-df-convert {\n",
              "      background-color: #3B4455;\n",
              "      fill: #D2E3FC;\n",
              "    }\n",
              "\n",
              "    [theme=dark] .colab-df-convert:hover {\n",
              "      background-color: #434B5C;\n",
              "      box-shadow: 0px 1px 3px 1px rgba(0, 0, 0, 0.15);\n",
              "      filter: drop-shadow(0px 1px 2px rgba(0, 0, 0, 0.3));\n",
              "      fill: #FFFFFF;\n",
              "    }\n",
              "  </style>\n",
              "\n",
              "      <script>\n",
              "        const buttonEl =\n",
              "          document.querySelector('#df-525b54f0-4e1d-4b42-9461-75893b804c71 button.colab-df-convert');\n",
              "        buttonEl.style.display =\n",
              "          google.colab.kernel.accessAllowed ? 'block' : 'none';\n",
              "\n",
              "        async function convertToInteractive(key) {\n",
              "          const element = document.querySelector('#df-525b54f0-4e1d-4b42-9461-75893b804c71');\n",
              "          const dataTable =\n",
              "            await google.colab.kernel.invokeFunction('convertToInteractive',\n",
              "                                                     [key], {});\n",
              "          if (!dataTable) return;\n",
              "\n",
              "          const docLinkHtml = 'Like what you see? Visit the ' +\n",
              "            '<a target=\"_blank\" href=https://colab.research.google.com/notebooks/data_table.ipynb>data table notebook</a>'\n",
              "            + ' to learn more about interactive tables.';\n",
              "          element.innerHTML = '';\n",
              "          dataTable['output_type'] = 'display_data';\n",
              "          await google.colab.output.renderOutput(dataTable, element);\n",
              "          const docLink = document.createElement('div');\n",
              "          docLink.innerHTML = docLinkHtml;\n",
              "          element.appendChild(docLink);\n",
              "        }\n",
              "      </script>\n",
              "    </div>\n",
              "  </div>\n",
              "  "
            ]
          },
          "metadata": {},
          "execution_count": 9
        }
      ],
      "source": [
        "# considering usefull data columns (Product,company,Consumer complaint narrative)\n",
        "\n",
        "complaint_data = data[['Product','Company','Consumer complaint narrative']].rename(columns={'Consumer complaint narrative':'Complaint'})\n",
        "\n",
        "pd.set_option('display.max_colwidth', -1)\n",
        "complaint_data"
      ]
    },
    {
      "cell_type": "markdown",
      "source": [
        "We will be encoding our labels using LabelEncoder()"
      ],
      "metadata": {
        "id": "689hKoocU_EK"
      }
    },
    {
      "cell_type": "code",
      "source": [
        "# Importing label encoder\n",
        "from sklearn import preprocessing\n",
        "  \n",
        "# label_encoder object knows how to understand word labels.\n",
        "label_encoder = preprocessing.LabelEncoder()\n",
        "  \n",
        "# Encode labels in column 'species'.\n",
        "complaint_data['Product']= label_encoder.fit_transform(complaint_data['Product'])\n",
        "  \n",
        "complaint_data['Product'].unique()"
      ],
      "metadata": {
        "colab": {
          "base_uri": "https://localhost:8080/"
        },
        "id": "fmiWkdpwzaww",
        "outputId": "a9ee4672-51eb-4b75-e886-d0eadbc2aa3b"
      },
      "execution_count": null,
      "outputs": [
        {
          "output_type": "execute_result",
          "data": {
            "text/plain": [
              "array([5, 2, 0, 3, 1, 4])"
            ]
          },
          "metadata": {},
          "execution_count": 10
        }
      ]
    },
    {
      "cell_type": "code",
      "source": [
        "complaint_data"
      ],
      "metadata": {
        "colab": {
          "base_uri": "https://localhost:8080/",
          "height": 1000
        },
        "id": "j5Eg6ehmzuFf",
        "outputId": "e29d5d83-5d8f-46eb-ede3-a2ecec06832d"
      },
      "execution_count": null,
      "outputs": [
        {
          "output_type": "execute_result",
          "data": {
            "text/plain": [
              "       Product                                                      Company  \\\n",
              "0      5        TRUIST FINANCIAL CORPORATION                                  \n",
              "1      2        CURO Intermediate Holdings                                    \n",
              "2      5        CAPITAL ONE FINANCIAL CORPORATION                             \n",
              "3      0        CAPITAL ONE FINANCIAL CORPORATION                             \n",
              "4      2        Merchants and Professional Bureau, Inc.                       \n",
              "...   ..                                            ...                       \n",
              "57448  4        Nelnet, Inc.                                                  \n",
              "57449  2        The Receivable Management Services LLC, New York, NY Branch   \n",
              "57450  2        Convergent Resources, Inc.                                    \n",
              "57451  0        WELLS FARGO & COMPANY                                         \n",
              "57452  2        Exeter Finance Corp.                                          \n",
              "\n",
              "                                                                                                                                                                                                                                                                                                                                                                                                                                                                                                                                                                                                                                                                                                                                                                                                                                                                                                                                                                                                                                                                                                                                                    Complaint  \n",
              "0      This auto loan was opened on XX/XX/2020 in XXXX, NC with BB & T in my name. I have NEVER been to North Carolina and I have NEVER been a resident. I have filed a dispute twice through my credit bureaus but both times BB & T has claimed that this is an accurate loan. Which I wasn't aware of until today. I have tried to contact BB & T multiple times but I have never gotten through to a live person. I do n't drive and I have never owned a car before. I didn't have any knowledge of this account until I checked XXXXXXXX XXXX  and noticed it. I've tried twice to dispute it. Additionally I never received any bills or information about this account. This is my last resort in trying to remove this fraudulent loan off of my account.                                                                                                                                                                                                                                                                                                                                                                                             \n",
              "1      In XXXX of 2019 I noticed a debt for {$620.00} on my credit which i believed was mine I thought speedy cash had bought one of my old debts and sold it to XXXX XXXX XXXX XXXX. I contacted XXXX XXXX XXXX XXXX and after several attempts of giving my full name, nothing came up in their system. I gave my social and the rep said the account popped up but DID NOT tell me that the account was under someone elses name and continued to let me make a payment. The payment was for {$120.00}. Confirmation number-XXXX. After realizing it was not my account, I called back to get my money back and inform them of the mistake. I was told i needed to mail them an FTC report and dispute letter to get my money back. I completed all of this and when i called again they said they transferred the account back to speedy cash for fraud review and I would need to contact them. After contacting them i was again told that i can not get my money back. The issue im having is this representative at XXXX XXXX played blind to obvious fraud and let an innocent person make a payment on someone elses debt and i want my money back.  \n",
              "2      As stated from Capital One, XXXX XX/XX/XXXX and XXXX 2018, My wife and I went to several car dealerships to request for a car loan to get a used car. However, according to their credit requirements unfortunately my credit score was insufficient for the car loan approval at that time. It seemed as though they pulled my credit report multiple times.                                                                                                                                                                                                                                                                                                                                                                                                                                                                                                                                                                                                                                                                                                                                                                                           \n",
              "3      Please see CFPB case XXXX. \\n\\nCapital One, in the letter they provided ( and attached to that case as their response ) said this : \" The funds were reversed and sent back to XXXX XXXX XXXX  on XX/XX/XXXX ''. \\n\\nXXXX XXXX XXXX  ( now XXXX XXXX  ) has not received these funds. Staff at XXXX XXXX  - and also staff at the account-holder 's business - have looked for return of my money ( {$650.00} ) and find nothing. \\n\\nCapital One needs to document - actually prove - they returned the funds, as stated in their letter. Capital One must provide electronic information, if the return was made that way, or document the paper check they sent back to XXXX XXXX. \\n\\nI've left 3 messages about this problem for the person who signed the letter ( XXXX ) from Capital One. I have received no call-backs. \\n\\nSummary : Capital One said they returned my money on XX/XX/XXXX : they did not. If they continue claim they did, then they need to prove that.                                                                                                                                                                     \n",
              "4      This debt was incurred due to medical malpractice ( XXXX XXXX XXXX, XXXX, TX ). I asked the doctor to turn over my claim to his malpractice insurance company. This has cost me thousands of dollars to XXXX XXXX XXXX. I am still trying to collect damages from this doctor. He never responded and turned over me to collections Merchants and Professional Collection Bureau , Inc. I sent them a letter describing exactly this issue and instead of not contacting me and verifying my debt they start reporting this debt to the credit reporting agencies. They never verified the debt, like I asked and they never stopped it from being reported when I specifically told them not to, due to the circumstances above.                                                                                                                                                                                                                                                                                                                                                                                                                       \n",
              "...                                                                                                                                                                                                                                                                                                                                                                                                                                                                                                                                                                                                                                                                                                                                  ...                                                                                                                                                                                                                                                                                                                                                                                                                       \n",
              "57448  I am attempting to make a payment toward my student loans on the Nelnet website today, XX/XX/20, and Nelnet will not allow me to post the payment sooner than XX/XX/20. By the time the payment posts, 2-3 days of additional interest will have accrued and my payments will apply more to interest than is due today, the day that I'm attempting to pay. My understanding was that I could make a payment at any time but this does not appear to be true. The funds are available in my bank account today regardless of whether Nelnet can collect over the weekend. I should not be penalized for this. \\n\\nI submitted complaint XXXX in XXXX for other deceptive practices with Nelnet. They have not yet resolved the issue identified in that complaint or contacted me as they said they would in their response. I believe this new issue is just one more deceptive practice by this company that causes financial harm to borrowers.                                                                                                                                                                                                      \n",
              "57449  Received letter for {$480.00}. Original creditor didnt contact me until past statute of limitations for insurance company recoupment per Arizona law. Debt collection is illegal for phantom debt. Additionally they are phoning my office excessively.                                                                                                                                                                                                                                                                                                                                                                                                                                                                                                                                                                                                                                                                                                                                                                                                                                                                                                 \n",
              "57450  entire time 10 years until XX/XX/2020. XXXX makes my blood boil. I have called and was lied to told to provide my checking account information over the phone in order to turn my cell phone back on. i called at XXXX them at XXXX {$300.00} was added to my bill. \\n\\nScam scam scam I was told I can not call the office of the President just to write to XXXX XXXX XXXX XXXX XXXX XXXX XXXX, NM XXXX. I did three thousand times. the last letter I mailed on XX/XX/2020. Two collection agencies later. \\n\\nI chose to leave XXXX XXXX every time I called the XXXX supervisor would threaten me on a recorded line. I need peace of mind and a good Heart to beat inside of me. Im on a XXXX XXXX due to the stress at XXXX XXXX   taking all my money 4 10 years.                                                                                                                                                                                                                                                                                                                                                                               \n",
              "57451  I am a customer with Wells Fargo Bank. Recently money was withdrawn on a couple of occasions without my permission or consent to pay for a timeshare account that was never used by me nor anyone connected to me because of unfair policies pertaining to the fees of the said timeshare. I tried cancelling the said timeshare account several times because of these fees that were never mentioned at the initiation. My account was debited to pay for the timeshare fees without my knowledge or consent several times. I tried correcting this with Wells Fargo bank with no avail. I would appreciate it if you can look into this matter for me. I was left with no funds in my account and as such I could not take care of the basic necessities of my day to day life. \\nThanks in advance,                                                                                                                                                                                                                                                                                                                                                 \n",
              "57452  I spoken with them several times in a year. An in XXXX they informed me yes they sold my information to a third party without my knowledge. Also, I told them that I dont owe them anything because my car was paid off by insurance XXXX an Gap an they said no. I also informed them that constantly calling me an telling me that my credit score would be damage was inappropriate. But on my credit they written several negative things. An I didnt give Exeter financial Corp no authority to sell my information to XXXX XXXX                                                                                                                                                                                                                                                                                                                                                                                                                                                                                                                                                                                                                   \n",
              "\n",
              "[57453 rows x 3 columns]"
            ],
            "text/html": [
              "\n",
              "  <div id=\"df-4a105505-b350-418d-ad7e-065f6c83b63a\">\n",
              "    <div class=\"colab-df-container\">\n",
              "      <div>\n",
              "<style scoped>\n",
              "    .dataframe tbody tr th:only-of-type {\n",
              "        vertical-align: middle;\n",
              "    }\n",
              "\n",
              "    .dataframe tbody tr th {\n",
              "        vertical-align: top;\n",
              "    }\n",
              "\n",
              "    .dataframe thead th {\n",
              "        text-align: right;\n",
              "    }\n",
              "</style>\n",
              "<table border=\"1\" class=\"dataframe\">\n",
              "  <thead>\n",
              "    <tr style=\"text-align: right;\">\n",
              "      <th></th>\n",
              "      <th>Product</th>\n",
              "      <th>Company</th>\n",
              "      <th>Complaint</th>\n",
              "    </tr>\n",
              "  </thead>\n",
              "  <tbody>\n",
              "    <tr>\n",
              "      <th>0</th>\n",
              "      <td>5</td>\n",
              "      <td>TRUIST FINANCIAL CORPORATION</td>\n",
              "      <td>This auto loan was opened on XX/XX/2020 in XXXX, NC with BB &amp; T in my name. I have NEVER been to North Carolina and I have NEVER been a resident. I have filed a dispute twice through my credit bureaus but both times BB &amp; T has claimed that this is an accurate loan. Which I wasn't aware of until today. I have tried to contact BB &amp; T multiple times but I have never gotten through to a live person. I do n't drive and I have never owned a car before. I didn't have any knowledge of this account until I checked XXXXXXXX XXXX  and noticed it. I've tried twice to dispute it. Additionally I never received any bills or information about this account. This is my last resort in trying to remove this fraudulent loan off of my account.</td>\n",
              "    </tr>\n",
              "    <tr>\n",
              "      <th>1</th>\n",
              "      <td>2</td>\n",
              "      <td>CURO Intermediate Holdings</td>\n",
              "      <td>In XXXX of 2019 I noticed a debt for {$620.00} on my credit which i believed was mine I thought speedy cash had bought one of my old debts and sold it to XXXX XXXX XXXX XXXX. I contacted XXXX XXXX XXXX XXXX and after several attempts of giving my full name, nothing came up in their system. I gave my social and the rep said the account popped up but DID NOT tell me that the account was under someone elses name and continued to let me make a payment. The payment was for {$120.00}. Confirmation number-XXXX. After realizing it was not my account, I called back to get my money back and inform them of the mistake. I was told i needed to mail them an FTC report and dispute letter to get my money back. I completed all of this and when i called again they said they transferred the account back to speedy cash for fraud review and I would need to contact them. After contacting them i was again told that i can not get my money back. The issue im having is this representative at XXXX XXXX played blind to obvious fraud and let an innocent person make a payment on someone elses debt and i want my money back.</td>\n",
              "    </tr>\n",
              "    <tr>\n",
              "      <th>2</th>\n",
              "      <td>5</td>\n",
              "      <td>CAPITAL ONE FINANCIAL CORPORATION</td>\n",
              "      <td>As stated from Capital One, XXXX XX/XX/XXXX and XXXX 2018, My wife and I went to several car dealerships to request for a car loan to get a used car. However, according to their credit requirements unfortunately my credit score was insufficient for the car loan approval at that time. It seemed as though they pulled my credit report multiple times.</td>\n",
              "    </tr>\n",
              "    <tr>\n",
              "      <th>3</th>\n",
              "      <td>0</td>\n",
              "      <td>CAPITAL ONE FINANCIAL CORPORATION</td>\n",
              "      <td>Please see CFPB case XXXX. \\n\\nCapital One, in the letter they provided ( and attached to that case as their response ) said this : \" The funds were reversed and sent back to XXXX XXXX XXXX  on XX/XX/XXXX ''. \\n\\nXXXX XXXX XXXX  ( now XXXX XXXX  ) has not received these funds. Staff at XXXX XXXX  - and also staff at the account-holder 's business - have looked for return of my money ( {$650.00} ) and find nothing. \\n\\nCapital One needs to document - actually prove - they returned the funds, as stated in their letter. Capital One must provide electronic information, if the return was made that way, or document the paper check they sent back to XXXX XXXX. \\n\\nI've left 3 messages about this problem for the person who signed the letter ( XXXX ) from Capital One. I have received no call-backs. \\n\\nSummary : Capital One said they returned my money on XX/XX/XXXX : they did not. If they continue claim they did, then they need to prove that.</td>\n",
              "    </tr>\n",
              "    <tr>\n",
              "      <th>4</th>\n",
              "      <td>2</td>\n",
              "      <td>Merchants and Professional Bureau, Inc.</td>\n",
              "      <td>This debt was incurred due to medical malpractice ( XXXX XXXX XXXX, XXXX, TX ). I asked the doctor to turn over my claim to his malpractice insurance company. This has cost me thousands of dollars to XXXX XXXX XXXX. I am still trying to collect damages from this doctor. He never responded and turned over me to collections Merchants and Professional Collection Bureau , Inc. I sent them a letter describing exactly this issue and instead of not contacting me and verifying my debt they start reporting this debt to the credit reporting agencies. They never verified the debt, like I asked and they never stopped it from being reported when I specifically told them not to, due to the circumstances above.</td>\n",
              "    </tr>\n",
              "    <tr>\n",
              "      <th>...</th>\n",
              "      <td>...</td>\n",
              "      <td>...</td>\n",
              "      <td>...</td>\n",
              "    </tr>\n",
              "    <tr>\n",
              "      <th>57448</th>\n",
              "      <td>4</td>\n",
              "      <td>Nelnet, Inc.</td>\n",
              "      <td>I am attempting to make a payment toward my student loans on the Nelnet website today, XX/XX/20, and Nelnet will not allow me to post the payment sooner than XX/XX/20. By the time the payment posts, 2-3 days of additional interest will have accrued and my payments will apply more to interest than is due today, the day that I'm attempting to pay. My understanding was that I could make a payment at any time but this does not appear to be true. The funds are available in my bank account today regardless of whether Nelnet can collect over the weekend. I should not be penalized for this. \\n\\nI submitted complaint XXXX in XXXX for other deceptive practices with Nelnet. They have not yet resolved the issue identified in that complaint or contacted me as they said they would in their response. I believe this new issue is just one more deceptive practice by this company that causes financial harm to borrowers.</td>\n",
              "    </tr>\n",
              "    <tr>\n",
              "      <th>57449</th>\n",
              "      <td>2</td>\n",
              "      <td>The Receivable Management Services LLC, New York, NY Branch</td>\n",
              "      <td>Received letter for {$480.00}. Original creditor didnt contact me until past statute of limitations for insurance company recoupment per Arizona law. Debt collection is illegal for phantom debt. Additionally they are phoning my office excessively.</td>\n",
              "    </tr>\n",
              "    <tr>\n",
              "      <th>57450</th>\n",
              "      <td>2</td>\n",
              "      <td>Convergent Resources, Inc.</td>\n",
              "      <td>entire time 10 years until XX/XX/2020. XXXX makes my blood boil. I have called and was lied to told to provide my checking account information over the phone in order to turn my cell phone back on. i called at XXXX them at XXXX {$300.00} was added to my bill. \\n\\nScam scam scam I was told I can not call the office of the President just to write to XXXX XXXX XXXX XXXX XXXX XXXX XXXX, NM XXXX. I did three thousand times. the last letter I mailed on XX/XX/2020. Two collection agencies later. \\n\\nI chose to leave XXXX XXXX every time I called the XXXX supervisor would threaten me on a recorded line. I need peace of mind and a good Heart to beat inside of me. Im on a XXXX XXXX due to the stress at XXXX XXXX   taking all my money 4 10 years.</td>\n",
              "    </tr>\n",
              "    <tr>\n",
              "      <th>57451</th>\n",
              "      <td>0</td>\n",
              "      <td>WELLS FARGO &amp; COMPANY</td>\n",
              "      <td>I am a customer with Wells Fargo Bank. Recently money was withdrawn on a couple of occasions without my permission or consent to pay for a timeshare account that was never used by me nor anyone connected to me because of unfair policies pertaining to the fees of the said timeshare. I tried cancelling the said timeshare account several times because of these fees that were never mentioned at the initiation. My account was debited to pay for the timeshare fees without my knowledge or consent several times. I tried correcting this with Wells Fargo bank with no avail. I would appreciate it if you can look into this matter for me. I was left with no funds in my account and as such I could not take care of the basic necessities of my day to day life. \\nThanks in advance,</td>\n",
              "    </tr>\n",
              "    <tr>\n",
              "      <th>57452</th>\n",
              "      <td>2</td>\n",
              "      <td>Exeter Finance Corp.</td>\n",
              "      <td>I spoken with them several times in a year. An in XXXX they informed me yes they sold my information to a third party without my knowledge. Also, I told them that I dont owe them anything because my car was paid off by insurance XXXX an Gap an they said no. I also informed them that constantly calling me an telling me that my credit score would be damage was inappropriate. But on my credit they written several negative things. An I didnt give Exeter financial Corp no authority to sell my information to XXXX XXXX</td>\n",
              "    </tr>\n",
              "  </tbody>\n",
              "</table>\n",
              "<p>57453 rows × 3 columns</p>\n",
              "</div>\n",
              "      <button class=\"colab-df-convert\" onclick=\"convertToInteractive('df-4a105505-b350-418d-ad7e-065f6c83b63a')\"\n",
              "              title=\"Convert this dataframe to an interactive table.\"\n",
              "              style=\"display:none;\">\n",
              "        \n",
              "  <svg xmlns=\"http://www.w3.org/2000/svg\" height=\"24px\"viewBox=\"0 0 24 24\"\n",
              "       width=\"24px\">\n",
              "    <path d=\"M0 0h24v24H0V0z\" fill=\"none\"/>\n",
              "    <path d=\"M18.56 5.44l.94 2.06.94-2.06 2.06-.94-2.06-.94-.94-2.06-.94 2.06-2.06.94zm-11 1L8.5 8.5l.94-2.06 2.06-.94-2.06-.94L8.5 2.5l-.94 2.06-2.06.94zm10 10l.94 2.06.94-2.06 2.06-.94-2.06-.94-.94-2.06-.94 2.06-2.06.94z\"/><path d=\"M17.41 7.96l-1.37-1.37c-.4-.4-.92-.59-1.43-.59-.52 0-1.04.2-1.43.59L10.3 9.45l-7.72 7.72c-.78.78-.78 2.05 0 2.83L4 21.41c.39.39.9.59 1.41.59.51 0 1.02-.2 1.41-.59l7.78-7.78 2.81-2.81c.8-.78.8-2.07 0-2.86zM5.41 20L4 18.59l7.72-7.72 1.47 1.35L5.41 20z\"/>\n",
              "  </svg>\n",
              "      </button>\n",
              "      \n",
              "  <style>\n",
              "    .colab-df-container {\n",
              "      display:flex;\n",
              "      flex-wrap:wrap;\n",
              "      gap: 12px;\n",
              "    }\n",
              "\n",
              "    .colab-df-convert {\n",
              "      background-color: #E8F0FE;\n",
              "      border: none;\n",
              "      border-radius: 50%;\n",
              "      cursor: pointer;\n",
              "      display: none;\n",
              "      fill: #1967D2;\n",
              "      height: 32px;\n",
              "      padding: 0 0 0 0;\n",
              "      width: 32px;\n",
              "    }\n",
              "\n",
              "    .colab-df-convert:hover {\n",
              "      background-color: #E2EBFA;\n",
              "      box-shadow: 0px 1px 2px rgba(60, 64, 67, 0.3), 0px 1px 3px 1px rgba(60, 64, 67, 0.15);\n",
              "      fill: #174EA6;\n",
              "    }\n",
              "\n",
              "    [theme=dark] .colab-df-convert {\n",
              "      background-color: #3B4455;\n",
              "      fill: #D2E3FC;\n",
              "    }\n",
              "\n",
              "    [theme=dark] .colab-df-convert:hover {\n",
              "      background-color: #434B5C;\n",
              "      box-shadow: 0px 1px 3px 1px rgba(0, 0, 0, 0.15);\n",
              "      filter: drop-shadow(0px 1px 2px rgba(0, 0, 0, 0.3));\n",
              "      fill: #FFFFFF;\n",
              "    }\n",
              "  </style>\n",
              "\n",
              "      <script>\n",
              "        const buttonEl =\n",
              "          document.querySelector('#df-4a105505-b350-418d-ad7e-065f6c83b63a button.colab-df-convert');\n",
              "        buttonEl.style.display =\n",
              "          google.colab.kernel.accessAllowed ? 'block' : 'none';\n",
              "\n",
              "        async function convertToInteractive(key) {\n",
              "          const element = document.querySelector('#df-4a105505-b350-418d-ad7e-065f6c83b63a');\n",
              "          const dataTable =\n",
              "            await google.colab.kernel.invokeFunction('convertToInteractive',\n",
              "                                                     [key], {});\n",
              "          if (!dataTable) return;\n",
              "\n",
              "          const docLinkHtml = 'Like what you see? Visit the ' +\n",
              "            '<a target=\"_blank\" href=https://colab.research.google.com/notebooks/data_table.ipynb>data table notebook</a>'\n",
              "            + ' to learn more about interactive tables.';\n",
              "          element.innerHTML = '';\n",
              "          dataTable['output_type'] = 'display_data';\n",
              "          await google.colab.output.renderOutput(dataTable, element);\n",
              "          const docLink = document.createElement('div');\n",
              "          docLink.innerHTML = docLinkHtml;\n",
              "          element.appendChild(docLink);\n",
              "        }\n",
              "      </script>\n",
              "    </div>\n",
              "  </div>\n",
              "  "
            ]
          },
          "metadata": {},
          "execution_count": 11
        }
      ]
    },
    {
      "cell_type": "code",
      "execution_count": null,
      "metadata": {
        "colab": {
          "base_uri": "https://localhost:8080/"
        },
        "id": "jNVF94NT3fAz",
        "outputId": "c97decd6-2929-4c1a-e2d0-e2256a316351"
      },
      "outputs": [
        {
          "output_type": "stream",
          "name": "stdout",
          "text": [
            "Product      57453\n",
            "Company      57453\n",
            "Complaint    57453\n",
            "dtype: int64\n"
          ]
        }
      ],
      "source": [
        "# Further Exploration on dataset\n",
        "print(complaint_data.isnull().count())"
      ]
    },
    {
      "cell_type": "code",
      "execution_count": null,
      "metadata": {
        "colab": {
          "base_uri": "https://localhost:8080/"
        },
        "id": "BztzPrSiypN0",
        "outputId": "50c931b3-f391-4eb2-8dd3-12609378f2ce"
      },
      "outputs": [
        {
          "output_type": "stream",
          "name": "stdout",
          "text": [
            "Product      int64 \n",
            "Company      object\n",
            "Complaint    object\n",
            "dtype: object\n"
          ]
        }
      ],
      "source": [
        "print(complaint_data.dtypes)"
      ]
    },
    {
      "cell_type": "markdown",
      "source": [
        "### **Data Preprocessing**"
      ],
      "metadata": {
        "id": "MxZa7X9y9BJT"
      }
    },
    {
      "cell_type": "code",
      "execution_count": null,
      "metadata": {
        "id": "9RgSsCIF3qUO"
      },
      "outputs": [],
      "source": [
        "# data set split for further analysis \n",
        "\n",
        "train,test = train_test_split(complaint_data,test_size=0.3,random_state=42)"
      ]
    },
    {
      "cell_type": "code",
      "execution_count": null,
      "metadata": {
        "colab": {
          "base_uri": "https://localhost:8080/"
        },
        "id": "xQ2p2Cms4tDf",
        "outputId": "2a64eeb9-9ae3-4840-bae2-20721b7d561b"
      },
      "outputs": [
        {
          "output_type": "execute_result",
          "data": {
            "text/plain": [
              "(40217, 3)"
            ]
          },
          "metadata": {},
          "execution_count": 15
        }
      ],
      "source": [
        "train.shape"
      ]
    },
    {
      "cell_type": "code",
      "source": [
        "train['Product'].value_counts()"
      ],
      "metadata": {
        "colab": {
          "base_uri": "https://localhost:8080/"
        },
        "id": "U-CeeirP3VLN",
        "outputId": "9474f316-6ff7-4cee-b788-701e0ef11044"
      },
      "execution_count": null,
      "outputs": [
        {
          "output_type": "execute_result",
          "data": {
            "text/plain": [
              "2    15254\n",
              "1    9237 \n",
              "3    6826 \n",
              "0    4910 \n",
              "4    2071 \n",
              "5    1919 \n",
              "Name: Product, dtype: int64"
            ]
          },
          "metadata": {},
          "execution_count": 16
        }
      ]
    },
    {
      "cell_type": "code",
      "execution_count": null,
      "metadata": {
        "id": "5X3tkRJg4vQN"
      },
      "outputs": [],
      "source": [
        "\n",
        "train['Complaint_processed'] = train['Complaint'].map(lambda x: re.sub('[,\\.!?]', '', x))  #(˄ means exclusion of everything which is not alphabets and replacing it with null space)"
      ]
    },
    {
      "cell_type": "code",
      "execution_count": null,
      "metadata": {
        "colab": {
          "base_uri": "https://localhost:8080/"
        },
        "id": "qSyvyKjj570H",
        "outputId": "3bd9c832-ccd5-4e0d-de3b-e00503a6e9e6"
      },
      "outputs": [
        {
          "output_type": "execute_result",
          "data": {
            "text/plain": [
              "42027    after many weeks of receiving hourly phone calls from navient i sent them a letter instructing them only to contact me by mail per the fair debt collection practices act and the calls stopped although they have emailed me a couple of times today xx/xx/19 the mother of a friend from middle school let me know that navient had called her and left a message for me she is not listed as an emergency or secondary contact in any of my paperwork ; navient should not have her number unless they dig it up themselves this is a huge breach of privacy and a clear violation of the fdcpa given that i had instructed them to only contact me by phone and that they contacted someone completely unrelated to me and told them they were looking for me regarding student loan debt per the fdcpa : \" a debt collector may not communicate in connection with the collection of any debt with any person other than the consumer his attorney a consumer reporting agency if otherwise permitted by law the creditor the attorney of the creditor or the attorney of the debt collector '' navient clearly violated this \\n\\nthe person who contacted her was named xxxx xxxx and she gave the reference number xxxx and the phone number xxxx extension xxxx                                                                                                                                                                                                                                                                                                                                                                                                                                                                                                                                                                                                                                                                                                                                                                                                                                                                                                                                                                                                                                                                                                                                                                                                                                                                                                                                                                                                                                                                                                                                                                                                                                                                                                                                                                                                                                                                                                                                                                                                                                                                                                                                                                                                                                                                                                                                                                                                                                                                                                                                                                                                                                                                                                                                                                                                                                                                                                                                                                                                                                                                                                                                                                                                                                                                                                                                                                                                                                                                                                                                                                                                                                                      \n",
              "13307    as a former customer of xxxx i swithced my services to another carrier as of xx/xx/2018 after experiencing a period of two weeks in which time we had no service this was due to a global technical issue however we were not able to make and or receive calls prior to leaving xxxx i did reach out to tech support both via phone and via the app on the phone time and time again with an attempt to get this issue resolved however i was not able too even though we did not have service xxxx was not forgiving the bill in any way shape or form and i had an infant therefore it was and is important that i have a cell phone that works in case of an emergency finally after getting no place i took my business else where \\n\\na few days later after switching my cell phone provider without even contacting xxxx i received a return kit in the mail so that i could return the two devices xxxx to them using the prepaid return label via xxxx this was exactly what did during this time we were in the processing of moving therefore i misplaced the return tracking number however working in customer care and with return label i am fully aware that as a company they have the means to locate the return tracking # and track the return package if they wanted too \\n\\nagain call after call i got no place on xxxx day xx/xx/2018 i received notification from at least 3 cards one being my bank card that xxxx illegally tried to charge each of the cards {$180000} \\n\\nthis was an issue and i flipped from the beginning as i never authorized xxxx to keep any card i ever used to pay a bill with on file each time i paid a bill via the ivr and was asked if i wanted my information kept on file i responded no furthermore the amount was incorrect \\n\\nworking in the xxxx industry full time there is nothing slow about me i am fully aware that is illegal to keep a customers credit card and or banking information on file and charge it for any amount with out their consent on the same day after notifying my card issuers i did not make this purchase and i did not authorize it to have all my cards cancelled and new ones issued i contacted xxxx yet again \\n\\ni spoke with a nice rep who was only able to assist me to a limited amount she advised me she would note the account accordingly and have the phones returned located at this point my account should have been placed on hold and it was not \\n\\ni continued to climb the corporate ladder and went to the executive office originally i was dealing with xxxx xxxx who was useless she admitted xxxx did keep my information on file and that it was okay for them to charge my cards as a letter was sent to me advising it would be done i never got this letter to begin with and it is not okay as i never authorized xxxx to keep my information on file \\n\\nshe was not willing to help we had a few words and i started working with xxxx xxxx again we went back and forth and originally he too did not want to assist me in locating the phones i told him what xxxx did is fraud even cc executive leadership on each email sent to xxxx and xxxx though it got me no place finally after the 120 days passsed ( this is the length of time xxxx keeps the return tracking information in there system for ) i was told that as a courtesy he lowered my bill to {$47000} \\n\\ni requested that the account me removed from my credit immediately and xxxx continued to refuse even though they committed fraud and they are to blame i agreed to make a payment which i did never committed to an amount and still they would not remove it from my credit \\n\\nxxxx has changed their collection companies time and time again just to keep this invalid debit active \\n\\ni have continued to research my rights and have even sent xxxx a demand letter requesting {$300000} ; in court i can get 3 times the amount if it is found in my favor and clearly with xxxx illegally keeping and attempting to charge several of my cards with out my consent they clearly committed fraud \\n\\ni went back and forth with the collection companies and finally reached a really nice rep several months ago at sunrise when i explained the above in detail to her she did confirm what xxxx did was fraud and that she would put my account on hold while i appreciate her help this is not good enough \\n\\ni want this removed from my credit for over a year xxxx the collection companies and their illegal practices have ruined my credit beyond belief \\n\\ni pay all my bills on time and xxxx  carelessness and fraudlent activity as destroyed my credit \\n\\ni am not able to get any new cards no loans and or refinance my car \\n\\nthis is not acceptable and i would like this removed from my credit immediately and {$300000} for all that they have put me thru \\n\\nthank you\n",
              "19649    i called this collection company after finding out that xxxx xxxx had submitted a {$5000} debt from our now xxxx year old at the time she was xxxx or xxxx and this was also around the time she was on our insurance however i believe we had declared bankruptcy this was a copay that xxxx xxxx xxxx never ever called about or anything we moved in xxxx and had our mail forwarded but never ever received a bill when i called this company recently as soon as i found out this debt existed via xxxx  xxxx alert system i told them i can easily pay the {$5000} they said it was too late because it was over 7 years old but they said it wouldnt go on our credit until i just saw in now xx/xx/xxxx why would i not pay {$5000} this xxxx xxxx xxxx is notorious for this behavior one simple phone call or a certified letter would have instantly solved this 7 years ago we have always paid our co pay at the time of visit but my then minor daughter may have been told she would be billed and didnt tell me  at least that is the only thing i can come up with tell me who to send the {$5000} to i want this off my credit                                                                                                                                                                                                                                                                                                                                                                                                                                                                                                                                                                                                                                                                                                                                                                                                                                                                                                                                                                                                                                                                                                                                                                                                                                                                                                                                                                                                                                                                                                                                                                                                                                                                                                                                                                                                                                                                                                                                                                                                                                                                                                                                                                                                                                                                                                                                                                                                                                                                                                                                                                                                                                                                                                                                                                                                                                                                                                                                                                                                                                                                                                                                                                                                                                                                                                                                                                                                                                                                                                                                                                                                                                                                                                                                                                             \n",
              "37669    i have reached out multiple times to my local chase in xxxx il and they have failed to solve my problem i recieved my account number from a teller at my local chase on a business card when i filed my taxes for xxxx on xx/xx/xxxx i provided the account number that chase had provided me well i was supposed to receive my direct deposit for my tax return for the amount of {$110000} on xx/xx/xxxx well xx/xx/xxxx came and no deposit was made when i contacted my local chase to see what the issue was on xxxx xxxx thus my first complaint it turned out that the teller person had provided me with the incorrect account number and the account number provided to me by my local chase was somebody else account and my direct deposit went into this other persons account after reaching out multiple times and going into my local chase in xxxx il in person chase has refused to reverse that payment back to the irs or back to my account chase has also allowed somebody else to use of my money chase has refused multiple times to reverse the payment into my account and accept their fault at giving me the wrong account number and they have allowed another person to use my hard working money that i earned i have received a letter from the irs stating that chase is fully responsible for fixing there mistake and reversing the payment to my account this is not right and i am extremely dissapointed you are supposed to trust your bank and trust that they take care of your money and the fact that they have refused and allowed someone else to steal my money is absured i have filed a police report and this other person wont be so happy to hear that they are being charged with theft for stealing my money as well as jp morgan chase wont be happy to hear this is my 3rd complaint and nothing has been resolved and it will be posted on the reviews that they have refused to issue my refund back to me                                                                                                                                                                                                                                                                                                                                                                                                                                                                                                                                                                                                                                                                                                                                                                                                                                                                                                                                                                                                                                                                                                                                                                                                                                                                                                                                                                                                                                                                                                                                                                                                                                                                                                                                                                                                                                                                                                                                                                                                                                                                                                                                                                                                                                                                                                                                                                                                                                                                                                                                                                                                                                                                                                                                                                                                                                                                                                                                                           \n",
              "9392     robocall claiming i owe a debt i do not owe any debts                                                                                                                                                                                                                                                                                                                                                                                                                                                                                                                                                                                                                                                                                                                                                                                                                                                                                                                                                                                                                                                                                                                                                                                                                                                                                                                                                                                                                                                                                                                                                                                                                                                                                                                                                                                                                                                                                                                                                                                                                                                                                                                                                                                                                                                                                                                                                                                                                                                                                                                                                                                                                                                                                                                                                                                                                                                                                                                                                                                                                                                                                                                                                                                                                                                                                                                                                                                                                                                                                                                                                                                                                                                                                                                                                                                                                                                                                                                                                                                                                                                                                                                                                                                                                                                                                                                                                                                                                                                                                                                                                                                                                                                                                                                                                                                                                                                                        \n",
              "Name: Complaint_processed, dtype: object"
            ]
          },
          "metadata": {},
          "execution_count": 18
        }
      ],
      "source": [
        "train['Complaint_processed'] = train['Complaint_processed'].map(lambda x: x.lower())   #converting all the letters into lowercase\n",
        "train['Complaint_processed'].head()   "
      ]
    },
    {
      "cell_type": "code",
      "execution_count": null,
      "metadata": {
        "colab": {
          "base_uri": "https://localhost:8080/"
        },
        "id": "Y5Hi9Bb2B1PD",
        "outputId": "d976b8e2-cc9b-4649-8000-3446a595c4ab"
      },
      "outputs": [
        {
          "output_type": "stream",
          "name": "stdout",
          "text": [
            "Looking in indexes: https://pypi.org/simple, https://us-python.pkg.dev/colab-wheels/public/simple/\n",
            "Requirement already satisfied: nltk in /usr/local/lib/python3.7/dist-packages (3.7)\n",
            "Requirement already satisfied: click in /usr/local/lib/python3.7/dist-packages (from nltk) (7.1.2)\n",
            "Requirement already satisfied: regex>=2021.8.3 in /usr/local/lib/python3.7/dist-packages (from nltk) (2022.6.2)\n",
            "Requirement already satisfied: joblib in /usr/local/lib/python3.7/dist-packages (from nltk) (1.2.0)\n",
            "Requirement already satisfied: tqdm in /usr/local/lib/python3.7/dist-packages (from nltk) (4.64.1)\n"
          ]
        }
      ],
      "source": [
        "!pip install nltk   #natural language toolkit "
      ]
    },
    {
      "cell_type": "code",
      "source": [
        "stop_words = (stopwords.words('english'))\n",
        "\n",
        "stemmer = PorterStemmer()\n",
        "stemmer = nltk.stem.SnowballStemmer('english')"
      ],
      "metadata": {
        "id": "l03lbnikqGTp"
      },
      "execution_count": null,
      "outputs": []
    },
    {
      "cell_type": "markdown",
      "source": [
        "## Tokenisation"
      ],
      "metadata": {
        "id": "v0XJhz7nBngL"
      }
    },
    {
      "cell_type": "code",
      "execution_count": null,
      "metadata": {
        "id": "7XjRJ8Ut_36_"
      },
      "outputs": [],
      "source": [
        "\n",
        "def tokenize(text):\n",
        "   tokens = [word for word in nltk.word_tokenize(text) if (len(word) > 3 and len(word.strip('Xx/')) > 2 and len(re.sub('\\d+', '', word.strip('Xx/'))) > 3) ] \n",
        "  #  tokens = map(str.lower, tokens)\n",
        "   stems = [stemmer.stem(item) for item in tokens if (item not in stop_words)]\n",
        "   return stems\n",
        "\n",
        "\n",
        "docs = train.Complaint_processed.values.tolist()\n",
        "data_words = [tokenize(doc) for doc in docs]"
      ]
    },
    {
      "cell_type": "code",
      "execution_count": null,
      "metadata": {
        "colab": {
          "base_uri": "https://localhost:8080/"
        },
        "id": "tQQfLhmdBkrS",
        "outputId": "b3a3deee-cea1-425d-8825-fdcc923e78a4"
      },
      "outputs": [
        {
          "output_type": "stream",
          "name": "stdout",
          "text": [
            "40217\n"
          ]
        },
        {
          "output_type": "execute_result",
          "data": {
            "text/plain": [
              "[['mani',\n",
              "  'week',\n",
              "  'receiv',\n",
              "  'hour',\n",
              "  'phone',\n",
              "  'call',\n",
              "  'navient',\n",
              "  'sent',\n",
              "  'letter',\n",
              "  'instruct',\n",
              "  'contact',\n",
              "  'mail',\n",
              "  'fair',\n",
              "  'debt',\n",
              "  'collect',\n",
              "  'practic',\n",
              "  'call',\n",
              "  'stop',\n",
              "  'although',\n",
              "  'email',\n",
              "  'coupl',\n",
              "  'time',\n",
              "  'today',\n",
              "  'mother',\n",
              "  'friend',\n",
              "  'middl',\n",
              "  'school',\n",
              "  'know',\n",
              "  'navient',\n",
              "  'call',\n",
              "  'left',\n",
              "  'messag',\n",
              "  'list',\n",
              "  'emerg',\n",
              "  'secondari',\n",
              "  'contact',\n",
              "  'paperwork',\n",
              "  'navient',\n",
              "  'number',\n",
              "  'unless',\n",
              "  'huge',\n",
              "  'breach',\n",
              "  'privaci',\n",
              "  'clear',\n",
              "  'violat',\n",
              "  'fdcpa',\n",
              "  'given',\n",
              "  'instruct',\n",
              "  'contact',\n",
              "  'phone',\n",
              "  'contact',\n",
              "  'someon',\n",
              "  'complet',\n",
              "  'unrel',\n",
              "  'told',\n",
              "  'look',\n",
              "  'regard',\n",
              "  'student',\n",
              "  'loan',\n",
              "  'debt',\n",
              "  'fdcpa',\n",
              "  'debt',\n",
              "  'collector',\n",
              "  'communic',\n",
              "  'connect',\n",
              "  'collect',\n",
              "  'debt',\n",
              "  'person',\n",
              "  'consum',\n",
              "  'attorney',\n",
              "  'consum',\n",
              "  'report',\n",
              "  'agenc',\n",
              "  'otherwis',\n",
              "  'permit',\n",
              "  'creditor',\n",
              "  'attorney',\n",
              "  'creditor',\n",
              "  'attorney',\n",
              "  'debt',\n",
              "  'collector',\n",
              "  'navient',\n",
              "  'clear',\n",
              "  'violat',\n",
              "  'person',\n",
              "  'contact',\n",
              "  'name',\n",
              "  'gave',\n",
              "  'refer',\n",
              "  'number',\n",
              "  'phone',\n",
              "  'number',\n",
              "  'extens'],\n",
              " ['former',\n",
              "  'custom',\n",
              "  'swithc',\n",
              "  'servic',\n",
              "  'anoth',\n",
              "  'carrier',\n",
              "  'experienc',\n",
              "  'period',\n",
              "  'week',\n",
              "  'time',\n",
              "  'servic',\n",
              "  'global',\n",
              "  'technic',\n",
              "  'issu',\n",
              "  'howev',\n",
              "  'abl',\n",
              "  'make',\n",
              "  'receiv',\n",
              "  'call',\n",
              "  'prior',\n",
              "  'leav',\n",
              "  'reach',\n",
              "  'tech',\n",
              "  'support',\n",
              "  'phone',\n",
              "  'phone',\n",
              "  'time',\n",
              "  'time',\n",
              "  'attempt',\n",
              "  'issu',\n",
              "  'resolv',\n",
              "  'howev',\n",
              "  'abl',\n",
              "  'even',\n",
              "  'though',\n",
              "  'servic',\n",
              "  'forgiv',\n",
              "  'bill',\n",
              "  'shape',\n",
              "  'form',\n",
              "  'infant',\n",
              "  'therefor',\n",
              "  'import',\n",
              "  'cell',\n",
              "  'phone',\n",
              "  'work',\n",
              "  'case',\n",
              "  'emerg',\n",
              "  'final',\n",
              "  'get',\n",
              "  'place',\n",
              "  'took',\n",
              "  'busi',\n",
              "  'els',\n",
              "  'day',\n",
              "  'later',\n",
              "  'switch',\n",
              "  'cell',\n",
              "  'phone',\n",
              "  'provid',\n",
              "  'without',\n",
              "  'even',\n",
              "  'contact',\n",
              "  'receiv',\n",
              "  'return',\n",
              "  'mail',\n",
              "  'could',\n",
              "  'return',\n",
              "  'devic',\n",
              "  'use',\n",
              "  'prepaid',\n",
              "  'return',\n",
              "  'label',\n",
              "  'exact',\n",
              "  'time',\n",
              "  'process',\n",
              "  'move',\n",
              "  'therefor',\n",
              "  'misplac',\n",
              "  'return',\n",
              "  'track',\n",
              "  'number',\n",
              "  'howev',\n",
              "  'work',\n",
              "  'custom',\n",
              "  'care',\n",
              "  'return',\n",
              "  'label',\n",
              "  'fulli',\n",
              "  'awar',\n",
              "  'compani',\n",
              "  'mean',\n",
              "  'locat',\n",
              "  'return',\n",
              "  'track',\n",
              "  'track',\n",
              "  'return',\n",
              "  'packag',\n",
              "  'want',\n",
              "  'call',\n",
              "  'call',\n",
              "  'place',\n",
              "  'receiv',\n",
              "  'notif',\n",
              "  'least',\n",
              "  'card',\n",
              "  'bank',\n",
              "  'card',\n",
              "  'illeg',\n",
              "  'tri',\n",
              "  'charg',\n",
              "  'card',\n",
              "  'issu',\n",
              "  'flip',\n",
              "  'begin',\n",
              "  'never',\n",
              "  'author',\n",
              "  'keep',\n",
              "  'card',\n",
              "  'ever',\n",
              "  'use',\n",
              "  'bill',\n",
              "  'file',\n",
              "  'time',\n",
              "  'paid',\n",
              "  'bill',\n",
              "  'ask',\n",
              "  'want',\n",
              "  'inform',\n",
              "  'kept',\n",
              "  'file',\n",
              "  'respond',\n",
              "  'furthermor',\n",
              "  'amount',\n",
              "  'incorrect',\n",
              "  'work',\n",
              "  'industri',\n",
              "  'full',\n",
              "  'time',\n",
              "  'noth',\n",
              "  'slow',\n",
              "  'fulli',\n",
              "  'awar',\n",
              "  'illeg',\n",
              "  'keep',\n",
              "  'custom',\n",
              "  'credit',\n",
              "  'card',\n",
              "  'bank',\n",
              "  'inform',\n",
              "  'file',\n",
              "  'charg',\n",
              "  'amount',\n",
              "  'consent',\n",
              "  'notifi',\n",
              "  'card',\n",
              "  'issuer',\n",
              "  'make',\n",
              "  'purchas',\n",
              "  'author',\n",
              "  'card',\n",
              "  'cancel',\n",
              "  'one',\n",
              "  'issu',\n",
              "  'contact',\n",
              "  'spoke',\n",
              "  'nice',\n",
              "  'abl',\n",
              "  'assist',\n",
              "  'limit',\n",
              "  'amount',\n",
              "  'advis',\n",
              "  'would',\n",
              "  'note',\n",
              "  'account',\n",
              "  'accord',\n",
              "  'phone',\n",
              "  'return',\n",
              "  'locat',\n",
              "  'point',\n",
              "  'account',\n",
              "  'place',\n",
              "  'hold',\n",
              "  'continu',\n",
              "  'climb',\n",
              "  'corpor',\n",
              "  'ladder',\n",
              "  'went',\n",
              "  'execut',\n",
              "  'offic',\n",
              "  'origin',\n",
              "  'deal',\n",
              "  'useless',\n",
              "  'admit',\n",
              "  'keep',\n",
              "  'inform',\n",
              "  'file',\n",
              "  'okay',\n",
              "  'charg',\n",
              "  'card',\n",
              "  'letter',\n",
              "  'sent',\n",
              "  'advis',\n",
              "  'would',\n",
              "  'done',\n",
              "  'never',\n",
              "  'letter',\n",
              "  'begin',\n",
              "  'okay',\n",
              "  'never',\n",
              "  'author',\n",
              "  'keep',\n",
              "  'inform',\n",
              "  'file',\n",
              "  'will',\n",
              "  'help',\n",
              "  'word',\n",
              "  'start',\n",
              "  'work',\n",
              "  'went',\n",
              "  'back',\n",
              "  'forth',\n",
              "  'origin',\n",
              "  'want',\n",
              "  'assist',\n",
              "  'locat',\n",
              "  'phone',\n",
              "  'told',\n",
              "  'fraud',\n",
              "  'even',\n",
              "  'execut',\n",
              "  'leadership',\n",
              "  'email',\n",
              "  'sent',\n",
              "  'though',\n",
              "  'place',\n",
              "  'final',\n",
              "  'day',\n",
              "  'passs',\n",
              "  'length',\n",
              "  'time',\n",
              "  'keep',\n",
              "  'return',\n",
              "  'track',\n",
              "  'inform',\n",
              "  'system',\n",
              "  'told',\n",
              "  'courtesi',\n",
              "  'lower',\n",
              "  'bill',\n",
              "  'request',\n",
              "  'account',\n",
              "  'remov',\n",
              "  'credit',\n",
              "  'immedi',\n",
              "  'continu',\n",
              "  'refus',\n",
              "  'even',\n",
              "  'though',\n",
              "  'commit',\n",
              "  'fraud',\n",
              "  'blame',\n",
              "  'agre',\n",
              "  'make',\n",
              "  'payment',\n",
              "  'never',\n",
              "  'commit',\n",
              "  'amount',\n",
              "  'still',\n",
              "  'would',\n",
              "  'remov',\n",
              "  'credit',\n",
              "  'chang',\n",
              "  'collect',\n",
              "  'compani',\n",
              "  'time',\n",
              "  'time',\n",
              "  'keep',\n",
              "  'invalid',\n",
              "  'debit',\n",
              "  'activ',\n",
              "  'continu',\n",
              "  'research',\n",
              "  'right',\n",
              "  'even',\n",
              "  'sent',\n",
              "  'demand',\n",
              "  'letter',\n",
              "  'request',\n",
              "  'court',\n",
              "  'time',\n",
              "  'amount',\n",
              "  'found',\n",
              "  'favor',\n",
              "  'clear',\n",
              "  'illeg',\n",
              "  'keep',\n",
              "  'attempt',\n",
              "  'charg',\n",
              "  'sever',\n",
              "  'card',\n",
              "  'consent',\n",
              "  'clear',\n",
              "  'commit',\n",
              "  'fraud',\n",
              "  'went',\n",
              "  'back',\n",
              "  'forth',\n",
              "  'collect',\n",
              "  'compani',\n",
              "  'final',\n",
              "  'reach',\n",
              "  'realli',\n",
              "  'nice',\n",
              "  'sever',\n",
              "  'month',\n",
              "  'sunris',\n",
              "  'explain',\n",
              "  'detail',\n",
              "  'confirm',\n",
              "  'fraud',\n",
              "  'would',\n",
              "  'account',\n",
              "  'hold',\n",
              "  'appreci',\n",
              "  'help',\n",
              "  'good',\n",
              "  'enough',\n",
              "  'want',\n",
              "  'remov',\n",
              "  'credit',\n",
              "  'year',\n",
              "  'collect',\n",
              "  'compani',\n",
              "  'illeg',\n",
              "  'practic',\n",
              "  'ruin',\n",
              "  'credit',\n",
              "  'beyond',\n",
              "  'belief',\n",
              "  'bill',\n",
              "  'time',\n",
              "  'careless',\n",
              "  'fraudlent',\n",
              "  'activ',\n",
              "  'destroy',\n",
              "  'credit',\n",
              "  'abl',\n",
              "  'card',\n",
              "  'loan',\n",
              "  'refin',\n",
              "  'accept',\n",
              "  'would',\n",
              "  'like',\n",
              "  'remov',\n",
              "  'credit',\n",
              "  'immedi',\n",
              "  'thru',\n",
              "  'thank']]"
            ]
          },
          "metadata": {},
          "execution_count": 22
        }
      ],
      "source": [
        "print(len(data_words))\n",
        "\n",
        "data_words[:2]"
      ]
    },
    {
      "cell_type": "code",
      "source": [],
      "metadata": {
        "id": "IfO8TUmqkga0"
      },
      "execution_count": null,
      "outputs": []
    },
    {
      "cell_type": "markdown",
      "source": [
        "## Converting Text into Numerical Representation\n"
      ],
      "metadata": {
        "id": "jE3TUdq8YcoI"
      }
    },
    {
      "cell_type": "code",
      "execution_count": null,
      "metadata": {
        "id": "bGS15M0-DGlj"
      },
      "outputs": [],
      "source": [
        "# In Natural language Processing there are many vectorizer which can convert text tokens to numerical tokens here we will try only two method \n",
        "# 1 - TF-IFD vectorizer    \n",
        "# 2 - Count Vectorizer\n",
        "# You can  find more about them in Document file\n",
        "\n",
        "tf_ifd  = TfidfVectorizer(tokenizer=tokenize, max_df = 0.75, min_df=50 , max_features=10000,use_idf= False,  lowercase=False )\n",
        "\n",
        "# Converting text into numerical representation\n",
        "cv = CountVectorizer(tokenizer=tokenize, max_df = 0.75, min_df=50 , max_features=10000, lowercase=False)"
      ]
    },
    {
      "cell_type": "code",
      "source": [
        "tf_vector = tf_ifd.fit_transform(train.Complaint_processed)\n",
        "vc_vectore = cv.fit_transform(train.Complaint_processed)"
      ],
      "metadata": {
        "id": "5tLdhMEqaEjh"
      },
      "execution_count": null,
      "outputs": []
    },
    {
      "cell_type": "code",
      "source": [
        "print(\"tf_vector matrx\",tf_vector.A)\n",
        "tf_vector.shape"
      ],
      "metadata": {
        "colab": {
          "base_uri": "https://localhost:8080/"
        },
        "id": "40Ox1v0NbTrj",
        "outputId": "fbb9fab4-5971-4f6d-8c5a-5e4a132cd0e6"
      },
      "execution_count": null,
      "outputs": [
        {
          "output_type": "stream",
          "name": "stdout",
          "text": [
            "tf_vector matrx [[0. 0. 0. ... 0. 0. 0.]\n",
            " [0. 0. 0. ... 0. 0. 0.]\n",
            " [0. 0. 0. ... 0. 0. 0.]\n",
            " ...\n",
            " [0. 0. 0. ... 0. 0. 0.]\n",
            " [0. 0. 0. ... 0. 0. 0.]\n",
            " [0. 0. 0. ... 0. 0. 0.]]\n"
          ]
        },
        {
          "output_type": "execute_result",
          "data": {
            "text/plain": [
              "(40217, 2602)"
            ]
          },
          "metadata": {},
          "execution_count": 25
        }
      ]
    },
    {
      "cell_type": "code",
      "source": [
        "print(\"count vectorizer matrix \",vc_vectore.A)\n",
        "vc_vectore.shape"
      ],
      "metadata": {
        "colab": {
          "base_uri": "https://localhost:8080/"
        },
        "id": "f9LhTRD3bYGK",
        "outputId": "d7b2a88d-7368-423c-88d1-29fc65b13c53"
      },
      "execution_count": null,
      "outputs": [
        {
          "output_type": "stream",
          "name": "stdout",
          "text": [
            "count vectorizer matrix  [[0 0 0 ... 0 0 0]\n",
            " [0 0 0 ... 0 0 0]\n",
            " [0 0 0 ... 0 0 0]\n",
            " ...\n",
            " [0 0 0 ... 0 0 0]\n",
            " [0 0 0 ... 0 0 0]\n",
            " [0 0 0 ... 0 0 0]]\n"
          ]
        },
        {
          "output_type": "execute_result",
          "data": {
            "text/plain": [
              "(40217, 2602)"
            ]
          },
          "metadata": {},
          "execution_count": 26
        }
      ]
    },
    {
      "cell_type": "code",
      "source": [
        "cv_voc = (cv.get_feature_names())\n"
      ],
      "metadata": {
        "colab": {
          "base_uri": "https://localhost:8080/"
        },
        "id": "Qp1pJHWE5o9a",
        "outputId": "60d115b9-a4d2-4c06-b089-70bd2333a3fc"
      },
      "execution_count": null,
      "outputs": [
        {
          "output_type": "stream",
          "name": "stderr",
          "text": [
            "/usr/local/lib/python3.7/dist-packages/sklearn/utils/deprecation.py:87: FutureWarning: Function get_feature_names is deprecated; get_feature_names is deprecated in 1.0 and will be removed in 1.2. Please use get_feature_names_out instead.\n",
            "  warnings.warn(msg, category=FutureWarning)\n"
          ]
        }
      ]
    },
    {
      "cell_type": "code",
      "source": [
        "tf_voc = tf_ifd.get_feature_names()"
      ],
      "metadata": {
        "id": "Ve_Bscbc6YX4"
      },
      "execution_count": null,
      "outputs": []
    },
    {
      "cell_type": "code",
      "source": [
        "print(\"length of tf_ifd vector vocabalury is :\",len(tf_ifd.get_feature_names()))\n",
        "print(\"length of cv vector vocabalury is :\",len(cv.get_feature_names()))"
      ],
      "metadata": {
        "colab": {
          "base_uri": "https://localhost:8080/"
        },
        "id": "N3lOA1PX748M",
        "outputId": "901464cd-4242-471c-c968-c4c7ccf99c10"
      },
      "execution_count": null,
      "outputs": [
        {
          "output_type": "stream",
          "name": "stdout",
          "text": [
            "length of tf_ifd vector vocabalury is : 2602\n",
            "length of cv vector vocabalury is : 2602\n"
          ]
        }
      ]
    },
    {
      "cell_type": "markdown",
      "source": [
        "**Now we will begin topic modelling with our predefined 3 techniques**"
      ],
      "metadata": {
        "id": "Qf9PjHbroKrR"
      }
    },
    {
      "cell_type": "markdown",
      "source": [
        "## Latent Dirichlet Allocation (LDA)\n",
        "\n"
      ],
      "metadata": {
        "id": "16miJT5O8Wo_"
      }
    },
    {
      "cell_type": "code",
      "source": [
        "# Code to Measure time taken by program to execute.\n",
        "import time\n",
        "  \n",
        "# store starting time\n",
        "begin = time.time()"
      ],
      "metadata": {
        "id": "aYzZbPQb-POd"
      },
      "execution_count": null,
      "outputs": []
    },
    {
      "cell_type": "code",
      "source": [
        "# The accurate number of topics are 6\n",
        "n_topics = 6\n",
        "# Defining LDA (Latent Dirichlet Allocation) model\n",
        "model_lda = LDA(n_components = n_topics, learning_method='online',max_iter = 20,learning_offset=50,n_jobs = -1, random_state = 42)\n",
        "# fit transform on model on our count_vectorizer : running this will return our topics \n",
        "X_topics = model_lda.fit_transform(tf_vector)\n"
      ],
      "metadata": {
        "id": "rkAKyT8n9c4X"
      },
      "execution_count": null,
      "outputs": []
    },
    {
      "cell_type": "code",
      "source": [
        "\n",
        "# .components_ gives us our topic distribution \n",
        "topic_words = model_lda.components_"
      ],
      "metadata": {
        "id": "Mr-gd2z41myi"
      },
      "execution_count": null,
      "outputs": []
    },
    {
      "cell_type": "code",
      "source": [
        "X_topics"
      ],
      "metadata": {
        "colab": {
          "base_uri": "https://localhost:8080/"
        },
        "id": "BtUA2_wFzzYg",
        "outputId": "f2b49c7d-f2a9-4698-e5e1-465fd089c9f1"
      },
      "execution_count": null,
      "outputs": [
        {
          "output_type": "execute_result",
          "data": {
            "text/plain": [
              "array([[0.02136762, 0.02136858, 0.02136835, 0.42225855, 0.49199262,\n",
              "        0.02164428],\n",
              "       [0.01484049, 0.01481741, 0.01481724, 0.01511957, 0.01502511,\n",
              "        0.92538019],\n",
              "       [0.02182757, 0.02182845, 0.02182825, 0.89012524, 0.02224825,\n",
              "        0.02214224],\n",
              "       ...,\n",
              "       [0.02915273, 0.0291532 , 0.02915308, 0.02954041, 0.0295885 ,\n",
              "        0.85341209],\n",
              "       [0.0271326 , 0.0271331 , 0.02713298, 0.53947875, 0.35161234,\n",
              "        0.02751024],\n",
              "       [0.0259567 , 0.02595738, 0.02595721, 0.86986039, 0.02610012,\n",
              "        0.0261682 ]])"
            ]
          },
          "metadata": {},
          "execution_count": 33
        }
      ]
    },
    {
      "cell_type": "code",
      "source": [
        "topic_words"
      ],
      "metadata": {
        "colab": {
          "base_uri": "https://localhost:8080/"
        },
        "id": "t1G3sV5nz3sY",
        "outputId": "1a0dd904-3934-48f2-b5db-3278d6ec397c"
      },
      "execution_count": null,
      "outputs": [
        {
          "output_type": "execute_result",
          "data": {
            "text/plain": [
              "array([[ 0.16670913,  0.16692613,  0.16705338, ...,  0.16695529,\n",
              "         0.16857241,  0.16715762],\n",
              "       [ 0.16672667,  0.16703509,  0.16721561, ...,  0.16704648,\n",
              "         0.16699166,  0.16730447],\n",
              "       [ 0.16672261,  0.16700981,  0.16717783, ...,  0.16702036,\n",
              "         0.16698113,  0.16725995],\n",
              "       [ 0.16666699,  2.00586491,  0.305538  , ...,  2.12090354,\n",
              "        12.80046577,  3.98454288],\n",
              "       [ 2.56646553,  3.54810926,  6.2331482 , ...,  1.07530193,\n",
              "         7.26064341,  0.29522291],\n",
              "       [ 0.16666696,  1.87197569,  1.2504885 , ...,  2.15252172,\n",
              "        19.24701147,  1.19430836]])"
            ]
          },
          "metadata": {},
          "execution_count": 34
        }
      ]
    },
    {
      "cell_type": "markdown",
      "source": [
        "So, **what do *X_topics* and *topic_words* represents ?**\n",
        "\n",
        "\n",
        "*  **X_topics**: represents the probability of each topic to be assigned to each document. Thus, its shape would be *(no. of doc , no. of topics)*.It is known as Document-topic matrix.\n",
        "*   **topic_words**: represents the probability of a particualr word being in aparticular topic. Thus, its shape would be *(no. of topics, no. of words)*.It is known as Topic-Word matrix.\n",
        "\n"
      ],
      "metadata": {
        "id": "WIXlGiLT0WFG"
      }
    },
    {
      "cell_type": "code",
      "source": [
        "# Verifying the shapes\n",
        "print(topic_words.shape)\n",
        "print(X_topics.shape)"
      ],
      "metadata": {
        "colab": {
          "base_uri": "https://localhost:8080/"
        },
        "id": "z0gpR34L0JNY",
        "outputId": "a4900f32-aa43-4401-f5b5-060d99af3eff"
      },
      "execution_count": null,
      "outputs": [
        {
          "output_type": "stream",
          "name": "stdout",
          "text": [
            "(6, 2602)\n",
            "(40217, 6)\n"
          ]
        }
      ]
    },
    {
      "cell_type": "code",
      "source": [
        "n_top_words = 10\n",
        "topics = []\n",
        "\n",
        "for i, topic_dist in enumerate(topic_words):\n",
        "    \n",
        "    # np.argsort to sorting an array or a list or the matrix acc to their values\n",
        "    sorted_topic_dist = np.argsort(topic_dist)\n",
        "    \n",
        "    # Next, to view the actual words present in those indexes we can make the use of the vocab created earlier\n",
        "    topic_words = np.array(tf_voc)[sorted_topic_dist]\n",
        "    \n",
        "    # so using the sorted_topic_indexes we are extracting the words from the vocabulary\n",
        "    # obtaining topics + words\n",
        "    # this topic_words variable contains the Topics  as well as the respective words present in those Topics\n",
        "    topic_words = topic_words[:-n_top_words:-1]\n",
        "    topics.append(topic_words)\n",
        "    print (\"Topic\", str(i), topic_words)\n",
        "topics=np.array(topics) "
      ],
      "metadata": {
        "colab": {
          "base_uri": "https://localhost:8080/"
        },
        "id": "gHQCqKnD9qsa",
        "outputId": "da20ea16-4a37-4d4c-d99e-189d1626c368"
      },
      "execution_count": null,
      "outputs": [
        {
          "output_type": "stream",
          "name": "stdout",
          "text": [
            "Topic 0 ['usaa' 'attatch' 'permanet' 'temporari' 'destroy' 'unresolv' 'hide'\n",
            " 'inspector' 'any/al']\n",
            "Topic 1 ['max' 'rebil' 'redact' 'statu' 'dual' 'transunion' 'loop' 'biggest'\n",
            " 'sleep']\n",
            "Topic 2 ['exhibit' 'testimoni' 'creditworthi' 'manual' 'mandat' 'authent' 'carri'\n",
            " 'critic' 'non-compli']\n",
            "Topic 3 ['payment' 'loan' 'call' 'mortgag' 'month' 'would' 'time' 'receiv'\n",
            " 'compani']\n",
            "Topic 4 ['debt' 'credit' 'report' 'account' 'collect' 'compani' 'inform' 'receiv'\n",
            " 'letter']\n",
            "Topic 5 ['account' 'card' 'call' 'credit' 'bank' 'charg' 'receiv' 'time' 'would']\n"
          ]
        }
      ]
    },
    {
      "cell_type": "code",
      "source": [
        "topics"
      ],
      "metadata": {
        "colab": {
          "base_uri": "https://localhost:8080/"
        },
        "id": "_436N-DSzG7e",
        "outputId": "cfbf1b22-ad2a-4596-85fa-9a9c51d61ff3"
      },
      "execution_count": null,
      "outputs": [
        {
          "output_type": "execute_result",
          "data": {
            "text/plain": [
              "array([['usaa', 'attatch', 'permanet', 'temporari', 'destroy',\n",
              "        'unresolv', 'hide', 'inspector', 'any/al'],\n",
              "       ['max', 'rebil', 'redact', 'statu', 'dual', 'transunion', 'loop',\n",
              "        'biggest', 'sleep'],\n",
              "       ['exhibit', 'testimoni', 'creditworthi', 'manual', 'mandat',\n",
              "        'authent', 'carri', 'critic', 'non-compli'],\n",
              "       ['payment', 'loan', 'call', 'mortgag', 'month', 'would', 'time',\n",
              "        'receiv', 'compani'],\n",
              "       ['debt', 'credit', 'report', 'account', 'collect', 'compani',\n",
              "        'inform', 'receiv', 'letter'],\n",
              "       ['account', 'card', 'call', 'credit', 'bank', 'charg', 'receiv',\n",
              "        'time', 'would']], dtype='<U18')"
            ]
          },
          "metadata": {},
          "execution_count": 37
        }
      ]
    },
    {
      "cell_type": "code",
      "source": [
        "doc_topic = model_lda.transform(tf_vector)  \n",
        "topic_to_doc = []\n",
        "\n",
        "# Iterating through every value\n",
        "for n in range(doc_topic.shape[0]):    \n",
        "    # argmax() gives maximum index value\n",
        "    topic_doc = doc_topic[n].argmax()\n",
        "    topic_to_doc.append(topic_doc)\n",
        "\n",
        "def doc_to_topic(doc_no,topic_to_doc=topic_to_doc):\n",
        "  print(\"topic assigned to document \",doc_no,\" is \",topic_to_doc[doc_no+1],\" that is \",topics[topic_to_doc[doc_no+1]])\n",
        "\n",
        "doc_to_topic(2)"
      ],
      "metadata": {
        "colab": {
          "base_uri": "https://localhost:8080/"
        },
        "id": "eEpFQQKm-I4Z",
        "outputId": "ba96daf4-c1c2-4ad4-9d63-b757db879dd1"
      },
      "execution_count": null,
      "outputs": [
        {
          "output_type": "stream",
          "name": "stdout",
          "text": [
            "topic assigned to document  2  is  5  that is  ['account' 'card' 'call' 'credit' 'bank' 'charg' 'receiv' 'time' 'would']\n"
          ]
        }
      ]
    },
    {
      "cell_type": "code",
      "source": [
        "topic_assigned_to_doc = pd.DataFrame(X_topics,columns=['topic0','topic1','topic2','topic3','topic4','topic5'])\n",
        "topic_assigned_to_doc['topic_assigned'] = topic_to_doc"
      ],
      "metadata": {
        "id": "pEHempuzF7ll"
      },
      "execution_count": null,
      "outputs": []
    },
    {
      "cell_type": "code",
      "source": [
        "topic_assigned_to_doc"
      ],
      "metadata": {
        "id": "-bPLBmRmF-F9",
        "colab": {
          "base_uri": "https://localhost:8080/",
          "height": 423
        },
        "outputId": "f1cde0c2-c3d9-40b9-a9e4-7d97a1eb0bd2"
      },
      "execution_count": null,
      "outputs": [
        {
          "output_type": "execute_result",
          "data": {
            "text/plain": [
              "         topic0    topic1    topic2    topic3    topic4    topic5  \\\n",
              "0      0.021368  0.021369  0.021368  0.422259  0.491993  0.021644   \n",
              "1      0.014840  0.014817  0.014817  0.015120  0.015025  0.925380   \n",
              "2      0.021828  0.021828  0.021828  0.890125  0.022248  0.022142   \n",
              "3      0.021853  0.021853  0.021853  0.022105  0.022080  0.890256   \n",
              "4      0.063320  0.063329  0.063327  0.063463  0.682671  0.063892   \n",
              "...         ...       ...       ...       ...       ...       ...   \n",
              "40212  0.020184  0.020184  0.020184  0.898607  0.020371  0.020470   \n",
              "40213  0.026347  0.026348  0.026348  0.026583  0.510389  0.383985   \n",
              "40214  0.029153  0.029153  0.029153  0.029540  0.029588  0.853412   \n",
              "40215  0.027133  0.027133  0.027133  0.539479  0.351612  0.027510   \n",
              "40216  0.025957  0.025957  0.025957  0.869860  0.026100  0.026168   \n",
              "\n",
              "       topic_assigned  \n",
              "0      4               \n",
              "1      5               \n",
              "2      3               \n",
              "3      5               \n",
              "4      4               \n",
              "...   ..               \n",
              "40212  3               \n",
              "40213  4               \n",
              "40214  5               \n",
              "40215  3               \n",
              "40216  3               \n",
              "\n",
              "[40217 rows x 7 columns]"
            ],
            "text/html": [
              "\n",
              "  <div id=\"df-1a7d761d-8634-4741-bd91-e592ee149788\">\n",
              "    <div class=\"colab-df-container\">\n",
              "      <div>\n",
              "<style scoped>\n",
              "    .dataframe tbody tr th:only-of-type {\n",
              "        vertical-align: middle;\n",
              "    }\n",
              "\n",
              "    .dataframe tbody tr th {\n",
              "        vertical-align: top;\n",
              "    }\n",
              "\n",
              "    .dataframe thead th {\n",
              "        text-align: right;\n",
              "    }\n",
              "</style>\n",
              "<table border=\"1\" class=\"dataframe\">\n",
              "  <thead>\n",
              "    <tr style=\"text-align: right;\">\n",
              "      <th></th>\n",
              "      <th>topic0</th>\n",
              "      <th>topic1</th>\n",
              "      <th>topic2</th>\n",
              "      <th>topic3</th>\n",
              "      <th>topic4</th>\n",
              "      <th>topic5</th>\n",
              "      <th>topic_assigned</th>\n",
              "    </tr>\n",
              "  </thead>\n",
              "  <tbody>\n",
              "    <tr>\n",
              "      <th>0</th>\n",
              "      <td>0.021368</td>\n",
              "      <td>0.021369</td>\n",
              "      <td>0.021368</td>\n",
              "      <td>0.422259</td>\n",
              "      <td>0.491993</td>\n",
              "      <td>0.021644</td>\n",
              "      <td>4</td>\n",
              "    </tr>\n",
              "    <tr>\n",
              "      <th>1</th>\n",
              "      <td>0.014840</td>\n",
              "      <td>0.014817</td>\n",
              "      <td>0.014817</td>\n",
              "      <td>0.015120</td>\n",
              "      <td>0.015025</td>\n",
              "      <td>0.925380</td>\n",
              "      <td>5</td>\n",
              "    </tr>\n",
              "    <tr>\n",
              "      <th>2</th>\n",
              "      <td>0.021828</td>\n",
              "      <td>0.021828</td>\n",
              "      <td>0.021828</td>\n",
              "      <td>0.890125</td>\n",
              "      <td>0.022248</td>\n",
              "      <td>0.022142</td>\n",
              "      <td>3</td>\n",
              "    </tr>\n",
              "    <tr>\n",
              "      <th>3</th>\n",
              "      <td>0.021853</td>\n",
              "      <td>0.021853</td>\n",
              "      <td>0.021853</td>\n",
              "      <td>0.022105</td>\n",
              "      <td>0.022080</td>\n",
              "      <td>0.890256</td>\n",
              "      <td>5</td>\n",
              "    </tr>\n",
              "    <tr>\n",
              "      <th>4</th>\n",
              "      <td>0.063320</td>\n",
              "      <td>0.063329</td>\n",
              "      <td>0.063327</td>\n",
              "      <td>0.063463</td>\n",
              "      <td>0.682671</td>\n",
              "      <td>0.063892</td>\n",
              "      <td>4</td>\n",
              "    </tr>\n",
              "    <tr>\n",
              "      <th>...</th>\n",
              "      <td>...</td>\n",
              "      <td>...</td>\n",
              "      <td>...</td>\n",
              "      <td>...</td>\n",
              "      <td>...</td>\n",
              "      <td>...</td>\n",
              "      <td>...</td>\n",
              "    </tr>\n",
              "    <tr>\n",
              "      <th>40212</th>\n",
              "      <td>0.020184</td>\n",
              "      <td>0.020184</td>\n",
              "      <td>0.020184</td>\n",
              "      <td>0.898607</td>\n",
              "      <td>0.020371</td>\n",
              "      <td>0.020470</td>\n",
              "      <td>3</td>\n",
              "    </tr>\n",
              "    <tr>\n",
              "      <th>40213</th>\n",
              "      <td>0.026347</td>\n",
              "      <td>0.026348</td>\n",
              "      <td>0.026348</td>\n",
              "      <td>0.026583</td>\n",
              "      <td>0.510389</td>\n",
              "      <td>0.383985</td>\n",
              "      <td>4</td>\n",
              "    </tr>\n",
              "    <tr>\n",
              "      <th>40214</th>\n",
              "      <td>0.029153</td>\n",
              "      <td>0.029153</td>\n",
              "      <td>0.029153</td>\n",
              "      <td>0.029540</td>\n",
              "      <td>0.029588</td>\n",
              "      <td>0.853412</td>\n",
              "      <td>5</td>\n",
              "    </tr>\n",
              "    <tr>\n",
              "      <th>40215</th>\n",
              "      <td>0.027133</td>\n",
              "      <td>0.027133</td>\n",
              "      <td>0.027133</td>\n",
              "      <td>0.539479</td>\n",
              "      <td>0.351612</td>\n",
              "      <td>0.027510</td>\n",
              "      <td>3</td>\n",
              "    </tr>\n",
              "    <tr>\n",
              "      <th>40216</th>\n",
              "      <td>0.025957</td>\n",
              "      <td>0.025957</td>\n",
              "      <td>0.025957</td>\n",
              "      <td>0.869860</td>\n",
              "      <td>0.026100</td>\n",
              "      <td>0.026168</td>\n",
              "      <td>3</td>\n",
              "    </tr>\n",
              "  </tbody>\n",
              "</table>\n",
              "<p>40217 rows × 7 columns</p>\n",
              "</div>\n",
              "      <button class=\"colab-df-convert\" onclick=\"convertToInteractive('df-1a7d761d-8634-4741-bd91-e592ee149788')\"\n",
              "              title=\"Convert this dataframe to an interactive table.\"\n",
              "              style=\"display:none;\">\n",
              "        \n",
              "  <svg xmlns=\"http://www.w3.org/2000/svg\" height=\"24px\"viewBox=\"0 0 24 24\"\n",
              "       width=\"24px\">\n",
              "    <path d=\"M0 0h24v24H0V0z\" fill=\"none\"/>\n",
              "    <path d=\"M18.56 5.44l.94 2.06.94-2.06 2.06-.94-2.06-.94-.94-2.06-.94 2.06-2.06.94zm-11 1L8.5 8.5l.94-2.06 2.06-.94-2.06-.94L8.5 2.5l-.94 2.06-2.06.94zm10 10l.94 2.06.94-2.06 2.06-.94-2.06-.94-.94-2.06-.94 2.06-2.06.94z\"/><path d=\"M17.41 7.96l-1.37-1.37c-.4-.4-.92-.59-1.43-.59-.52 0-1.04.2-1.43.59L10.3 9.45l-7.72 7.72c-.78.78-.78 2.05 0 2.83L4 21.41c.39.39.9.59 1.41.59.51 0 1.02-.2 1.41-.59l7.78-7.78 2.81-2.81c.8-.78.8-2.07 0-2.86zM5.41 20L4 18.59l7.72-7.72 1.47 1.35L5.41 20z\"/>\n",
              "  </svg>\n",
              "      </button>\n",
              "      \n",
              "  <style>\n",
              "    .colab-df-container {\n",
              "      display:flex;\n",
              "      flex-wrap:wrap;\n",
              "      gap: 12px;\n",
              "    }\n",
              "\n",
              "    .colab-df-convert {\n",
              "      background-color: #E8F0FE;\n",
              "      border: none;\n",
              "      border-radius: 50%;\n",
              "      cursor: pointer;\n",
              "      display: none;\n",
              "      fill: #1967D2;\n",
              "      height: 32px;\n",
              "      padding: 0 0 0 0;\n",
              "      width: 32px;\n",
              "    }\n",
              "\n",
              "    .colab-df-convert:hover {\n",
              "      background-color: #E2EBFA;\n",
              "      box-shadow: 0px 1px 2px rgba(60, 64, 67, 0.3), 0px 1px 3px 1px rgba(60, 64, 67, 0.15);\n",
              "      fill: #174EA6;\n",
              "    }\n",
              "\n",
              "    [theme=dark] .colab-df-convert {\n",
              "      background-color: #3B4455;\n",
              "      fill: #D2E3FC;\n",
              "    }\n",
              "\n",
              "    [theme=dark] .colab-df-convert:hover {\n",
              "      background-color: #434B5C;\n",
              "      box-shadow: 0px 1px 3px 1px rgba(0, 0, 0, 0.15);\n",
              "      filter: drop-shadow(0px 1px 2px rgba(0, 0, 0, 0.3));\n",
              "      fill: #FFFFFF;\n",
              "    }\n",
              "  </style>\n",
              "\n",
              "      <script>\n",
              "        const buttonEl =\n",
              "          document.querySelector('#df-1a7d761d-8634-4741-bd91-e592ee149788 button.colab-df-convert');\n",
              "        buttonEl.style.display =\n",
              "          google.colab.kernel.accessAllowed ? 'block' : 'none';\n",
              "\n",
              "        async function convertToInteractive(key) {\n",
              "          const element = document.querySelector('#df-1a7d761d-8634-4741-bd91-e592ee149788');\n",
              "          const dataTable =\n",
              "            await google.colab.kernel.invokeFunction('convertToInteractive',\n",
              "                                                     [key], {});\n",
              "          if (!dataTable) return;\n",
              "\n",
              "          const docLinkHtml = 'Like what you see? Visit the ' +\n",
              "            '<a target=\"_blank\" href=https://colab.research.google.com/notebooks/data_table.ipynb>data table notebook</a>'\n",
              "            + ' to learn more about interactive tables.';\n",
              "          element.innerHTML = '';\n",
              "          dataTable['output_type'] = 'display_data';\n",
              "          await google.colab.output.renderOutput(dataTable, element);\n",
              "          const docLink = document.createElement('div');\n",
              "          docLink.innerHTML = docLinkHtml;\n",
              "          element.appendChild(docLink);\n",
              "        }\n",
              "      </script>\n",
              "    </div>\n",
              "  </div>\n",
              "  "
            ]
          },
          "metadata": {},
          "execution_count": 40
        }
      ]
    },
    {
      "cell_type": "code",
      "source": [
        "topic_assigned_to_doc['topic_assigned'].value_counts()"
      ],
      "metadata": {
        "colab": {
          "base_uri": "https://localhost:8080/"
        },
        "id": "6My3CDnI3n2J",
        "outputId": "c98321fe-c5c6-4845-9849-f1560dd783eb"
      },
      "execution_count": null,
      "outputs": [
        {
          "output_type": "execute_result",
          "data": {
            "text/plain": [
              "5    16011\n",
              "3    13681\n",
              "4    10515\n",
              "0    10   \n",
              "Name: topic_assigned, dtype: int64"
            ]
          },
          "metadata": {},
          "execution_count": 41
        }
      ]
    },
    {
      "cell_type": "code",
      "source": [
        "time.sleep(1)\n",
        "# store end time\n",
        "end = time.time()\n",
        "\n",
        "lda_time = end-begin\n",
        "# total time taken\n",
        "print(f\"Total runtime of the program is {lda_time}\")"
      ],
      "metadata": {
        "colab": {
          "base_uri": "https://localhost:8080/"
        },
        "id": "EZlZCkQI-Y0P",
        "outputId": "1d2db044-d9e8-46b0-9a9d-03358066ac0b"
      },
      "execution_count": null,
      "outputs": [
        {
          "output_type": "stream",
          "name": "stdout",
          "text": [
            "Total runtime of the program is 265.3589074611664\n"
          ]
        }
      ]
    },
    {
      "cell_type": "code",
      "source": [
        "from sklearn.metrics import silhouette_score\n",
        "silhouette_avg_lda = silhouette_score(X_topics, topic_assigned_to_doc['topic_assigned'])  "
      ],
      "metadata": {
        "id": "BpsXnAOVvuCV"
      },
      "execution_count": null,
      "outputs": []
    },
    {
      "cell_type": "code",
      "source": [
        "silhouette_avg_lda"
      ],
      "metadata": {
        "colab": {
          "base_uri": "https://localhost:8080/"
        },
        "id": "HQNf7IB12hAo",
        "outputId": "a81c161f-2221-4104-85a8-6395cc25e0db"
      },
      "execution_count": null,
      "outputs": [
        {
          "output_type": "execute_result",
          "data": {
            "text/plain": [
              "0.7868561615030814"
            ]
          },
          "metadata": {},
          "execution_count": 44
        }
      ]
    },
    {
      "cell_type": "code",
      "source": [
        "from sklearn.metrics.cluster import homogeneity_score\n",
        "  \n",
        "# Evaluate the score\n",
        "hscore_lda = homogeneity_score(train['Product'], topic_assigned_to_doc['topic_assigned'])\n",
        "  \n",
        "print(hscore_lda)"
      ],
      "metadata": {
        "colab": {
          "base_uri": "https://localhost:8080/"
        },
        "id": "O5K6thXiKabc",
        "outputId": "a1d5bd3f-7f8a-46ad-e2df-c0a097586d05"
      },
      "execution_count": null,
      "outputs": [
        {
          "output_type": "stream",
          "name": "stdout",
          "text": [
            "0.3172841426933498\n"
          ]
        }
      ]
    },
    {
      "cell_type": "markdown",
      "source": [
        "## Non-negative Matrix Factorization (NNMF)"
      ],
      "metadata": {
        "id": "zHSZIVFOka2o"
      }
    },
    {
      "cell_type": "code",
      "source": [
        "# store starting time\n",
        "begin = time.time()"
      ],
      "metadata": {
        "id": "qlbgWYCj_ps_"
      },
      "execution_count": null,
      "outputs": []
    },
    {
      "cell_type": "code",
      "source": [
        "from sklearn.decomposition import NMF\n"
      ],
      "metadata": {
        "id": "FFSvaatEkfpG"
      },
      "execution_count": null,
      "outputs": []
    },
    {
      "cell_type": "code",
      "source": [
        "# Using TFID vectorizer\n",
        "tf_ifd  = TfidfVectorizer(tokenizer=tokenize, max_df = 0.75, min_df=50 , max_features=10000,use_idf= False,  lowercase=False )\n",
        "\n",
        "X = tf_ifd.fit_transform(train.Complaint)\n",
        "words = np.array(tf_ifd.get_feature_names())\n",
        "\n",
        "print(X)\n",
        "print(\"X = \", words)"
      ],
      "metadata": {
        "id": "w8qeMUW8kgox",
        "colab": {
          "base_uri": "https://localhost:8080/"
        },
        "outputId": "867c0890-a4b0-4bdc-a2ef-259c8d066320"
      },
      "execution_count": null,
      "outputs": [
        {
          "output_type": "stream",
          "name": "stdout",
          "text": [
            "  (0, 75)\t0.07332355751067665\n",
            "  (0, 1395)\t0.07332355751067665\n",
            "  (0, 2582)\t0.07332355751067665\n",
            "  (0, 1865)\t0.07332355751067665\n",
            "  (0, 1123)\t0.07332355751067665\n",
            "  (0, 1699)\t0.21997067253202995\n",
            "  (0, 323)\t0.21997067253202995\n",
            "  (0, 1516)\t0.2932942300427066\n",
            "  (0, 2084)\t0.07332355751067665\n",
            "  (0, 1320)\t0.07332355751067665\n",
            "  (0, 1213)\t0.1466471150213533\n",
            "  (0, 485)\t0.36661778755338326\n",
            "  (0, 1382)\t0.07332355751067665\n",
            "  (0, 879)\t0.07332355751067665\n",
            "  (0, 583)\t0.36661778755338326\n",
            "  (0, 416)\t0.1466471150213533\n",
            "  (0, 1739)\t0.07332355751067665\n",
            "  (0, 2227)\t0.07332355751067665\n",
            "  (0, 105)\t0.07332355751067665\n",
            "  (0, 762)\t0.07332355751067665\n",
            "  (0, 529)\t0.07332355751067665\n",
            "  (0, 2375)\t0.07332355751067665\n",
            "  (0, 2380)\t0.07332355751067665\n",
            "  (0, 1497)\t0.07332355751067665\n",
            "  (0, 983)\t0.07332355751067665\n",
            "  :\t:\n",
            "  (40216, 209)\t0.10369516947304253\n",
            "  (40216, 247)\t0.10369516947304253\n",
            "  (40216, 1866)\t0.10369516947304253\n",
            "  (40216, 1018)\t0.10369516947304253\n",
            "  (40216, 869)\t0.10369516947304253\n",
            "  (40216, 1469)\t0.10369516947304253\n",
            "  (40216, 2133)\t0.10369516947304253\n",
            "  (40216, 558)\t0.10369516947304253\n",
            "  (40216, 1570)\t0.10369516947304253\n",
            "  (40216, 1096)\t0.20739033894608505\n",
            "  (40216, 1478)\t0.10369516947304253\n",
            "  (40216, 1715)\t0.10369516947304253\n",
            "  (40216, 1111)\t0.20739033894608505\n",
            "  (40216, 206)\t0.10369516947304253\n",
            "  (40216, 1494)\t0.20739033894608505\n",
            "  (40216, 1653)\t0.10369516947304253\n",
            "  (40216, 2237)\t0.10369516947304253\n",
            "  (40216, 1843)\t0.3110855084191276\n",
            "  (40216, 1222)\t0.10369516947304253\n",
            "  (40216, 609)\t0.10369516947304253\n",
            "  (40216, 97)\t0.10369516947304253\n",
            "  (40216, 743)\t0.10369516947304253\n",
            "  (40216, 2546)\t0.20739033894608505\n",
            "  (40216, 2241)\t0.20739033894608505\n",
            "  (40216, 510)\t0.20739033894608505\n",
            "X =  ['....' '.the' '11-md-2295-jah-bg' ... 'your' 'zero' 'zone']\n"
          ]
        },
        {
          "output_type": "stream",
          "name": "stderr",
          "text": [
            "/usr/local/lib/python3.7/dist-packages/sklearn/utils/deprecation.py:87: FutureWarning: Function get_feature_names is deprecated; get_feature_names is deprecated in 1.0 and will be removed in 1.2. Please use get_feature_names_out instead.\n",
            "  warnings.warn(msg, category=FutureWarning)\n"
          ]
        }
      ]
    },
    {
      "cell_type": "code",
      "source": [
        "# Applying Non-Negative Matrix Factorization over 6 topics\n",
        " \n",
        "model_nmf = NMF(n_components=6, solver=\"mu\")\n",
        "W = model_nmf.fit_transform(X)\n",
        "H = model_nmf.components_\n",
        "\n",
        "for i, topic in enumerate(H):\n",
        "     print(\"Topic {}: {}\".format(i + 1, \",\".join([str(x) for x in words[topic.argsort()[-10:]]])))\n",
        "     print()"
      ],
      "metadata": {
        "colab": {
          "base_uri": "https://localhost:8080/"
        },
        "id": "egNXzd1-nyEb",
        "outputId": "586e8296-3191-4430-983d-3e7a287ce9b0"
      },
      "execution_count": null,
      "outputs": [
        {
          "output_type": "stream",
          "name": "stderr",
          "text": [
            "/usr/local/lib/python3.7/dist-packages/sklearn/decomposition/_nmf.py:294: FutureWarning: The 'init' value, when 'init=None' and n_components is less than n_samples and n_features, will be changed from 'nndsvd' to 'nndsvda' in 1.1 (renaming of 0.26).\n",
            "  FutureWarning,\n"
          ]
        },
        {
          "output_type": "stream",
          "name": "stdout",
          "text": [
            "Topic 1: back,number,phone,compani,they,time,told,would,receiv,call\n",
            "\n",
            "Topic 2: ident,remov,this,inform,compani,account,collect,credit,report,debt\n",
            "\n",
            "Topic 3: fund,balanc,deposit,money,charg,open,close,check,bank,account\n",
            "\n",
            "Topic 4: statement,loan,mortgag,make,report,made,credit,late,month,payment\n",
            "\n",
            "Topic 5: never,fraud,disput,use,bank,balanc,purchas,charg,credit,card\n",
            "\n",
            "Topic 6: would,document,request,compani,interest,year,home,servic,mortgag,loan\n",
            "\n"
          ]
        }
      ]
    },
    {
      "cell_type": "code",
      "source": [
        "doc_topic_byNMF = model_nmf.transform(X)  \n",
        "topic_to_doc_byNMF = []\n",
        "# iterating over ever value till the end value\n",
        "for n in range(doc_topic_byNMF.shape[0]):\n",
        "    \n",
        "    # argmax() gives maximum index value\n",
        "    topic_doc = doc_topic_byNMF[n].argmax()\n",
        "    topic_to_doc_byNMF.append(topic_doc)\n",
        "\n",
        "def doc_to_topic_byNMF(doc_no,topic_to_doc_byNMF=topic_to_doc_byNMF):\n",
        "  print(\"topic assigned to document \",doc_no,\" is \",topic_to_doc_byNMF[doc_no+1],\" that is \",topics[topic_to_doc_byNMF[doc_no+1]])\n",
        "\n",
        "doc_to_topic_byNMF(2)"
      ],
      "metadata": {
        "colab": {
          "base_uri": "https://localhost:8080/"
        },
        "id": "c-ba1LAfqDr9",
        "outputId": "2f4e29d7-b53f-41d9-9328-87a11667c871"
      },
      "execution_count": null,
      "outputs": [
        {
          "output_type": "stream",
          "name": "stdout",
          "text": [
            "topic assigned to document  2  is  2  that is  ['exhibit' 'testimoni' 'creditworthi' 'manual' 'mandat' 'authent' 'carri'\n",
            " 'critic' 'non-compli']\n"
          ]
        }
      ]
    },
    {
      "cell_type": "code",
      "source": [
        "topic_assigned_to_doc_byNMF = pd.DataFrame(W,columns=['topic0','topic1','topic2','topic3','topic4','topic5'])\n",
        "topic_assigned_to_doc_byNMF['topic_assigned'] = topic_to_doc_byNMF"
      ],
      "metadata": {
        "id": "jXDV294urxow"
      },
      "execution_count": null,
      "outputs": []
    },
    {
      "cell_type": "code",
      "source": [
        "topic_assigned_to_doc_byNMF"
      ],
      "metadata": {
        "colab": {
          "base_uri": "https://localhost:8080/",
          "height": 423
        },
        "id": "n6BGVBRBsXCl",
        "outputId": "aa858398-25c1-4c75-ef7a-af395323c874"
      },
      "execution_count": null,
      "outputs": [
        {
          "output_type": "execute_result",
          "data": {
            "text/plain": [
              "         topic0    topic1    topic2    topic3    topic4    topic5  \\\n",
              "0      0.042731  0.037979  0.000000  0.000000  0.000000  0.000000   \n",
              "1      0.053830  0.000000  0.000000  0.000000  0.064096  0.015837   \n",
              "2      0.069310  0.000000  0.000000  0.000000  0.015801  0.000000   \n",
              "3      0.026675  0.000000  0.068048  0.000000  0.000000  0.000000   \n",
              "4      0.000070  0.063823  0.000000  0.000000  0.000000  0.000000   \n",
              "...         ...       ...       ...       ...       ...       ...   \n",
              "40212  0.053036  0.000000  0.000000  0.000000  0.000617  0.061991   \n",
              "40213  0.014769  0.006768  0.055458  0.000000  0.000000  0.017455   \n",
              "40214  0.005716  0.007677  0.029752  0.014134  0.100954  0.000888   \n",
              "40215  0.034629  0.000000  0.000000  0.000000  0.000000  0.006125   \n",
              "40216  0.016397  0.000000  0.000000  0.002204  0.000000  0.028688   \n",
              "\n",
              "       topic_assigned  \n",
              "0      0               \n",
              "1      4               \n",
              "2      0               \n",
              "3      2               \n",
              "4      1               \n",
              "...   ..               \n",
              "40212  5               \n",
              "40213  2               \n",
              "40214  4               \n",
              "40215  0               \n",
              "40216  5               \n",
              "\n",
              "[40217 rows x 7 columns]"
            ],
            "text/html": [
              "\n",
              "  <div id=\"df-fc5aca2d-5805-4b5e-8442-abff1799be2e\">\n",
              "    <div class=\"colab-df-container\">\n",
              "      <div>\n",
              "<style scoped>\n",
              "    .dataframe tbody tr th:only-of-type {\n",
              "        vertical-align: middle;\n",
              "    }\n",
              "\n",
              "    .dataframe tbody tr th {\n",
              "        vertical-align: top;\n",
              "    }\n",
              "\n",
              "    .dataframe thead th {\n",
              "        text-align: right;\n",
              "    }\n",
              "</style>\n",
              "<table border=\"1\" class=\"dataframe\">\n",
              "  <thead>\n",
              "    <tr style=\"text-align: right;\">\n",
              "      <th></th>\n",
              "      <th>topic0</th>\n",
              "      <th>topic1</th>\n",
              "      <th>topic2</th>\n",
              "      <th>topic3</th>\n",
              "      <th>topic4</th>\n",
              "      <th>topic5</th>\n",
              "      <th>topic_assigned</th>\n",
              "    </tr>\n",
              "  </thead>\n",
              "  <tbody>\n",
              "    <tr>\n",
              "      <th>0</th>\n",
              "      <td>0.042731</td>\n",
              "      <td>0.037979</td>\n",
              "      <td>0.000000</td>\n",
              "      <td>0.000000</td>\n",
              "      <td>0.000000</td>\n",
              "      <td>0.000000</td>\n",
              "      <td>0</td>\n",
              "    </tr>\n",
              "    <tr>\n",
              "      <th>1</th>\n",
              "      <td>0.053830</td>\n",
              "      <td>0.000000</td>\n",
              "      <td>0.000000</td>\n",
              "      <td>0.000000</td>\n",
              "      <td>0.064096</td>\n",
              "      <td>0.015837</td>\n",
              "      <td>4</td>\n",
              "    </tr>\n",
              "    <tr>\n",
              "      <th>2</th>\n",
              "      <td>0.069310</td>\n",
              "      <td>0.000000</td>\n",
              "      <td>0.000000</td>\n",
              "      <td>0.000000</td>\n",
              "      <td>0.015801</td>\n",
              "      <td>0.000000</td>\n",
              "      <td>0</td>\n",
              "    </tr>\n",
              "    <tr>\n",
              "      <th>3</th>\n",
              "      <td>0.026675</td>\n",
              "      <td>0.000000</td>\n",
              "      <td>0.068048</td>\n",
              "      <td>0.000000</td>\n",
              "      <td>0.000000</td>\n",
              "      <td>0.000000</td>\n",
              "      <td>2</td>\n",
              "    </tr>\n",
              "    <tr>\n",
              "      <th>4</th>\n",
              "      <td>0.000070</td>\n",
              "      <td>0.063823</td>\n",
              "      <td>0.000000</td>\n",
              "      <td>0.000000</td>\n",
              "      <td>0.000000</td>\n",
              "      <td>0.000000</td>\n",
              "      <td>1</td>\n",
              "    </tr>\n",
              "    <tr>\n",
              "      <th>...</th>\n",
              "      <td>...</td>\n",
              "      <td>...</td>\n",
              "      <td>...</td>\n",
              "      <td>...</td>\n",
              "      <td>...</td>\n",
              "      <td>...</td>\n",
              "      <td>...</td>\n",
              "    </tr>\n",
              "    <tr>\n",
              "      <th>40212</th>\n",
              "      <td>0.053036</td>\n",
              "      <td>0.000000</td>\n",
              "      <td>0.000000</td>\n",
              "      <td>0.000000</td>\n",
              "      <td>0.000617</td>\n",
              "      <td>0.061991</td>\n",
              "      <td>5</td>\n",
              "    </tr>\n",
              "    <tr>\n",
              "      <th>40213</th>\n",
              "      <td>0.014769</td>\n",
              "      <td>0.006768</td>\n",
              "      <td>0.055458</td>\n",
              "      <td>0.000000</td>\n",
              "      <td>0.000000</td>\n",
              "      <td>0.017455</td>\n",
              "      <td>2</td>\n",
              "    </tr>\n",
              "    <tr>\n",
              "      <th>40214</th>\n",
              "      <td>0.005716</td>\n",
              "      <td>0.007677</td>\n",
              "      <td>0.029752</td>\n",
              "      <td>0.014134</td>\n",
              "      <td>0.100954</td>\n",
              "      <td>0.000888</td>\n",
              "      <td>4</td>\n",
              "    </tr>\n",
              "    <tr>\n",
              "      <th>40215</th>\n",
              "      <td>0.034629</td>\n",
              "      <td>0.000000</td>\n",
              "      <td>0.000000</td>\n",
              "      <td>0.000000</td>\n",
              "      <td>0.000000</td>\n",
              "      <td>0.006125</td>\n",
              "      <td>0</td>\n",
              "    </tr>\n",
              "    <tr>\n",
              "      <th>40216</th>\n",
              "      <td>0.016397</td>\n",
              "      <td>0.000000</td>\n",
              "      <td>0.000000</td>\n",
              "      <td>0.002204</td>\n",
              "      <td>0.000000</td>\n",
              "      <td>0.028688</td>\n",
              "      <td>5</td>\n",
              "    </tr>\n",
              "  </tbody>\n",
              "</table>\n",
              "<p>40217 rows × 7 columns</p>\n",
              "</div>\n",
              "      <button class=\"colab-df-convert\" onclick=\"convertToInteractive('df-fc5aca2d-5805-4b5e-8442-abff1799be2e')\"\n",
              "              title=\"Convert this dataframe to an interactive table.\"\n",
              "              style=\"display:none;\">\n",
              "        \n",
              "  <svg xmlns=\"http://www.w3.org/2000/svg\" height=\"24px\"viewBox=\"0 0 24 24\"\n",
              "       width=\"24px\">\n",
              "    <path d=\"M0 0h24v24H0V0z\" fill=\"none\"/>\n",
              "    <path d=\"M18.56 5.44l.94 2.06.94-2.06 2.06-.94-2.06-.94-.94-2.06-.94 2.06-2.06.94zm-11 1L8.5 8.5l.94-2.06 2.06-.94-2.06-.94L8.5 2.5l-.94 2.06-2.06.94zm10 10l.94 2.06.94-2.06 2.06-.94-2.06-.94-.94-2.06-.94 2.06-2.06.94z\"/><path d=\"M17.41 7.96l-1.37-1.37c-.4-.4-.92-.59-1.43-.59-.52 0-1.04.2-1.43.59L10.3 9.45l-7.72 7.72c-.78.78-.78 2.05 0 2.83L4 21.41c.39.39.9.59 1.41.59.51 0 1.02-.2 1.41-.59l7.78-7.78 2.81-2.81c.8-.78.8-2.07 0-2.86zM5.41 20L4 18.59l7.72-7.72 1.47 1.35L5.41 20z\"/>\n",
              "  </svg>\n",
              "      </button>\n",
              "      \n",
              "  <style>\n",
              "    .colab-df-container {\n",
              "      display:flex;\n",
              "      flex-wrap:wrap;\n",
              "      gap: 12px;\n",
              "    }\n",
              "\n",
              "    .colab-df-convert {\n",
              "      background-color: #E8F0FE;\n",
              "      border: none;\n",
              "      border-radius: 50%;\n",
              "      cursor: pointer;\n",
              "      display: none;\n",
              "      fill: #1967D2;\n",
              "      height: 32px;\n",
              "      padding: 0 0 0 0;\n",
              "      width: 32px;\n",
              "    }\n",
              "\n",
              "    .colab-df-convert:hover {\n",
              "      background-color: #E2EBFA;\n",
              "      box-shadow: 0px 1px 2px rgba(60, 64, 67, 0.3), 0px 1px 3px 1px rgba(60, 64, 67, 0.15);\n",
              "      fill: #174EA6;\n",
              "    }\n",
              "\n",
              "    [theme=dark] .colab-df-convert {\n",
              "      background-color: #3B4455;\n",
              "      fill: #D2E3FC;\n",
              "    }\n",
              "\n",
              "    [theme=dark] .colab-df-convert:hover {\n",
              "      background-color: #434B5C;\n",
              "      box-shadow: 0px 1px 3px 1px rgba(0, 0, 0, 0.15);\n",
              "      filter: drop-shadow(0px 1px 2px rgba(0, 0, 0, 0.3));\n",
              "      fill: #FFFFFF;\n",
              "    }\n",
              "  </style>\n",
              "\n",
              "      <script>\n",
              "        const buttonEl =\n",
              "          document.querySelector('#df-fc5aca2d-5805-4b5e-8442-abff1799be2e button.colab-df-convert');\n",
              "        buttonEl.style.display =\n",
              "          google.colab.kernel.accessAllowed ? 'block' : 'none';\n",
              "\n",
              "        async function convertToInteractive(key) {\n",
              "          const element = document.querySelector('#df-fc5aca2d-5805-4b5e-8442-abff1799be2e');\n",
              "          const dataTable =\n",
              "            await google.colab.kernel.invokeFunction('convertToInteractive',\n",
              "                                                     [key], {});\n",
              "          if (!dataTable) return;\n",
              "\n",
              "          const docLinkHtml = 'Like what you see? Visit the ' +\n",
              "            '<a target=\"_blank\" href=https://colab.research.google.com/notebooks/data_table.ipynb>data table notebook</a>'\n",
              "            + ' to learn more about interactive tables.';\n",
              "          element.innerHTML = '';\n",
              "          dataTable['output_type'] = 'display_data';\n",
              "          await google.colab.output.renderOutput(dataTable, element);\n",
              "          const docLink = document.createElement('div');\n",
              "          docLink.innerHTML = docLinkHtml;\n",
              "          element.appendChild(docLink);\n",
              "        }\n",
              "      </script>\n",
              "    </div>\n",
              "  </div>\n",
              "  "
            ]
          },
          "metadata": {},
          "execution_count": 52
        }
      ]
    },
    {
      "cell_type": "code",
      "source": [
        "topic_assigned_to_doc_byNMF['topic_assigned'].value_counts()"
      ],
      "metadata": {
        "colab": {
          "base_uri": "https://localhost:8080/"
        },
        "id": "_-VJhQ5r27n0",
        "outputId": "d5e3a2ed-157c-4de9-b08a-a4f2a7f5db79"
      },
      "execution_count": null,
      "outputs": [
        {
          "output_type": "execute_result",
          "data": {
            "text/plain": [
              "0    8789\n",
              "1    8707\n",
              "2    7159\n",
              "4    5519\n",
              "3    5074\n",
              "5    4969\n",
              "Name: topic_assigned, dtype: int64"
            ]
          },
          "metadata": {},
          "execution_count": 53
        }
      ]
    },
    {
      "cell_type": "code",
      "source": [
        "time.sleep(1)\n",
        "# store end time\n",
        "end = time.time()\n",
        "\n",
        "nmf_time = end-begin\n",
        "# total time taken\n",
        "print(f\"Total runtime of the program is {nmf_time}\")"
      ],
      "metadata": {
        "colab": {
          "base_uri": "https://localhost:8080/"
        },
        "id": "dD9zmOOe_tNO",
        "outputId": "5425035a-00c7-48ff-9046-780e6285e673"
      },
      "execution_count": null,
      "outputs": [
        {
          "output_type": "stream",
          "name": "stdout",
          "text": [
            "Total runtime of the program is 158.20977067947388\n"
          ]
        }
      ]
    },
    {
      "cell_type": "code",
      "source": [
        "from sklearn.metrics import silhouette_score\n",
        "silhouette_avg_nmf = silhouette_score(X_topics, topic_assigned_to_doc_byNMF['topic_assigned']) \n",
        "silhouette_avg_nmf"
      ],
      "metadata": {
        "colab": {
          "base_uri": "https://localhost:8080/"
        },
        "id": "HVHHqAoQvJW3",
        "outputId": "8b40df12-38ce-4994-dac1-a3c25bc04eb2"
      },
      "execution_count": null,
      "outputs": [
        {
          "output_type": "execute_result",
          "data": {
            "text/plain": [
              "-0.07932799040112454"
            ]
          },
          "metadata": {},
          "execution_count": 55
        }
      ]
    },
    {
      "cell_type": "code",
      "source": [
        "from sklearn.metrics.cluster import homogeneity_score\n",
        "  \n",
        "# Evaluate the score\n",
        "hscore_nnmf = homogeneity_score(train['Product'], topic_assigned_to_doc_byNMF['topic_assigned'])\n",
        "  \n",
        "print(hscore_nnmf)"
      ],
      "metadata": {
        "colab": {
          "base_uri": "https://localhost:8080/"
        },
        "id": "cNXvcUA2n6Z0",
        "outputId": "e46389b0-9702-4670-9cb4-f8f37a8539c5"
      },
      "execution_count": null,
      "outputs": [
        {
          "output_type": "stream",
          "name": "stdout",
          "text": [
            "0.30896245131965394\n"
          ]
        }
      ]
    },
    {
      "cell_type": "markdown",
      "source": [
        "## Latent Semantic Analysis (LSA)"
      ],
      "metadata": {
        "id": "oa7_Fa9c73Vt"
      }
    },
    {
      "cell_type": "code",
      "source": [
        "from scipy import linalg, spatial\n",
        "from sklearn.decomposition import PCA, SparsePCA, TruncatedSVD\n",
        "from sklearn.feature_extraction.text import (CountVectorizer, TfidfTransformer, TfidfVectorizer)\n",
        "\n",
        "from sklearn.utils.extmath import randomized_svd\n",
        "\n",
        "from nltk.tokenize import word_tokenize\n",
        "from nltk.corpus import stopwords"
      ],
      "metadata": {
        "id": "OwQpOznqszEX"
      },
      "execution_count": null,
      "outputs": []
    },
    {
      "cell_type": "code",
      "source": [
        "# store starting time\n",
        "begin = time.time()"
      ],
      "metadata": {
        "id": "xRU3NoUv_2iF"
      },
      "execution_count": null,
      "outputs": []
    },
    {
      "cell_type": "code",
      "source": [
        "from sklearn.cluster import KMeans\n",
        "\n",
        "X = tf_ifd.fit_transform(train.Complaint)\n",
        "words = np.array(tf_ifd.get_feature_names())\n",
        "\n",
        "num_clusters = 6\n",
        "\n",
        "km = KMeans(n_clusters=num_clusters)\n",
        "km.fit(X)\n",
        "    \n",
        "clusters = km.labels_.tolist()\n",
        "print(clusters)"
      ],
      "metadata": {
        "id": "91yHQns2s9v4",
        "colab": {
          "base_uri": "https://localhost:8080/"
        },
        "outputId": "1ea2029d-a1d5-4127-89bc-6a0041aa49a3"
      },
      "execution_count": null,
      "outputs": [
        {
          "output_type": "stream",
          "name": "stderr",
          "text": [
            "/usr/local/lib/python3.7/dist-packages/sklearn/utils/deprecation.py:87: FutureWarning: Function get_feature_names is deprecated; get_feature_names is deprecated in 1.0 and will be removed in 1.2. Please use get_feature_names_out instead.\n",
            "  warnings.warn(msg, category=FutureWarning)\n"
          ]
        },
        {
          "output_type": "stream",
          "name": "stdout",
          "text": [
            "[2, 4, 5, 0, 2, 5, 5, 4, 0, 1, 1, 2, 5, 1, 1, 5, 0, 4, 2, 4, 0, 3, 1, 1, 5, 5, 2, 4, 2, 5, 5, 2, 5, 3, 5, 4, 1, 3, 2, 3, 5, 2, 3, 2, 0, 2, 4, 0, 5, 3, 1, 5, 4, 2, 0, 4, 1, 2, 4, 3, 1, 0, 5, 5, 3, 4, 3, 2, 2, 5, 5, 5, 2, 4, 5, 5, 1, 5, 5, 5, 3, 5, 1, 5, 0, 0, 2, 5, 4, 2, 3, 5, 4, 3, 1, 5, 1, 5, 2, 3, 3, 0, 3, 1, 5, 3, 5, 3, 2, 1, 1, 5, 5, 1, 1, 5, 4, 2, 3, 5, 2, 0, 5, 0, 4, 2, 1, 0, 4, 0, 3, 1, 3, 5, 4, 1, 1, 5, 3, 3, 0, 2, 5, 5, 5, 5, 5, 0, 3, 5, 4, 4, 2, 5, 1, 2, 3, 4, 4, 0, 4, 1, 0, 2, 1, 5, 1, 1, 1, 0, 4, 0, 5, 5, 1, 2, 5, 0, 5, 2, 5, 5, 0, 0, 0, 4, 4, 2, 5, 1, 1, 2, 5, 0, 1, 4, 5, 5, 3, 5, 1, 3, 5, 2, 3, 4, 2, 0, 4, 4, 3, 4, 2, 1, 1, 2, 4, 4, 0, 3, 5, 0, 0, 0, 4, 3, 5, 1, 5, 0, 3, 2, 3, 4, 4, 1, 3, 1, 3, 0, 2, 3, 5, 5, 5, 5, 2, 5, 0, 5, 1, 0, 5, 5, 5, 2, 4, 0, 5, 5, 3, 2, 5, 2, 3, 0, 1, 1, 4, 5, 5, 4, 5, 2, 3, 1, 3, 4, 0, 5, 5, 5, 3, 3, 5, 0, 3, 5, 3, 5, 0, 3, 3, 0, 5, 1, 1, 0, 2, 4, 5, 2, 2, 5, 1, 2, 4, 5, 0, 3, 5, 3, 5, 5, 5, 1, 1, 5, 5, 3, 3, 1, 1, 4, 5, 1, 2, 2, 2, 4, 2, 3, 5, 5, 5, 5, 1, 5, 0, 1, 0, 0, 5, 5, 1, 5, 5, 0, 0, 5, 5, 5, 0, 1, 0, 1, 5, 0, 0, 5, 2, 0, 4, 0, 5, 5, 0, 5, 5, 2, 5, 2, 2, 3, 5, 1, 0, 5, 5, 2, 1, 0, 2, 0, 3, 4, 4, 5, 1, 1, 1, 1, 0, 1, 1, 5, 2, 0, 1, 5, 5, 1, 1, 5, 2, 2, 5, 1, 4, 1, 5, 1, 5, 1, 5, 5, 5, 5, 3, 3, 5, 0, 0, 1, 1, 5, 1, 1, 1, 5, 4, 3, 4, 5, 5, 3, 1, 1, 3, 1, 2, 0, 5, 3, 0, 3, 1, 1, 3, 0, 4, 2, 5, 2, 3, 5, 0, 3, 4, 1, 0, 1, 5, 3, 4, 4, 2, 3, 2, 0, 2, 5, 4, 4, 5, 3, 3, 1, 2, 5, 4, 5, 5, 1, 1, 3, 3, 5, 2, 5, 5, 1, 1, 3, 0, 2, 5, 2, 0, 4, 2, 0, 5, 2, 0, 1, 5, 2, 2, 0, 5, 1, 1, 1, 0, 3, 1, 5, 4, 5, 4, 5, 3, 5, 1, 5, 5, 2, 3, 5, 5, 5, 5, 1, 4, 5, 0, 4, 0, 5, 2, 5, 4, 5, 4, 1, 1, 3, 3, 2, 0, 0, 1, 1, 5, 5, 5, 4, 0, 1, 5, 1, 4, 5, 5, 5, 5, 5, 4, 5, 0, 5, 5, 5, 0, 2, 2, 0, 5, 5, 2, 2, 5, 0, 2, 0, 4, 5, 1, 2, 1, 5, 2, 3, 0, 3, 5, 3, 0, 1, 1, 5, 0, 5, 2, 4, 0, 5, 4, 5, 5, 5, 0, 2, 4, 1, 5, 3, 3, 2, 2, 5, 5, 5, 2, 5, 2, 0, 5, 5, 1, 1, 2, 4, 4, 4, 1, 5, 5, 0, 5, 0, 0, 3, 0, 2, 5, 3, 0, 0, 2, 5, 4, 0, 2, 5, 4, 2, 5, 4, 1, 4, 5, 5, 4, 1, 5, 4, 4, 4, 5, 2, 4, 3, 4, 3, 4, 0, 5, 0, 1, 0, 1, 3, 3, 5, 0, 3, 1, 5, 5, 3, 5, 5, 3, 0, 5, 3, 2, 5, 3, 4, 1, 1, 0, 3, 0, 5, 5, 0, 0, 1, 5, 4, 5, 5, 4, 0, 0, 1, 5, 0, 1, 5, 2, 3, 2, 3, 4, 5, 0, 0, 4, 4, 0, 4, 5, 5, 5, 5, 4, 1, 3, 2, 3, 0, 4, 2, 5, 0, 2, 5, 5, 1, 0, 3, 5, 5, 5, 3, 2, 2, 5, 4, 5, 2, 3, 5, 5, 3, 5, 5, 5, 3, 2, 5, 2, 4, 0, 5, 3, 3, 5, 5, 1, 5, 3, 5, 4, 0, 2, 5, 5, 3, 2, 1, 3, 4, 5, 1, 5, 5, 5, 5, 4, 4, 0, 2, 3, 0, 3, 2, 2, 0, 5, 3, 4, 5, 4, 4, 2, 5, 3, 4, 2, 3, 1, 0, 2, 1, 5, 0, 1, 1, 1, 0, 4, 5, 1, 0, 4, 4, 1, 5, 2, 5, 5, 3, 3, 1, 2, 4, 5, 5, 1, 4, 3, 4, 4, 5, 1, 5, 0, 0, 0, 0, 4, 5, 0, 1, 5, 5, 5, 5, 3, 0, 5, 5, 5, 5, 5, 5, 0, 1, 4, 1, 5, 0, 1, 5, 3, 5, 1, 0, 1, 5, 5, 4, 1, 5, 3, 0, 5, 0, 5, 3, 0, 4, 4, 1, 0, 3, 5, 2, 5, 5, 5, 5, 5, 4, 2, 5, 5, 2, 4, 4, 5, 5, 4, 1, 1, 5, 5, 5, 2, 2, 4, 0, 2, 0, 1, 1, 5, 1, 2, 2, 2, 1, 5, 2, 5, 5, 3, 2, 5, 5, 0, 5, 2, 0, 3, 0, 0, 5, 5, 5, 5, 0, 0, 0, 1, 5, 1, 2, 0, 4, 5, 3, 0, 0, 3, 5, 2, 1, 2, 4, 5, 5, 5, 5, 2, 0, 5, 1, 4, 4, 3, 5, 4, 4, 4, 1, 5, 4, 1, 2, 1, 5, 5, 5, 2, 3, 5, 3, 1, 5, 3, 4, 1, 4, 2, 4, 4, 5, 5, 5, 0, 0, 3, 1, 5, 5, 4, 5, 0, 0, 5, 0, 2, 4, 2, 5, 5, 5, 1, 1, 4, 2, 0, 5, 4, 1, 5, 4, 5, 2, 1, 1, 5, 5, 0, 5, 2, 4, 1, 0, 5, 2, 4, 1, 5, 2, 5, 5, 5, 5, 5, 5, 1, 2, 5, 3, 0, 5, 4, 5, 0, 5, 1, 0, 5, 1, 0, 4, 1, 4, 2, 0, 5, 5, 4, 4, 0, 2, 1, 0, 0, 4, 1, 5, 5, 0, 2, 2, 1, 5, 0, 5, 4, 0, 0, 4, 5, 0, 4, 2, 5, 0, 2, 0, 2, 3, 0, 5, 2, 3, 3, 1, 1, 1, 0, 2, 1, 2, 5, 3, 0, 4, 5, 3, 5, 4, 5, 5, 2, 4, 1, 3, 5, 2, 3, 5, 1, 2, 4, 0, 5, 2, 3, 4, 5, 5, 0, 2, 0, 5, 5, 5, 5, 3, 5, 2, 3, 5, 5, 1, 2, 5, 5, 5, 0, 5, 3, 5, 2, 4, 0, 5, 2, 5, 4, 1, 2, 3, 5, 5, 5, 2, 2, 0, 5, 3, 2, 5, 0, 2, 5, 0, 5, 4, 1, 5, 5, 5, 3, 3, 5, 2, 5, 3, 1, 4, 4, 0, 0, 2, 5, 1, 5, 4, 5, 4, 5, 1, 5, 4, 2, 3, 2, 4, 5, 4, 5, 5, 0, 4, 0, 5, 5, 1, 2, 4, 4, 0, 2, 0, 1, 0, 1, 0, 4, 0, 5, 5, 5, 5, 3, 5, 4, 2, 0, 1, 5, 5, 3, 4, 0, 5, 5, 0, 5, 5, 5, 2, 0, 3, 4, 0, 5, 2, 1, 0, 0, 5, 1, 5, 2, 0, 2, 5, 3, 1, 5, 3, 5, 5, 5, 2, 5, 4, 0, 5, 3, 4, 5, 4, 5, 0, 0, 0, 5, 1, 5, 3, 1, 0, 5, 3, 5, 1, 0, 1, 3, 5, 3, 1, 3, 3, 0, 2, 4, 0, 0, 5, 5, 4, 5, 2, 1, 5, 2, 4, 2, 1, 2, 5, 3, 5, 5, 5, 5, 5, 0, 5, 4, 1, 3, 4, 5, 0, 1, 0, 2, 1, 5, 1, 0, 2, 2, 5, 5, 5, 3, 5, 2, 0, 4, 1, 3, 5, 2, 4, 4, 5, 5, 5, 2, 3, 5, 1, 5, 2, 0, 5, 5, 1, 5, 0, 5, 5, 4, 4, 2, 0, 5, 3, 3, 1, 3, 0, 1, 5, 0, 1, 4, 5, 4, 1, 5, 0, 5, 0, 3, 3, 4, 2, 5, 5, 5, 5, 1, 2, 3, 3, 2, 4, 2, 1, 0, 5, 1, 1, 0, 5, 5, 0, 5, 0, 5, 5, 0, 5, 2, 5, 4, 2, 0, 0, 4, 4, 3, 2, 5, 1, 4, 3, 1, 2, 5, 1, 3, 5, 4, 5, 1, 5, 5, 0, 5, 5, 0, 5, 2, 2, 5, 3, 1, 5, 1, 5, 5, 3, 4, 5, 0, 5, 2, 5, 5, 1, 1, 1, 5, 1, 5, 3, 0, 5, 5, 5, 3, 5, 5, 5, 0, 2, 5, 3, 5, 1, 5, 2, 4, 5, 5, 3, 5, 4, 1, 2, 3, 5, 5, 5, 2, 3, 5, 0, 1, 4, 1, 0, 1, 0, 3, 0, 3, 4, 0, 2, 1, 5, 5, 5, 0, 0, 5, 0, 5, 0, 5, 3, 5, 3, 4, 0, 3, 1, 0, 1, 3, 5, 5, 4, 5, 4, 5, 5, 2, 0, 2, 5, 4, 0, 5, 5, 0, 5, 1, 4, 4, 1, 1, 0, 5, 5, 5, 4, 4, 1, 3, 5, 0, 5, 1, 3, 5, 2, 3, 0, 3, 0, 5, 3, 3, 4, 1, 5, 4, 5, 3, 5, 2, 1, 2, 5, 4, 2, 3, 3, 5, 4, 3, 4, 3, 4, 5, 2, 5, 5, 0, 0, 5, 5, 0, 1, 4, 4, 0, 0, 2, 2, 3, 0, 2, 4, 2, 1, 3, 5, 5, 1, 0, 5, 5, 4, 2, 5, 2, 1, 1, 4, 5, 2, 5, 4, 5, 0, 3, 5, 5, 5, 5, 5, 3, 1, 1, 0, 3, 5, 4, 0, 0, 3, 5, 1, 5, 5, 4, 5, 0, 0, 4, 0, 3, 4, 0, 5, 0, 0, 3, 1, 5, 4, 4, 1, 5, 3, 5, 1, 2, 0, 4, 4, 3, 0, 5, 4, 0, 5, 5, 0, 3, 4, 0, 5, 1, 1, 5, 2, 3, 5, 2, 2, 1, 1, 5, 1, 4, 3, 0, 5, 1, 0, 5, 5, 2, 0, 5, 0, 0, 0, 5, 5, 5, 4, 3, 5, 5, 3, 3, 4, 5, 5, 3, 5, 0, 4, 0, 0, 1, 0, 5, 0, 0, 2, 4, 3, 0, 3, 2, 4, 4, 5, 0, 4, 3, 5, 3, 3, 2, 5, 4, 2, 2, 3, 3, 5, 5, 3, 2, 4, 3, 1, 5, 1, 1, 0, 1, 5, 2, 1, 5, 3, 0, 5, 1, 1, 5, 5, 5, 4, 1, 0, 5, 4, 2, 1, 1, 1, 5, 3, 1, 5, 5, 0, 5, 0, 5, 0, 4, 0, 0, 0, 2, 4, 0, 0, 2, 0, 0, 2, 0, 5, 2, 5, 5, 4, 0, 4, 5, 0, 3, 4, 0, 5, 4, 5, 5, 1, 5, 0, 5, 1, 5, 3, 0, 1, 3, 2, 3, 3, 5, 5, 5, 3, 0, 1, 4, 5, 4, 1, 5, 5, 5, 3, 2, 3, 1, 5, 5, 5, 5, 4, 2, 3, 2, 4, 1, 0, 1, 1, 5, 5, 5, 5, 5, 3, 0, 3, 1, 3, 5, 5, 1, 5, 5, 5, 5, 4, 3, 5, 3, 5, 0, 4, 5, 4, 4, 1, 3, 1, 2, 3, 5, 1, 2, 1, 0, 4, 3, 5, 3, 5, 4, 5, 5, 2, 5, 3, 5, 5, 1, 0, 1, 5, 4, 5, 2, 5, 5, 4, 3, 1, 1, 5, 0, 5, 5, 0, 3, 2, 3, 3, 1, 1, 5, 2, 0, 2, 1, 5, 1, 4, 4, 5, 0, 4, 0, 5, 3, 1, 5, 0, 4, 4, 5, 5, 4, 5, 5, 3, 2, 1, 3, 2, 0, 1, 4, 3, 0, 5, 2, 5, 3, 0, 2, 3, 5, 3, 1, 2, 5, 5, 1, 3, 5, 5, 2, 1, 0, 4, 5, 0, 0, 0, 5, 0, 5, 2, 4, 4, 2, 1, 5, 3, 5, 1, 0, 0, 4, 2, 0, 4, 5, 0, 4, 5, 5, 0, 0, 4, 0, 0, 5, 5, 5, 3, 1, 3, 3, 5, 5, 0, 4, 4, 3, 4, 4, 5, 2, 3, 5, 5, 0, 2, 1, 2, 3, 4, 2, 1, 0, 0, 3, 3, 2, 3, 5, 1, 0, 1, 0, 2, 4, 2, 5, 3, 3, 5, 0, 2, 5, 5, 2, 4, 5, 5, 4, 0, 4, 5, 2, 5, 3, 5, 4, 4, 4, 5, 1, 2, 2, 2, 1, 5, 0, 5, 0, 5, 5, 3, 5, 5, 2, 0, 3, 0, 1, 0, 0, 1, 5, 2, 0, 2, 2, 5, 3, 0, 5, 1, 4, 1, 5, 1, 0, 2, 4, 2, 5, 5, 5, 3, 3, 2, 0, 5, 2, 0, 0, 5, 5, 0, 5, 5, 1, 2, 0, 3, 0, 2, 1, 5, 0, 2, 2, 5, 5, 0, 0, 5, 4, 2, 0, 5, 5, 1, 3, 2, 0, 1, 4, 5, 2, 5, 4, 5, 2, 5, 0, 5, 0, 5, 3, 5, 1, 1, 5, 5, 4, 5, 3, 0, 1, 5, 2, 2, 3, 4, 3, 5, 3, 4, 3, 3, 0, 5, 5, 3, 2, 0, 5, 1, 1, 2, 0, 4, 3, 3, 4, 3, 4, 1, 5, 2, 3, 0, 5, 5, 3, 0, 5, 3, 2, 2, 2, 5, 2, 5, 0, 5, 0, 5, 3, 5, 5, 3, 0, 4, 4, 1, 0, 2, 5, 4, 2, 2, 5, 3, 3, 0, 5, 5, 5, 0, 5, 5, 5, 5, 4, 0, 3, 0, 4, 0, 5, 0, 3, 5, 3, 5, 3, 5, 2, 1, 2, 5, 2, 1, 3, 3, 5, 0, 4, 1, 3, 1, 5, 0, 3, 4, 5, 5, 5, 5, 1, 2, 4, 5, 5, 2, 0, 0, 3, 1, 0, 0, 4, 5, 2, 3, 1, 1, 2, 2, 0, 5, 2, 5, 5, 5, 3, 2, 5, 4, 1, 1, 5, 3, 5, 5, 3, 4, 3, 4, 2, 0, 4, 4, 1, 2, 3, 0, 5, 1, 1, 1, 1, 4, 5, 5, 3, 3, 5, 5, 4, 0, 5, 0, 4, 2, 0, 5, 0, 0, 5, 1, 3, 5, 1, 2, 1, 0, 0, 1, 4, 4, 1, 5, 2, 5, 5, 2, 5, 5, 3, 5, 4, 5, 3, 5, 2, 0, 5, 3, 5, 1, 5, 3, 5, 4, 5, 3, 5, 4, 3, 5, 5, 5, 3, 2, 3, 5, 0, 5, 5, 5, 3, 0, 1, 5, 1, 5, 0, 3, 3, 4, 0, 5, 0, 1, 1, 2, 1, 5, 2, 5, 3, 5, 3, 2, 4, 5, 5, 0, 2, 2, 2, 1, 1, 5, 3, 1, 3, 1, 5, 0, 0, 5, 5, 3, 5, 0, 5, 5, 5, 4, 2, 4, 0, 5, 5, 1, 5, 5, 5, 0, 3, 1, 5, 5, 3, 2, 2, 3, 0, 5, 5, 5, 5, 2, 2, 1, 5, 1, 0, 0, 2, 5, 5, 5, 0, 0, 4, 0, 5, 4, 5, 4, 5, 1, 5, 5, 5, 0, 1, 4, 0, 5, 3, 0, 4, 0, 5, 4, 5, 4, 5, 3, 3, 1, 5, 2, 3, 4, 0, 3, 5, 5, 4, 0, 4, 3, 5, 2, 1, 5, 0, 0, 1, 0, 5, 5, 5, 0, 0, 5, 5, 1, 4, 0, 2, 2, 1, 2, 0, 5, 5, 0, 2, 5, 4, 3, 4, 0, 2, 3, 5, 1, 4, 5, 5, 5, 1, 2, 3, 5, 0, 2, 5, 0, 0, 2, 5, 2, 1, 4, 1, 5, 5, 2, 2, 5, 0, 5, 0, 1, 5, 0, 5, 5, 3, 5, 0, 1, 0, 1, 2, 5, 0, 5, 5, 3, 1, 3, 0, 2, 5, 0, 3, 4, 5, 3, 5, 4, 3, 0, 1, 3, 5, 0, 4, 5, 3, 3, 4, 4, 5, 2, 2, 3, 5, 5, 5, 2, 3, 5, 1, 1, 0, 4, 2, 1, 5, 1, 5, 3, 1, 4, 0, 2, 4, 1, 3, 4, 5, 3, 5, 2, 0, 5, 5, 3, 5, 3, 0, 3, 5, 0, 2, 0, 5, 2, 0, 4, 0, 2, 5, 5, 4, 5, 0, 3, 0, 2, 3, 1, 5, 5, 0, 4, 5, 0, 5, 0, 1, 1, 2, 3, 5, 0, 0, 5, 1, 3, 3, 5, 1, 3, 0, 4, 5, 3, 5, 4, 4, 0, 2, 2, 5, 5, 0, 0, 1, 0, 2, 0, 5, 5, 3, 5, 4, 5, 1, 5, 4, 2, 0, 2, 4, 5, 1, 3, 0, 1, 4, 5, 5, 1, 0, 2, 5, 1, 5, 0, 5, 5, 2, 5, 1, 3, 4, 0, 2, 1, 0, 3, 4, 0, 1, 2, 5, 5, 0, 0, 3, 0, 2, 5, 1, 1, 5, 5, 1, 1, 1, 5, 4, 3, 3, 1, 1, 4, 5, 4, 4, 5, 3, 4, 5, 3, 0, 0, 2, 1, 4, 0, 3, 0, 3, 0, 1, 5, 0, 5, 1, 0, 5, 5, 5, 1, 2, 2, 1, 5, 0, 5, 1, 4, 2, 5, 2, 5, 0, 3, 5, 2, 5, 5, 3, 3, 2, 5, 5, 0, 1, 0, 4, 1, 4, 5, 5, 2, 5, 3, 1, 1, 5, 3, 5, 3, 4, 5, 5, 5, 2, 5, 1, 4, 0, 4, 3, 0, 4, 1, 3, 5, 1, 1, 0, 2, 5, 0, 5, 5, 2, 1, 2, 2, 5, 1, 4, 2, 3, 2, 3, 0, 5, 5, 5, 0, 2, 0, 0, 0, 1, 0, 1, 0, 0, 4, 5, 5, 5, 4, 0, 4, 3, 0, 5, 2, 3, 5, 1, 3, 5, 5, 4, 5, 5, 5, 1, 3, 5, 5, 5, 2, 4, 5, 0, 4, 1, 5, 2, 0, 4, 0, 0, 1, 1, 4, 0, 1, 4, 5, 4, 5, 5, 2, 5, 2, 0, 5, 0, 1, 3, 0, 2, 3, 1, 3, 5, 4, 4, 5, 1, 4, 1, 3, 1, 2, 5, 0, 2, 5, 5, 0, 5, 3, 0, 1, 1, 5, 5, 5, 0, 5, 0, 0, 2, 2, 5, 5, 5, 1, 5, 3, 0, 3, 0, 1, 5, 0, 5, 0, 5, 5, 5, 3, 5, 0, 3, 4, 0, 5, 5, 3, 4, 1, 2, 1, 3, 5, 4, 1, 5, 4, 5, 0, 3, 5, 4, 1, 5, 5, 5, 0, 5, 5, 0, 5, 5, 5, 5, 3, 1, 4, 5, 1, 1, 1, 0, 4, 5, 5, 4, 5, 5, 4, 3, 0, 0, 4, 3, 5, 0, 3, 0, 0, 3, 5, 5, 2, 0, 0, 0, 4, 1, 4, 1, 4, 0, 4, 3, 1, 4, 5, 2, 1, 5, 1, 5, 5, 1, 1, 4, 1, 0, 5, 4, 2, 2, 1, 5, 1, 1, 0, 2, 5, 0, 0, 5, 1, 0, 0, 5, 1, 3, 4, 0, 5, 5, 5, 0, 5, 1, 1, 0, 5, 3, 2, 5, 5, 1, 5, 5, 5, 1, 0, 2, 5, 0, 3, 0, 4, 3, 0, 5, 5, 5, 3, 0, 4, 3, 1, 5, 2, 1, 3, 5, 1, 3, 2, 5, 3, 5, 5, 1, 2, 2, 3, 4, 5, 2, 0, 2, 3, 2, 2, 5, 0, 1, 5, 4, 2, 0, 0, 5, 0, 3, 1, 5, 1, 4, 5, 5, 4, 5, 1, 1, 5, 3, 2, 0, 0, 5, 5, 5, 1, 5, 5, 0, 5, 5, 3, 3, 2, 2, 3, 0, 3, 0, 5, 5, 1, 2, 2, 0, 5, 5, 1, 5, 2, 0, 3, 1, 3, 4, 5, 5, 0, 1, 5, 5, 0, 0, 1, 5, 5, 4, 5, 3, 0, 2, 5, 4, 2, 5, 1, 5, 2, 5, 2, 5, 5, 5, 0, 0, 3, 4, 5, 5, 5, 4, 3, 2, 1, 3, 4, 0, 5, 5, 4, 4, 1, 3, 5, 5, 4, 3, 5, 2, 3, 2, 0, 5, 1, 5, 5, 2, 3, 1, 4, 1, 5, 0, 5, 0, 0, 0, 5, 5, 2, 5, 0, 1, 1, 4, 3, 1, 3, 5, 1, 5, 5, 0, 1, 5, 5, 1, 1, 0, 0, 1, 0, 0, 5, 5, 5, 4, 5, 5, 5, 4, 3, 5, 3, 5, 3, 5, 1, 4, 4, 3, 0, 0, 5, 5, 4, 5, 5, 5, 4, 4, 2, 0, 3, 5, 0, 4, 5, 3, 2, 0, 2, 4, 5, 1, 0, 3, 5, 3, 5, 3, 5, 3, 2, 2, 3, 5, 0, 5, 3, 1, 5, 5, 4, 1, 0, 5, 3, 5, 3, 3, 5, 3, 3, 0, 5, 4, 5, 1, 3, 2, 1, 1, 0, 4, 0, 5, 1, 5, 0, 3, 5, 2, 0, 5, 1, 1, 5, 5, 5, 0, 4, 3, 0, 2, 5, 1, 3, 3, 5, 1, 4, 2, 5, 5, 5, 2, 5, 5, 2, 2, 5, 5, 0, 5, 3, 0, 5, 3, 5, 1, 1, 1, 4, 0, 5, 3, 5, 5, 3, 5, 0, 5, 3, 5, 2, 0, 2, 1, 2, 5, 2, 1, 2, 3, 4, 5, 3, 2, 2, 5, 3, 5, 2, 3, 2, 5, 1, 5, 0, 5, 5, 3, 1, 0, 4, 5, 5, 1, 0, 1, 0, 4, 5, 5, 4, 2, 5, 5, 4, 5, 5, 5, 4, 5, 2, 3, 2, 5, 0, 2, 5, 3, 2, 3, 1, 0, 5, 5, 4, 2, 2, 0, 5, 2, 1, 1, 5, 5, 5, 5, 0, 1, 3, 4, 3, 3, 1, 1, 3, 5, 3, 2, 4, 5, 2, 3, 2, 5, 2, 5, 4, 0, 0, 0, 5, 5, 1, 3, 2, 5, 3, 5, 3, 3, 3, 4, 4, 5, 5, 1, 3, 0, 5, 1, 5, 5, 5, 4, 4, 2, 5, 2, 3, 5, 2, 1, 5, 5, 4, 4, 4, 1, 3, 5, 5, 4, 4, 1, 1, 1, 4, 5, 3, 2, 5, 4, 2, 4, 1, 5, 1, 4, 2, 2, 4, 3, 5, 5, 5, 0, 0, 1, 3, 4, 0, 5, 1, 5, 3, 4, 4, 2, 1, 5, 5, 0, 0, 2, 1, 5, 5, 5, 5, 5, 5, 3, 5, 5, 1, 2, 5, 5, 5, 3, 4, 3, 0, 5, 1, 1, 0, 5, 3, 0, 4, 1, 3, 5, 4, 1, 3, 4, 5, 4, 3, 0, 2, 5, 5, 5, 5, 0, 1, 5, 2, 0, 4, 0, 3, 2, 1, 5, 5, 1, 5, 0, 4, 5, 2, 4, 5, 4, 3, 0, 5, 3, 2, 3, 5, 0, 1, 1, 2, 5, 4, 2, 1, 0, 4, 1, 3, 2, 1, 2, 1, 5, 1, 5, 3, 3, 5, 5, 1, 5, 5, 4, 4, 3, 1, 5, 1, 1, 5, 0, 1, 0, 0, 3, 1, 3, 2, 4, 0, 1, 2, 1, 2, 1, 0, 3, 2, 5, 3, 0, 4, 4, 2, 5, 1, 1, 5, 1, 0, 0, 3, 2, 1, 4, 0, 0, 5, 2, 3, 5, 5, 5, 2, 1, 5, 0, 3, 5, 3, 5, 4, 3, 1, 5, 5, 0, 3, 2, 3, 0, 4, 3, 5, 1, 2, 5, 3, 4, 4, 5, 4, 1, 2, 5, 1, 2, 3, 2, 0, 4, 5, 5, 5, 1, 5, 3, 1, 0, 5, 1, 5, 5, 1, 5, 0, 5, 5, 0, 4, 5, 2, 0, 2, 0, 1, 2, 5, 2, 5, 1, 0, 0, 5, 0, 3, 2, 1, 5, 1, 5, 0, 5, 1, 2, 3, 1, 0, 5, 4, 2, 5, 5, 5, 0, 3, 5, 5, 1, 1, 4, 5, 0, 5, 4, 1, 1, 3, 3, 0, 1, 0, 1, 5, 3, 5, 5, 0, 2, 3, 1, 5, 5, 0, 5, 4, 2, 3, 3, 1, 5, 5, 1, 0, 1, 3, 4, 5, 2, 5, 3, 5, 5, 1, 0, 4, 1, 2, 4, 3, 5, 3, 0, 1, 0, 1, 2, 5, 3, 5, 4, 5, 5, 5, 0, 5, 5, 2, 2, 2, 0, 1, 5, 1, 5, 0, 5, 5, 0, 5, 5, 0, 3, 3, 5, 5, 1, 1, 2, 1, 3, 2, 3, 2, 5, 5, 3, 4, 0, 1, 2, 2, 4, 5, 3, 1, 5, 3, 0, 0, 5, 4, 1, 2, 5, 1, 4, 0, 5, 5, 1, 2, 1, 1, 5, 2, 1, 3, 4, 0, 4, 5, 1, 0, 5, 5, 5, 5, 2, 2, 1, 1, 2, 5, 5, 5, 4, 0, 0, 1, 2, 4, 5, 0, 3, 4, 5, 4, 4, 1, 1, 1, 4, 2, 0, 1, 3, 3, 5, 5, 4, 5, 2, 2, 5, 5, 1, 4, 5, 3, 0, 5, 2, 1, 4, 4, 0, 2, 5, 5, 4, 5, 2, 3, 0, 1, 0, 2, 1, 0, 5, 1, 5, 0, 5, 5, 4, 5, 5, 0, 5, 3, 1, 1, 0, 5, 4, 2, 2, 3, 5, 3, 5, 5, 3, 4, 4, 0, 1, 4, 1, 5, 0, 5, 5, 0, 5, 3, 4, 5, 0, 2, 0, 0, 5, 5, 4, 5, 5, 5, 5, 3, 1, 0, 5, 1, 3, 3, 2, 5, 5, 2, 5, 1, 0, 3, 5, 1, 5, 3, 1, 3, 5, 5, 2, 0, 4, 5, 0, 3, 3, 1, 3, 3, 5, 5, 4, 3, 4, 5, 5, 0, 4, 3, 1, 3, 5, 2, 4, 4, 1, 5, 2, 0, 1, 4, 3, 0, 3, 1, 1, 2, 3, 2, 5, 0, 2, 1, 4, 3, 4, 3, 4, 3, 4, 3, 4, 5, 5, 4, 0, 0, 5, 2, 1, 0, 0, 2, 1, 0, 0, 1, 3, 2, 3, 5, 0, 5, 3, 2, 5, 2, 5, 1, 3, 5, 5, 3, 2, 2, 1, 3, 4, 5, 0, 3, 5, 4, 1, 5, 5, 4, 5, 1, 5, 3, 5, 5, 1, 4, 0, 2, 5, 4, 5, 0, 2, 0, 5, 5, 0, 5, 2, 5, 0, 1, 2, 5, 2, 5, 5, 3, 1, 5, 5, 5, 5, 5, 2, 5, 5, 2, 2, 5, 4, 4, 4, 5, 5, 5, 1, 5, 4, 2, 3, 5, 2, 4, 5, 3, 3, 4, 5, 0, 4, 5, 4, 1, 1, 3, 0, 1, 5, 1, 5, 4, 5, 4, 3, 1, 4, 5, 3, 1, 4, 5, 3, 1, 5, 5, 3, 3, 2, 1, 3, 4, 0, 5, 2, 5, 0, 2, 0, 1, 4, 5, 1, 0, 4, 3, 5, 5, 0, 0, 4, 3, 0, 0, 0, 5, 0, 5, 1, 5, 0, 0, 5, 1, 5, 0, 4, 4, 4, 5, 2, 2, 5, 0, 5, 4, 2, 5, 0, 2, 2, 0, 5, 5, 0, 5, 0, 1, 0, 4, 0, 5, 2, 1, 1, 1, 5, 0, 1, 5, 0, 0, 2, 1, 1, 5, 0, 0, 2, 3, 0, 0, 3, 5, 5, 5, 2, 5, 5, 5, 2, 1, 2, 5, 2, 0, 5, 1, 5, 1, 2, 0, 4, 2, 2, 5, 1, 2, 1, 5, 0, 0, 4, 1, 3, 5, 5, 4, 0, 1, 3, 5, 5, 5, 5, 2, 5, 4, 0, 5, 0, 5, 0, 3, 4, 2, 0, 0, 5, 0, 5, 1, 5, 1, 3, 3, 3, 1, 2, 2, 5, 5, 3, 2, 5, 3, 0, 1, 1, 3, 3, 0, 3, 5, 2, 4, 3, 2, 1, 2, 0, 5, 0, 2, 5, 2, 1, 0, 5, 5, 0, 3, 2, 0, 2, 0, 5, 5, 0, 3, 2, 4, 4, 5, 2, 5, 5, 1, 5, 0, 1, 5, 4, 4, 3, 5, 1, 1, 1, 0, 3, 3, 2, 0, 5, 4, 5, 2, 5, 2, 3, 4, 2, 1, 3, 5, 5, 5, 0, 0, 5, 0, 5, 0, 5, 5, 5, 0, 3, 5, 0, 5, 5, 0, 3, 5, 3, 3, 3, 4, 5, 4, 0, 5, 1, 0, 3, 5, 5, 3, 0, 4, 3, 3, 0, 5, 4, 1, 4, 0, 3, 5, 5, 3, 3, 0, 2, 3, 0, 1, 1, 5, 1, 0, 5, 4, 5, 2, 5, 1, 4, 2, 2, 4, 1, 5, 0, 1, 4, 4, 3, 5, 2, 3, 1, 5, 2, 1, 3, 2, 5, 1, 5, 0, 0, 4, 2, 1, 1, 2, 4, 4, 4, 4, 5, 5, 3, 5, 0, 4, 5, 0, 5, 5, 3, 2, 1, 5, 1, 2, 3, 1, 1, 0, 5, 3, 0, 4, 1, 5, 1, 2, 1, 5, 0, 0, 5, 4, 2, 3, 4, 2, 5, 3, 5, 2, 3, 1, 1, 0, 1, 0, 5, 1, 3, 2, 0, 1, 2, 0, 0, 1, 5, 0, 3, 5, 5, 1, 0, 5, 2, 4, 1, 1, 1, 5, 1, 5, 5, 3, 5, 1, 5, 3, 1, 5, 5, 2, 2, 5, 4, 5, 4, 5, 5, 2, 5, 3, 5, 5, 1, 2, 5, 5, 1, 0, 5, 2, 0, 3, 5, 3, 1, 2, 5, 4, 2, 0, 1, 4, 5, 1, 3, 4, 3, 5, 3, 2, 0, 5, 0, 2, 5, 1, 3, 0, 1, 0, 5, 5, 5, 3, 5, 4, 5, 5, 5, 2, 3, 2, 3, 4, 1, 0, 3, 0, 1, 1, 5, 5, 5, 1, 2, 5, 1, 3, 4, 2, 5, 5, 1, 1, 5, 5, 5, 4, 3, 3, 2, 2, 0, 5, 1, 0, 5, 5, 2, 2, 4, 1, 1, 2, 0, 2, 5, 2, 1, 0, 5, 2, 4, 3, 1, 0, 4, 2, 5, 0, 5, 4, 4, 5, 2, 4, 5, 0, 0, 1, 5, 5, 3, 5, 4, 4, 0, 5, 5, 2, 2, 4, 1, 1, 5, 5, 5, 3, 2, 5, 5, 0, 2, 5, 5, 2, 0, 5, 0, 1, 2, 0, 0, 2, 4, 0, 4, 1, 2, 5, 5, 1, 5, 2, 4, 3, 2, 2, 5, 3, 4, 5, 5, 5, 5, 2, 5, 5, 1, 4, 5, 1, 3, 5, 5, 4, 5, 1, 1, 5, 5, 5, 2, 2, 3, 2, 1, 0, 2, 1, 1, 5, 3, 2, 0, 1, 5, 1, 4, 3, 2, 0, 2, 1, 2, 3, 0, 2, 5, 4, 2, 4, 1, 0, 0, 5, 3, 5, 0, 4, 3, 4, 2, 3, 2, 0, 5, 4, 5, 5, 5, 5, 2, 0, 1, 2, 0, 0, 0, 5, 1, 0, 5, 4, 0, 2, 5, 3, 5, 0, 5, 4, 1, 2, 0, 2, 5, 5, 3, 2, 1, 3, 5, 5, 5, 1, 5, 0, 5, 2, 5, 4, 1, 0, 5, 5, 5, 0, 5, 2, 3, 1, 5, 4, 3, 5, 5, 5, 3, 0, 5, 1, 4, 4, 1, 3, 2, 5, 3, 1, 0, 1, 0, 5, 5, 3, 4, 4, 2, 2, 4, 2, 5, 5, 5, 1, 4, 4, 0, 5, 1, 3, 1, 4, 5, 5, 5, 4, 0, 0, 0, 2, 4, 2, 2, 5, 1, 2, 0, 5, 5, 2, 5, 5, 4, 1, 1, 1, 5, 3, 5, 5, 1, 4, 2, 5, 2, 5, 5, 0, 1, 4, 5, 1, 4, 5, 0, 0, 4, 5, 5, 3, 5, 3, 1, 2, 3, 4, 4, 3, 3, 4, 5, 1, 1, 0, 1, 5, 5, 5, 5, 4, 0, 2, 5, 5, 5, 5, 2, 5, 5, 5, 5, 3, 3, 5, 5, 4, 3, 5, 2, 4, 2, 5, 1, 0, 0, 5, 4, 2, 5, 5, 4, 1, 3, 3, 5, 5, 4, 2, 1, 0, 5, 3, 4, 1, 3, 2, 5, 2, 0, 4, 5, 4, 5, 0, 1, 3, 3, 5, 0, 0, 4, 5, 4, 2, 5, 4, 1, 3, 0, 1, 0, 5, 0, 2, 2, 0, 3, 4, 1, 5, 2, 5, 5, 1, 3, 5, 5, 5, 0, 5, 1, 3, 0, 4, 5, 4, 0, 4, 0, 0, 5, 3, 2, 2, 1, 2, 5, 5, 1, 3, 2, 1, 1, 4, 5, 0, 0, 5, 5, 1, 2, 1, 4, 1, 2, 2, 5, 4, 5, 3, 5, 5, 3, 4, 5, 5, 5, 2, 5, 5, 2, 3, 0, 5, 2, 5, 5, 3, 1, 3, 5, 4, 0, 5, 2, 5, 5, 4, 5, 0, 4, 1, 3, 0, 4, 0, 5, 2, 4, 4, 3, 1, 2, 5, 2, 4, 0, 4, 5, 1, 5, 3, 5, 5, 5, 5, 0, 5, 5, 0, 5, 5, 2, 5, 4, 3, 5, 1, 0, 5, 1, 5, 5, 2, 5, 3, 2, 2, 5, 4, 4, 3, 2, 0, 4, 2, 1, 5, 5, 4, 1, 1, 5, 1, 0, 0, 2, 4, 3, 5, 4, 5, 5, 4, 5, 5, 3, 3, 5, 5, 1, 0, 5, 0, 5, 3, 3, 5, 0, 0, 1, 5, 4, 5, 2, 1, 1, 5, 2, 5, 0, 0, 4, 0, 5, 0, 4, 0, 5, 2, 1, 1, 5, 4, 3, 5, 4, 4, 5, 5, 5, 3, 2, 5, 0, 2, 4, 5, 1, 4, 2, 1, 5, 5, 5, 3, 0, 3, 1, 0, 1, 3, 5, 3, 2, 5, 3, 3, 2, 3, 2, 5, 5, 4, 0, 3, 5, 0, 3, 2, 5, 5, 5, 0, 1, 2, 2, 5, 1, 5, 5, 4, 0, 5, 2, 4, 4, 0, 2, 5, 0, 1, 5, 2, 0, 0, 0, 5, 2, 5, 3, 0, 5, 2, 3, 5, 5, 3, 0, 3, 4, 0, 0, 5, 1, 0, 5, 1, 5, 3, 2, 5, 4, 0, 5, 2, 5, 3, 5, 4, 1, 5, 3, 1, 0, 1, 0, 0, 0, 5, 3, 3, 0, 2, 5, 3, 1, 5, 1, 2, 3, 3, 5, 3, 1, 0, 0, 0, 5, 3, 5, 1, 3, 3, 3, 2, 3, 3, 1, 0, 4, 5, 3, 2, 5, 5, 0, 5, 5, 1, 1, 1, 0, 3, 5, 2, 5, 5, 5, 4, 2, 4, 3, 0, 2, 4, 3, 0, 2, 5, 2, 1, 0, 5, 5, 1, 5, 0, 2, 2, 0, 1, 5, 2, 2, 0, 5, 2, 3, 3, 4, 1, 1, 0, 0, 0, 4, 5, 4, 4, 2, 5, 2, 1, 0, 3, 0, 3, 5, 5, 5, 1, 0, 2, 0, 4, 2, 1, 3, 2, 3, 5, 3, 0, 4, 0, 0, 0, 5, 0, 3, 0, 1, 0, 4, 5, 3, 1, 5, 3, 3, 0, 0, 5, 3, 1, 5, 5, 3, 5, 5, 2, 4, 5, 3, 5, 4, 1, 5, 5, 1, 5, 3, 1, 5, 0, 5, 5, 5, 2, 5, 3, 4, 1, 5, 5, 5, 0, 5, 0, 0, 5, 3, 5, 5, 4, 5, 1, 5, 0, 3, 2, 5, 1, 5, 4, 5, 5, 4, 3, 5, 3, 0, 5, 4, 4, 0, 4, 5, 2, 5, 1, 1, 4, 3, 1, 1, 3, 1, 5, 3, 0, 1, 1, 5, 2, 3, 1, 4, 5, 3, 2, 5, 0, 4, 5, 3, 5, 5, 4, 5, 3, 2, 4, 5, 4, 5, 5, 1, 5, 4, 5, 1, 1, 5, 0, 3, 5, 5, 5, 1, 1, 5, 2, 4, 0, 0, 0, 5, 0, 5, 3, 0, 5, 1, 2, 5, 4, 5, 5, 3, 1, 5, 5, 1, 5, 1, 2, 5, 1, 0, 2, 0, 2, 5, 2, 1, 4, 2, 3, 3, 0, 3, 4, 1, 4, 4, 3, 2, 5, 2, 5, 2, 2, 2, 4, 5, 0, 4, 4, 2, 5, 5, 0, 2, 5, 3, 1, 2, 1, 0, 4, 3, 3, 2, 4, 4, 5, 2, 3, 3, 3, 1, 4, 5, 1, 3, 4, 1, 0, 0, 2, 2, 4, 3, 0, 0, 4, 4, 4, 2, 5, 5, 5, 2, 2, 0, 2, 0, 1, 0, 5, 5, 5, 5, 2, 0, 0, 2, 1, 5, 4, 5, 0, 5, 5, 5, 0, 5, 4, 0, 5, 4, 4, 0, 2, 5, 5, 3, 2, 4, 4, 2, 0, 4, 0, 5, 5, 2, 3, 5, 5, 5, 5, 5, 5, 1, 2, 5, 4, 5, 0, 5, 0, 4, 5, 5, 5, 2, 1, 2, 5, 1, 5, 3, 5, 4, 1, 2, 3, 0, 0, 1, 5, 1, 3, 3, 5, 5, 2, 5, 0, 2, 2, 4, 5, 4, 0, 2, 1, 1, 1, 4, 3, 5, 5, 4, 1, 2, 3, 4, 5, 1, 2, 4, 0, 1, 2, 5, 1, 0, 4, 0, 3, 0, 2, 0, 3, 4, 0, 4, 1, 5, 5, 2, 1, 5, 0, 5, 1, 0, 5, 5, 4, 2, 0, 2, 0, 4, 4, 3, 0, 3, 5, 5, 5, 5, 5, 4, 2, 3, 2, 3, 2, 3, 2, 0, 0, 5, 5, 4, 3, 2, 4, 3, 3, 3, 5, 5, 5, 2, 5, 2, 3, 1, 0, 5, 2, 2, 5, 3, 3, 5, 1, 0, 5, 1, 2, 5, 5, 1, 1, 4, 0, 4, 5, 0, 1, 4, 3, 5, 0, 4, 0, 2, 5, 5, 5, 1, 4, 5, 3, 0, 0, 5, 2, 1, 1, 5, 1, 2, 3, 4, 5, 3, 5, 0, 2, 0, 1, 4, 2, 4, 2, 0, 3, 5, 4, 2, 5, 5, 5, 0, 2, 5, 4, 5, 3, 2, 3, 4, 5, 1, 3, 3, 2, 0, 1, 1, 5, 3, 1, 5, 4, 0, 1, 5, 1, 1, 5, 1, 3, 4, 4, 5, 4, 5, 5, 5, 0, 1, 5, 0, 2, 5, 5, 0, 5, 3, 3, 4, 5, 4, 5, 4, 5, 1, 3, 4, 2, 5, 5, 2, 5, 5, 3, 5, 0, 3, 5, 5, 2, 5, 5, 1, 4, 5, 2, 1, 5, 1, 1, 3, 1, 2, 1, 2, 3, 5, 1, 4, 0, 5, 5, 0, 0, 5, 4, 1, 5, 4, 5, 3, 5, 5, 3, 1, 1, 2, 5, 0, 0, 4, 5, 5, 5, 1, 0, 4, 5, 3, 2, 3, 5, 0, 4, 4, 0, 2, 0, 1, 4, 5, 5, 4, 4, 5, 4, 4, 3, 5, 1, 5, 5, 2, 0, 3, 5, 5, 1, 2, 3, 2, 0, 5, 4, 3, 5, 1, 5, 1, 0, 3, 5, 5, 2, 5, 0, 4, 5, 2, 5, 2, 1, 4, 3, 0, 3, 5, 5, 2, 1, 2, 1, 4, 5, 2, 4, 5, 5, 3, 1, 5, 1, 3, 4, 1, 3, 0, 5, 4, 2, 0, 0, 5, 2, 4, 5, 0, 0, 0, 5, 4, 5, 5, 1, 0, 5, 5, 5, 5, 3, 0, 1, 4, 3, 1, 5, 5, 0, 1, 5, 0, 5, 5, 3, 5, 2, 0, 4, 3, 3, 3, 2, 5, 4, 3, 5, 5, 4, 1, 1, 2, 5, 5, 1, 0, 5, 5, 5, 5, 2, 1, 4, 3, 5, 5, 0, 1, 3, 5, 5, 0, 3, 4, 0, 2, 5, 0, 5, 5, 4, 5, 5, 2, 0, 1, 3, 2, 4, 1, 2, 0, 5, 2, 5, 1, 2, 2, 5, 4, 5, 2, 1, 1, 1, 3, 5, 5, 4, 5, 5, 1, 1, 5, 5, 5, 5, 5, 4, 2, 0, 5, 5, 0, 2, 3, 5, 3, 2, 5, 1, 5, 0, 5, 5, 5, 5, 5, 5, 5, 4, 4, 0, 5, 5, 2, 4, 2, 5, 0, 0, 3, 1, 1, 5, 3, 5, 0, 1, 1, 4, 4, 4, 3, 1, 0, 4, 5, 4, 5, 2, 0, 5, 1, 5, 3, 3, 2, 5, 5, 1, 0, 3, 4, 5, 2, 5, 0, 5, 5, 2, 1, 4, 5, 0, 2, 4, 5, 1, 3, 0, 5, 3, 1, 2, 2, 5, 5, 3, 5, 5, 5, 3, 4, 5, 5, 0, 5, 2, 4, 5, 4, 5, 3, 3, 2, 5, 2, 0, 1, 5, 3, 5, 1, 5, 3, 2, 3, 1, 3, 0, 5, 4, 3, 2, 0, 5, 1, 3, 0, 5, 3, 0, 4, 1, 5, 5, 0, 0, 2, 5, 5, 0, 5, 1, 0, 1, 5, 2, 0, 4, 2, 2, 0, 2, 5, 4, 3, 5, 3, 2, 3, 5, 3, 2, 5, 4, 4, 2, 5, 0, 3, 1, 1, 5, 5, 4, 1, 5, 1, 5, 3, 2, 5, 5, 0, 3, 5, 4, 0, 5, 1, 0, 4, 2, 5, 5, 3, 3, 5, 5, 4, 4, 4, 4, 0, 5, 1, 3, 3, 2, 2, 5, 1, 5, 5, 4, 3, 4, 4, 3, 3, 3, 4, 3, 4, 4, 0, 1, 0, 4, 1, 2, 2, 3, 0, 5, 0, 1, 3, 4, 2, 5, 3, 2, 3, 3, 2, 1, 1, 2, 2, 1, 5, 2, 0, 3, 5, 5, 3, 3, 1, 2, 4, 5, 5, 5, 2, 0, 5, 5, 2, 3, 3, 1, 5, 1, 1, 3, 4, 1, 3, 0, 5, 3, 5, 1, 2, 0, 1, 5, 3, 3, 5, 3, 2, 1, 4, 1, 3, 1, 3, 5, 3, 5, 5, 0, 0, 5, 1, 0, 0, 5, 0, 4, 4, 5, 5, 2, 5, 5, 1, 4, 3, 5, 3, 3, 0, 5, 5, 3, 3, 0, 2, 5, 4, 5, 5, 5, 3, 5, 5, 2, 4, 5, 3, 1, 5, 1, 3, 3, 5, 1, 4, 5, 3, 5, 0, 5, 1, 5, 5, 5, 3, 0, 1, 5, 5, 5, 3, 5, 3, 5, 2, 5, 1, 1, 5, 5, 5, 5, 4, 0, 3, 5, 3, 2, 3, 1, 3, 0, 5, 0, 1, 3, 5, 4, 2, 4, 0, 4, 2, 5, 5, 3, 2, 1, 5, 1, 3, 3, 0, 5, 5, 5, 4, 0, 2, 1, 5, 0, 4, 5, 0, 0, 0, 5, 0, 4, 4, 5, 2, 5, 5, 0, 0, 5, 2, 3, 3, 1, 0, 0, 2, 4, 3, 0, 4, 2, 5, 4, 2, 0, 0, 2, 2, 0, 3, 1, 3, 0, 2, 5, 4, 5, 1, 1, 1, 3, 1, 3, 5, 0, 4, 5, 5, 5, 0, 3, 5, 0, 5, 3, 4, 2, 3, 3, 3, 5, 3, 0, 2, 4, 4, 1, 4, 5, 3, 0, 5, 4, 5, 3, 5, 5, 5, 5, 0, 2, 1, 3, 2, 0, 0, 0, 5, 5, 3, 2, 2, 3, 0, 4, 5, 5, 3, 4, 5, 0, 5, 5, 5, 5, 5, 1, 3, 5, 3, 0, 2, 0, 1, 5, 5, 5, 0, 4, 5, 3, 5, 1, 3, 5, 5, 3, 1, 0, 5, 2, 0, 4, 5, 5, 0, 0, 0, 3, 5, 2, 2, 4, 0, 1, 0, 4, 2, 4, 4, 5, 5, 4, 5, 2, 1, 2, 2, 4, 1, 5, 1, 1, 1, 3, 4, 3, 2, 0, 5, 5, 2, 3, 2, 0, 5, 1, 5, 1, 1, 0, 3, 0, 3, 5, 3, 5, 2, 2, 4, 5, 5, 4, 3, 3, 2, 3, 0, 5, 0, 4, 5, 0, 2, 3, 4, 1, 2, 5, 4, 0, 3, 5, 3, 4, 2, 2, 5, 2, 5, 5, 5, 3, 2, 3, 5, 4, 0, 1, 5, 4, 3, 1, 3, 1, 1, 4, 5, 4, 0, 3, 1, 3, 2, 1, 5, 3, 1, 1, 1, 1, 3, 2, 5, 5, 5, 3, 2, 4, 5, 0, 0, 5, 0, 1, 0, 4, 1, 5, 3, 3, 3, 4, 2, 5, 4, 0, 2, 0, 1, 0, 2, 5, 1, 1, 2, 5, 1, 5, 5, 2, 2, 0, 5, 0, 0, 3, 2, 4, 5, 4, 4, 5, 0, 4, 5, 3, 2, 3, 1, 1, 3, 2, 1, 2, 5, 4, 4, 5, 5, 1, 3, 5, 0, 1, 5, 4, 4, 5, 5, 5, 5, 5, 5, 1, 0, 1, 5, 5, 5, 1, 1, 5, 4, 0, 2, 5, 1, 4, 4, 5, 0, 1, 5, 4, 3, 3, 3, 1, 3, 1, 1, 2, 2, 2, 4, 1, 3, 3, 1, 0, 1, 0, 3, 0, 5, 5, 4, 3, 0, 5, 0, 1, 2, 5, 5, 5, 5, 5, 0, 5, 1, 2, 4, 2, 5, 5, 4, 0, 2, 5, 5, 5, 2, 5, 5, 4, 1, 5, 5, 5, 5, 5, 2, 5, 3, 5, 2, 1, 1, 2, 5, 5, 0, 5, 3, 5, 5, 4, 5, 2, 5, 5, 1, 3, 1, 5, 4, 5, 5, 1, 4, 5, 2, 2, 0, 1, 0, 5, 3, 0, 4, 0, 1, 3, 1, 4, 2, 2, 1, 1, 4, 3, 5, 5, 0, 2, 2, 1, 0, 4, 4, 0, 1, 4, 5, 3, 4, 5, 2, 3, 5, 2, 5, 5, 1, 3, 0, 3, 1, 4, 5, 3, 1, 0, 2, 4, 5, 0, 5, 2, 0, 5, 3, 2, 5, 3, 5, 5, 3, 2, 4, 0, 2, 5, 1, 3, 5, 1, 1, 1, 3, 0, 4, 2, 0, 2, 5, 2, 5, 1, 5, 3, 1, 0, 0, 4, 2, 4, 1, 4, 4, 3, 1, 0, 3, 5, 0, 1, 1, 4, 0, 3, 0, 1, 3, 3, 1, 5, 0, 5, 4, 4, 4, 5, 0, 3, 0, 3, 5, 1, 5, 5, 5, 0, 4, 5, 1, 5, 5, 1, 0, 5, 1, 5, 1, 3, 3, 4, 2, 4, 5, 5, 5, 0, 5, 1, 5, 5, 5, 0, 5, 2, 4, 2, 1, 5, 3, 3, 2, 5, 5, 0, 3, 5, 1, 2, 5, 5, 4, 0, 2, 5, 2, 0, 2, 1, 5, 2, 0, 4, 2, 2, 1, 5, 1, 0, 1, 4, 1, 5, 3, 5, 0, 4, 2, 2, 5, 3, 4, 0, 5, 5, 2, 3, 5, 5, 1, 1, 5, 5, 0, 5, 4, 0, 2, 5, 5, 3, 5, 3, 1, 5, 5, 1, 1, 5, 4, 1, 5, 3, 4, 0, 3, 5, 5, 3, 3, 5, 1, 2, 5, 5, 3, 0, 5, 5, 1, 3, 2, 1, 3, 0, 5, 5, 5, 3, 5, 5, 2, 5, 5, 5, 1, 0, 5, 1, 4, 0, 4, 3, 3, 3, 3, 5, 2, 4, 5, 0, 5, 5, 0, 2, 5, 0, 3, 4, 1, 0, 1, 2, 4, 2, 5, 5, 5, 2, 4, 5, 3, 5, 0, 0, 5, 3, 5, 3, 3, 1, 5, 0, 5, 3, 5, 2, 5, 5, 4, 5, 0, 3, 2, 4, 4, 1, 2, 3, 2, 5, 5, 5, 4, 2, 1, 1, 5, 5, 5, 5, 0, 3, 0, 3, 0, 3, 5, 5, 5, 0, 5, 2, 5, 4, 3, 5, 5, 1, 5, 5, 2, 2, 5, 2, 4, 5, 0, 5, 5, 3, 5, 4, 0, 0, 0, 0, 5, 3, 4, 5, 5, 3, 5, 3, 4, 1, 4, 1, 2, 1, 5, 2, 2, 0, 5, 1, 5, 5, 1, 0, 2, 4, 0, 2, 3, 1, 2, 5, 1, 3, 5, 5, 1, 0, 5, 5, 5, 5, 2, 4, 5, 1, 3, 1, 5, 5, 0, 4, 5, 2, 5, 5, 2, 2, 1, 5, 5, 2, 5, 5, 0, 4, 3, 5, 5, 5, 4, 3, 3, 5, 3, 0, 0, 0, 5, 1, 2, 4, 1, 4, 3, 4, 3, 5, 5, 5, 5, 0, 4, 3, 4, 1, 5, 1, 5, 0, 5, 5, 5, 1, 4, 0, 4, 0, 5, 5, 5, 0, 5, 2, 2, 4, 1, 3, 5, 0, 5, 3, 3, 0, 0, 1, 5, 4, 5, 0, 0, 5, 5, 5, 5, 5, 4, 5, 3, 1, 4, 1, 5, 0, 3, 5, 5, 5, 0, 2, 0, 1, 5, 3, 3, 3, 3, 4, 4, 3, 0, 4, 5, 2, 0, 1, 3, 0, 2, 5, 0, 0, 5, 5, 1, 5, 2, 5, 1, 5, 5, 4, 5, 3, 1, 5, 5, 2, 1, 5, 5, 3, 0, 0, 0, 5, 0, 3, 4, 4, 1, 0, 5, 5, 5, 3, 3, 5, 1, 4, 1, 3, 2, 1, 3, 3, 2, 0, 5, 3, 3, 2, 5, 3, 2, 2, 2, 5, 3, 3, 0, 3, 3, 1, 3, 5, 0, 2, 2, 5, 0, 1, 5, 0, 5, 0, 1, 4, 1, 5, 2, 0, 1, 3, 5, 1, 5, 0, 2, 5, 2, 1, 3, 3, 5, 5, 3, 5, 5, 1, 2, 2, 3, 5, 3, 4, 4, 0, 5, 0, 2, 2, 5, 3, 2, 5, 0, 1, 4, 0, 5, 0, 1, 1, 5, 3, 1, 0, 5, 5, 2, 2, 2, 3, 5, 1, 5, 2, 5, 3, 2, 1, 1, 4, 5, 5, 5, 3, 3, 3, 5, 0, 3, 4, 5, 1, 3, 4, 0, 1, 1, 2, 3, 1, 5, 1, 3, 3, 1, 0, 0, 1, 5, 4, 2, 1, 1, 3, 4, 4, 0, 3, 1, 3, 5, 1, 2, 5, 5, 4, 5, 5, 4, 4, 2, 4, 0, 2, 4, 2, 5, 4, 3, 5, 5, 2, 3, 0, 1, 0, 3, 1, 5, 1, 4, 2, 1, 0, 5, 2, 2, 0, 5, 0, 3, 2, 5, 1, 5, 3, 5, 2, 2, 5, 5, 5, 5, 4, 3, 5, 3, 5, 1, 1, 1, 5, 3, 0, 2, 0, 3, 2, 4, 0, 4, 1, 0, 1, 5, 1, 0, 4, 1, 2, 0, 3, 3, 3, 2, 2, 0, 2, 4, 4, 5, 5, 1, 0, 5, 1, 5, 5, 4, 4, 4, 2, 4, 4, 5, 1, 0, 0, 5, 0, 5, 1, 1, 4, 2, 0, 5, 4, 5, 5, 1, 2, 5, 3, 3, 5, 2, 0, 0, 3, 4, 5, 3, 2, 3, 1, 4, 5, 5, 4, 2, 0, 3, 5, 2, 0, 5, 1, 0, 5, 0, 1, 3, 0, 0, 5, 5, 2, 1, 5, 1, 1, 2, 5, 0, 2, 4, 4, 4, 1, 5, 4, 0, 3, 2, 1, 2, 5, 4, 0, 0, 1, 5, 5, 1, 0, 1, 3, 5, 5, 5, 3, 4, 0, 5, 5, 0, 2, 5, 4, 5, 0, 5, 4, 5, 1, 5, 1, 0, 1, 0, 5, 1, 2, 4, 5, 4, 3, 5, 4, 0, 2, 5, 5, 5, 4, 1, 5, 2, 5, 0, 5, 0, 1, 5, 3, 4, 5, 0, 5, 0, 5, 4, 5, 0, 4, 5, 3, 5, 1, 5, 1, 5, 2, 3, 4, 2, 3, 4, 3, 5, 0, 5, 5, 1, 5, 5, 5, 1, 2, 3, 5, 2, 5, 0, 1, 2, 1, 1, 0, 2, 1, 4, 3, 4, 2, 2, 3, 3, 1, 2, 0, 5, 5, 2, 4, 5, 5, 4, 0, 4, 4, 5, 4, 2, 1, 0, 3, 0, 5, 5, 3, 5, 4, 0, 1, 0, 5, 4, 5, 5, 3, 4, 2, 1, 2, 4, 5, 5, 3, 5, 1, 5, 1, 5, 1, 3, 5, 5, 1, 0, 3, 1, 5, 1, 4, 5, 0, 0, 0, 1, 2, 5, 5, 4, 4, 5, 4, 4, 1, 3, 3, 4, 4, 5, 5, 4, 5, 0, 5, 1, 2, 5, 5, 4, 5, 5, 5, 4, 5, 4, 5, 5, 5, 4, 5, 4, 3, 0, 4, 4, 1, 4, 3, 5, 0, 5, 1, 2, 2, 5, 3, 5, 3, 2, 1, 5, 4, 4, 5, 5, 0, 4, 0, 3, 5, 0, 5, 1, 5, 5, 4, 0, 2, 0, 5, 5, 5, 5, 5, 5, 2, 5, 5, 5, 2, 3, 4, 0, 5, 5, 2, 2, 2, 5, 4, 5, 5, 2, 0, 5, 1, 5, 1, 1, 3, 2, 1, 1, 3, 4, 5, 2, 1, 1, 3, 0, 0, 4, 2, 5, 5, 1, 5, 5, 3, 0, 5, 1, 5, 4, 2, 1, 5, 0, 5, 0, 3, 3, 3, 4, 5, 5, 5, 0, 3, 1, 2, 5, 3, 2, 3, 5, 4, 2, 1, 5, 5, 5, 5, 5, 5, 2, 0, 5, 3, 0, 5, 1, 2, 2, 0, 2, 0, 3, 2, 1, 1, 5, 3, 1, 5, 5, 0, 2, 3, 3, 1, 4, 5, 1, 1, 2, 5, 1, 5, 4, 3, 5, 3, 1, 5, 5, 3, 5, 4, 4, 5, 2, 0, 5, 5, 1, 0, 0, 0, 0, 3, 1, 4, 4, 0, 0, 4, 5, 1, 4, 5, 1, 0, 2, 2, 4, 4, 2, 0, 5, 2, 1, 5, 0, 0, 0, 5, 5, 2, 0, 3, 5, 5, 1, 2, 1, 0, 1, 1, 5, 5, 5, 5, 1, 4, 2, 2, 1, 1, 4, 3, 5, 5, 0, 2, 5, 4, 2, 1, 5, 1, 3, 5, 5, 1, 2, 5, 1, 4, 1, 2, 5, 0, 3, 5, 5, 3, 2, 5, 5, 2, 3, 5, 5, 3, 0, 5, 4, 5, 0, 1, 5, 1, 0, 0, 5, 3, 5, 2, 4, 5, 0, 5, 1, 0, 4, 2, 3, 5, 0, 3, 0, 5, 1, 2, 5, 5, 0, 0, 4, 3, 5, 5, 5, 2, 3, 5, 4, 5, 5, 0, 5, 2, 2, 1, 5, 0, 3, 3, 0, 5, 5, 3, 5, 4, 5, 0, 5, 5, 5, 5, 0, 5, 0, 4, 5, 5, 2, 3, 1, 5, 3, 1, 4, 2, 5, 5, 0, 3, 0, 3, 2, 5, 2, 3, 5, 5, 0, 5, 4, 4, 2, 4, 3, 1, 4, 2, 5, 2, 5, 2, 4, 2, 0, 2, 5, 2, 0, 0, 1, 1, 5, 5, 4, 0, 2, 2, 3, 4, 3, 4, 5, 5, 1, 5, 0, 4, 1, 3, 1, 1, 3, 0, 1, 2, 2, 5, 5, 4, 2, 2, 1, 5, 5, 1, 0, 3, 1, 3, 1, 3, 0, 1, 0, 1, 5, 1, 2, 3, 5, 0, 0, 1, 3, 5, 1, 5, 4, 5, 4, 1, 1, 5, 2, 3, 5, 5, 0, 2, 5, 1, 5, 1, 5, 5, 4, 1, 4, 3, 5, 1, 5, 4, 4, 5, 5, 5, 4, 5, 3, 2, 3, 0, 5, 3, 4, 0, 4, 1, 1, 0, 4, 5, 0, 5, 5, 5, 2, 3, 3, 5, 5, 0, 3, 5, 1, 5, 4, 5, 1, 4, 5, 1, 3, 4, 1, 3, 0, 1, 4, 5, 5, 5, 1, 0, 5, 2, 4, 3, 2, 0, 2, 4, 5, 2, 1, 4, 0, 0, 3, 5, 5, 4, 4, 5, 0, 4, 3, 4, 1, 5, 5, 5, 5, 4, 2, 3, 0, 2, 5, 5, 4, 5, 3, 2, 5, 2, 5, 1, 5, 3, 5, 1, 4, 2, 3, 5, 5, 5, 5, 5, 5, 5, 5, 5, 3, 5, 5, 4, 2, 3, 2, 4, 0, 5, 2, 5, 3, 1, 5, 0, 0, 3, 2, 2, 3, 1, 3, 5, 2, 3, 2, 3, 5, 5, 2, 2, 5, 5, 1, 3, 5, 5, 4, 4, 5, 5, 5, 1, 2, 5, 5, 5, 5, 5, 5, 5, 2, 3, 3, 1, 2, 4, 4, 0, 4, 5, 5, 1, 5, 3, 1, 4, 1, 0, 0, 3, 0, 2, 5, 0, 5, 3, 0, 0, 5, 5, 1, 5, 0, 5, 4, 0, 2, 2, 1, 0, 0, 0, 5, 5, 5, 3, 5, 5, 5, 5, 5, 4, 0, 1, 0, 5, 1, 5, 4, 1, 1, 5, 2, 4, 3, 5, 1, 4, 2, 5, 2, 2, 5, 3, 5, 5, 1, 2, 5, 3, 1, 5, 1, 4, 2, 5, 5, 1, 3, 2, 5, 3, 0, 1, 1, 3, 0, 5, 1, 3, 0, 1, 5, 3, 0, 5, 3, 5, 5, 3, 4, 1, 3, 4, 4, 0, 1, 3, 0, 3, 5, 0, 5, 3, 0, 5, 5, 5, 5, 5, 5, 5, 4, 3, 0, 3, 1, 2, 0, 3, 5, 1, 2, 5, 0, 3, 3, 2, 5, 0, 5, 0, 3, 3, 5, 4, 5, 3, 5, 5, 5, 5, 5, 5, 3, 5, 0, 5, 1, 3, 1, 0, 5, 5, 2, 1, 1, 5, 0, 0, 1, 3, 0, 5, 5, 4, 2, 3, 5, 2, 4, 5, 5, 2, 3, 2, 3, 3, 4, 5, 4, 5, 2, 0, 3, 5, 5, 5, 2, 5, 5, 0, 5, 1, 3, 5, 5, 5, 3, 5, 2, 3, 3, 4, 3, 4, 5, 2, 2, 5, 1, 5, 0, 5, 1, 5, 5, 5, 0, 0, 2, 3, 1, 5, 3, 5, 5, 1, 3, 5, 2, 4, 5, 2, 5, 0, 5, 0, 2, 1, 3, 5, 3, 1, 5, 3, 2, 0, 5, 4, 4, 0, 3, 3, 5, 1, 3, 2, 3, 1, 4, 5, 1, 2, 4, 2, 3, 5, 3, 1, 3, 5, 5, 1, 5, 0, 2, 5, 1, 0, 3, 4, 5, 3, 2, 1, 5, 4, 0, 3, 4, 2, 3, 5, 4, 1, 1, 4, 5, 4, 1, 5, 5, 4, 1, 5, 2, 0, 4, 5, 2, 0, 1, 0, 4, 2, 4, 4, 5, 0, 5, 5, 4, 5, 0, 1, 5, 5, 3, 5, 5, 4, 3, 1, 1, 1, 0, 4, 4, 2, 5, 1, 2, 0, 5, 1, 3, 4, 5, 4, 2, 5, 3, 3, 0, 4, 1, 2, 0, 5, 5, 0, 3, 3, 5, 0, 5, 5, 0, 3, 1, 3, 5, 2, 3, 0, 4, 4, 0, 1, 0, 0, 2, 5, 2, 2, 2, 5, 5, 1, 2, 5, 4, 1, 3, 0, 5, 0, 5, 5, 5, 0, 5, 5, 5, 2, 0, 5, 4, 1, 1, 2, 4, 5, 5, 0, 2, 2, 1, 4, 3, 0, 1, 1, 5, 5, 2, 0, 5, 4, 1, 5, 0, 1, 2, 5, 3, 3, 5, 4, 3, 5, 5, 1, 2, 5, 4, 1, 3, 3, 3, 1, 0, 1, 0, 3, 0, 0, 4, 0, 3, 2, 4, 5, 5, 1, 5, 2, 2, 1, 2, 5, 5, 4, 5, 3, 1, 1, 3, 5, 4, 3, 5, 1, 1, 5, 2, 3, 5, 5, 0, 1, 5, 1, 3, 5, 2, 5, 0, 4, 0, 3, 5, 3, 3, 0, 5, 5, 4, 5, 0, 2, 2, 0, 3, 3, 2, 5, 0, 5, 5, 3, 5, 1, 0, 5, 3, 5, 5, 3, 2, 4, 3, 3, 5, 5, 1, 3, 2, 4, 5, 1, 0, 5, 5, 2, 4, 0, 5, 5, 1, 4, 0, 1, 0, 5, 5, 2, 1, 3, 4, 4, 1, 0, 2, 5, 0, 0, 3, 5, 4, 3, 3, 4, 2, 1, 3, 5, 5, 5, 0, 1, 3, 1, 2, 3, 0, 2, 5, 1, 5, 1, 5, 4, 1, 1, 1, 2, 2, 4, 2, 5, 1, 5, 2, 0, 5, 0, 0, 2, 5, 5, 0, 5, 1, 3, 2, 5, 1, 0, 0, 4, 4, 2, 0, 3, 0, 5, 0, 4, 5, 2, 5, 3, 5, 4, 3, 0, 2, 1, 1, 0, 2, 3, 3, 5, 1, 4, 2, 2, 0, 5, 5, 3, 0, 5, 5, 0, 2, 0, 1, 5, 5, 0, 3, 0, 1, 2, 2, 2, 5, 5, 1, 1, 1, 2, 0, 2, 3, 5, 0, 5, 4, 5, 2, 5, 5, 4, 5, 0, 2, 2, 0, 0, 1, 3, 2, 2, 2, 5, 3, 5, 5, 5, 1, 1, 2, 3, 1, 5, 5, 5, 5, 5, 1, 4, 5, 1, 4, 2, 2, 2, 2, 3, 5, 1, 1, 1, 5, 1, 4, 1, 2, 2, 5, 5, 0, 1, 2, 1, 5, 4, 2, 1, 1, 4, 5, 3, 5, 5, 0, 3, 2, 2, 3, 2, 4, 1, 3, 5, 5, 3, 3, 1, 3, 4, 2, 0, 2, 5, 1, 0, 5, 0, 0, 5, 3, 5, 2, 5, 4, 5, 3, 4, 5, 5, 4, 3, 2, 0, 3, 5, 0, 1, 1, 5, 5, 2, 2, 5, 5, 2, 5, 4, 5, 5, 5, 1, 5, 5, 1, 2, 4, 4, 2, 5, 1, 5, 5, 5, 0, 3, 4, 4, 5, 4, 5, 3, 5, 5, 5, 1, 1, 5, 3, 0, 5, 3, 3, 4, 5, 1, 5, 3, 1, 0, 0, 0, 5, 4, 0, 1, 0, 5, 5, 5, 5, 5, 1, 2, 5, 3, 3, 5, 4, 4, 4, 4, 5, 5, 0, 4, 3, 5, 2, 0, 4, 5, 4, 0, 0, 1, 3, 4, 4, 4, 1, 2, 0, 0, 5, 5, 5, 2, 5, 1, 0, 5, 4, 5, 4, 5, 2, 3, 1, 2, 5, 5, 0, 2, 5, 3, 2, 5, 4, 3, 3, 5, 5, 5, 0, 2, 1, 5, 5, 0, 0, 5, 0, 1, 1, 2, 1, 5, 2, 1, 5, 5, 5, 4, 3, 2, 0, 5, 3, 3, 5, 5, 1, 2, 5, 5, 2, 5, 5, 5, 4, 5, 1, 5, 5, 2, 5, 4, 1, 5, 1, 1, 3, 3, 4, 4, 0, 2, 1, 0, 5, 5, 5, 3, 5, 5, 0, 0, 0, 2, 3, 1, 1, 4, 5, 1, 5, 1, 3, 4, 0, 2, 1, 0, 5, 4, 5, 5, 4, 1, 2, 4, 5, 3, 5, 5, 3, 1, 4, 5, 4, 5, 4, 5, 5, 5, 1, 3, 5, 1, 4, 0, 4, 4, 5, 5, 2, 0, 4, 4, 1, 2, 5, 4, 2, 4, 5, 3, 2, 5, 4, 0, 1, 3, 0, 5, 0, 0, 5, 3, 4, 5, 5, 5, 5, 4, 5, 5, 1, 1, 1, 4, 0, 5, 4, 5, 0, 5, 1, 3, 5, 0, 4, 2, 2, 4, 0, 3, 5, 5, 0, 0, 3, 5, 4, 4, 3, 0, 2, 0, 1, 5, 3, 5, 4, 5, 1, 1, 5, 5, 4, 2, 5, 3, 1, 4, 3, 2, 2, 5, 1, 5, 5, 4, 4, 0, 2, 0, 1, 4, 5, 1, 2, 2, 5, 0, 3, 4, 0, 3, 4, 3, 5, 5, 5, 0, 2, 4, 1, 0, 4, 3, 2, 5, 2, 1, 3, 1, 3, 5, 5, 4, 3, 3, 1, 0, 3, 5, 0, 0, 0, 5, 4, 3, 1, 1, 5, 2, 2, 1, 1, 0, 0, 3, 0, 5, 3, 0, 2, 5, 3, 2, 0, 1, 2, 5, 2, 2, 3, 2, 5, 5, 3, 3, 1, 5, 4, 3, 2, 0, 5, 3, 1, 5, 5, 0, 2, 1, 2, 3, 4, 5, 0, 3, 5, 5, 5, 1, 3, 1, 2, 5, 5, 5, 1, 1, 0, 4, 2, 2, 4, 2, 2, 0, 0, 5, 5, 3, 3, 1, 5, 1, 3, 3, 1, 5, 0, 3, 5, 3, 4, 1, 3, 4, 4, 3, 0, 5, 5, 2, 1, 3, 2, 4, 2, 5, 1, 1, 5, 3, 1, 0, 0, 0, 0, 0, 5, 5, 2, 5, 2, 3, 3, 0, 3, 3, 0, 5, 4, 0, 5, 5, 5, 2, 1, 5, 2, 0, 3, 0, 0, 5, 3, 2, 0, 1, 2, 1, 3, 0, 2, 1, 3, 2, 5, 3, 5, 3, 0, 1, 3, 3, 5, 0, 5, 4, 3, 5, 5, 0, 5, 2, 5, 0, 1, 2, 2, 5, 5, 0, 2, 1, 0, 5, 5, 1, 5, 2, 5, 5, 3, 0, 4, 5, 4, 5, 3, 4, 4, 1, 0, 2, 3, 4, 5, 0, 1, 5, 5, 1, 5, 0, 5, 0, 2, 3, 2, 3, 5, 2, 1, 3, 5, 1, 5, 0, 3, 2, 5, 1, 5, 5, 3, 5, 4, 1, 0, 5, 2, 3, 5, 3, 1, 0, 3, 3, 4, 5, 1, 5, 4, 5, 1, 0, 1, 2, 5, 0, 1, 5, 1, 0, 4, 4, 2, 0, 5, 0, 2, 2, 2, 5, 5, 0, 0, 1, 5, 5, 5, 2, 2, 5, 3, 5, 0, 2, 5, 0, 1, 2, 3, 3, 5, 3, 5, 5, 5, 5, 1, 0, 3, 0, 5, 0, 0, 3, 5, 5, 2, 0, 3, 5, 4, 5, 5, 1, 5, 2, 5, 0, 3, 5, 5, 0, 1, 1, 4, 0, 0, 0, 1, 1, 1, 5, 2, 5, 1, 5, 3, 1, 5, 3, 2, 5, 5, 2, 1, 2, 5, 3, 1, 3, 1, 2, 3, 5, 1, 2, 5, 5, 3, 4, 2, 5, 5, 4, 5, 1, 4, 4, 4, 4, 0, 0, 5, 1, 3, 0, 4, 4, 2, 5, 5, 0, 5, 0, 5, 5, 5, 5, 3, 5, 5, 5, 2, 2, 5, 5, 5, 5, 0, 0, 2, 0, 4, 0, 3, 0, 3, 0, 3, 4, 4, 5, 2, 2, 2, 3, 4, 0, 5, 4, 2, 4, 4, 5, 5, 5, 5, 5, 1, 1, 1, 5, 0, 5, 2, 0, 0, 5, 3, 5, 2, 1, 5, 0, 0, 5, 2, 0, 0, 5, 0, 3, 0, 1, 0, 3, 5, 0, 5, 1, 2, 5, 5, 2, 1, 5, 5, 4, 3, 0, 1, 4, 1, 3, 5, 5, 0, 5, 5, 4, 5, 5, 5, 5, 5, 0, 5, 0, 1, 3, 4, 3, 3, 5, 1, 0, 2, 0, 2, 4, 2, 5, 0, 5, 2, 1, 5, 1, 3, 1, 2, 1, 4, 0, 4, 1, 3, 0, 5, 5, 1, 3, 4, 5, 5, 0, 5, 5, 0, 1, 2, 0, 2, 5, 1, 5, 5, 3, 5, 2, 5, 5, 3, 4, 1, 2, 4, 0, 5, 5, 1, 4, 2, 4, 5, 1, 3, 1, 1, 5, 2, 2, 3, 0, 5, 2, 5, 5, 4, 2, 5, 4, 5, 1, 0, 0, 5, 5, 3, 0, 0, 5, 5, 0, 5, 5, 0, 2, 1, 0, 4, 0, 1, 5, 5, 2, 4, 4, 5, 4, 5, 2, 2, 5, 2, 4, 5, 2, 1, 5, 5, 1, 5, 0, 3, 0, 2, 3, 5, 5, 2, 1, 5, 5, 5, 1, 2, 0, 5, 5, 1, 2, 0, 5, 4, 2, 0, 5, 5, 3, 0, 1, 4, 5, 5, 0, 2, 4, 3, 1, 5, 4, 5, 5, 5, 5, 0, 2, 0, 3, 3, 1, 5, 3, 5, 4, 0, 1, 5, 4, 3, 4, 4, 3, 0, 5, 4, 1, 0, 5, 0, 4, 4, 5, 5, 0, 4, 3, 1, 0, 0, 5, 4, 3, 5, 2, 5, 1, 2, 5, 5, 4, 3, 5, 5, 5, 4, 0, 5, 5, 3, 3, 5, 0, 5, 5, 0, 1, 5, 1, 4, 4, 0, 3, 3, 5, 5, 0, 5, 5, 3, 4, 4, 5, 3, 5, 0, 5, 3, 4, 2, 2, 2, 3, 4, 3, 2, 5, 0, 5, 2, 4, 2, 4, 0, 1, 4, 5, 1, 5, 0, 1, 2, 0, 5, 4, 2, 2, 1, 0, 5, 5, 0, 2, 3, 0, 1, 2, 1, 1, 5, 5, 4, 1, 5, 0, 1, 5, 5, 5, 1, 4, 5, 5, 0, 5, 5, 1, 0, 4, 2, 5, 5, 3, 3, 2, 5, 1, 1, 5, 5, 2, 3, 2, 3, 3, 5, 5, 5, 4, 5, 5, 4, 5, 5, 5, 1, 1, 1, 5, 5, 2, 0, 5, 4, 2, 2, 1, 5, 4, 3, 3, 0, 1, 0, 0, 5, 0, 1, 1, 1, 0, 4, 0, 5, 1, 1, 0, 5, 5, 5, 1, 5, 1, 4, 5, 3, 2, 5, 2, 5, 5, 5, 3, 2, 0, 0, 0, 5, 0, 3, 5, 2, 5, 1, 5, 5, 2, 2, 0, 1, 3, 3, 5, 1, 3, 0, 2, 0, 3, 5, 0, 0, 0, 1, 5, 5, 5, 1, 5, 1, 1, 5, 0, 2, 5, 3, 5, 0, 5, 5, 5, 1, 3, 3, 2, 5, 5, 3, 1, 0, 5, 5, 3, 3, 5, 5, 5, 0, 5, 2, 5, 4, 4, 0, 4, 0, 4, 5, 0, 5, 0, 3, 2, 1, 5, 5, 0, 5, 4, 2, 1, 0, 1, 2, 5, 4, 0, 3, 5, 0, 2, 5, 5, 0, 5, 0, 5, 4, 0, 2, 2, 5, 5, 3, 5, 4, 1, 2, 0, 5, 2, 5, 5, 5, 5, 5, 0, 5, 1, 0, 0, 5, 4, 3, 3, 4, 5, 5, 3, 4, 3, 5, 5, 4, 1, 3, 5, 2, 3, 4, 5, 5, 5, 5, 4, 5, 0, 5, 5, 4, 1, 5, 2, 3, 5, 0, 3, 3, 1, 0, 5, 3, 3, 3, 3, 0, 5, 5, 5, 1, 4, 1, 0, 1, 5, 2, 3, 5, 3, 5, 1, 5, 2, 5, 1, 1, 0, 0, 2, 5, 1, 1, 3, 3, 5, 1, 5, 2, 1, 5, 2, 4, 4, 5, 4, 0, 3, 5, 4, 5, 0, 1, 3, 3, 3, 2, 5, 0, 3, 5, 5, 1, 4, 2, 2, 0, 3, 5, 5, 5, 0, 5, 4, 4, 5, 1, 0, 2, 0, 5, 5, 1, 4, 5, 1, 0, 5, 1, 0, 4, 3, 3, 0, 5, 5, 5, 0, 5, 4, 5, 5, 2, 5, 1, 5, 3, 5, 5, 0, 5, 2, 4, 4, 5, 1, 4, 2, 0, 5, 0, 5, 3, 3, 5, 1, 1, 0, 0, 2, 5, 5, 5, 3, 1, 1, 1, 0, 1, 0, 2, 5, 5, 5, 3, 3, 0, 3, 5, 2, 2, 5, 5, 5, 5, 1, 5, 0, 3, 5, 3, 5, 2, 4, 5, 0, 3, 1, 0, 0, 4, 5, 5, 2, 2, 0, 0, 4, 3, 5, 0, 3, 2, 0, 1, 1, 3, 0, 0, 5, 0, 3, 2, 0, 3, 3, 5, 5, 0, 2, 2, 5, 2, 0, 5, 0, 3, 1, 4, 0, 3, 5, 0, 4, 4, 5, 1, 5, 1, 2, 5, 5, 5, 3, 3, 4, 5, 5, 0, 2, 5, 2, 1, 1, 2, 5, 4, 3, 5, 5, 1, 3, 5, 5, 5, 3, 1, 2, 0, 4, 3, 0, 2, 5, 0, 2, 2, 1, 5, 5, 3, 5, 2, 0, 2, 0, 5, 4, 0, 5, 1, 5, 4, 5, 5, 1, 1, 3, 0, 0, 3, 3, 3, 0, 2, 5, 4, 1, 5, 2, 5, 1, 3, 5, 1, 4, 3, 5, 1, 0, 5, 3, 0, 3, 2, 1, 2, 5, 1, 3, 5, 0, 0, 5, 5, 4, 2, 5, 4, 5, 0, 5, 2, 5, 5, 0, 3, 0, 3, 5, 4, 4, 2, 5, 5, 3, 1, 3, 1, 1, 1, 4, 0, 2, 0, 2, 4, 5, 1, 3, 4, 5, 5, 3, 0, 2, 1, 5, 3, 5, 5, 1, 1, 5, 1, 5, 5, 3, 2, 0, 2, 5, 3, 5, 1, 5, 4, 4, 4, 1, 4, 0, 3, 5, 5, 2, 3, 2, 1, 5, 2, 0, 1, 1, 1, 3, 5, 0, 4, 2, 4, 5, 4, 1, 2, 1, 5, 1, 4, 2, 0, 5, 1, 5, 1, 5, 5, 4, 3, 5, 3, 1, 3, 1, 3, 1, 2, 4, 2, 5, 1, 2, 4, 2, 5, 3, 4, 3, 5, 5, 2, 0, 0, 3, 2, 5, 5, 3, 3, 4, 5, 4, 0, 2, 2, 5, 2, 5, 4, 1, 0, 5, 0, 5, 5, 0, 3, 4, 5, 4, 0, 5, 5, 0, 3, 5, 5, 1, 5, 2, 3, 5, 3, 0, 4, 4, 5, 4, 5, 4, 0, 2, 5, 5, 2, 0, 5, 5, 0, 5, 5, 5, 5, 3, 0, 0, 4, 3, 1, 1, 2, 4, 4, 1, 2, 5, 1, 0, 5, 0, 5, 5, 5, 1, 3, 2, 5, 0, 5, 0, 5, 5, 3, 1, 1, 5, 3, 2, 5, 4, 5, 1, 2, 5, 4, 5, 3, 1, 1, 4, 0, 0, 5, 3, 0, 2, 2, 5, 3, 1, 3, 4, 5, 1, 5, 5, 4, 3, 5, 4, 5, 1, 5, 0, 5, 5, 4, 5, 2, 1, 5, 3, 4, 5, 2, 4, 5, 2, 5, 4, 2, 5, 1, 1, 3, 0, 5, 1, 4, 5, 5, 5, 2, 5, 5, 5, 4, 2, 2, 5, 4, 0, 1, 1, 5, 3, 3, 5, 5, 5, 2, 5, 5, 2, 5, 5, 5, 2, 5, 5, 5, 5, 5, 5, 0, 5, 5, 5, 3, 5, 0, 4, 1, 5, 5, 2, 2, 4, 5, 5, 3, 1, 1, 5, 0, 4, 3, 2, 5, 5, 1, 5, 1, 5, 2, 1, 5, 1, 5, 5, 5, 3, 4, 5, 1, 5, 4, 0, 5, 4, 3, 5, 3, 3, 5, 2, 0, 2, 0, 1, 1, 4, 2, 5, 0, 1, 1, 3, 5, 5, 0, 3, 4, 3, 5, 4, 1, 1, 5, 5, 5, 1, 5, 2, 2, 5, 1, 5, 3, 5, 1, 4, 4, 4, 4, 0, 4, 3, 5, 2, 1, 1, 4, 1, 5, 1, 3, 2, 0, 1, 5, 5, 1, 1, 5, 4, 4, 0, 0, 5, 2, 2, 1, 5, 5, 2, 3, 3, 0, 5, 5, 4, 3, 1, 5, 1, 0, 5, 5, 3, 1, 5, 0, 5, 3, 5, 5, 5, 5, 1, 3, 0, 5, 0, 3, 5, 4, 3, 2, 1, 0, 1, 1, 2, 4, 2, 5, 4, 5, 2, 5, 0, 0, 0, 0, 1, 1, 0, 1, 5, 3, 3, 2, 0, 1, 2, 5, 2, 1, 3, 5, 5, 5, 2, 5, 4, 5, 4, 1, 4, 5, 5, 5, 5, 4, 0, 1, 4, 2, 2, 5, 5, 5, 5, 5, 5, 3, 0, 3, 5, 5, 2, 5, 5, 0, 4, 3, 3, 5, 1, 1, 3, 5, 5, 5, 3, 1, 4, 2, 5, 5, 1, 2, 5, 3, 2, 0, 5, 0, 4, 0, 1, 4, 5, 5, 3, 1, 0, 2, 3, 5, 0, 5, 3, 0, 5, 5, 2, 2, 5, 2, 2, 0, 2, 1, 5, 5, 2, 0, 0, 4, 2, 0, 1, 5, 5, 2, 1, 1, 0, 5, 2, 4, 1, 0, 5, 5, 1, 0, 5, 0, 1, 5, 1, 5, 5, 2, 2, 1, 1, 5, 5, 0, 5, 2, 5, 5, 3, 2, 5, 5, 4, 4, 0, 5, 2, 0, 4, 0, 3, 1, 3, 1, 0, 5, 0, 0, 5, 5, 0, 5, 3, 2, 5, 0, 5, 0, 2, 5, 3, 2, 0, 1, 0, 4, 4, 4, 1, 5, 5, 4, 2, 5, 5, 0, 1, 5, 3, 5, 5, 3, 2, 5, 2, 4, 5, 5, 2, 5, 3, 0, 3, 5, 5, 4, 4, 1, 3, 5, 5, 5, 4, 3, 5, 5, 5, 5, 3, 2, 2, 1, 5, 2, 5, 2, 5, 3, 0, 5, 3, 1, 0, 2, 1, 3, 2, 5, 4, 5, 0, 5, 3, 0, 1, 5, 5, 0, 3, 1, 5, 4, 2, 0, 4, 0, 5, 5, 5, 4, 5, 5, 4, 3, 4, 1, 1, 5, 5, 0, 5, 5, 4, 5, 0, 5, 2, 0, 2, 5, 2, 4, 3, 3, 4, 4, 4, 1, 3, 2, 1, 1, 3, 4, 3, 5, 3, 0, 3, 2, 1, 3, 0, 1, 0, 2, 3, 3, 3, 5, 1, 5, 5, 2, 5, 5, 4, 2, 5, 0, 1, 0, 5, 5, 5, 5, 2, 0, 2, 5, 3, 3, 2, 2, 0, 5, 4, 5, 3, 4, 0, 5, 0, 5, 0, 3, 0, 0, 3, 5, 2, 1, 4, 1, 3, 2, 3, 2, 5, 5, 3, 0, 5, 3, 5, 3, 3, 1, 3, 0, 5, 5, 4, 2, 0, 0, 5, 1, 5, 1, 5, 3, 5, 4, 1, 0, 4, 3, 5, 4, 0, 5, 1, 5, 5, 0, 1, 5, 1, 5, 3, 5, 1, 0, 1, 1, 5, 5, 5, 5, 1, 3, 5, 3, 4, 5, 2, 3, 5, 4, 5, 0, 0, 5, 2, 5, 1, 0, 2, 1, 0, 2, 5, 1, 5, 2, 3, 1, 4, 5, 3, 1, 5, 5, 2, 4, 3, 4, 3, 1, 3, 1, 3, 4, 2, 3, 5, 5, 3, 5, 3, 0, 1, 1, 5, 4, 1, 5, 2, 5, 5, 0, 3, 5, 5, 5, 0, 5, 2, 1, 2, 5, 1, 1, 0, 5, 1, 5, 4, 0, 5, 5, 5, 4, 5, 5, 0, 5, 2, 4, 3, 2, 5, 4, 3, 0, 3, 4, 5, 4, 5, 1, 3, 0, 1, 2, 0, 4, 2, 3, 3, 5, 0, 2, 0, 2, 5, 1, 5, 4, 5, 0, 3, 5, 5, 3, 5, 5, 1, 5, 5, 0, 5, 1, 1, 5, 5, 2, 5, 5, 5, 1, 5, 2, 2, 1, 0, 4, 2, 5, 2, 0, 0, 5, 1, 5, 4, 3, 1, 5, 1, 2, 3, 3, 5, 3, 5, 4, 5, 1, 0, 1, 4, 3, 5, 5, 2, 4, 5, 3, 3, 1, 0, 4, 5, 4, 2, 3, 3, 5, 5, 5, 2, 4, 3, 0, 0, 5, 5, 3, 1, 2, 3, 3, 5, 0, 0, 1, 5, 3, 2, 1, 3, 5, 2, 5, 4, 5, 2, 5, 0, 5, 2, 2, 4, 5, 4, 4, 5, 5, 1, 4, 1, 5, 5, 0, 5, 3, 0, 4, 5, 0, 2, 0, 3, 5, 5, 0, 5, 1, 0, 5, 5, 4, 1, 5, 3, 0, 5, 5, 0, 0, 2, 0, 0, 1, 0, 2, 0, 1, 0, 4, 5, 2, 5, 5, 2, 1, 3, 3, 5, 1, 3, 5, 0, 2, 5, 5, 4, 5, 0, 0, 0, 4, 1, 1, 5, 5, 2, 4, 5, 3, 1, 1, 0, 4, 1, 0, 2, 2, 4, 3, 2, 5, 0, 0, 1, 4, 4, 5, 5, 3, 5, 5, 5, 4, 5, 4, 5, 2, 1, 3, 1, 2, 1, 2, 1, 3, 5, 1, 0, 3, 5, 0, 1, 1, 2, 2, 5, 4, 5, 0, 1, 2, 0, 2, 1, 1, 5, 5, 5, 2, 4, 2, 0, 3, 5, 5, 2, 0, 0, 4, 3, 5, 5, 5, 5, 5, 1, 5, 5, 3, 5, 1, 1, 5, 5, 3, 1, 0, 5, 0, 3, 5, 5, 3, 1, 0, 5, 0, 0, 3, 0, 1, 5, 3, 0, 0, 1, 0, 0, 3, 5, 5, 0, 5, 5, 5, 5, 5, 5, 5, 5, 3, 5, 2, 3, 3, 0, 5, 3, 5, 4, 5, 1, 0, 3, 0, 4, 2, 5, 1, 2, 2, 3, 5, 4, 1, 5, 0, 0, 5, 0, 4, 5, 2, 2, 2, 2, 4, 5, 5, 5, 0, 1, 3, 5, 2, 0, 1, 2, 5, 5, 1, 0, 5, 2, 1, 4, 1, 1, 5, 0, 1, 4, 0, 5, 5, 0, 5, 0, 5, 5, 1, 0, 5, 3, 0, 5, 5, 2, 4, 3, 1, 1, 5, 4, 3, 3, 3, 4, 2, 5, 0, 3, 1, 1, 1, 3, 2, 1, 1, 3, 1, 3, 3, 2, 3, 3, 3, 2, 1, 1, 0, 5, 5, 5, 4, 5, 0, 0, 4, 4, 4, 0, 5, 5, 2, 3, 3, 0, 3, 0, 3, 5, 4, 5, 5, 3, 5, 5, 5, 5, 2, 2, 3, 4, 4, 5, 5, 1, 5, 3, 5, 4, 5, 5, 2, 5, 4, 4, 5, 5, 4, 4, 5, 0, 5, 0, 4, 3, 1, 1, 5, 1, 3, 0, 5, 2, 0, 2, 2, 2, 1, 1, 5, 4, 3, 5, 5, 3, 5, 5, 5, 0, 5, 5, 2, 3, 3, 2, 5, 5, 2, 3, 5, 4, 2, 0, 1, 2, 0, 1, 0, 1, 3, 5, 3, 2, 5, 3, 2, 3, 4, 2, 3, 0, 2, 3, 2, 3, 0, 0, 5, 2, 0, 5, 5, 5, 2, 5, 5, 0, 0, 5, 1, 3, 4, 2, 3, 4, 5, 2, 2, 1, 5, 5, 2, 3, 5, 5, 3, 4, 4, 5, 5, 5, 5, 5, 1, 2, 5, 5, 2, 4, 3, 4, 4, 3, 1, 0, 0, 3, 5, 5, 3, 0, 5, 2, 2, 5, 5, 1, 5, 5, 5, 1, 0, 5, 5, 1, 4, 4, 5, 5, 4, 2, 2, 5, 1, 0, 0, 0, 5, 5, 5, 0, 3, 0, 5, 5, 0, 2, 2, 5, 1, 5, 4, 2, 4, 2, 0, 0, 5, 5, 5, 5, 5, 5, 1, 3, 5, 5, 5, 5, 1, 3, 5, 0, 2, 4, 1, 3, 5, 5, 5, 4, 2, 2, 4, 1, 2, 2, 5, 4, 5, 4, 0, 0, 4, 3, 4, 3, 3, 4, 5, 0, 5, 4, 4, 3, 2, 2, 4, 5, 3, 3, 1, 3, 5, 0, 1, 5, 5, 1, 0, 2, 0, 5, 1, 5, 3, 3, 4, 3, 5, 5, 2, 3, 5, 0, 5, 5, 5, 5, 5, 0, 1, 1, 3, 5, 4, 5, 2, 2, 4, 2, 1, 4, 5, 2, 3, 5, 2, 0, 4, 1, 5, 3, 5, 5, 2, 3, 2, 1, 1, 1, 5, 5, 0, 4, 5, 0, 4, 1, 4, 5, 2, 4, 2, 5, 4, 0, 5, 5, 2, 5, 2, 4, 1, 5, 3, 0, 0, 5, 0, 5, 3, 0, 3, 5, 0, 5, 3, 5, 0, 3, 5, 2, 1, 0, 4, 2, 2, 5, 3, 2, 2, 2, 4, 1, 4, 5, 2, 5, 2, 4, 5, 5, 5, 2, 0, 5, 1, 5, 2, 3, 5, 5, 5, 0, 4, 3, 1, 3, 5, 5, 5, 0, 4, 4, 1, 5, 3, 5, 5, 1, 5, 0, 1, 2, 0, 5, 3, 3, 4, 0, 0, 2, 0, 4, 5, 5, 1, 4, 5, 1, 5, 3, 3, 5, 1, 3, 0, 5, 1, 5, 0, 0, 5, 2, 2, 4, 3, 4, 5, 2, 4, 5, 5, 1, 4, 5, 3, 4, 5, 0, 5, 0, 5, 5, 0, 3, 2, 3, 4, 3, 4, 0, 5, 5, 2, 3, 5, 0, 4, 0, 2, 0, 5, 3, 0, 1, 5, 0, 5, 1, 1, 5, 2, 5, 1, 3, 1, 3, 4, 2, 5, 4, 5, 1, 4, 4, 2, 3, 4, 4, 0, 5, 2, 5, 3, 3, 1, 5, 3, 3, 4, 5, 4, 5, 1, 3, 4, 5, 0, 3, 5, 4, 3, 4, 1, 1, 5, 3, 5, 2, 5, 4, 5, 5, 4, 5, 5, 5, 5, 5, 2, 0, 1, 0, 1, 5, 4, 3, 0, 0, 2, 1, 1, 2, 1, 4, 0, 3, 1, 5, 3, 4, 5, 4, 5, 5, 1, 1, 3, 0, 5, 1, 0, 5, 5, 0, 3, 1, 2, 5, 5, 2, 5, 4, 5, 0, 3, 3, 0, 5, 5, 5, 2, 5, 5, 5, 5, 4, 4, 2, 2, 5, 2, 5, 5, 0, 5, 1, 4, 3, 2, 4, 4, 3, 5, 1, 2, 4, 5, 0, 5, 4, 3, 3, 2, 1, 3, 5, 5, 0, 5, 1, 3, 5, 1, 0, 3, 3, 5, 2, 5, 4, 5, 1, 1, 0, 5, 5, 3, 1, 2, 5, 5, 0, 5, 4, 5, 1, 5, 5, 5, 5, 2, 5, 5, 2, 1, 5, 3, 3, 3, 5, 2, 2, 3, 2, 4, 0, 3, 2, 5, 5, 5, 0, 3, 4, 3, 5, 1, 5, 5, 4, 0, 4, 2, 2, 1, 5, 1, 5, 5, 1, 5, 5, 0, 0, 5, 5, 2, 4, 0, 0, 4, 2, 5, 5, 3, 2, 2, 5, 5, 1, 4, 5, 5, 5, 3, 4, 4, 3, 4, 3, 2, 4, 5, 3, 5, 5, 5, 2, 0, 3, 3, 1, 1, 5, 5, 4, 2, 0, 2, 5, 0, 3, 2, 2, 1, 0, 2, 5, 0, 2, 5, 5, 1, 1, 5, 2, 5, 2, 5, 0, 5, 3, 3, 5, 2, 4, 5, 2, 3, 2, 4, 2, 5, 2, 5, 1, 1, 5, 3, 4, 2, 3, 5, 1, 4, 4, 1, 5, 1, 0, 4, 0, 3, 0, 2, 0, 5, 3, 4, 1, 1, 2, 0, 0, 2, 0, 0, 2, 5, 5, 2, 1, 0, 3, 5, 5, 1, 5, 5, 5, 0, 4, 5, 0, 1, 5, 1, 3, 5, 5, 4, 2, 5, 5, 5, 4, 4, 4, 0, 5, 5, 3, 5, 5, 5, 2, 3, 5, 4, 3, 5, 1, 5, 2, 3, 0, 5, 0, 4, 5, 1, 1, 1, 0, 1, 5, 1, 1, 0, 0, 5, 3, 4, 1, 5, 4, 5, 5, 5, 4, 3, 4, 4, 0, 4, 0, 5, 3, 1, 5, 2, 5, 2, 5, 0, 5, 5, 5, 0, 0, 2, 2, 4, 5, 4, 1, 5, 3, 1, 0, 1, 5, 2, 4, 2, 5, 0, 2, 5, 2, 3, 5, 3, 5, 5, 0, 5, 0, 1, 5, 0, 1, 1, 5, 3, 5, 5, 0, 1, 3, 5, 4, 1, 3, 5, 3, 0, 1, 2, 0, 0, 1, 3, 3, 2, 0, 2, 0, 1, 1, 5, 1, 5, 3, 5, 5, 2, 1, 4, 5, 1, 1, 5, 3, 1, 5, 5, 5, 5, 3, 2, 2, 1, 1, 1, 5, 5, 5, 5, 3, 4, 5, 1, 5, 1, 3, 5, 4, 1, 5, 2, 5, 5, 4, 4, 1, 5, 3, 1, 5, 4, 4, 5, 4, 0, 1, 4, 3, 1, 3, 5, 5, 5, 5, 0, 2, 5, 0, 3, 2, 0, 1, 4, 0, 2, 5, 3, 3, 4, 5, 0, 4, 3, 0, 5, 3, 5, 0, 0, 5, 4, 0, 5, 5, 5, 2, 2, 3, 1, 5, 5, 2, 0, 1, 1, 2, 5, 0, 4, 0, 3, 1, 1, 5, 1, 5, 1, 3, 4, 1, 1, 0, 1, 4, 3, 1, 5, 0, 5, 0, 2, 1, 2, 5, 0, 5, 5, 2, 1, 3, 1, 4, 4, 1, 4, 5, 1, 4, 4, 5, 1, 1, 2, 5, 4, 5, 5, 1, 5, 0, 3, 2, 4, 5, 1, 3, 0, 0, 2, 0, 2, 5, 2, 0, 5, 1, 5, 1, 1, 5, 2, 5, 0, 2, 2, 2, 0, 0, 1, 5, 3, 2, 3, 5, 0, 1, 1, 5, 5, 1, 5, 5, 1, 5, 5, 4, 5, 3, 0, 0, 1, 1, 0, 0, 1, 5, 2, 0, 5, 5, 5, 2, 2, 5, 5, 4, 4, 3, 4, 4, 0, 2, 1, 3, 1, 5, 0, 1, 4, 5, 1, 5, 0, 1, 1, 2, 0, 3, 4, 3, 4, 1, 5, 2, 5, 5, 4, 5, 5, 3, 3, 2, 0, 2, 0, 2, 2, 2, 3, 1, 3, 1, 4, 5, 0, 5, 0, 3, 5, 5, 5, 5, 4, 0, 4, 0, 5, 4, 5, 5, 2, 5, 5, 1, 3, 1, 5, 2, 5, 2, 5, 0, 3, 3, 3, 4, 1, 2, 5, 1, 5, 3, 3, 2, 4, 5, 1, 5, 1, 3, 0, 4, 2, 3, 1, 3, 3, 3, 1, 5, 0, 4, 4, 5, 5, 5, 1, 3, 0, 2, 0, 1, 2, 0, 2, 5, 5, 5, 1, 5, 2, 5, 4, 5, 0, 5, 5, 2, 4, 2, 3, 4, 2, 0, 1, 0, 1, 5, 3, 5, 3, 5, 5, 4, 4, 1, 3, 4, 5, 5, 5, 5, 4, 0, 3, 0, 2, 5, 0, 5, 5, 2, 3, 2, 3, 5, 3, 1, 5, 5, 1, 5, 3, 4, 0, 5, 1, 1, 3, 4, 2, 5, 1, 5, 3, 2, 5, 3, 4, 3, 5, 4, 4, 3, 5, 3, 2, 1, 2, 2, 0, 4, 0, 5, 3, 1, 3, 5, 0, 4, 5, 5, 4, 4, 5, 5, 4, 4, 5, 0, 5, 2, 2, 5, 2, 5, 2, 3, 0, 5, 4, 1, 0, 0, 2, 5, 2, 5, 5, 4, 3, 5, 2, 5, 3, 0, 0, 5, 2, 0, 4, 5, 0, 0, 0, 5, 0, 5, 3, 0, 5, 0, 5, 5, 5, 2, 1, 1, 3, 0, 4, 5, 5, 3, 3, 0, 3, 4, 4, 1, 2, 2, 2, 5, 3, 5, 5, 0, 4, 5, 0, 3, 0, 1, 4, 4, 5, 4, 0, 5, 4, 2, 2, 2, 3, 0, 2, 0, 5, 1, 5, 1, 5, 3, 2, 2, 3, 2, 0, 4, 4, 0, 0, 5, 5, 3, 4, 0, 4, 5, 5, 4, 3, 2, 5, 3, 5, 5, 5, 4, 0, 4, 5, 4, 3, 4, 3, 3, 3, 3, 0, 5, 5, 0, 3, 0, 0, 1, 5, 5, 4, 0, 1, 5, 4, 5, 5, 3, 5, 4, 5, 3, 5, 5, 3, 5, 5, 4, 2, 5, 1, 5, 0, 4, 2, 1, 0, 2, 4, 1, 0, 1, 0, 3, 5, 5, 5, 5, 1, 3, 4, 1, 1, 1, 5, 0, 0, 2, 5, 3, 2, 5, 5, 2, 0, 2, 0, 5, 4, 1, 2, 5, 1, 5, 5, 4, 5, 5, 4, 1, 0, 3, 4, 2, 1, 4, 3, 0, 0, 0, 3, 2, 5, 0, 2, 1, 1, 1, 5, 2, 0, 3, 2, 2, 1, 3, 0, 3, 5, 2, 0, 3, 1, 5, 1, 2, 5, 0, 5, 2, 5, 1, 4, 0, 5, 0, 3, 5, 2, 1, 5, 1, 3, 5, 4, 2, 3, 5, 5, 5, 2, 3, 5, 3, 1, 5, 0, 1, 1, 5, 0, 3, 3, 5, 1, 5, 5, 5, 0, 5, 1, 0, 1, 4, 1, 5, 2, 0, 0, 0, 1, 0, 5, 0, 0, 5, 2, 0, 4, 0, 1, 3, 1, 5, 2, 2, 0, 1, 3, 5, 2, 0, 5, 4, 1, 0, 2, 2, 5, 4, 4, 5, 5, 1, 5, 5, 4, 4, 1, 3, 4, 4, 0, 0, 5, 2, 4, 2, 5, 0, 5, 4, 2, 5, 3, 4, 5, 0, 5, 3, 5, 1, 5, 3, 5, 0, 0, 1, 5, 3, 2, 0, 3, 1, 3, 1, 1, 2, 0, 1, 1, 4, 2, 0, 5, 2, 3, 1, 4, 2, 5, 3, 2, 5, 4, 1, 1, 2, 2, 1, 4, 2, 3, 4, 1, 5, 4, 2, 3, 1, 5, 4, 0, 3, 0, 0, 5, 2, 5, 0, 2, 3, 4, 2, 0, 0, 4, 5, 5, 2, 5, 4, 2, 0, 5, 0, 3, 4, 1, 1, 1, 0, 5, 3, 3, 2, 5, 0, 4, 5, 2, 0, 5, 4, 5, 0, 0, 5, 4, 5, 5, 5, 1, 4, 1, 3, 4, 5, 2, 5, 5, 3, 1, 4, 4, 2, 4, 3, 3, 4, 2, 2, 5, 0, 2, 5, 3, 0, 1, 3, 5, 5, 5, 0, 5, 1, 1, 5, 1, 0, 0, 2, 3, 2, 2, 1, 4, 1, 0, 5, 4, 5, 5, 1, 3, 4, 3, 1, 3, 4, 1, 4, 5, 1, 3, 0, 4, 4, 5, 1, 5, 5, 5, 3, 3, 2, 4, 2, 5, 4, 1, 3, 1, 2, 5, 5, 3, 0, 1, 2, 5, 0, 5, 5, 4, 5, 3, 5, 2, 5, 1, 2, 2, 5, 4, 5, 5, 5, 0, 1, 5, 5, 0, 0, 1, 1, 4, 5, 2, 3, 4, 2, 0, 5, 5, 5, 5, 3, 0, 1, 2, 1, 5, 0, 5, 5, 5, 5, 2, 5, 1, 5, 5, 2, 1, 5, 1, 0, 0, 5, 5, 5, 1, 5, 0, 3, 5, 1, 4, 5, 5, 5, 5, 5, 0, 3, 1, 5, 5, 3, 3, 3, 5, 3, 5, 1, 2, 5, 0, 4, 1, 2, 5, 3, 5, 3, 2, 5, 5, 5, 0, 5, 0, 3, 2, 5, 5, 3, 4, 4, 5, 5, 3, 5, 5, 4, 0, 5, 2, 4, 3, 5, 5, 3, 3, 0, 1, 4, 0, 5, 4, 3, 5, 2, 2, 0, 0, 2, 3, 1, 5, 5, 4, 2, 3, 5, 4, 5, 4, 2, 1, 1, 3, 1, 3, 3, 3, 5, 4, 2, 3, 5, 3, 5, 1, 4, 5, 5, 1, 0, 5, 3, 4, 0, 5, 3, 5, 1, 3, 5, 2, 3, 0, 5, 5, 0, 5, 2, 2, 1, 4, 0, 1, 4, 0, 3, 2, 2, 5, 1, 2, 5, 1, 5, 0, 2, 2, 5, 2, 0, 4, 2, 0, 2, 0, 3, 5, 1, 4, 5, 0, 5, 0, 0, 2, 5, 5, 0, 5, 3, 5, 5, 4, 2, 0, 0, 0, 0, 0, 1, 1, 0, 3, 1, 1, 3, 2, 5, 3, 2, 3, 0, 0, 0, 1, 1, 3, 0, 3, 3, 5, 5, 1, 5, 5, 2, 1, 1, 3, 2, 1, 2, 4, 4, 1, 2, 4, 0, 5, 5, 2, 4, 4, 5, 5, 5, 3, 0, 3, 5, 5, 5, 4, 0, 4, 0, 3, 3, 1, 4, 1, 5, 1, 1, 5, 5, 3, 5, 3, 2, 5, 0, 0, 3, 5, 3, 1, 0, 0, 4, 5, 1, 1, 5, 5, 5, 3, 0, 4, 5, 5, 5, 3, 2, 5, 4, 2, 3, 0, 0, 1, 2, 0, 4, 5, 0, 4, 0, 2, 5, 1, 5, 3, 5, 5, 3, 5, 0, 0, 5, 5, 0, 2, 4, 5, 0, 5, 2, 5, 5, 0, 0, 1, 1, 5, 5, 0, 0, 5, 3, 1, 4, 1, 4, 1, 0, 5, 0, 0, 5, 5, 1, 2, 5, 4, 0, 2, 2, 1, 2, 0, 5, 0, 4, 2, 1, 0, 5, 0, 1, 5, 2, 5, 3, 5, 0, 4, 1, 1, 0, 5, 0, 2, 3, 2, 5, 3, 0, 4, 2, 5, 5, 0, 0, 1, 5, 4, 1, 0, 5, 5, 5, 1, 5, 3, 2, 3, 2, 0, 0, 0, 2, 0, 4, 0, 5, 4, 5, 2, 4, 5, 0, 0, 1, 1, 3, 5, 2, 5, 5, 3, 2, 5, 0, 3, 1, 0, 5, 5, 5, 3, 5, 5, 5, 5, 5, 0, 1, 1, 0, 5, 5, 4, 3, 0, 0, 4, 5, 0, 0, 5, 5, 5, 0, 5, 5, 3, 5, 5, 5, 1, 5, 2, 0, 0, 5, 3, 0, 3, 0, 0, 4, 4, 5, 5, 5, 5, 5, 2, 3, 4, 5, 1, 4, 3, 4, 5, 5, 5, 0, 0, 5, 1, 2, 5, 4, 1, 2, 5, 1, 2, 2, 5, 2, 0, 4, 5, 1, 5, 5, 2, 3, 0, 5, 2, 4, 5, 1, 2, 0, 2, 4, 3, 5, 3, 4, 0, 5, 0, 4, 0, 3, 2, 0, 4, 4, 4, 5, 3, 2, 4, 1, 4, 0, 5, 4, 5, 5, 5, 5, 3, 5, 0, 1, 0, 5, 5, 5, 1, 5, 5, 2, 5, 0, 1, 2, 1, 3, 5, 4, 0, 5, 5, 1, 2, 0, 1, 2, 4, 5, 0, 5, 5, 5, 2, 5, 0, 0, 1, 5, 3, 1, 5, 2, 0, 4, 1, 3, 5, 2, 5, 3, 4, 5, 5, 0, 1, 2, 1, 1, 5, 0, 5, 0, 4, 4, 3, 5, 5, 5, 0, 5, 5, 1, 5, 4, 1, 3, 5, 5, 0, 5, 2, 0, 1, 5, 3, 5, 2, 5, 0, 0, 5, 3, 5, 5, 5, 5, 1, 0, 3, 3, 4, 3, 3, 1, 0, 3, 0, 5, 3, 1, 5, 3, 2, 0, 5, 4, 0, 5, 5, 1, 5, 5, 5, 5, 5, 1, 3, 3, 0, 0, 5, 3, 2, 5, 4, 3, 0, 1, 2, 1, 5, 3, 5, 1, 0, 2, 2, 3, 4, 0, 3, 2, 2, 5, 1, 5, 2, 3, 4, 5, 3, 2, 2, 5, 5, 2, 0, 2, 0, 4, 2, 0, 5, 5, 2, 2, 5, 4, 5, 5, 2, 5, 4, 3, 5, 5, 1, 0, 3, 0, 5, 5, 4, 5, 2, 0, 5, 4, 5, 3, 1, 5, 0, 5, 1, 0, 3, 4, 0, 0, 0, 2, 0, 5, 0, 5, 5, 5, 3, 1, 2, 5, 4, 3, 5, 2, 4, 0, 0, 4, 1, 5, 0, 2, 4, 3, 4, 1, 2, 3, 0, 2, 5, 5, 0, 5, 2, 4, 4, 3, 5, 1, 1, 3, 0, 0, 5, 1, 3, 1, 5, 5, 3, 0, 3, 1, 2, 4, 5, 5, 1, 3, 2, 0, 1, 1, 3, 1, 5, 2, 5, 5, 1, 2, 1, 2, 0, 5, 0, 1, 5, 2, 4, 5, 0, 4, 0, 5, 3, 4, 5, 1, 5, 5, 5, 5, 2, 5, 4, 0, 1, 5, 5, 3, 4, 5, 1, 1, 4, 2, 5, 3, 4, 0, 1, 5, 2, 1, 0, 0, 2, 5, 1, 0, 3, 2, 3, 5, 1, 3, 4, 0, 1, 1, 5, 1, 0, 1, 3, 5, 3, 3, 5, 4, 2, 4, 2, 3, 5, 4, 5, 5, 2, 5, 0, 2, 5, 2, 1, 3, 3, 5, 3, 1, 2, 3, 4, 1, 5, 4, 5, 0, 0, 1, 5, 0, 1, 5, 5, 1, 2, 0, 1, 4, 2, 4, 3, 5, 3, 4, 5, 2, 2, 4, 0, 4, 5, 3, 5, 0, 4, 2, 1, 0, 5, 4, 1, 5, 5, 4, 3, 4, 5, 0, 4, 3, 4, 5, 5, 5, 5, 1, 5, 3, 5, 5, 2, 5, 2, 0, 5, 4, 0, 0, 4, 5, 5, 1, 5, 5, 2, 1, 4, 1, 4, 5, 1, 0, 3, 5, 0, 5, 2, 0, 1, 3, 4, 4, 1, 5, 1, 0, 0, 2, 4, 2, 5, 4, 1, 4, 5, 5, 2, 5, 3, 5, 3, 3, 4, 5, 0, 5, 5, 2, 4, 2, 0, 4, 5, 5, 0, 0, 5, 3, 2, 2, 5, 5, 1, 0, 1, 0, 0, 1, 2, 1, 4, 2, 5, 3, 4, 5, 3, 1, 4, 2, 0, 0, 3, 3, 5, 1, 4, 2, 3, 5, 5, 5, 1, 5, 5, 3, 4, 5, 2, 5, 0, 1, 0, 5, 1, 0, 5, 5, 5, 5, 5, 5, 0, 0, 3, 1, 5, 1, 0, 3, 5, 3, 3, 5, 5, 5, 2, 5, 1, 3, 3, 1, 4, 0, 1, 3, 5, 2, 2, 0, 5, 5, 0, 1, 1, 2, 3, 3, 2, 2, 3, 5, 5, 5, 5, 5, 5, 5, 5, 2, 0, 5, 1, 5, 5, 1, 0, 0, 4, 4, 2, 5, 0, 5, 3, 0, 5, 5, 5, 5, 4, 5, 3, 0, 5, 4, 1, 4, 2, 5, 4, 5, 5, 0, 1, 4, 5, 0, 5, 2, 1, 4, 4, 4, 5, 3, 5, 1, 1, 5, 0, 0, 1, 5, 4, 5, 5, 1, 5, 3, 2, 5, 4, 0, 5, 1, 2, 4, 0, 3, 5, 5, 5, 4, 1, 5, 0, 5, 3, 4, 2, 0, 5, 3, 5, 5, 3, 5, 1, 2, 5, 5, 3, 2, 5, 2, 2, 2, 2, 1, 2, 5, 5, 1, 0, 5, 3, 2, 2, 5, 5, 3, 0, 3, 5, 1, 5, 2, 3, 3, 4, 5, 2, 5, 3, 4, 2, 5, 0, 2, 5, 0, 5, 5, 3, 5, 3, 4, 4, 3, 1, 2, 2, 5, 0, 5, 0, 5, 0, 5, 1, 5, 4, 3, 1, 5, 5, 1, 2, 0, 5, 5, 4, 4, 1, 1, 3, 5, 5, 2, 3, 0, 0, 5, 2, 5, 5, 1, 3, 1, 1, 5, 3, 1, 0, 2, 5, 1, 3, 0, 4, 1, 5, 1, 3, 2, 4, 3, 3, 3, 2, 3, 0, 0, 5, 5, 1, 2, 3, 4, 5, 1, 3, 5, 5, 0, 2, 5, 0, 5, 4, 2, 5, 5, 5, 5, 2, 5, 5, 1, 1, 2, 3, 2, 1, 5, 3, 1, 2, 3, 3, 0, 0, 5, 1, 4, 3, 5, 3, 4, 5, 5, 4, 5, 3, 4, 5, 4, 0, 1, 1, 4, 2, 5, 3, 4, 5, 2, 5, 5, 5, 5, 3, 3, 4, 4, 0, 5, 5, 0, 5, 3, 4, 4, 0, 2, 0, 1, 5, 0, 0, 2, 0, 0, 3, 2, 1, 3, 4, 0, 0, 2, 4, 0, 4, 3, 2, 5, 4, 3, 5, 3, 5, 2, 5, 0, 3, 3, 5, 5, 2, 5, 2, 1, 3, 5, 0, 0, 3, 0, 4, 5, 1, 3, 0, 5, 5, 5, 5, 0, 1, 5, 1, 2, 5, 1, 1, 5, 5, 5, 4, 1, 4, 5, 5, 3, 1, 1, 5, 4, 5, 0, 0, 0, 5, 0, 5, 0, 4, 5, 2, 2, 3, 4, 4, 2, 1, 4, 3, 4, 2, 3, 5, 4, 1, 5, 3, 2, 3, 1, 3, 5, 2, 1, 3, 1, 0, 1, 1, 3, 3, 5, 2, 5, 3, 3, 2, 5, 0, 0, 5, 2, 0, 3, 5, 4, 5, 1, 4, 1, 4, 5, 1, 2, 0, 1, 3, 1, 0, 0, 2, 5, 2, 4, 5, 5, 2, 5, 3, 4, 2, 0, 5, 1, 5, 0, 2, 3, 4, 4, 0, 5, 1, 5, 3, 0, 5, 3, 1, 5, 3, 2, 4, 4, 1, 5, 3, 5, 1, 5, 5, 0, 5, 2, 3, 0, 1, 1, 3, 5, 5, 1, 2, 4, 1, 4, 5, 4, 5, 0, 5, 1, 3, 0, 1, 4, 4, 0, 0, 1, 5, 4, 5, 5, 0, 5, 2, 0, 4, 3, 1, 5, 5, 1, 1, 3, 0, 4, 0, 3, 5, 2, 5, 2, 2, 4, 5, 2, 3, 0, 4, 3, 3, 0, 1, 1, 5, 3, 0, 0, 0, 1, 5, 0, 1, 4, 2, 3, 5, 0, 3, 1, 3, 5, 5, 4, 3, 5, 5, 0, 2, 5, 2, 5, 5, 5, 0, 4, 5, 1, 0, 0, 5, 5, 1, 4, 5, 3, 0, 5, 5, 3, 5, 2, 2, 3, 5, 3, 3, 0, 1, 5, 5, 3, 5, 5, 2, 2, 0, 5, 1, 1, 5, 0, 3, 3, 3, 3, 0, 3, 1, 3, 1, 5, 0, 0, 1, 2, 4, 4, 0, 0, 3, 3, 5, 5, 2, 5, 4, 2, 2, 4, 5, 1, 2, 5, 5, 5, 5, 4, 3, 4, 4, 4, 5, 0, 2, 1, 5, 5, 3, 5, 5, 5, 3, 2, 1, 1, 3, 3, 2, 3, 5, 4, 0, 4, 3, 5, 5, 1, 4, 3, 1, 4, 5, 1, 3, 0, 5, 4, 4, 4, 1, 0, 0, 2, 5, 5, 1, 2, 0, 2, 5, 5, 4, 4, 1, 0, 5, 5, 5, 0, 0, 0, 4, 1, 3, 3, 0, 5, 2, 0, 3, 1, 1, 0, 3, 3, 0, 2, 1, 5, 1, 5, 0, 3, 5, 3, 5, 2, 3, 2, 4, 5, 2, 5, 5, 5, 3, 3, 0, 4, 0, 2, 5, 0, 3, 5, 2, 2, 1, 4, 5, 3, 3, 5, 1, 5, 5, 0, 1, 5, 3, 3, 5, 5, 0, 2, 1, 0, 5, 3, 3, 1, 5, 5, 5, 1, 5, 5, 5, 0, 3, 2, 0, 3, 4, 0, 4, 5, 2, 5, 1, 5, 3, 1, 5, 1, 2, 3, 5, 0, 2, 5, 5, 4, 4, 5, 5, 4, 2, 2, 4, 1, 1, 5, 5, 3, 5, 2, 3, 1, 5, 1, 3, 2, 5, 0, 1, 3, 5, 5, 3, 4, 3, 3, 2, 3, 3, 5, 4, 4, 1, 5, 2, 5, 5, 5, 1, 4, 1, 0, 0, 1, 0, 3, 3, 5, 4, 4, 1, 2, 0, 3, 3, 4, 5, 4, 5, 0, 5, 5, 4, 4, 4, 5, 4, 0, 4, 4, 5, 2, 2, 5, 3, 5, 5, 4, 2, 0, 4, 2, 2, 2, 2, 0, 1, 5, 1, 3, 4, 2, 5, 5, 1, 3, 2, 5, 1, 1, 5, 5, 5, 5, 0, 1, 4, 0, 1, 2, 5, 1, 4, 4, 2, 3, 2, 2, 0, 0, 5, 3, 4, 4, 3, 1, 4, 4, 2, 3, 5, 1, 5, 0, 5, 5, 1, 5, 0, 1, 0, 5, 3, 5, 3, 0, 5, 5, 5, 0, 5, 5, 3, 1, 0, 0, 1, 3, 2, 4, 3, 2, 1, 5, 1, 5, 2, 2, 0, 1, 5, 0, 5, 5, 1, 1, 5, 0, 5, 0, 1, 4, 4, 1, 3, 3, 5, 5, 4, 5, 4, 1, 5, 5, 5, 5, 3, 1, 1, 3, 1, 3, 4, 3, 5, 5, 4, 1, 2, 3, 5, 4, 5, 2, 0, 0, 2, 5, 5, 5, 2, 1, 2, 4, 5, 0, 1, 5, 0, 5, 2, 1, 5, 3, 5, 5, 4, 0, 4, 0, 3, 5, 4, 5, 1, 2, 5, 5, 2, 4, 5, 2, 0, 2, 1, 5, 5, 5, 1, 4, 5, 5, 5, 5, 5, 3, 5, 2, 4, 5, 5, 2, 3, 5, 5, 0, 4, 5, 1, 2, 0, 0, 5, 0, 3, 4, 0, 0, 5, 0, 5, 0, 0, 3, 2, 5, 3, 2, 5, 4, 5, 1, 3, 4, 2, 1, 1, 4, 5, 0, 0, 1, 4, 4, 2, 5, 4, 2, 4, 1, 1, 5, 2, 2, 2, 5, 3, 5, 3, 2, 5, 2, 2, 1, 4, 5, 5, 1, 4, 5, 5, 4, 5, 3, 2, 5, 0, 4, 0, 1, 0, 5, 3, 1, 3, 5, 0, 3, 2, 3, 5, 2, 5, 5, 1, 2, 5, 5, 4, 1, 5, 5, 0, 0, 1, 1, 5, 2, 5, 4, 0, 5, 3, 2, 5, 1, 3, 3, 4, 5, 4, 5, 5, 5, 1, 5, 5, 5, 5, 2, 0, 5, 5, 4, 4, 2, 0, 3, 2, 5, 4, 5, 5, 2, 3, 1, 5, 1, 2, 4, 4, 0, 5, 4, 4, 1, 1, 0, 1, 2, 5, 5, 5, 5, 5, 4, 5, 0, 4, 3, 1, 1, 1, 5, 2, 3, 5, 4, 1, 1, 4, 5, 4, 1, 5, 4, 0, 3, 4, 3, 2, 1, 5, 5, 4, 1, 2, 1, 5, 4, 5, 1, 3, 2, 0, 0, 5, 5, 0, 5, 0, 4, 1, 5, 3, 1, 5, 2, 1, 2, 0, 2, 4, 3, 1, 5, 2, 5, 1, 1, 1, 4, 0, 1, 2, 5, 3, 0, 2, 3, 3, 2, 5, 5, 0, 5, 5, 0, 5, 2, 4, 0, 5, 5, 3, 0, 1, 5, 2, 5, 1, 0, 0, 3, 0, 5, 1, 4, 5, 5, 3, 3, 0, 3, 0, 4, 1, 3, 5, 1, 0, 4, 5, 1, 1, 5, 5, 3, 3, 5, 2, 1, 5, 0, 5, 0, 5, 5, 5, 1, 5, 5, 0, 0, 3, 1, 0, 1, 3, 3, 2, 5, 5, 5, 5, 2, 5, 3, 5, 5, 4, 5, 2, 5, 1, 2, 5, 1, 0, 5, 5, 5, 0, 2, 4, 0, 1, 5, 3, 2, 1, 5, 5, 1, 2, 0, 5, 1, 5, 0, 3, 0, 5, 5, 0, 5, 0, 5, 1, 2, 1, 1, 4, 0, 2, 3, 3, 5, 1, 0, 5, 5, 3, 3, 1, 5, 0, 4, 3, 2, 3, 5, 5, 4, 0, 5, 3, 2, 0, 1, 5, 5, 1, 5, 0, 1, 4, 1, 2, 0, 0, 2, 0, 5, 5, 5, 2, 2, 1, 3, 5, 1, 0, 5, 5, 3, 2, 0, 1, 5, 5, 5, 5, 3, 5, 1, 5, 3, 3, 3, 4, 5, 5, 0, 5, 1, 2, 0, 2, 0, 3, 5, 5, 5, 3, 5, 5, 3, 4, 5, 1, 0, 1, 5, 2, 2, 5, 5, 0, 3, 2, 2, 4, 2, 4, 0, 0, 5, 5, 1, 0, 5, 0, 4, 4, 5, 5, 4, 5, 0, 2, 2, 5, 2, 5, 3, 5, 2, 0, 5, 3, 0, 0, 5, 4, 0, 2, 3, 1, 5, 1, 5, 5, 5, 3, 1, 4, 0, 4, 4, 0, 3, 2, 2, 1, 1, 2, 5, 1, 1, 5, 1, 5, 5, 3, 1, 1, 5, 1, 1, 0, 3, 1, 0, 3, 0, 0, 5, 1, 2, 4, 2, 5, 4, 3, 1, 5, 5, 5, 5, 1, 2, 5, 0, 4, 2, 5, 3, 3, 0, 0, 5, 5, 5, 4, 0, 5, 5, 5, 5, 3, 2, 1, 5, 4, 5, 2, 0, 2, 3, 5, 5, 3, 1, 5, 5, 4, 3, 0, 4, 1, 2, 0, 0, 0, 4, 1, 5, 3, 5, 5, 5, 5, 5, 2, 5, 1, 0, 3, 5, 5, 2, 0, 2, 0, 5, 3, 4, 3, 2, 4, 5, 1, 1, 5, 5, 5, 5, 1, 5, 1, 5, 5, 5, 2, 5, 5, 3, 1, 0, 0, 4, 0, 1, 2, 5, 5, 2, 5, 4, 4, 0, 5, 2, 0, 2, 4, 1, 2, 5, 2, 0, 3, 0, 3, 1, 3, 4, 5, 2, 1, 5, 1, 5, 0, 2, 5, 2, 3, 2, 5, 5, 4, 5, 5, 0, 3, 1, 5, 3, 1, 1, 1, 4, 1, 4, 0, 3, 0, 1, 0, 1, 1, 0, 1, 5, 3, 1, 5, 2, 2, 5, 0, 0, 5, 4, 1, 2, 3, 5, 5, 3, 5, 2, 1, 2, 1, 5, 5, 5, 0, 4, 2, 2, 5, 4, 2, 1, 5, 1, 1, 0, 0, 1, 5, 3, 0, 5, 2, 4, 2, 3, 4, 5, 0, 4, 5, 3, 1, 3, 5, 0, 3, 4, 0, 0, 5, 3, 0, 1, 1, 5, 3, 4, 5, 5, 0, 5, 0, 1, 3, 3, 5, 1, 5, 3, 5, 0, 0, 1, 1, 4, 5, 0, 4, 5, 4, 5, 2, 0, 5, 5, 1, 5, 5, 1, 5, 5, 5, 5, 5, 0, 1, 4, 4, 5, 5, 4, 0, 2, 5, 3, 1, 4, 0, 5, 5, 1, 2, 1, 5, 2, 4, 3, 4, 5, 2, 4, 5, 4, 3, 5, 0, 4, 5, 5, 5, 2, 0, 0, 5, 5, 0, 2, 1, 4, 3, 1, 0, 2, 2, 5, 5, 0, 0, 5, 3, 3, 3, 3, 5, 5, 5, 3, 5, 5, 5, 5, 5, 0, 1, 4, 0, 2, 4, 4, 4, 2, 2, 3, 1, 5, 5, 2, 4, 5, 5, 2, 3, 0, 0, 5, 2, 0, 5, 1, 3, 3, 0, 3, 0, 0, 5, 5, 5, 5, 5, 1, 4, 5, 5, 0, 3, 2, 2, 3, 5, 1, 5, 2, 5, 4, 1, 4, 5, 1, 4, 0, 2, 0, 1, 5, 5, 3, 3, 5, 5, 5, 5, 5, 5, 5, 3, 5, 2, 1, 0, 5, 0, 1, 1, 5, 4, 5, 3, 5, 3, 2, 0, 0, 0, 1, 5, 5, 1, 0, 5, 4, 3, 1, 5, 3, 5, 4, 5, 3, 3, 5, 2, 1, 5, 3, 4, 1, 5, 5, 2, 5, 5, 2, 3, 0, 3, 3, 5, 0, 0, 3, 5, 3, 5, 5, 4, 4, 5, 2, 4, 5, 3, 5, 1, 0, 3, 0, 4, 4, 3, 2, 2, 5, 5, 4, 1, 5, 3, 2, 3, 3, 4, 3, 5, 5, 3, 5, 5, 4, 5, 4, 3, 5, 3, 2, 5, 2, 5, 4, 5, 4, 0, 4, 0, 1, 2, 4, 0, 5, 1, 5, 3, 0, 5, 5, 0, 0, 0, 1, 5, 3, 0, 5, 1, 5, 1, 5, 5, 4, 5, 5, 5, 1, 1, 2, 1, 0, 0, 2, 0, 4, 5, 5, 5, 4, 2, 0, 4, 5, 0, 5, 1, 5, 5, 3, 5, 4, 5, 0, 0, 3, 5, 5, 5, 3, 1, 1, 1, 5, 5, 2, 4, 5, 5, 5, 0, 1, 3, 5, 4, 2, 3, 1, 5, 1, 4, 1, 0, 5, 1, 5, 0, 2, 4, 5, 0, 5, 2, 0, 5, 0, 0, 0, 0, 4, 5, 5, 1, 2, 3, 3, 4, 5, 2, 5, 4, 2, 5, 5, 2, 5, 3, 0, 5, 2, 3, 1, 5, 4, 3, 4, 4, 1, 4, 5, 5, 5, 2, 0, 3, 2, 2, 2, 5, 5, 3, 3, 1, 0, 1, 5, 5, 0, 5, 4, 5, 5, 5, 5, 2, 4, 4, 2, 5, 3, 5, 4, 5, 5, 0, 5, 3, 3, 0, 2, 4, 5, 3, 3, 2, 5, 5, 0, 5, 3, 4, 4, 4, 4, 0, 5, 5, 2, 2, 3, 0, 1, 4, 5, 5, 3, 2, 0, 1, 2, 2, 3, 5, 3, 5, 5, 0, 5, 0, 5, 5, 2, 0, 2, 2, 2, 2, 5, 4, 5, 5, 2, 3, 5, 3, 0, 3, 4, 4, 5, 4, 2, 5, 1, 4, 3, 3, 5, 5, 5, 0, 3, 4, 5, 0, 5, 1, 0, 3, 4, 0, 4, 2, 2, 0, 0, 5, 5, 5, 0, 4, 5, 3, 5, 4, 3, 5, 3, 0, 0, 4, 0, 2, 5, 3, 3, 0, 5, 1, 1, 0, 5, 2, 5, 3, 3, 0, 0, 3, 1, 0, 3, 5, 5, 5, 1, 3, 4, 3, 0, 5, 1, 3, 2, 5, 3, 1, 4, 0, 1, 1, 2, 2, 0, 4, 4, 2, 2, 4, 0, 5, 5, 3, 5, 4, 5, 0, 5, 3, 1, 5, 4, 3, 5, 0, 4, 0, 5, 1, 3, 3, 1, 5, 2, 5, 2, 5, 0, 5, 0, 5, 3, 0, 5, 3, 1, 5, 1, 5, 4, 3, 1, 1, 3, 0, 0, 2, 1, 0, 5, 3, 5, 5, 1, 5, 5, 0, 5, 2, 2, 4, 1, 5, 3, 5, 3, 4, 5, 3, 1, 3, 2, 5, 5, 5, 5, 2, 2, 1, 3, 1, 3, 3, 5, 3, 5, 1, 5, 3, 0, 0, 4, 4, 3, 0, 5, 5, 5, 5, 3, 1, 0, 5, 5, 3, 0, 5, 2, 1, 5, 3, 5, 5, 5, 5, 3, 2, 3, 5, 0, 5, 5, 3, 3, 5, 5, 4, 1, 2, 5, 0, 0, 2, 2, 5, 5, 1, 5, 5, 5, 5, 2, 3, 5, 1, 4, 0, 5, 1, 3, 4, 5, 0, 2, 5, 0, 3, 2, 1, 5, 5, 1, 5, 1, 4, 3, 2, 5, 0, 3, 1, 5, 0, 3, 3, 5, 0, 2, 1, 4, 4, 5, 2, 2, 4, 5, 0, 5, 0, 5, 4, 2, 0, 0, 2, 0, 5, 0, 3, 5, 1, 5, 2, 5, 4, 0, 5, 0, 1, 2, 5, 5, 4, 5, 0, 5, 1, 1, 5, 0, 2, 4, 0, 0, 3, 5, 3, 0, 3, 5, 5, 2, 5, 3, 5, 5, 5, 3, 5, 0, 4, 1, 1, 0, 1, 2, 0, 0, 3, 5, 4, 2, 2, 4, 1, 1, 5, 0, 1, 4, 4, 4, 2, 5, 4, 5, 4, 0, 0, 3, 0, 0, 1, 5, 1, 4, 5, 1, 5, 5, 0, 0, 5, 4, 2, 5, 5, 5, 3, 2, 5, 1, 0, 3, 4, 5, 0, 1, 4, 1, 5, 2, 5, 3, 5, 5, 5, 1, 4, 5, 1, 4, 2, 3, 0, 3, 2, 1, 1, 3, 4, 2, 5, 5, 1, 1, 5, 5, 1, 4, 3, 5, 5, 4, 4, 3, 5, 1, 0, 4, 3, 4, 5, 5, 2, 4, 0, 2, 0, 0, 5, 3, 4, 5, 5, 3, 2, 2, 1, 1, 0, 5, 5, 5, 4, 0, 4, 2, 4, 5, 1, 2, 5, 0, 5, 5, 5, 1, 2, 1, 3, 4, 1, 5, 5, 2, 1, 2, 2, 4, 5, 5, 0, 5, 1, 1, 1, 4, 0, 5, 5, 4, 3, 5, 5, 2, 1, 4, 0, 0, 5, 3, 2, 1, 4, 5, 5, 0, 5, 1, 5, 5, 1, 5, 0, 5, 2, 0, 0, 5, 4, 5, 4, 5, 0, 1, 1, 2, 0, 4, 1, 0, 2, 1, 5, 0, 3, 0, 1, 1, 3, 2, 3, 3, 4, 5, 1, 1, 1, 1, 5, 1, 5, 5, 4, 3, 5, 5, 2, 5, 0, 0, 1, 3, 2, 0, 3, 3, 5, 3, 2, 3, 3, 4, 2, 5, 5, 2, 1, 0, 2, 0, 2, 5, 5, 4, 5, 4, 5, 5, 2, 3, 5, 4, 0, 5, 5, 2, 1, 4, 0, 5, 4, 5, 4, 0, 5, 0, 4, 4, 3, 5, 5, 0, 0, 0, 0, 5, 4, 0, 1, 3, 5, 1, 3, 0, 5, 5, 1, 5, 3, 1, 1, 5, 4, 0, 3, 5, 5, 3, 0, 1, 4, 1, 3, 5, 5, 3, 1, 5, 5, 5, 5, 3, 5, 2, 4, 5, 4, 5, 0, 5, 5, 4, 1, 4, 3, 2, 5, 1, 0, 5, 2, 0, 1, 0, 5, 5, 0, 1, 0, 5, 3, 4, 1, 0, 5, 4, 5, 4, 5, 1, 3, 4, 3, 0, 5, 1, 3, 5, 1, 5, 0, 1, 2, 2, 5, 5, 0, 2, 5, 5, 4, 4, 4, 1, 3, 3, 4, 4, 5, 3, 4, 0, 5, 1, 5, 2, 5, 3, 5, 3, 1, 4, 4, 4, 4, 4, 1, 1, 5, 0, 1, 3, 5, 3, 5, 4, 2, 4, 0, 1, 1, 5, 5, 2, 4, 1, 5, 4, 4, 4, 1, 5, 5, 5, 1, 4, 4, 0, 1, 3, 0, 4, 3, 1, 5, 2, 5, 3, 3, 5, 5, 5, 0, 5, 4, 3, 2, 1, 5, 0, 5, 5, 5, 3, 2, 5, 5, 2, 1, 0, 5, 5, 4, 5, 0, 3, 5, 4, 0, 4, 1, 4, 0, 1, 4, 2, 0, 3, 0, 5, 5, 5, 1, 2, 1, 2, 5, 4, 0, 2, 0, 1, 5, 5, 0, 2, 5, 1, 3, 5, 2, 4, 1, 5, 2, 1, 5, 5, 5, 2, 2, 5, 2, 3, 0, 1, 2, 5, 3, 5, 1, 3, 5, 5, 2, 5, 5, 5, 2, 5, 0, 5, 5, 3, 3, 3, 5, 2, 5, 0, 2, 5, 1, 5, 2, 5, 5, 5, 5, 1, 5, 5, 5, 5, 5, 3, 5, 5, 4, 3, 5, 2, 0, 4, 0, 5, 5, 4, 0, 2, 3, 5, 3, 3, 5, 1, 0, 5, 0, 5, 0, 3, 0, 5, 5, 1, 2, 0, 0, 4, 4, 5, 2, 3, 5, 2, 2, 5, 1, 3, 5, 3, 2, 1, 5, 5, 5, 2, 3, 4, 1, 1, 2, 5, 0, 0, 0, 1, 1, 0, 5, 4, 4, 2, 4, 4, 5, 0, 5, 1, 4, 5, 5, 1, 3, 4, 0, 0, 5, 5, 4, 5, 5, 5, 0, 3, 5, 5, 1, 5, 5, 5, 4, 4, 5, 3, 2, 0, 1, 3, 5, 0, 1, 3, 3, 2, 2, 1, 1, 5, 5, 2, 2, 3, 3, 1, 5, 3, 0, 2, 5, 0, 4, 3, 3, 3, 0, 1, 0, 2, 5, 4, 4, 2, 3, 2, 0, 5, 5, 5, 5, 2, 4, 2, 5, 2, 3, 5, 5, 5, 5, 5, 1, 4, 5, 5, 1, 1, 2, 5, 0, 5, 2, 3, 5, 1, 3, 5, 0, 0, 5, 5, 0, 1, 5, 5, 1, 5, 5, 5, 5, 1, 5, 5, 1, 0, 1, 1, 4, 5, 0, 0, 5, 5, 5, 2, 5, 4, 1, 5, 1, 0, 5, 1, 0, 0, 4, 0, 5, 4, 4, 1, 0, 0, 0, 2, 5, 0, 5, 4, 1, 1, 5, 5, 3, 0, 1, 5, 5, 5, 2, 5, 4, 0, 5, 4, 0, 5, 1, 5, 1, 5, 3, 5, 0, 5, 0, 3, 1, 3, 1, 5, 0, 5, 2, 3, 3, 1, 5, 1, 1, 1, 5, 1, 5, 4, 5, 5, 2, 1, 5, 1, 5, 3, 2, 1, 2, 4, 1, 5, 0, 0, 1, 2, 2, 1, 1, 0, 4, 1, 0, 5, 1, 0, 2, 0, 0, 1, 4, 0, 5, 1, 1, 2, 5, 0, 5, 3, 5, 2, 5, 4, 5, 0, 5, 0, 5, 4, 5, 0, 4, 3, 2, 5, 4, 0, 0, 4, 5, 5, 5, 3, 3, 5, 0, 5, 0, 5, 0, 4, 5, 0, 5, 0, 3, 0, 4, 4, 5, 3, 3, 5, 4, 5, 5, 4, 3, 5, 2, 2, 1, 5, 5, 1, 2, 5, 5, 0, 3, 5, 2, 4, 5, 0, 3, 2, 5, 0, 5, 1, 2, 1, 5, 5, 3, 5, 5, 3, 5, 3, 4, 2, 4, 1, 3, 5, 5, 4, 0, 5, 1, 0, 4, 0, 0, 0, 5, 5, 2, 5, 2, 1, 1, 0, 0, 5, 2, 1, 0, 3, 2, 0, 0, 5, 3, 5, 2, 5, 5, 1, 5, 5, 3, 4, 2, 4, 2, 1, 5, 5, 1, 5, 3, 4, 2, 2, 5, 2, 5, 1, 0, 1, 1, 5, 5, 5, 3, 0, 5, 4, 5, 4, 0, 4, 5, 3, 0, 5, 4, 1, 0, 5, 3, 4, 3, 2, 1, 3, 2, 1, 2, 5, 3, 3, 3, 5, 0, 5, 5, 5, 2, 5, 5, 2, 2, 5, 5, 5, 5, 0, 3, 4, 1, 5, 4, 1, 0, 2, 4, 4, 5, 5, 5, 3, 3, 2, 2, 5, 3, 1, 3, 1, 2, 5, 4, 5, 2, 2, 2, 5, 5, 4, 5, 3, 0, 5, 1, 5, 5, 5, 0, 5, 5, 4, 2, 2, 2, 5, 4, 4, 5, 5, 5, 0, 5, 3, 5, 0, 5, 5, 5, 2, 5, 3, 4, 0, 1, 0, 2, 2, 1, 5, 2, 5, 5, 3, 2, 4, 3, 3, 5, 0, 5, 4, 5, 0, 5, 1, 3, 4, 1, 4, 5, 0, 5, 0, 5, 1, 5, 2, 5, 2, 5, 5, 4, 0, 1, 2, 4, 2, 2, 4, 3, 1, 5, 5, 4, 3, 2, 5, 3, 5, 4, 3, 2, 5, 0, 5, 0, 2, 0, 3, 1, 4, 5, 3, 1, 1, 0, 0, 3, 2, 5, 0, 5, 5, 5, 5, 5, 4, 5, 1, 5, 1, 3, 5, 5, 1, 2, 2, 5, 5, 3, 2, 2, 5, 3, 3, 0, 0, 5, 5, 3, 1, 0, 5, 0, 1, 5, 5, 5, 3, 4, 4, 3, 3, 1, 0, 3, 5, 5, 0, 5, 0, 2, 1, 5, 5, 1, 2, 0, 5, 3, 0, 5, 0, 4, 2, 4, 0, 5, 3, 4, 4, 0, 5, 5, 4, 0, 0, 1, 5, 0, 3, 3, 5, 1, 1, 3, 0, 3, 2, 0, 4, 5, 3, 0, 5, 3, 5, 5, 5, 3, 0, 0, 4, 5, 2, 2, 5, 2, 0, 4, 0, 0, 4, 5, 2, 2, 1, 4, 5, 3, 1, 0, 3, 3, 1, 4, 5, 3, 1, 0, 1, 3, 5, 1, 5, 2, 5, 5, 5, 3, 3, 0, 5, 4, 4, 2, 4, 5, 2, 5, 2, 0, 4, 0, 5, 3, 5, 1, 5, 2, 2, 2, 5, 5, 5, 4, 1, 5, 3, 4, 3, 0, 5, 0, 1, 0, 5, 3, 5, 3, 5, 5, 5, 5, 2, 5, 0, 3, 4, 1, 4, 4, 3, 2, 5, 5, 2, 3, 5, 0, 1, 3, 4, 5, 3, 3, 2, 5, 0, 2, 5, 5, 2, 1, 2, 2, 5, 3, 4, 5, 5, 5, 3, 0, 1, 5, 4, 3, 3, 0, 5, 4, 0, 5, 5, 3, 5, 5, 1, 5, 5, 3, 2, 3, 5, 5, 5, 1, 3, 5, 1, 4, 2, 2, 3, 5, 4, 0, 5, 5, 4, 1, 3, 4, 1, 1, 5, 5, 5, 2, 5, 4, 3, 1, 2, 5, 5, 4, 3, 0, 1, 5, 3, 5, 4, 5, 2, 5, 5, 3, 5, 0, 3, 5, 1, 4, 4, 0, 1, 2, 0, 0, 0, 2, 1, 2, 4, 2, 2, 5, 5, 1, 3, 3, 2, 3, 3, 2, 1, 1, 1, 5, 5, 1, 0, 0, 0, 4, 5, 1, 4, 0, 5, 5, 1, 5, 5, 0, 5, 0, 3, 3, 0, 1, 4, 0, 4, 5, 3, 3, 4, 4, 4, 5, 5, 5, 4, 5, 5, 5, 2, 3, 1, 1, 0, 5, 1, 0, 0, 2, 1, 1, 3, 3, 2, 5, 3, 5, 1, 5, 4, 3, 5, 0, 1, 0, 2, 5, 2, 5, 5, 5, 5, 5, 1, 0, 5, 5, 1, 0, 5, 5, 1, 0, 2, 2, 2, 5, 5, 0, 4, 5, 2, 3, 1, 3, 3, 5, 0, 1, 1, 1, 1, 5, 5, 2, 4, 1, 5, 0, 2, 5, 1, 5, 5, 1, 5, 5, 3, 3, 5, 4, 5, 0, 1, 5, 2, 4, 2, 2, 5, 5, 5, 5, 2, 5, 3, 2, 5, 5, 5, 3, 5, 0, 1, 4, 5, 0, 5, 5, 5, 1, 5, 5, 5, 5, 5, 1, 1, 2, 0, 1, 0, 1, 5, 0, 5, 5, 1, 0, 2, 5, 3, 0, 5, 2, 2, 0, 1, 5, 0, 4, 5, 2, 5, 0, 0, 0, 3, 5, 5, 5, 3, 2, 5, 5, 5, 5, 3, 4, 2, 4, 2, 5, 5, 1, 4, 1, 4, 5, 1, 3, 1, 1, 2, 1, 4, 1, 1, 2, 1, 5, 4, 2, 4, 3, 0, 1, 5, 5, 5, 0, 4, 5, 5, 5, 0, 3, 4, 5, 1, 4, 1, 3, 5, 1, 3, 4, 3, 2, 5, 0, 4, 5, 0, 0, 5, 5, 0, 0, 4, 4, 5, 3, 0, 0, 3, 0, 2, 2, 5, 0, 3, 1, 4, 3, 0, 2, 5, 2, 2, 0, 5, 2, 4, 2, 5, 0, 1, 4, 5, 5, 5, 0, 1, 5, 1, 2, 5, 4, 4, 5, 4, 1, 4, 3, 0, 5, 3, 1, 4, 5, 0, 4, 5, 2, 5, 2, 1, 5, 2, 5, 0, 0, 5, 1, 5, 3, 1, 5, 5, 5, 5, 3, 5, 2, 3, 5, 0, 2, 2, 3, 4, 3, 5, 3, 3, 5, 5, 1, 2, 2, 1, 0, 2, 4, 5, 5, 5, 5, 5, 4, 2, 0, 1, 5, 3, 1, 3, 2, 2, 2, 4, 3, 0, 1, 5, 5, 0, 5, 5, 5, 5, 3, 2, 5, 5, 5, 2, 0, 5, 2, 2, 1, 4, 5, 5, 1, 2, 5, 0, 3, 5, 0, 5, 3, 3, 3, 0, 2, 5, 0, 0, 5, 5, 4, 2, 4, 5, 0, 0, 2, 2, 2, 5, 5, 3, 5, 2, 5, 2, 5, 1, 2, 5, 5, 5, 5, 4, 5, 4, 5, 5, 3, 1, 4, 3, 5, 1, 2, 5, 4, 4, 0, 2, 1, 0, 1, 4, 5, 0, 5, 5, 4, 5, 2, 4, 1, 0, 5, 5, 0, 4, 1, 5, 5, 2, 1, 4, 3, 0, 2, 5, 3, 3, 1, 5, 4, 5, 2, 1, 3, 0, 3, 5, 0, 2, 4, 5, 2, 3, 1, 4, 5, 2, 5, 1, 5, 5, 5, 5, 1, 5, 1, 4, 4, 3, 0, 5, 5, 5, 1, 2, 3, 3, 5, 1, 5, 0, 3, 5, 2, 0, 4, 0, 4, 1, 0, 0, 1, 5, 3, 3, 1, 1, 4, 2, 5, 0, 5, 4, 3, 2, 5, 3, 3, 4, 5, 2, 1, 1, 1, 2, 5, 0, 1, 1, 5, 5, 2, 0, 4, 5, 2, 2, 1, 0, 4, 2, 5, 3, 0, 3, 0, 5, 3, 2, 2, 1, 2, 5, 4, 1, 3, 0, 5, 1, 4, 5, 4, 5, 5, 2, 2, 1, 5, 4, 1, 5, 5, 5, 2, 4, 4, 5, 1, 5, 2, 5, 4, 2, 5, 5, 5, 2, 0, 0, 2, 5, 3, 5, 4, 5, 5, 4, 2, 3, 5, 5, 4, 3, 5, 3, 0, 0, 5, 2, 5, 5, 4, 2, 2, 5, 2, 5, 5, 5, 5, 3, 5, 3, 5, 0, 2, 5, 4, 5, 2, 1, 1, 5, 5, 4, 3, 0, 5, 0, 3, 1, 0, 0, 0, 1, 4, 1, 4, 2, 3, 1, 5, 4, 0, 3, 0, 4, 0, 0, 1, 1, 1, 3, 3, 4, 2, 1, 1, 3, 3, 0, 3, 3, 4, 5, 2, 3, 0, 5, 5, 5, 5, 0, 3, 0, 5, 2, 2, 3, 1, 1, 3, 5, 5, 0, 3, 5, 2, 2, 5, 5, 5, 1, 5, 5, 5, 1, 3, 0, 0, 5, 5, 4, 0, 0, 0, 2, 1, 3, 5, 2, 2, 2, 0, 5, 5, 5, 4, 4, 5, 3, 4, 0, 5, 3, 2, 5, 5, 3, 0, 0, 3, 5, 2, 0, 4, 1, 1, 2, 5, 2, 1, 4, 2, 1, 4, 5, 2, 1, 5, 0, 0, 5, 5, 3, 5, 2, 5, 5, 1, 5, 2, 5, 5, 0, 5, 5, 5, 5, 1, 0, 5, 3, 5, 4, 5, 5, 5, 3, 1, 2, 3, 5, 0, 5, 3, 5, 0, 5, 0, 5, 5, 0, 0, 3, 3, 1, 2, 4, 0, 5, 4, 1, 5, 5, 5, 2, 5, 5, 4, 5, 0, 2, 3, 1, 3, 0, 1, 4, 1, 2, 4, 3, 5, 5, 1, 3, 5, 5, 3, 4, 2, 0, 5, 4, 4, 5, 5, 0, 4, 1, 3, 3, 5, 5, 0, 3, 5, 2, 3, 5, 1, 4, 3, 4, 5, 5, 2, 3, 0, 5, 1, 5, 0, 2, 5, 5, 5, 0, 4, 4, 0, 3, 1, 5, 1, 5, 4, 5, 4, 0, 5, 1, 3, 5, 4, 0, 0, 1, 2, 1, 0, 5, 0, 1, 1, 1, 1, 5, 2, 5, 4, 4, 3, 1, 4, 2, 5, 4, 5, 3, 1, 5, 3, 0, 2, 4, 4, 1, 5, 5, 0, 5, 2, 5, 1, 4, 5, 5, 5, 2, 5, 0, 1, 3, 1, 0, 5, 5, 0, 5, 0, 3, 2, 0, 4, 5, 5, 0, 4, 5, 5, 2, 5, 0, 1, 2, 0, 0, 2, 1, 1, 1, 1, 5, 4, 1, 0, 4, 5, 0, 3, 3, 5, 4, 5, 1, 4, 3, 1, 3, 1, 5, 5, 2, 4, 4, 2, 5, 1, 4, 5, 4, 4, 5, 1, 2, 1, 2, 3, 5, 5, 5, 3, 1, 0, 4, 5, 5, 4, 1, 5, 5, 4, 1, 0, 3, 1, 5, 5, 2, 5, 5, 3, 0, 5, 5, 2, 1, 0, 2, 5, 5, 0, 4, 5, 2, 1, 2, 3, 5, 0, 4, 1, 0, 2, 5, 2, 4, 5, 5, 0, 1, 1, 5, 1, 0, 2, 2, 0, 4, 5, 5, 5, 3, 1, 3, 1, 1, 3, 1, 3, 3, 5, 2, 5, 5, 3, 1, 2, 5, 5, 3, 1, 5, 5, 5, 3, 4, 5, 2, 5, 1, 5, 5, 0, 5, 5, 5, 4, 0, 5, 5, 0, 5, 4, 5, 1, 2, 1, 0, 1, 3, 5, 0, 5, 4, 2, 4, 5, 3, 5, 1, 1, 3, 2, 1, 5, 5, 5, 0, 5, 3, 5, 5, 5, 2, 0, 5, 3, 4, 1, 3, 0, 5, 5, 0, 5, 5, 5, 1, 0, 4, 3, 2, 1, 5, 4, 0, 5, 4, 5, 4, 0, 0, 4, 5, 3, 5, 4, 4, 1, 4, 0, 5, 1, 3, 5, 3, 2, 5, 0, 5, 2, 2, 1, 5, 5, 2, 5, 3, 2, 5, 2, 0, 4, 5, 0, 2, 0, 3, 5, 4, 1, 4, 2, 5, 1, 0, 5, 2, 5, 2, 0, 0, 0, 0, 2, 4, 4, 5, 2, 2, 2, 0, 0, 3, 5, 3, 3, 5, 0, 5, 5, 5, 3, 5, 3, 4, 5, 3, 2, 1, 4, 0, 5, 1, 1, 3, 5, 5, 5, 2, 2, 1, 5, 0, 5, 5, 2, 0, 3, 1, 2, 0, 4, 0, 5, 1, 0, 4, 3, 5, 2, 5, 5, 5, 5, 4, 5, 2, 5, 5, 5, 5, 5, 0, 3, 1, 5, 1, 1, 4, 1, 1, 2, 2, 2, 2, 2, 5, 5, 2, 2, 5, 3, 5, 3, 2, 0, 0, 4, 5, 2, 5, 5, 0, 1, 4, 0, 3, 3, 4, 2, 1, 1, 5, 2, 2, 5, 4, 4, 5, 5, 0, 5, 3, 5, 3, 2, 1, 0, 3, 4, 2, 4, 2, 0, 1, 5, 5, 3, 5, 1, 1, 5, 3, 5, 5, 0, 4, 0, 0, 5, 5, 1, 2, 0, 0, 2, 0, 2, 5, 0, 1, 5, 4, 0, 3, 5, 3, 5, 1, 4, 5, 0, 4, 4, 3, 4, 3, 4, 0, 0, 3, 0, 3, 5, 5, 3, 0, 5, 5, 3, 0, 5, 5, 5, 5, 0, 1, 5, 3, 5, 5, 1, 4, 3, 5, 3, 5, 5, 3, 1, 2, 5, 3, 5, 0, 1, 0, 2, 5, 0, 0, 5, 3, 0, 0, 2, 2, 1, 5, 0, 0, 1, 3, 5, 2, 5, 2, 3, 3, 3, 1, 4, 5, 0, 4, 4, 2, 2, 4, 5, 0, 3, 5, 5, 4, 2, 2, 0, 2, 5, 5, 2, 5, 1, 2, 2, 3, 2, 1, 1, 5, 4, 4, 4, 1, 3, 1, 5, 0, 1, 2, 5, 2, 1, 1, 4, 5, 5, 4, 4, 2, 1, 1, 0, 0, 5, 5, 5, 1, 1, 0, 2, 3, 0, 3, 5, 2, 3, 0, 5, 3, 0, 2, 3, 2, 5, 1, 5, 3, 5, 5, 2, 5, 2, 5, 0, 1, 5, 1, 1, 1, 2, 4, 1, 0, 1, 3, 5, 1, 5, 4, 5, 3, 0, 0, 1, 0, 4, 5, 0, 5, 5, 3, 0, 2, 4, 4, 0, 5, 1, 0, 1, 4, 3, 5, 1, 1, 4, 5, 0, 0, 3, 1, 5, 4, 3, 4, 3, 3, 0, 5, 0, 1, 5, 2, 3, 2, 5, 2, 2, 0, 5, 5, 5, 2, 4, 2, 5, 2, 5, 1, 2, 2, 5, 0, 0, 3, 1, 5, 3, 5, 1, 5, 2, 5, 2, 5, 5, 0, 5, 2, 0, 0, 2, 0, 5, 4, 5, 5, 1, 0, 5, 0, 0, 5, 5, 1, 0, 2, 0, 5, 3, 1, 5, 3, 0, 5, 4, 0, 5, 3, 5, 5, 3, 5, 0, 1, 2, 5, 0, 1, 0, 3, 5, 0, 0, 3, 5, 0, 2, 5, 4, 5, 0, 2, 4, 5, 0, 2, 0, 1, 5, 0, 3, 5, 4, 0, 0, 4, 1, 3, 5, 5, 2, 5, 5, 4, 2, 2, 4, 0, 2, 0, 0, 1, 1, 2, 5, 1, 4, 5, 0, 1, 1, 5, 2, 5, 3, 3, 5, 0, 2, 5, 5, 0, 2, 2, 5, 4, 5, 5, 4, 5, 1, 2, 5, 4, 5, 5, 5, 0, 0, 3, 2, 0, 5, 0, 5, 0, 0, 0, 5, 3, 0, 5, 2, 1, 5, 1, 5, 3, 4, 3, 5, 4, 0, 3, 3, 1, 3, 5, 1, 5, 5, 0, 5, 4, 4, 4, 5, 3, 0, 0, 3, 3, 5, 5, 5, 5, 1, 5, 5, 3, 2, 4, 4, 0, 5, 0, 5, 0, 4, 2, 5, 2, 5, 5, 0, 5, 2, 3, 5, 2, 1, 4, 5, 1, 0, 1, 4, 0, 5, 3, 2, 4, 1, 5, 2, 4, 3, 1, 1, 5, 5, 5, 3, 3, 2, 0, 3, 2, 4, 0, 5, 0, 0, 0, 5, 4, 4, 5, 3, 1, 1, 1, 1, 2, 4, 0, 1, 4, 3, 5, 3, 4, 5, 0, 1, 2, 4, 1, 3, 5, 0, 4, 0, 5, 4, 0, 5, 2, 5, 0, 5, 5, 5, 0, 0, 5, 2, 1, 0, 3, 5, 5, 0, 4, 1, 0, 3, 2, 2, 4, 3, 2, 2, 3, 1, 2, 0, 2, 2, 4, 5, 2, 3, 2, 5, 5, 1, 3, 4, 3, 5, 1, 1, 1, 5, 2, 5, 5, 5, 0, 1, 3, 3, 5, 5, 1, 0, 4, 5, 3, 5, 3, 5, 5, 3, 2, 5, 1, 4, 5, 2, 1, 5, 4, 0, 5, 0, 3, 4, 3, 0, 4, 4, 5, 0, 3, 3, 0, 4, 1, 0, 3, 1, 1, 5, 3, 4, 5, 2, 5, 2, 5, 5, 1, 2, 5, 4, 5, 3, 5, 2, 1, 2, 2, 0, 0, 5, 2, 5, 0, 3, 5, 3, 5, 5, 5, 2, 1, 5, 1, 3, 3, 0, 5, 0, 3, 4, 5, 2, 5, 5, 5, 1, 5, 5, 5, 5, 0, 5, 0, 5, 4, 4, 2, 5, 2, 5, 2, 2, 1, 5, 5, 1, 1, 5, 2, 0, 0, 3, 2, 5, 5, 4, 1, 5, 2, 2, 3, 2, 5, 2, 1, 3, 1, 3, 0, 3, 3, 2, 5, 2, 0, 1, 0, 5, 1, 5, 2, 3, 2, 5, 5, 0, 1, 0, 1, 2, 3, 3, 1, 4, 4, 4, 1, 5, 5, 0, 5, 2, 2, 3, 0, 5, 4, 1, 2, 3, 0, 3, 3, 0, 1, 5, 0, 1, 2, 1, 5, 5, 5, 0, 2, 3, 5, 5, 4, 1, 2, 5, 2, 5, 5, 5, 2, 4, 5, 4, 2, 0, 3, 0, 3, 3, 0, 2, 5, 0, 2, 5, 0, 5, 1, 4, 4, 3, 5, 5, 5, 5, 0, 5, 1, 5, 3, 5, 4, 1, 4, 1, 3, 5, 1, 0, 0, 5, 1, 3, 0, 5, 5, 5, 3, 5, 3, 2, 2, 3, 5, 2, 5, 3, 1, 4, 3, 0, 2, 2, 2, 5, 3, 2, 1, 1, 5, 5, 0, 4, 5, 4, 5, 0, 3, 1, 2, 0, 5, 4, 0, 5, 4, 5, 5, 4, 5, 3, 1, 0, 5, 5, 4, 0, 0, 0, 0, 0, 3, 2, 5, 3, 5, 4, 3, 3, 4, 2, 1, 0, 3, 5, 5, 2, 1, 5, 5, 4, 0, 5, 4, 0, 1, 4, 4, 3, 3, 5, 4, 1, 0, 1, 1, 0, 1, 4, 5, 4, 5, 3, 2, 2, 0, 2, 0, 5, 1, 1, 5, 2, 4, 5, 5, 5, 5, 0, 2, 5, 1, 0, 4, 5, 5, 5, 1, 5, 2, 4, 4, 1, 3, 5, 0, 5, 4, 5, 1, 5, 4, 0, 5, 0, 3, 5, 0, 5, 3, 0, 3, 0, 1, 0, 4, 1, 0, 3, 3, 0, 5, 1, 1, 1, 2, 1, 5, 4, 4, 2, 0, 1, 5, 5, 5, 0, 0, 5, 5, 0, 3, 5, 5, 5, 0, 0, 5, 5, 5, 0, 5, 5, 3, 5, 5, 0, 3, 3, 3, 3, 3, 0, 2, 5, 5, 3, 0, 1, 1, 3, 0, 5, 5, 3, 3, 5, 3, 2, 1, 0, 5, 2, 3, 5, 3, 0, 5, 5, 3, 4, 2, 5, 3, 1, 1, 1, 4, 2, 5, 0, 0, 2, 5, 5, 5, 0, 0, 1, 0, 5, 5, 3, 2, 1, 5, 1, 5, 5, 4, 3, 5, 5, 3, 3, 3, 5, 0, 4, 1, 5, 3, 1, 5, 5, 1, 2, 0, 2, 2, 0, 2, 4, 5, 0, 1, 3, 3, 5, 5, 1, 0, 3, 5, 5, 3, 3, 2, 5, 4, 4, 2, 1, 5, 1, 5, 3, 3, 1, 4, 1, 5, 2, 0, 1, 3, 5, 5, 5, 5, 2, 0, 0, 1, 1, 3, 5, 5, 2, 1, 4, 0, 5, 5, 2, 3, 1, 5, 5, 2, 4, 4, 4, 2, 2, 1, 4, 3, 5, 1, 5, 5, 3, 5, 5, 4, 1, 4, 3, 5, 5, 3, 5, 3, 1, 1, 5, 0, 3, 0, 4, 4, 1, 0, 3, 3, 5, 3, 4, 3, 3, 4, 5, 5, 0, 5, 5, 5, 3, 2, 3, 3, 5, 4, 3, 2, 5, 5, 3, 2, 0, 2, 5, 1, 3, 5, 3, 2, 4, 1, 2, 1, 0, 5, 5, 3, 1, 1, 2, 5, 5, 5, 3, 3, 0, 0, 3, 2, 5, 4, 1, 1, 0, 2, 5, 5, 0, 5, 2, 5, 2, 3, 5, 2, 5, 5, 3, 5, 3, 5, 0, 0, 5, 5, 0, 5, 5, 1, 3, 5, 0, 2, 5, 5, 4, 3, 1, 3, 3, 0, 5, 3, 0, 2, 5, 3, 0, 0, 0, 3, 4, 0, 2, 5, 0, 3, 1, 0, 1, 2, 4, 0, 5, 5, 1, 3, 0, 5, 2, 1, 5, 3, 3, 2, 4, 0, 4, 1, 1, 4, 0, 2, 3, 5, 1, 3, 5, 2, 0, 2, 5, 4, 3, 5, 5, 4, 1, 0, 0, 2, 2, 1, 0, 5, 1, 4, 1, 0, 5, 5, 5, 5, 0, 2, 4, 0, 1, 4, 0, 5, 2, 3, 3, 5, 4, 5, 3, 5, 5, 2, 5, 5, 1, 5, 4, 5, 2, 4, 2, 4, 5, 3, 4, 5, 5, 5, 5, 5, 5, 3, 5, 0, 4, 1, 2, 3, 4, 5, 0, 5, 5, 5, 0, 2, 4, 1, 0, 3, 5, 5, 1, 1, 0, 1, 1, 2, 5, 5, 2, 4, 0, 3, 1, 0, 2, 2, 4, 5, 3, 3, 3, 1, 4, 5, 5, 1, 0, 3, 3, 4, 3, 1, 4, 3, 5, 5, 4, 0, 5, 3, 5, 5, 4, 3, 3, 2, 2, 5, 4, 2, 5, 5, 5, 0, 3, 2, 1, 1, 4, 4, 5, 2, 5, 0, 5, 2, 0, 5, 2, 2, 2, 1, 5, 1, 2, 5, 1, 5, 4, 1, 5, 2, 0, 0, 5, 2, 5, 2, 3, 3, 4, 0, 5, 4, 2, 0, 2, 4, 5, 2, 5, 5, 5, 5, 3, 5, 1, 1, 5, 1, 5, 5, 5, 0, 3, 2, 5, 5, 5, 3, 4, 5, 2, 5, 0, 3, 5, 2, 5, 2, 5, 1, 2, 3, 0, 5, 5, 2, 3, 5, 1, 5, 0, 5, 5, 1, 5, 4, 3, 1, 5, 0, 0, 1, 1, 5, 3, 1, 4, 5, 3, 5, 5, 0, 5, 5, 4, 4, 5, 0, 0, 5, 2, 5, 2, 4, 5, 0, 5, 1, 0, 3, 5, 2, 2, 5, 0, 5, 5, 1, 4, 4, 1, 3, 0, 5, 3, 5, 2, 5, 5, 4, 4, 3, 5, 5, 4, 0, 2, 5, 3, 1, 5, 5, 5, 2, 3, 5, 0, 0, 1, 4, 3, 1, 5, 5, 5, 3, 2, 5, 1, 1, 0, 1, 2, 2, 3, 1, 1, 4, 5, 0, 3, 5, 5, 5, 4, 3, 5, 3, 5, 5, 5, 5, 5, 1, 2, 1, 3, 1, 0, 5, 3, 2, 5, 5, 3, 2, 2, 3, 3, 3, 5, 5, 3, 2, 5, 1, 5, 5, 3, 5, 2, 3, 5, 5, 4, 3, 0, 4, 3, 4, 5, 4, 5, 5, 3, 0, 2, 4, 5, 1, 2, 1, 2, 4, 5, 0, 1, 5, 0, 1, 3, 5, 1, 0, 0, 1, 3, 3, 4, 5, 4, 1, 1, 5, 5, 1, 5, 1, 0, 0, 0, 3, 3, 5, 0, 4, 2, 0, 2, 1, 2, 5, 1, 2, 5, 2, 1, 5, 2, 5, 3, 1, 5, 0, 4, 0, 2, 5, 4, 4, 1, 4, 3, 5, 5, 0, 3, 5, 3, 0, 5, 3, 3, 4, 0, 0, 0, 5, 5, 3, 5, 5, 0, 1, 1, 1, 1, 5, 5, 4, 3, 1, 5, 0, 3, 1, 5, 5, 3, 5, 5, 3, 0, 5, 5, 1, 2, 5, 3, 0, 5, 1, 3, 5, 1, 0, 0, 2, 0, 0, 1, 0, 0, 3, 5, 2, 0, 3, 4, 2, 5, 2, 4, 3, 1, 0, 5, 5, 5, 5, 5, 5, 0, 0, 5, 5, 1, 1, 2, 4, 4, 3, 5, 3, 1, 0, 5, 5, 3, 1, 1, 5, 5, 5, 5, 4, 5, 5, 0, 0, 0, 5, 1, 0, 0, 5, 4, 1, 5, 5, 0, 1, 1, 1, 0, 0, 2, 5, 5, 2, 0, 5, 5, 0, 4, 0, 0, 1, 0, 5, 5, 5, 5, 2, 4, 2, 5, 1, 4, 3, 4, 4, 5, 1, 5, 2, 4, 2, 5, 5, 0, 0, 4, 0, 5, 0, 1, 3, 2, 5, 5, 1, 5, 2, 0, 2, 3, 5, 4, 4, 4, 4, 5, 5, 4, 4, 5, 5, 1, 5, 0, 5, 5, 0, 0, 0, 4, 2, 5, 0, 4, 0, 5, 1, 2, 3, 0, 5, 0, 1, 5, 0, 3, 1, 5, 5, 0, 1, 4, 5, 0, 4, 2, 2, 5, 5, 5, 2, 4, 5, 2, 2, 1, 5, 2, 1, 2, 3, 2, 4, 5, 0, 5, 5, 3, 3, 4, 5, 5, 5, 2, 1, 5, 5, 3, 5, 2, 4, 5, 3, 4, 5, 5, 1, 5, 2, 5, 3, 0, 5, 5, 1, 5, 4, 4, 3, 5, 1, 5, 0, 5, 2, 3, 3, 0, 5, 1, 2, 4, 3, 1, 2, 0, 5, 2, 1, 1, 5, 4, 4, 1, 2, 2, 3, 2, 2, 5, 5, 1, 5, 0, 2, 5, 2, 2, 3, 3, 5, 3, 4, 0, 5, 2, 5, 0, 5, 3, 2, 4, 0, 5, 1, 4, 0, 1, 1, 1, 0, 0, 5, 0, 3, 1, 5, 5, 4, 4, 3, 5, 2, 1, 1, 5, 5, 5, 5, 5, 1, 5, 3, 1, 2, 0, 2, 5, 5, 5, 5, 3, 0, 5, 5, 4, 5, 5, 2, 0, 3, 2, 2, 3, 5, 5, 3, 5, 5, 3, 5, 2, 5, 0, 3, 5, 2, 5, 5, 5, 4, 5, 4, 5, 4, 1, 4, 5, 3, 4, 5, 5, 5, 2, 5, 1, 1, 5, 5, 5, 4, 3, 3, 3, 2, 2, 4, 0, 5, 2, 5, 1, 5, 4, 2, 5, 5, 0, 2, 0, 3, 3, 3, 2, 2, 0, 5, 3, 3, 5, 0, 3, 4, 0, 3, 5, 1, 5, 5, 2, 4, 3, 5, 4, 3, 2, 3, 0, 1, 0, 5, 0, 1, 0, 5, 1, 4, 0, 4, 0, 3, 2, 5, 5, 0, 4, 5, 2, 0, 5, 3, 5, 0, 5, 5, 2, 5, 1, 0, 4, 1, 0, 1, 4, 5, 5, 2, 5, 0, 5, 5, 3, 5, 5, 3, 2, 1, 1, 4, 0, 5, 4, 3, 5, 1, 2, 1, 1, 5, 5, 2, 5, 5, 5, 1, 0, 2, 3, 5, 5, 5, 1, 5, 4, 5, 2, 5, 0, 5, 5, 5, 5, 4, 2, 0, 2, 5, 1, 1, 5, 0, 0, 5, 0, 0, 2, 5, 5, 3, 2, 4, 2, 2, 4, 5, 2, 4, 1, 2, 0, 3, 3, 2, 1, 2, 1, 5, 3, 3, 5, 0, 1, 2, 2, 2, 0, 5, 5, 4, 0, 3, 2, 5, 3, 3, 2, 3, 5, 3, 3, 3, 1, 3, 1, 0, 5, 2, 5, 5, 0, 2, 0, 4, 5, 5, 2, 3, 5, 3, 1, 5, 5, 3, 1, 1, 4, 5, 5, 5, 4, 3, 2, 5, 0, 4, 3, 5, 2, 5, 1, 5, 0, 0, 3, 2, 5, 3, 1, 0, 2, 5, 5, 0, 5, 4, 1, 5, 1, 4, 5, 5, 4, 2, 5, 5, 5, 2, 5, 5, 1, 5, 5, 5, 5, 2, 4, 0, 5, 4, 2, 2, 0, 5, 3, 5, 0, 3, 2, 0, 4, 5, 0, 4, 5, 5, 0, 0, 2, 4, 4, 4, 3, 4, 0, 1, 5, 1, 4, 4, 2, 4, 0, 3, 4, 3, 2, 1, 5, 3, 5, 0, 5, 4, 5, 5, 3, 3, 2, 1, 1, 2, 0, 5, 0, 0, 0, 4, 2, 5, 4, 5, 4, 5, 4, 4, 5, 1, 3, 3, 5, 3, 1, 0, 4, 1, 4, 0, 4, 2, 5, 4, 0, 2, 3, 4, 3, 5, 1, 3, 3, 1, 2, 3, 1, 1, 3, 0, 3, 4, 3, 5, 5, 4, 2, 5, 4, 4, 2, 0, 0, 3, 3, 4, 1, 1, 2, 3, 4, 0, 2, 1, 1, 3, 3, 1, 0, 2, 0, 5, 1, 5, 5, 4, 5, 4, 5, 5, 3, 5, 0, 3, 4, 3, 0, 3, 4, 5, 4, 5, 3, 5, 4, 2, 0, 5, 0, 1, 5, 2, 0, 5, 5, 1, 2, 5, 4, 5, 5, 3, 5, 4, 2, 3, 5, 3, 2, 5, 1, 1, 2, 5, 5, 5, 4, 4, 0, 1, 5, 0, 3, 5, 1, 3, 1, 2, 1, 3, 4, 4, 1, 5, 1, 0, 3, 2, 1, 5, 0, 5, 1, 4, 5, 5, 3, 5, 3, 5, 2, 5, 0, 4, 1, 1, 5, 1, 0, 5, 0, 4, 1, 0, 5, 5, 1, 5, 0, 0, 1, 2, 0, 1, 3, 5, 3, 3, 3, 0, 2, 4, 3, 4, 5, 1, 5, 2, 0, 4, 4, 0, 0, 4, 0, 5, 3, 5, 2, 5, 2, 5, 1, 4, 5, 0, 3, 0, 4, 5, 0, 3, 3, 5, 0, 4, 5, 5, 5, 0, 3, 5, 0, 3, 5, 5, 2, 1, 0, 2, 3, 5, 4, 5, 4, 4, 2, 2, 4, 1, 1, 1, 1, 5, 5, 2, 5, 2, 0, 5, 4, 1, 0, 5, 2, 5, 5, 0, 0, 4, 0, 5, 1, 0, 3, 5, 1, 1, 0, 5, 5, 0, 5, 4, 5, 4, 2, 1, 2, 0, 0, 0, 3, 3, 1, 5, 5, 5, 5, 4, 2, 0, 0, 5, 0, 5, 3, 3, 4, 2, 5, 5, 0, 5, 1, 1, 2, 4, 0, 1, 5, 0, 4, 4, 1, 0, 2, 4, 5, 4, 1, 5, 2, 1, 5, 5, 4, 4, 1, 5, 3, 2, 5, 4, 2, 5, 2, 5, 0, 1, 5, 2, 2, 1, 0, 5, 1, 5, 5, 1, 4, 5, 3, 3, 3, 1, 5, 3, 4, 5, 2, 4, 3, 5, 2, 1, 2, 2, 5, 4, 5, 4, 5, 0, 2, 0, 2, 1, 3, 5, 1, 5, 5, 1, 4, 3, 1, 5, 2, 5, 5, 5, 5, 3, 4, 4, 5, 5, 1, 2, 2, 5, 5, 4, 5, 5, 0, 2, 4, 5, 0, 4, 4, 3, 1, 2, 5, 2, 5, 4, 3, 4, 5, 3, 1, 4, 3, 0, 5, 1, 5, 1, 2, 5, 3, 5, 0, 0, 5, 3, 3, 0, 5, 5, 0, 1, 5, 4, 5, 0, 5, 5, 1, 3, 3, 5, 5, 5, 5, 2, 3, 1, 1, 1, 4, 5, 5, 0, 0, 1, 4, 5, 5, 5, 0, 5, 0, 1, 2, 5, 0, 1, 1, 2, 4, 2, 0, 2, 4, 1, 5, 4, 5, 5, 4, 1, 5, 1, 2, 5, 1, 0, 3, 4, 3, 5, 3, 3, 1, 5, 5, 1, 0, 4, 5, 2, 4, 4, 1, 0, 5, 5, 4, 2, 0, 1, 4, 1, 0, 4, 1, 4, 5, 5, 4, 1, 2, 2, 5, 5, 3, 0, 3, 1, 0, 1, 3, 3, 5, 5, 1, 0, 5, 2, 4, 2, 5, 1, 3, 3, 3, 2, 4, 0, 2, 5, 0, 0, 1, 1, 5, 0, 1, 4, 4, 5, 3, 5, 2, 0, 2, 5, 5, 1, 1, 3, 0, 2, 5, 3, 5, 5, 3, 5, 5, 3, 5, 5, 5, 5, 2, 5, 0, 5, 5, 5, 5, 5, 5, 0, 1, 1, 5, 4, 2, 5, 4, 2, 2, 3, 2, 5, 1, 0, 0, 1, 5, 1, 5, 2, 0, 5, 2, 5, 0, 0, 5, 3, 0, 1, 5, 3, 5, 0, 4, 1, 3, 2, 3, 5, 5, 1, 0, 5, 4, 4, 5, 3, 2, 5, 0, 4, 1, 1, 0, 0, 0, 0, 1, 2, 5, 5, 2, 2, 0, 1, 0, 5, 2, 5, 0, 5, 4, 1, 1, 4, 3, 5, 5, 5, 5, 0, 5, 2, 4, 5, 4, 5, 0, 1, 0, 0, 5, 5, 2, 5, 4, 5, 3, 2, 2, 5, 3, 5, 4, 0, 5, 4, 4, 4, 3, 2, 2, 3, 5, 2, 3, 0, 3, 4, 4, 3, 3, 3, 0, 5, 4, 3, 4, 0, 4, 0, 1, 5, 1, 0, 1, 2, 4, 4, 0, 0, 5, 0, 5, 1, 3, 1, 1, 5, 1, 1, 5, 5, 3, 2, 5, 2, 3, 0, 5, 3, 3, 0, 2, 4, 5, 5, 3, 5, 5, 5, 5, 4, 5, 0, 5, 4, 5, 4, 0, 5, 4, 0, 0, 4, 0, 0, 5, 3, 0, 0, 0, 2, 5, 0, 1, 5, 1, 0, 3, 5, 5, 0, 5, 4, 1, 2, 5, 0, 5, 2, 0, 0, 2, 0, 2, 5, 2, 0, 5, 0, 3, 5, 3, 0, 5, 5, 5, 1, 5, 0, 0, 5, 5, 1, 5, 2, 0, 5, 5, 5, 5, 0, 5, 4, 1, 4, 2, 4, 1, 4, 3, 1, 5, 2, 5, 0, 0, 5, 1, 1, 3, 0, 0, 0, 5, 1, 3, 4, 3, 3, 0, 1, 3, 0, 5, 2, 3, 0, 5, 0, 1, 3, 5, 5, 3, 5, 0, 0, 1, 2, 0, 2, 3, 5, 3, 1, 4, 1, 5, 2, 4, 4, 1, 0, 1, 5, 2, 0, 1, 5, 3, 5, 2, 2, 0, 1, 5, 4, 3, 0, 0, 5, 1, 3, 3, 3, 4, 0, 4, 1, 5, 3, 5, 5, 0, 5, 2, 2, 5, 4, 5, 0, 5, 4, 3, 0, 1, 0, 5, 5, 5, 3, 4, 4, 5, 2, 4, 1, 3, 5, 5, 3, 3, 1, 5, 3, 1, 1, 5, 2, 1, 2, 3, 1, 5, 2, 5, 2, 2, 5, 0, 4, 0, 5, 5, 0, 5, 5, 0, 3, 5, 4, 5, 1, 5, 3, 5, 5, 3, 5, 3, 0, 5, 1, 3, 0, 5, 2, 5, 4, 1, 5, 2, 5, 5, 0, 3, 5, 4, 3, 5, 2, 1, 5, 4, 2, 1, 1, 3, 5, 5, 3, 0, 3, 5, 5, 5, 4, 2, 0, 5, 5, 4, 3, 1, 0, 3, 5, 2, 5, 1, 5, 5, 1, 5, 4, 3, 2, 5, 5, 2, 2, 4, 3, 1, 5, 0, 5, 5, 3, 3, 3, 3, 1, 5, 0, 0, 1, 4, 3, 3, 4, 5, 5, 3, 2, 5, 5, 2, 1, 5, 2, 5, 0, 3, 5, 4, 5, 1, 5, 0, 4, 5, 1, 4, 5, 1, 1, 5, 4, 5, 4, 0, 0, 5, 5, 4, 5, 3, 5, 5, 5, 1, 5, 1, 4, 0, 4, 2, 0, 0, 1, 5, 1, 5, 5, 5, 5, 5, 4, 3, 5, 0, 1, 0, 0, 2, 4, 2, 5, 5, 2, 2, 0, 0, 2, 4, 5, 5, 5, 4, 0, 0, 4, 0, 1, 4, 4, 2, 5, 4, 0, 5, 3, 2, 5, 0, 5, 4, 5, 1, 5, 5, 5, 0, 1, 1, 4, 5, 5, 3, 3, 0, 1, 5, 5, 3, 0, 2, 2, 5, 5, 4, 3, 4, 3, 1, 3, 5, 3, 5, 3, 3, 1, 5, 2, 3, 1, 0, 3, 2, 2, 2, 5, 5, 0, 2, 0, 3, 0, 0, 3, 1, 4, 3, 5, 1, 0, 0, 3, 1, 4, 1, 4, 5, 2, 0, 4, 5, 1, 4, 0, 5, 1, 0, 2, 2, 0, 1, 0, 5, 5, 3, 2, 0, 2, 0, 4, 2, 3, 0, 0, 5, 0, 1, 0, 5, 0, 0, 5, 2, 5, 5, 5, 2, 1, 0, 4, 0, 5, 3, 1, 4, 5, 3, 5, 4, 1, 5, 4, 0, 4, 5, 5, 4, 5, 0, 4, 3, 5, 3, 1, 0, 5, 5, 0, 1, 4, 5, 0, 0, 1, 5, 1, 3, 5, 0, 4, 4, 0, 0, 3, 5, 0, 1, 5, 5, 1, 0, 5, 3, 5, 4, 3, 4, 0, 5, 2, 0, 3, 5, 0, 2, 0, 3, 0, 4, 5, 4, 1, 1, 5, 0, 5, 2, 4, 5, 0, 3, 2, 2, 5, 2, 4, 5, 5, 1, 0, 3, 3, 0, 1, 2, 1, 5, 5, 5, 1, 1, 0, 5, 5, 5, 3, 5, 2, 5, 1, 1, 5, 5, 4, 5, 5, 1, 5, 5, 2, 3, 3, 2, 3, 1, 0, 0, 5, 5, 1, 0, 0, 0, 0, 0, 5, 2, 5, 0, 0, 4, 5, 1, 3, 2, 0, 5, 3, 1, 1, 5, 4, 5, 4, 4, 0, 1, 4, 0, 1, 5, 0, 4, 4, 5, 1, 5, 2, 1, 4, 1, 3, 3, 5, 3, 5, 5, 5, 0, 3, 5, 4, 5, 2, 5, 0, 4, 2, 5, 3, 5, 5, 1, 0, 3, 3, 1, 0, 0, 1, 1, 5, 2, 1, 1, 0, 5, 2, 4, 4, 3, 4, 3, 0, 1, 5, 0, 1, 3, 4, 5, 4, 0, 2, 5, 4, 5, 2, 5, 5, 1, 4, 1, 1, 3, 5, 3, 2, 5, 3, 5, 0, 0, 0, 0, 3, 3, 2, 5, 4, 5, 1, 0, 5, 3, 3, 0, 5, 4, 0, 5, 2, 5, 5, 2, 5, 2, 4, 0, 4, 0, 2, 3, 3, 5, 0, 2, 0, 5, 1, 5, 3, 2, 0, 2, 1, 3, 1, 1, 5, 5, 2, 1, 0, 2, 5, 5, 5, 1, 5, 5, 5, 5, 5, 1, 0, 5, 5, 0, 5, 0, 1, 5, 5, 3, 5, 3, 4, 5, 2, 5, 4, 5, 1, 4, 5, 5, 0, 3, 0, 4, 5, 5, 1, 5, 5, 3, 5, 1, 5, 1, 3, 3, 3, 3, 2, 5, 5, 4, 1, 5, 1, 5, 5, 2, 4, 1, 5, 0, 2, 5, 3, 5, 4, 4, 5, 0, 1, 2, 5, 2, 1, 4, 1, 5, 4, 5, 2, 5, 2, 3, 4, 5, 2, 3, 0, 4, 4, 2, 5, 1, 5, 2, 5, 3, 4, 3, 4, 0, 5, 5, 2, 1, 4, 3, 5, 4, 2, 2, 3, 2, 5, 0, 1, 5, 0, 3, 3, 5, 3, 5, 1, 0, 5, 5, 3, 2, 0, 1, 2, 5, 0, 2, 3, 1, 3, 5, 3, 0, 4, 3, 3, 0, 2, 2, 2, 0, 5, 5, 4, 0, 0, 1, 0, 5, 2, 3, 3, 5, 4, 0, 3, 5, 2, 5, 5, 4, 5, 5, 3, 5, 4, 4, 1, 1, 5, 3, 1, 1, 5, 5, 1, 1, 3, 2, 1, 5, 5, 0, 2, 3, 1, 4, 4, 3, 0, 4, 0, 4, 3, 1, 5, 0, 4, 0, 5, 5, 3, 5, 4, 5, 2, 5, 3, 2, 5, 4, 4, 5, 4, 4, 5, 1, 4, 5, 1, 5, 0, 5, 5, 4, 3, 5, 4, 4, 0, 5, 5, 1, 0, 2, 5, 3, 3, 2, 4, 5, 4, 5, 4, 5, 4, 0, 0, 3, 0, 5, 5, 4, 0, 4, 5, 5, 2, 0, 3, 4, 0, 1, 5, 3, 4, 4, 5, 5, 2, 3, 3, 3, 3, 0, 2, 3, 1, 5, 1, 5, 2, 1, 5, 5, 5, 5, 5, 1, 5, 3, 3, 0, 3, 5, 2, 5, 5, 3, 4, 5, 4, 3, 4, 2, 3, 0, 2, 2, 1, 5, 0, 5, 3, 5, 2, 1, 0, 3, 2, 4, 0, 1, 1, 3, 4, 5, 4, 0, 5, 5, 0, 5, 1, 3, 3, 2, 5, 5, 5, 4, 1, 5, 0, 3, 1, 4, 5, 0, 1, 5, 3, 0, 0, 2, 3, 0, 0, 5, 3, 0, 5, 1, 0, 3, 5, 5, 1, 3, 0, 3, 0, 1, 2, 0, 5, 3, 2, 5, 4, 5, 5, 5, 2, 5, 5, 5, 5, 5, 0, 4, 5, 1, 4, 5, 0, 0, 4, 0, 1, 1, 5, 4, 3, 5, 5, 5, 5, 2, 5, 3, 4, 2, 5, 1, 0, 3, 2, 5, 3, 0, 2, 0, 2, 5, 5, 2, 5, 5, 2, 5, 4, 2, 5, 3, 1, 5, 2, 5, 4, 5, 2, 1, 2, 4, 3, 4, 3, 5, 5, 5, 1, 2, 5, 0, 4, 1, 2, 1, 1, 3, 3, 2, 5, 0, 1, 2, 0, 4, 5, 2, 2, 5, 3, 2, 5, 5, 3, 5, 1, 1, 2, 2, 0, 0, 1, 2, 0, 4, 3, 5, 5, 5, 2, 2, 0, 5, 3, 5, 5, 2, 5, 1, 5, 0, 4, 3, 2, 5, 4, 1, 5, 3, 1, 5, 3, 3, 5, 2, 0, 3, 5, 5, 5, 5, 5, 3, 4, 4, 4, 2, 4, 3, 3, 3, 2, 5, 5, 5, 2, 5, 3, 1, 5, 4, 5, 4, 5, 5, 3, 0, 0, 5, 4, 3, 3, 5, 5, 2, 3, 3, 0, 4, 3, 5, 5, 0, 5, 1, 0, 4, 4, 5, 4, 5, 5, 3, 5, 2, 1, 4, 4, 5, 1, 1, 5, 2, 5, 5, 2, 5, 4, 4, 4, 1, 1, 5, 2, 0, 4, 5, 2, 5, 0, 4, 4, 5, 5, 3, 3, 1, 1, 1, 1, 5, 3, 2, 0, 2, 5, 2, 5, 5, 3, 4, 2, 5, 5, 5, 5, 5, 2, 5, 3, 5, 2, 5, 3, 5, 3, 5, 1, 5, 0, 3, 3, 0, 5, 4, 4, 4, 1, 4, 1, 5, 1, 5, 1, 5, 1, 1, 0, 5, 5, 0, 2, 4, 1, 2, 2, 0, 5, 3, 5, 5, 4, 5, 3, 3, 3, 1, 0, 0, 2, 1, 3, 5, 5, 3, 1, 5, 0, 1, 4, 3, 5, 2, 5, 0, 0, 4, 5, 5, 5, 1, 5, 4, 5, 5, 5, 5, 5, 5, 5, 4, 5, 3, 0, 0, 5, 0, 3, 3, 5, 5, 2, 0, 5, 4, 5, 2, 4, 4, 0, 4, 5, 0, 0, 5, 0, 1, 0, 4, 0, 5, 4, 1, 5, 4, 4, 5, 3, 5, 1, 0, 5, 4, 3, 5, 5, 3, 4, 5, 4, 4, 4, 5, 4, 4, 4, 1, 5, 4, 5, 2, 2, 5, 5, 0, 4, 2, 5, 4, 0, 5, 4, 5, 3, 5, 5, 0, 5, 5, 0, 2, 5, 2, 5, 1, 0, 0, 4, 1, 5, 3, 2, 4, 1, 2, 5, 5, 0, 5, 3, 5, 3, 0, 0, 3, 2, 5, 5, 5, 0, 2, 2, 5, 5, 2, 4, 4, 2, 5, 4, 2, 3, 3, 4, 0, 4, 3, 0, 1, 0, 5, 5, 5, 3, 0, 5, 5, 5, 5, 0, 5, 3, 3, 1, 0, 5, 4, 5, 5, 2, 5, 0, 2, 3, 3, 0, 3, 1, 3, 4, 0, 5, 5, 3, 5, 5, 5, 3, 2, 4, 4, 5, 3, 3, 1, 1, 0, 5, 3, 3, 4, 1, 3, 1, 1, 2, 5, 0, 5, 0, 5, 3, 1, 5, 4, 2, 1, 3, 0, 2, 1, 2, 5, 1, 5, 5, 5, 5, 5, 5, 3, 5, 3, 1, 0, 0, 2, 5, 5, 5, 1, 5, 2, 3, 3, 5, 4, 4, 5, 1, 5, 5, 3, 1, 5, 0, 1, 0, 1, 5, 3, 5, 5, 5, 4, 1, 5, 5, 0, 3, 3, 4, 4, 3, 5, 5, 4, 0, 2, 0, 0, 1, 2, 5, 4, 2, 4, 1, 2, 4, 4, 5, 0, 5, 0, 3, 3, 5, 2, 4, 1, 4, 5, 3, 5, 3, 4, 2, 1, 1, 2, 0, 2, 2, 4, 5, 5, 3, 5, 5, 0, 3, 3, 1, 5, 5, 1, 3, 0, 2, 2, 0, 3, 5, 4, 1, 2, 0, 3, 5, 2, 3, 0, 1, 1, 0, 4, 5, 3, 2, 5, 4, 1, 5, 0, 4, 5, 5, 2, 5, 4, 1, 5, 5, 1, 5, 3, 0, 0, 3, 4, 0, 3, 5, 3, 4, 2, 0, 5, 0, 5, 3, 1, 2, 5, 2, 2, 2, 2, 5, 1, 5, 2, 0, 3, 1, 3, 0, 4, 3, 0, 5, 5, 3, 5, 2, 5, 3, 0, 1, 4, 3, 5, 0, 5, 3, 2, 1, 5, 4, 5, 0, 2, 1, 5, 3, 4, 2, 2, 5, 1, 2, 3, 0, 5, 1, 5, 4, 1, 0, 1, 2, 3, 5, 1, 5, 5, 5, 2, 5, 5, 5, 5, 0, 4, 0, 3, 0, 2, 0, 1, 4, 2, 2, 1, 2, 5, 5, 3, 0, 4, 5, 0, 1, 1, 4, 0, 2, 5, 3, 5, 5, 5, 0, 5, 4, 3, 0, 1, 0, 1, 4, 0, 5, 4, 5, 0, 5, 5, 4, 4, 4, 5, 0, 0, 1, 3, 2, 5, 3, 4, 1, 2, 1, 0, 0, 5, 0, 2, 0, 4, 2, 5, 0, 5, 0, 3, 1, 5, 5, 0, 2, 3, 2, 3, 1, 0, 4, 0, 0, 5, 0, 3, 0, 0, 0, 5, 2, 5, 2, 5, 5, 0, 1, 5, 4, 5, 3, 4, 1, 3, 1, 0, 0, 4, 5, 1, 5, 0, 1, 4, 5, 1, 3, 2, 5, 4, 3, 4, 5, 0, 1, 5, 0, 3, 4, 4, 3, 0, 1, 1, 1, 0, 3, 0, 0, 1, 1, 2, 5, 5, 4, 0, 4, 1, 5, 4, 1, 3, 2, 5, 5, 1, 1, 5, 5, 5, 5, 4, 1, 4, 0, 2, 5, 4, 1, 5, 5, 2, 3, 0, 5, 5, 2, 1, 1, 5, 5, 1, 5, 5, 1, 5, 0, 4, 3, 5, 5, 0, 5, 0, 5, 5, 5, 4, 5, 1, 5, 3, 5, 1, 5, 0, 5, 1, 2, 5, 5, 2, 1, 5, 3, 0, 5, 2, 2, 1, 3, 1, 2, 5, 5, 1, 5, 3, 5, 5, 2, 0, 1, 3, 3, 0, 5, 1, 3, 2, 3, 5, 5, 2, 5, 5, 1, 0, 2, 1, 5, 3, 5, 2, 5, 0, 3, 1, 5, 1, 4, 2, 5, 2, 1, 0, 3, 1, 0, 5, 5, 5, 3, 0, 5, 1, 3, 5, 3, 5, 5, 5, 3, 5, 5, 5, 3, 5, 5, 2, 5, 1, 0, 5, 0, 3, 1, 5, 0, 5, 2, 2, 5, 0, 4, 5, 0, 5, 1, 0, 5, 0, 4, 2, 2, 2, 5, 5, 1, 4, 5, 2, 5, 3, 2, 5, 1, 5, 0, 0, 1, 4, 1, 5, 0, 2, 5, 4, 5, 1, 2, 0, 3, 3, 5, 2, 0, 3, 5, 3, 1, 3, 3, 5, 0, 4, 0, 0, 1, 1, 4, 0, 5, 5, 4, 0, 1, 0, 0, 4, 3, 4, 5, 0, 5, 4, 2, 5, 2, 1, 5, 5, 0, 1, 2, 3, 4, 4, 5, 5, 1, 1, 5, 3, 5, 1, 5, 4, 2, 0, 4, 5, 0, 4, 5, 5, 5, 2, 3, 5, 4, 1, 2, 4, 5, 0, 4, 5, 5, 2, 4, 1, 3, 1, 5, 1, 0, 4, 3, 3, 1, 4, 5, 5, 0, 5, 5, 4, 2, 1, 5, 1, 2, 2, 3, 0, 0, 0, 5, 0, 5, 5, 5, 2, 0, 4, 4, 5, 0, 2, 5, 0, 0, 2, 3, 1, 5, 0, 0, 3, 0, 3, 5, 5, 4, 1, 4, 0, 4, 0, 5, 3, 2, 5, 4, 2, 5, 3, 0, 0, 4, 2, 4, 2, 1, 4, 2, 1, 0, 2, 5, 2, 2, 5, 4, 1, 2, 3, 5, 1, 0, 0, 3, 2, 5, 5, 4, 5, 3, 2, 2, 5, 1, 2, 0, 1, 3, 5, 1, 0, 5, 3, 1, 0, 4, 4, 3, 1, 0, 5, 5, 0, 5, 5, 3, 5, 0, 5, 2, 5, 4, 3, 0, 2, 1, 2, 4, 1, 5, 3, 5, 2, 5, 0, 5, 3, 5, 5, 5, 5, 0, 0, 3, 1, 2, 4, 5, 0, 5, 5, 5, 5, 5, 1, 5, 1, 5, 0, 5, 2, 5, 0, 1, 1, 3, 5, 5, 1, 0, 5, 5, 5, 0, 5, 5, 2, 5, 0, 1, 5, 0, 5, 2, 0, 4, 3, 3, 4, 1, 2, 2, 5, 5, 4, 5, 1, 1, 2, 5, 4, 2, 5, 5, 0, 2, 4, 0, 5, 5, 4, 5, 0, 5, 5, 5, 1, 4, 5, 3, 5, 5, 3, 5, 0, 5, 3, 5, 5, 3, 5, 5, 4, 5, 2, 1, 0, 1, 5, 4, 1, 1, 3, 1, 2, 5, 5, 5, 4, 2, 5, 3, 5, 5, 0, 1, 1, 1, 1, 3, 5, 1, 2, 5, 4, 5, 5, 0, 0, 1, 4, 5, 4, 2, 2, 2, 5, 5, 2, 4, 5, 5, 5, 5, 4, 3, 0, 5, 5, 2, 4, 5, 2, 5, 1, 5, 0, 0, 4, 0, 3, 0, 3, 5, 5, 5, 3, 4, 5, 4, 5, 5, 4, 1, 5, 0, 5, 5, 3, 4, 0, 0, 5, 4, 2, 2, 4, 2, 1, 0, 5, 0, 4, 0, 0, 4, 4, 5, 1, 3, 1, 1, 1, 5, 2, 5, 1, 5, 3, 5, 5, 3, 2, 1, 3, 0, 2, 3, 3, 5, 4, 1, 2, 1, 2, 3, 1, 0, 0, 2, 2, 1, 5, 1, 5, 5, 5, 3, 2, 5, 1, 5, 4, 1, 4, 5, 3, 5, 0, 1, 1, 1, 5, 3, 4, 4, 4, 0, 4, 2, 5, 5, 5, 5, 3, 5, 5, 0, 5, 5, 4, 5, 0, 4, 5, 1, 1, 5, 2, 5, 5, 5, 2, 1, 1, 4, 1, 5, 5, 0, 5, 2, 1, 5, 2, 1, 4, 4, 5, 0, 0, 5, 3, 4, 4, 0, 2, 1, 4, 5, 1, 0, 1, 5, 5, 2, 5, 0, 4, 4, 3, 5, 0, 0, 1, 1, 1, 0, 2, 3, 4, 4, 5, 5, 3, 4, 5, 4, 2, 1, 5, 4, 0, 5, 0, 5, 5, 2, 3, 3, 2, 2, 4, 4, 5, 5, 5, 4, 0, 4, 3, 1, 1, 4, 5, 5, 3, 4, 0, 5, 3, 4, 2, 5, 1, 1, 2, 5, 1, 4, 2, 3, 2, 5, 4, 3, 2, 5, 2, 2, 5, 2, 0, 0, 4, 2, 2, 3, 0, 0, 5, 3, 1, 1, 4, 3, 5, 5, 5, 5, 5, 5, 0, 2, 5, 2, 1, 5, 3, 1, 5, 4, 3, 5, 2, 5, 3, 0, 4, 5, 0, 2, 3, 5, 5, 2, 3, 0, 0, 5, 0, 1, 0, 0, 2, 5, 1, 2, 4, 5, 3, 5, 5, 1, 0, 4, 4, 1, 5, 2, 5, 3, 5, 5, 5, 5, 3, 5, 5, 5, 5, 1, 3, 5, 1, 5, 1, 5, 5, 0, 5, 4, 0, 3, 0, 4, 5, 1, 2, 2, 2, 5, 1, 2, 3, 1, 4, 5, 3, 1, 2, 0, 2, 5, 4, 1, 3, 0, 0, 1, 1, 2, 0, 0, 4, 3, 4, 3, 4, 5, 0, 1, 3, 5, 5, 0, 5, 4, 1, 5, 5, 4, 0, 2, 5, 5, 2, 4, 5, 3, 5, 5, 5, 5, 5, 0, 0, 5, 5, 5, 5, 5, 1, 5, 0, 5, 0, 2, 5, 3, 1, 4, 5, 0, 5, 5, 0, 5, 3, 1, 5, 2, 3, 2, 2, 5, 0, 2, 0, 3, 4, 5, 4, 1, 5, 1, 0, 1, 5, 3, 5, 0, 5, 3, 4, 3, 5, 3, 0, 1, 0, 1, 2, 3, 0, 2, 0, 5, 2, 2, 5, 5, 4, 4, 1, 5, 5, 5, 5, 5, 5, 2, 4, 4, 0, 2, 1, 3, 5, 3, 4, 3, 5, 1, 0, 4, 5, 2, 0, 3, 5, 4, 0, 0, 1, 0, 0, 1, 5, 5, 2, 1, 5, 3, 2, 4, 5, 2, 4, 2, 0, 5, 4, 1, 3, 0, 5, 1, 5, 5, 5, 2, 1, 1, 5, 5, 5, 1, 5, 5, 0, 0, 1, 0, 5, 2, 0, 3, 3, 0, 3, 5, 3, 5, 5, 4, 5, 2, 0, 1, 3, 5, 3, 5, 1, 4, 1, 2, 5, 1, 5, 5, 5, 5, 0, 3, 2, 2, 4, 3, 5, 2, 2, 5, 0, 3, 4, 5, 0, 3, 1, 5, 5, 5, 1, 5, 3, 0, 0, 3, 5, 2, 5, 5, 1, 1, 2, 1, 3, 5, 0, 4, 0, 0, 5, 4, 5, 5, 4, 2, 4, 0, 2, 3, 5, 4, 2, 4, 2, 3, 2, 0, 4, 3, 0, 5, 3, 5, 5, 0, 5, 5, 0, 4, 0, 0, 5, 5, 5, 5, 5, 3, 2, 0, 5, 3, 1, 3, 1, 5, 5, 5, 3, 4, 3, 1, 4, 0, 5, 3, 5, 5, 4, 5, 0, 3, 5, 2, 1, 0, 5, 4, 4, 4, 2, 3, 0, 5, 4, 5, 2, 0, 1, 5, 5, 5, 2, 0, 3, 4, 5, 5, 5, 5, 0, 2, 4, 2, 3, 4, 3, 0, 2, 4, 1, 0, 0, 0, 5, 0, 5, 3, 0, 1, 3, 3, 4, 1, 5, 5, 4, 4, 1, 5, 4, 1, 4, 5, 0, 5, 3, 3, 1, 5, 0, 5, 1, 2, 5, 1, 2, 1, 0, 5, 1, 0, 5, 5, 0, 5, 5, 5, 2, 0, 1, 3, 4, 5, 3, 0, 5, 5, 1, 0, 5, 5, 4, 2, 5, 5, 4, 3, 3, 3, 4, 5, 0, 5, 5, 5, 1, 3, 3, 5, 5, 1, 4, 5, 0, 5, 4, 3, 0, 5, 5, 2, 5, 3, 4, 5, 3, 2, 2, 5, 5, 5, 2, 5, 1, 2, 4, 2, 0, 5, 5, 0, 4, 5, 5, 1, 5, 4, 3, 4, 1, 1, 5, 5, 0, 2, 5, 5, 0, 5, 4, 0, 1, 5, 5, 2, 4, 5, 1, 2, 5, 0, 5, 3, 0, 2, 5, 0, 2, 2, 0, 5, 0, 3, 0, 2, 3, 0, 2, 0, 4, 4, 5, 5, 5, 5, 1, 5, 5, 5, 0, 3, 0, 0, 1, 4, 5, 0, 0, 5, 5, 5, 4, 4, 5, 2, 5, 2, 4, 0, 2, 5, 0, 2, 2, 5, 5, 5, 5, 2, 3, 2, 2, 2, 5, 0, 5, 5, 5, 5, 0, 5, 3, 5, 1, 5, 2, 5, 5, 2, 5, 4, 5, 3, 5, 3, 1, 5, 2, 1, 0, 0, 3, 5, 0, 0, 3, 0, 1, 5, 1, 5, 1, 4, 4, 4, 4, 0, 5, 0, 4, 0, 5, 5, 5, 2, 3, 5, 2, 2, 5, 0, 4, 3, 1, 4, 4, 5, 0, 0, 2, 4, 5, 4, 3, 2, 1, 5, 3, 5, 5, 5, 5, 4, 1, 3, 5, 3, 0, 5, 4, 4, 5, 1, 1, 2, 5, 5, 5, 3, 1, 5, 0, 5, 0, 0, 1, 3, 1, 1, 5, 4, 3, 2, 0, 5, 4, 5, 5, 0, 4, 5, 0, 0, 5, 4, 4, 3, 1, 2, 2, 4, 2, 5, 3, 1, 2, 1, 3, 5, 0, 5, 0, 2, 1, 5, 3, 5, 5, 1, 5, 2, 0, 4, 3, 0, 2, 5, 5, 5, 4, 5, 0, 0, 0, 5, 0, 5, 3, 4, 2, 0, 5, 1, 5, 1, 1, 5, 5, 0, 5, 5, 4, 1, 0, 4, 5, 5, 5, 5, 5, 4, 5, 1, 4, 3, 5, 3, 1, 0, 0, 1, 3, 4, 4, 4, 1, 1, 0, 2, 0, 4, 2, 5, 2, 5, 5, 1, 0, 0, 5, 0, 3, 5, 2, 3, 5, 2, 1, 4, 5, 5, 4, 1, 5, 4, 5, 5, 0, 5, 5, 4, 1, 2, 3, 3, 5, 3, 5, 5, 1, 3, 1, 1, 1, 4, 3, 4, 0, 5, 1, 5, 3, 3, 1, 1, 5, 5, 5, 1, 4, 4, 5, 0, 4, 4, 0, 5, 2, 0, 0, 2, 3, 0, 5, 4, 2, 1, 0, 5, 5, 2, 4, 5, 0, 2, 3, 0, 5, 5, 2, 4, 1, 2, 2, 3, 5, 4, 5, 5, 3, 5, 1, 0, 5, 5, 5, 4, 2, 0, 5, 3, 2, 5, 4, 0, 0, 5, 3, 2, 4, 5, 3, 0, 2, 3, 3, 5, 3, 1, 0, 3, 5, 3, 0, 3, 1, 1, 3, 5, 5, 2, 5, 4, 0, 3, 5, 0, 0, 5, 4, 5, 4, 0, 5, 2, 5, 3, 1, 2, 2, 3, 5, 1, 0, 5, 4, 0, 3, 0, 5, 2, 1, 3, 2, 4, 4, 5, 3, 0, 1, 2, 5, 0, 3, 3, 5, 5, 4, 0, 2, 5, 0, 3, 4, 5, 5, 2, 5, 5, 0, 5, 4, 5, 1, 1, 5, 1, 0, 4, 5, 2, 1, 3, 5, 5, 3, 5, 2, 3, 0, 0, 5, 1, 5, 1, 1, 3, 5, 2, 5, 4, 1, 0, 0, 3, 4, 5, 0, 5, 1, 5, 5, 4, 5, 1, 0, 0, 1, 1, 4, 2, 5, 5, 5, 0, 2, 4, 5, 5, 5, 2, 5, 0, 0, 2, 3, 1, 2, 1, 5, 2, 3, 0, 1, 1, 0, 4, 4, 4, 1, 5, 5, 1, 4, 5, 3, 1, 5, 5, 2, 1, 5, 0, 1, 4, 5, 4, 4, 2, 5, 5, 2, 5, 0, 3, 5, 1, 1, 5, 5, 5, 5, 0, 3, 3, 4, 5, 5, 1, 0, 5, 3, 3, 0, 1, 4, 1, 4, 5, 2, 2, 5, 1, 0, 0, 1, 4, 3, 5, 0, 2, 5, 2, 1, 1, 5, 5, 4, 0, 5, 4, 2, 4, 0, 0, 5, 5, 2, 1, 3, 5, 5, 3, 5, 1, 3, 5, 5, 5, 2, 5, 5, 5, 5, 0, 1, 1, 2, 5, 5, 5, 5, 5, 5, 3, 1, 2, 1, 4, 2, 3, 1, 4, 5, 5, 5, 5, 3, 1, 4, 4, 1, 4, 5, 5, 2, 4, 2, 5, 3, 5, 5, 5, 3, 5, 1, 1, 3, 5, 3, 5, 2, 5, 0, 1, 4, 1, 5, 1, 5, 5, 3, 2, 2, 1, 3, 5, 5, 5, 3, 1, 2, 0, 1, 1, 1, 0, 2, 5, 5, 4, 5, 4, 1, 5, 0, 0, 1, 2, 5, 2, 5, 4, 3, 3, 3, 5, 1, 4, 3, 3, 5, 3, 2, 3, 2, 5, 5, 5, 0, 5, 0, 0, 0, 4, 3, 5, 4, 0, 4, 4, 4, 4, 4, 3, 0, 4, 5, 2, 2, 3, 1, 2, 5, 4, 5, 3, 4, 2, 3, 5, 2, 4, 5, 0, 1, 4, 0, 1, 2, 0, 0, 1, 3, 5, 2, 3, 0, 1, 5, 5, 5, 1, 0, 5, 5, 5, 0, 2, 5, 0, 5, 5, 0, 3, 0, 2, 2, 5, 5, 0, 0, 1, 1, 2, 1, 1, 5, 0, 5, 3, 3, 3, 1, 1, 5, 1, 2, 1, 5, 3, 0, 5, 0, 5, 1, 0, 5, 0, 4, 4, 3, 0, 3, 1, 1, 5, 4, 0, 0, 1, 1, 5, 2, 2, 5, 1, 5, 4, 0, 1, 5, 5, 2, 3, 5, 3, 0, 2, 2, 5, 5, 5, 1, 0, 4, 1, 5, 0, 2, 5, 1, 5, 4, 1, 2, 5, 1, 3, 1, 2, 0, 5, 4, 2, 0, 5, 5, 5, 4, 3, 5, 1, 0, 0, 5, 1, 1, 1, 5, 0, 2, 3, 5, 5, 0, 3, 4, 2, 4, 3, 0, 4, 5, 4, 3, 0, 5, 1, 5, 2, 5, 0, 5, 5, 2, 3, 5, 1, 5, 2, 2, 4, 4, 3, 1, 2, 0, 0, 5, 2, 5, 2, 2, 5, 1, 4, 0, 5, 0, 0, 3, 3, 1, 5, 5, 5, 3, 4, 4, 3, 3, 0, 4, 5, 2, 4, 1, 1, 5, 4, 3, 5, 2, 4, 5, 3, 5, 0, 4, 4, 5, 5, 4, 5, 5, 5, 2, 4, 5, 4, 3, 3, 4, 3, 5, 2, 3, 4, 0, 1, 5, 0, 5, 4, 5, 0, 5, 4, 2, 5, 2, 0, 2, 5, 5, 5, 0, 4, 2, 3, 1, 5, 5, 0, 4, 5, 5, 5, 2, 0, 2, 0, 1, 5, 5, 1, 3, 5, 0, 0, 2, 0, 5, 0, 0, 1, 1, 0, 5, 2, 1, 4, 5, 5, 0, 5, 2, 1, 1, 1, 5, 5, 5, 5, 0, 2, 5, 5, 3, 3, 3, 3, 4, 3, 5, 5, 5, 5, 5, 1, 5, 5, 0, 2, 0, 5, 0, 4, 5, 5, 5, 3, 1, 5, 2, 3, 5, 5, 0, 1, 5, 4, 5, 2, 1, 5, 3, 2, 5, 4, 2, 4, 2, 0, 4, 0, 0, 5, 5, 3, 2, 3, 0, 2, 4, 1, 4, 3, 5, 3, 5, 0, 5, 3, 2, 4, 2, 3, 3, 1, 3, 0, 5, 5, 5, 0, 0, 3, 3, 1, 3, 5, 2, 3, 2, 0, 3, 2, 5, 0, 2, 3, 0, 4, 5, 4, 2, 4, 3, 5, 3, 5, 1, 4, 1, 5, 4, 4, 5, 3, 5, 1, 4, 0, 3, 5, 0, 4, 5, 2, 5, 2, 4, 5, 1, 5, 4, 2, 0, 5, 3, 5, 4, 5, 1, 1, 0, 0, 5, 0, 4, 1, 0, 3, 5, 5, 5, 0, 5, 2, 2, 0, 1, 3, 5, 2, 5, 1, 4, 5, 5, 5, 0, 0, 1, 0, 3, 4, 5, 2, 5, 5, 2, 5, 5, 2, 1, 4, 5, 1, 3, 0, 1, 3, 1, 5, 1, 5, 5, 3, 2, 5, 1, 0, 5, 3, 4, 2, 5, 5, 1, 1, 0, 4, 0, 0, 2, 3, 4, 0, 2, 5, 2, 2, 5, 5, 5, 2, 4, 1, 5, 0, 4, 0, 1, 0, 5, 5, 0, 0, 2, 4, 4, 2, 4, 4, 3, 1, 5, 5, 4, 2, 0, 4, 3, 2, 4, 5, 0, 2, 1, 5, 3, 0, 5, 5, 3, 1, 0, 5, 0, 5, 0, 1, 5, 3, 5, 3, 5, 5, 0, 0, 5, 5, 1, 4, 5, 3, 5, 5, 0, 5, 5, 1, 2, 5, 0, 4, 5, 5, 4, 1, 2, 5, 1, 5, 5, 4, 4, 3, 2, 3, 5, 2, 3, 4, 4, 3, 1, 2, 1, 2, 3, 3, 2, 5, 5, 5, 2, 5, 5, 5, 5, 5, 3, 5, 4, 5, 1, 4, 0, 3, 5, 1, 5, 2, 5, 3, 0, 5, 5, 1, 0, 3, 5, 4, 0, 1, 0, 5, 2, 4, 5, 0, 2, 4, 0, 2, 0, 1, 0, 1, 4, 5, 1, 2, 0, 5, 5, 5, 0, 0, 3, 2, 5, 5, 5, 5, 4, 0, 5, 5, 1, 3, 5, 5, 4, 5, 1, 5, 1, 4, 4, 1, 1, 3, 5, 1, 5, 3, 5, 1, 2, 5, 0, 0, 5, 2, 4, 1, 0, 0, 2, 5, 1, 1, 5, 4, 4, 5, 4, 3, 2, 5, 5, 1, 0, 4, 2, 5, 2, 2, 3, 5, 5, 1, 0, 4, 5, 2, 2, 4, 4, 5, 1, 5, 5, 0, 5, 5, 3, 2, 5, 0, 5, 0, 0, 3, 2, 4, 1, 5, 5, 2, 5, 0, 0, 5, 1, 5, 5, 1, 2, 1, 3, 0, 1, 2, 2, 5, 4, 5, 1, 5, 1, 1, 2, 0, 2, 4, 3, 4, 2, 0, 0, 1, 2, 1, 5, 3, 5, 5, 3, 1, 4, 2, 3, 4, 4, 0, 5, 3, 4, 2, 5, 5, 1, 5, 1, 3, 2, 5, 0, 5, 5, 4, 4, 5, 4, 2, 4, 0, 0, 0, 2, 1, 2, 3, 5, 5, 0, 4, 0, 5, 0, 5, 3, 0, 3, 0, 3, 5, 5, 0, 0, 1, 3, 5, 1, 5, 4, 4, 1, 5, 2, 0, 0, 5, 5, 1, 0, 5, 5, 0, 5, 3, 1, 0, 5, 4, 5, 1, 5, 0, 4, 5, 3, 2, 0, 4, 4, 5, 3, 0, 0, 5, 0, 0, 1, 5, 5, 0, 5, 5, 5, 4, 2, 5, 4, 5, 3, 5, 1, 5, 2, 4, 0, 2, 1, 0, 3, 0, 2, 1, 3, 1, 4, 2, 5, 3, 1, 4, 2, 5, 5, 3, 0, 5, 1, 0, 5, 1, 5, 2, 1, 5, 4, 3, 4, 5, 5, 3, 4, 3, 4, 0, 1, 5, 3, 5, 0, 1, 1, 5, 0, 5, 5, 2, 0, 3, 3, 5, 5, 2, 1, 5, 5, 4, 5, 2, 5, 0, 1, 5, 5, 3, 5, 2, 2, 5, 0, 1, 1, 2, 4, 5, 5, 1, 5, 2, 5, 0, 0, 4, 5, 1, 0, 5, 3, 5, 5, 1, 5, 0, 5, 3, 3, 4, 1, 3, 5, 3, 0, 3, 2, 5, 2, 1, 1, 0, 5, 1, 0, 5, 5, 5, 3, 5, 0, 5, 5, 2, 2, 3, 5, 3, 1, 3, 0, 5, 5, 1, 5, 5, 3, 3, 0, 3, 5, 2, 0, 2, 4, 5, 2, 4, 4, 3, 5, 2, 4, 5, 4, 1, 5, 3, 5, 5, 2, 5, 3, 4, 1, 0, 4, 5, 3, 1, 4, 1, 5, 5, 2, 2, 1, 0, 5, 0, 4, 5, 3, 1, 4, 2, 5, 2, 2, 5, 3, 4, 4, 0, 2, 5, 0, 1, 2, 3, 1, 4, 1, 5, 1, 0, 1, 3, 1, 5, 2, 4, 0, 4, 0, 3, 5, 2, 2, 4, 3, 3, 0, 4, 5, 5, 3, 5, 1, 5, 5, 0, 1, 0, 1, 5, 5, 0, 3, 5, 5, 4, 4, 5, 1, 2, 0, 2, 3, 1, 1, 0, 0, 5, 2, 3, 0, 4, 3, 5, 1, 0, 3, 0, 0, 5, 5, 3, 0, 5, 0, 0, 1, 5, 4, 5, 4, 2, 5, 3, 2, 1, 3, 5, 5, 1, 1, 5, 1, 0, 5, 3, 5, 5, 1, 3, 1, 5, 0, 1, 1, 5, 0, 3, 2, 0, 3, 3, 5, 5, 3, 4, 0, 5, 3, 1, 3, 0, 0, 3, 4, 0, 3, 5, 1, 0, 0, 1, 0, 2, 0, 2, 4, 5, 0, 4, 5, 5, 5, 0, 0, 2, 3, 3, 1, 2, 0, 0, 3, 1, 3, 2, 2, 2, 5, 5, 0, 5, 2, 5, 5, 5, 1, 2, 5, 5, 3, 4, 5, 3, 2, 4, 1, 5, 0, 1, 3, 0, 5, 3, 5, 0, 5, 4, 5, 0, 5, 5, 0, 5, 5, 3, 2, 0, 3, 5, 5, 5, 0, 0, 5, 5, 1, 5, 0, 5, 5, 5, 2, 2, 4, 1, 3, 5, 4, 1, 5, 5, 3, 5, 1, 4, 5, 5, 3, 5, 1, 3, 1, 3, 5, 3, 3, 0, 5, 0, 3, 2, 5, 5, 2, 1, 5, 0, 5, 5, 5, 0, 0, 5, 0, 4, 4, 3, 4, 1, 5, 5, 5, 3, 5, 5, 0, 5, 4, 0, 1, 4, 2, 1, 5, 2, 1, 2, 5, 4, 3, 3, 4, 1, 1, 5, 5, 0, 3, 5, 0, 5, 0, 0, 0, 5, 5, 5, 5, 3, 1, 0, 1, 5, 4, 0, 3, 3, 5, 5, 0, 5, 3, 5, 0, 5, 1, 3, 4, 5, 1, 5, 5, 0, 5, 0, 5, 1, 3, 1, 4, 4, 2, 2, 5, 5, 4, 1, 0, 3, 5, 0, 5, 5, 5, 0, 5, 4, 4, 2, 4, 2, 1, 2, 4, 2, 3, 1, 5, 3, 2, 3, 3, 5, 3, 0, 4, 5, 3, 1, 3, 0, 3, 5, 0, 5, 3, 1, 5, 3, 5, 5, 2, 5, 5, 1, 5, 1, 1, 3, 5, 5, 0, 2, 5, 1, 5, 2, 1, 5, 0, 4, 3, 2, 5, 0, 1, 5, 2, 1, 5, 1, 1, 3, 5, 1, 5, 0, 2, 0, 5, 2, 5, 0, 5, 5, 0, 0, 1, 3, 5, 0, 4, 3, 5, 2, 2, 0, 4, 1, 5, 2, 2, 5, 0, 5, 3, 0, 1, 4, 2, 5, 2, 5, 4, 4, 1, 5, 2, 2, 4, 5, 5, 3, 3, 3, 0, 4, 1, 5, 3, 2, 2, 2, 4, 3, 0, 4, 5, 5, 0, 5, 5, 5, 0, 1, 5, 4, 4, 0, 2, 1, 5, 0, 4, 5, 3, 5, 5, 0, 4, 2, 5, 5, 4, 5, 1, 4, 5, 0, 0, 3, 1, 5, 0, 5, 5, 5, 5, 4, 4, 0, 3, 2, 2, 5, 2, 5, 5, 2, 5, 0, 0, 1, 1, 0, 5, 2, 0, 5, 5, 1, 0, 5, 3, 0, 5, 1, 0, 3, 0, 1, 5, 5, 5, 1, 2, 2, 3, 5, 0, 5, 3, 1, 4, 5, 3, 0, 5, 3, 0, 1, 5, 5, 5, 5, 5, 2, 4, 5, 3, 2, 1, 1, 5, 2, 3, 5, 5, 1, 3, 3, 5, 5, 4, 5, 2, 1, 2, 1, 5, 0, 5, 2, 1, 5, 0, 0, 2, 3, 1, 0, 2, 0, 0, 0, 5, 5, 5, 0, 5, 2, 5, 5, 2, 2, 5, 5, 1, 3, 3, 3, 2, 0, 5, 3, 4, 1, 3, 1, 2, 3, 5, 4, 3, 4, 5, 4, 5, 3, 0, 4, 5, 1, 3, 1, 5, 5, 5, 5, 4, 1, 3, 5, 3, 3, 3, 1, 4, 1, 5, 3, 2, 2, 2, 5, 5, 4, 0, 5, 2, 1, 0, 1, 2, 5, 2, 0, 3, 0, 5, 0, 3, 5, 1, 1, 1, 3, 4, 0, 1, 0, 0, 0, 1, 2, 0, 1, 5, 3, 5, 0, 5, 1, 0, 3, 5, 3, 2, 2, 5, 5, 5, 1, 0, 2, 4, 1, 1, 5, 5, 5, 1, 5, 3, 2, 3, 4, 1, 4, 1, 3, 4, 3, 1, 5, 0, 2, 5, 3, 0, 4, 5, 3, 5, 0, 2, 5, 0, 5, 5, 5, 0, 0, 4, 3, 4, 5, 4, 5, 0, 3, 3, 5, 5, 5, 5, 1, 0, 0, 5, 2, 3, 5, 5, 1, 2, 1, 5, 5, 1, 3, 1, 2, 1, 5, 2, 4, 5, 4, 1, 3, 1, 5, 3, 5, 2, 1, 1, 5, 2, 3, 5, 5, 5, 5, 5, 0, 5, 1, 5, 0, 2, 4, 0, 5, 5, 4, 5, 5, 5, 3, 4, 1, 3, 2, 0, 5, 1, 4, 5, 0, 1, 1, 3, 0, 5, 5, 1, 2, 5, 2, 2, 5, 5, 2, 4, 3, 1, 5, 1, 1, 4, 1, 5, 0, 0, 0, 5, 5, 5, 0, 1, 5, 5, 0, 2, 2, 4, 1, 2, 4, 5, 2, 3, 5, 5, 3, 3, 2, 0, 4, 1, 3, 3, 0, 0, 5, 0, 4, 5, 0, 3, 4, 3, 1, 5, 0, 1, 5, 2, 4, 3, 4, 2, 5, 5, 0, 3, 5, 5, 3, 5, 5, 0, 5, 5, 0, 5, 0, 3, 1, 4, 0, 2, 0, 5, 4, 5, 2, 1, 1, 3, 2, 0, 5, 5, 3, 4, 3, 5, 5, 1, 2, 1, 3, 5, 0, 1, 4, 5, 4, 0, 5, 2, 3, 5, 5, 0, 2, 5, 1, 3, 4, 0, 5, 4, 0, 3, 1, 5, 5, 5, 2, 0, 2, 3, 4, 0, 4, 1, 5, 0, 3, 2, 0, 4, 0, 1, 2, 0, 4, 5, 5, 2, 5, 2, 0, 3, 2, 5, 1, 2, 0, 5, 4, 4, 5, 1, 5, 0, 5, 0, 5, 1, 5, 5, 2, 5, 2, 5, 0, 2, 2, 0, 4, 3, 5, 1, 1, 5, 4, 5, 0, 5, 2, 0, 1, 0, 2, 5, 5, 3, 1, 1, 2, 0, 3, 1, 1, 2, 4, 5, 5, 5, 3, 5, 5, 1, 5, 3, 4, 2, 5, 5, 5, 0, 5, 2, 5, 5, 0, 1, 5, 2, 2, 4, 5, 3, 5, 5, 5, 2, 5, 5, 4, 0, 5, 2, 5, 4, 5, 0, 5, 1, 5, 5, 5, 2, 2, 2, 2, 3, 2, 2, 5, 2, 1, 5, 2, 5, 2, 1, 1, 2, 5, 5, 5, 5, 1, 4, 0, 0, 3, 5, 1, 3, 3, 4, 5, 0, 5, 2, 2, 0, 4, 4, 5, 4, 0, 5, 1, 3, 1, 1, 5, 5, 5, 3, 3, 2, 2, 2, 3, 0, 5, 5, 5, 2, 2, 1, 5, 2, 5, 2, 5, 2, 5, 5, 5, 1, 4, 1, 1, 5, 5, 2, 2, 0, 1, 2, 2, 2, 4, 5, 2, 3, 3, 5, 2, 5, 5, 3, 3, 4, 0, 5, 1, 1, 4, 5, 1, 0, 3, 3, 2, 4, 2, 1, 2, 3, 5, 5, 5, 5, 1, 0, 5, 4, 4, 5, 0, 2, 3, 2, 2, 5, 1, 3, 0, 5, 1, 3, 1, 5, 1, 4, 1, 2, 0, 5, 5, 5, 5, 5, 5, 3, 1, 5, 4, 0, 3, 3, 0, 0, 3, 1, 3, 5, 0, 2, 2, 4, 1, 4, 3, 2, 1, 3, 0, 4, 2, 4, 2, 3, 5, 1, 0, 5, 0, 3, 4, 0, 1, 0, 3, 4, 0, 0, 5, 4, 0, 4, 0, 0, 5, 0, 1, 0, 3, 5, 2, 5, 1, 0, 5, 5, 4, 4, 3, 2, 0, 0, 5, 5, 3, 3, 1, 5, 1, 4, 5, 0, 5, 3, 5, 0, 5, 3, 2, 5, 1, 5, 2, 2, 5, 5, 3, 5, 4, 4, 0, 3, 5, 4, 5, 1, 1, 0, 0, 1, 5, 5, 4, 4, 1, 5, 1, 5, 5, 5, 4, 5, 0, 5, 5, 3, 2, 3, 0, 4, 2, 2, 1, 1, 2, 4, 1, 2, 0, 0, 5, 5, 1, 5, 3, 1, 0, 5, 4, 5, 5, 5, 1, 3, 5, 5, 0, 0, 5, 3, 3, 3, 5, 5, 0, 3, 4, 1, 4, 0, 1, 3, 0, 4, 0, 1, 2, 0, 5, 0, 3, 0, 0, 2, 0, 1, 5, 0, 0, 2, 3, 1, 1, 4, 0, 4, 5, 1, 4, 1, 0, 1, 4, 3, 2, 5, 0, 0, 2, 2, 4, 5, 1, 5, 5, 4, 4, 3, 4, 5, 0, 5, 2, 0, 0, 3, 5, 5, 1, 1, 3, 5, 2, 5, 5, 5, 3, 3, 2, 5, 5, 3, 0, 5, 5, 5, 5, 3, 3, 2, 1, 1, 2, 5, 3, 3, 5, 5, 0, 3, 5, 2, 5, 1, 4, 5, 5, 5, 2, 2, 2, 2, 0, 1, 0, 2, 3, 4, 4, 4, 5, 5, 5, 2, 1, 0, 2, 3, 5, 0, 1, 3, 3, 5, 3, 0, 3, 0, 1, 4, 5, 5, 5, 2, 0, 5, 4, 5, 5, 5, 3, 2, 2, 3, 4, 5, 2, 5, 5, 5, 2, 0, 4, 1, 0, 1, 0, 3, 5, 0, 5, 3, 1, 5, 0, 0, 3, 5, 4, 2, 0, 0, 4, 5, 5, 5, 5, 5, 5, 2, 5, 5, 5, 3, 2, 4, 2, 5, 5, 5, 3, 4, 4, 0, 4, 1, 5, 2, 5, 0, 4, 0, 0, 3, 3, 3, 5, 4, 5, 0, 2, 5, 5, 0, 5, 5, 3, 0, 0, 4, 5, 1, 5, 4, 4, 2, 5, 2, 5, 3, 5, 0, 1, 0, 1, 3, 2, 3, 5, 3, 2, 4, 2, 3, 3, 5, 1, 5, 1, 1, 5, 2, 5, 1, 1, 3, 5, 5, 1, 0, 0, 0, 0, 3, 0, 2, 3, 5, 2, 5, 5, 5, 1, 5, 1, 5, 4, 0, 4, 5, 0, 0, 3, 0, 4, 3, 1, 0, 5, 3, 5, 5, 0, 5, 5, 4, 1, 0, 0, 2, 4, 0, 3, 1, 5, 5, 3, 5, 3, 5, 1, 4, 5, 0, 5, 3, 5, 4, 0, 5, 5, 3, 2, 2, 1, 5, 3, 1, 2, 5, 0, 2, 2, 5, 0, 4, 4, 0, 4, 5, 5, 3, 5, 5, 4, 3, 4, 3, 0, 2, 5, 5, 3, 5, 2, 0, 5, 5, 5, 5, 5, 2, 2, 0, 0, 2, 0, 2, 5, 0, 3, 1, 5, 2, 5, 3, 0, 3, 5, 5, 4, 5, 4, 1, 2, 4, 5, 1, 1, 4, 5, 1, 0, 5, 1, 5, 2, 5, 0, 5, 1, 2, 5, 5, 5, 5, 4, 0, 2, 3, 2, 5, 4, 0, 2, 3, 3, 5, 5, 2, 4, 5, 1, 4, 2, 0, 5, 0, 5, 0, 1, 5, 1, 0, 1, 1, 1, 3, 2, 5, 1, 5, 0, 5, 2, 5, 4, 1, 3, 0, 1, 2, 5, 3, 4, 5, 0, 5, 0, 5, 4, 4, 5, 3, 4, 5, 3, 3, 5, 0, 4, 2, 0, 5, 1, 3, 4, 5, 1, 2, 5, 5, 5, 4, 0, 1, 4, 0, 0, 0, 5, 5, 0, 1, 5, 2, 5, 5, 0, 1, 0, 0, 5, 1, 0, 5, 4, 2, 3, 4, 0, 0, 5, 1, 5, 2, 0, 0, 5, 5, 4, 5, 5, 5, 2, 2, 2, 2, 1, 2, 4, 4, 5, 5, 5, 2, 3, 5, 0, 5, 1, 0, 4, 5, 0, 3, 0, 5, 4, 5, 1, 5, 4, 3, 4, 5, 1, 5, 5, 5, 5, 4, 4, 5, 5, 0, 4, 2, 2, 3, 5, 5, 3, 1, 3, 4, 3, 3, 5, 4, 5, 1, 1, 0, 5, 5, 1, 1, 2, 5, 4, 1, 1, 5, 0, 3, 0, 0, 0, 0, 5, 2, 2, 0, 5, 1, 0, 3, 2, 5, 4, 5, 0, 2, 5, 0, 1, 2, 1, 0, 5, 5, 5, 5, 5, 4, 2, 1, 5, 0, 2, 5, 5, 3, 5, 1, 5, 1, 3, 0, 1, 1, 4, 0, 4, 1, 5, 1, 0, 1, 1, 0, 5, 1, 5, 5, 1, 4, 1, 5, 5, 5, 2, 0, 5, 0, 2, 1, 2, 2, 5, 1, 5, 3, 5, 0, 2, 4, 5, 5, 5, 0, 3, 5, 5, 3, 3, 3, 5, 2, 1, 2, 5, 0, 2, 0, 0, 5, 1, 4, 3, 2, 5, 3, 5, 1, 0, 1, 0, 2, 0, 4, 0, 4, 4, 5, 5, 0, 4, 4, 5, 2, 5, 3, 1, 1, 3, 5, 0, 4, 5, 3, 3, 5, 5, 4, 5, 5, 2, 3, 4, 1, 5, 4, 5, 1, 1, 0, 0, 4, 5, 2, 4, 3, 3, 4, 0, 5, 4, 5, 3, 5, 0, 4, 5, 5, 3, 1, 1, 5, 1, 0, 3, 4, 2, 2, 5, 5, 5, 5, 4, 5, 1, 3, 5, 1, 0, 2, 2, 4, 5, 1, 1, 3, 3, 0, 0, 1, 5, 5, 1, 5, 4, 2, 5, 2, 0, 0, 4, 1, 4, 3, 3, 5, 5, 3, 5, 2, 0, 0, 2, 3, 0, 1, 2, 0, 5, 1, 1, 1, 5, 1, 0, 0, 5, 5, 0, 0, 5, 1, 3, 2, 5, 1, 1, 1, 2, 1, 3, 1, 1, 4, 2, 1, 5, 0, 2, 2, 3, 2, 0, 5, 5, 3, 5, 1, 2, 3, 0, 5, 1, 2, 0, 4, 5, 5, 3, 5, 3, 4, 4, 2, 3, 1, 5, 4, 1, 5, 2, 2, 4, 5, 1, 1, 5, 4, 5, 1, 1, 1, 3, 1, 5, 3, 2, 5, 2, 3, 3, 0, 2, 3, 0, 5, 2, 3, 3, 4, 2, 0, 5, 5, 5, 5, 2, 5, 5, 1, 3, 4, 2, 4, 0, 5, 1, 3, 0, 2, 2, 3, 2, 3, 5, 5, 5, 0, 5, 1, 5, 4, 5, 5, 4, 5, 4, 2, 3, 1, 5, 0, 3, 5, 5, 5, 5, 4, 5, 4, 0, 5, 0, 5, 4, 0, 1, 4, 1, 4, 4, 5, 4, 5, 0, 1, 2, 0, 0, 1, 1, 2, 2, 3, 1, 5, 0, 3, 4, 0, 5, 4, 5, 5, 5, 1, 3, 1, 0, 3, 2, 5, 1, 1, 0, 4, 5, 0, 4, 1, 3, 4, 0, 5, 1, 5, 4, 0, 3, 3, 4, 3, 2, 5, 4, 5, 5, 5, 3, 5, 0, 4, 3, 4, 4, 2, 2, 4, 5, 5, 0, 0, 5, 0, 2, 0, 3, 0, 0, 2, 2, 5, 1, 5, 5, 3, 4, 0, 5, 4, 3, 5, 4, 1, 4, 5, 2, 2, 1, 0, 5, 0, 5, 5, 0, 5, 5, 2, 5, 2, 0, 5, 5, 0, 3, 5, 1, 5, 5, 1, 4, 5, 3, 5, 3, 5, 0, 5, 3, 0, 5, 4, 5, 5, 5, 4, 5, 1, 5, 4, 3, 5, 5, 3, 3, 1, 3, 4, 0, 3, 3, 0, 4, 0, 4, 3, 2, 3, 1, 1, 0, 5, 1, 2, 3, 4, 5, 1, 2, 4, 5, 4, 1, 2, 5, 4, 3, 5, 1, 0, 5, 5, 2, 5, 3, 5, 5, 5, 4, 5, 3, 2, 3, 0, 1, 3, 5, 5, 1, 5, 4, 5, 3, 2, 0, 0, 3, 3, 2, 1, 5, 1, 4, 1, 5, 5, 5, 5, 2, 0, 5, 5, 2, 3, 3, 1, 5, 0, 3, 5, 4, 5, 4, 5, 5, 5, 3, 5, 3, 5, 3, 1, 3, 2, 5, 5, 0, 1, 4, 2, 5, 5, 5, 1, 0, 4, 1, 5, 5, 5, 0, 3, 5, 2, 0, 5, 5, 3, 1, 5, 3, 2, 5, 5, 2, 1, 2, 2, 0, 0, 5, 3, 1, 2, 3, 4, 0, 5, 4, 4, 3, 5, 5, 5, 4, 5, 0, 1, 0, 4, 4, 3, 1, 5, 0, 1, 1, 5, 1, 5, 5, 4, 5, 4, 5, 4, 4, 3, 4, 4, 5, 5, 2, 1, 3, 3, 1, 4, 3, 5, 5, 5, 4, 5, 0, 5, 0, 5, 3, 2, 5, 2, 3, 0, 1, 0, 5, 0, 5, 2, 1, 0, 5, 5, 4, 5, 1, 5, 4, 5, 4, 2, 5, 5, 4, 1, 1, 2, 0, 5, 5, 0, 5, 1, 1, 0, 0, 5, 2, 2, 0, 3, 3, 0, 4, 5, 5, 5, 5, 5, 4, 2, 4, 5, 3, 5, 5, 1, 5, 3, 4, 5, 5, 4, 3, 5, 1, 4, 5, 2, 5, 3, 4, 5, 5, 5, 5, 2, 2, 2, 5, 5, 4, 3, 0, 2, 2, 0, 3, 0, 0, 0, 4, 1, 0, 1, 5, 5, 3, 0, 2, 2, 0, 3, 2, 3, 1, 3, 1, 5, 5, 5, 0, 5, 1, 0, 5, 3, 1, 4, 3, 3, 3, 3, 2, 5, 0, 5, 3, 0, 4, 3, 4, 5, 4, 0, 3, 5, 4, 5, 5, 1, 5, 5, 5, 5, 2, 0, 5, 1, 5, 4, 5, 0, 2, 3, 5, 1, 4, 0, 3, 3, 0, 3, 1, 3, 1, 5, 4, 5, 5, 2, 0, 5, 5, 0, 3, 1, 1, 0, 2, 0, 1, 0, 3, 5, 4, 4, 0, 5, 4, 3, 2, 1, 4, 1, 1, 5, 0, 3, 2, 0, 3, 3, 3, 5, 5, 3, 2, 3, 0, 2, 3, 4, 1, 1, 3, 3, 5, 5, 0, 5, 5, 4, 5, 4, 5, 5, 5, 1, 1, 4, 0, 4, 5, 2, 0, 5, 4, 1, 1, 3, 5, 0, 3, 5, 5, 5, 2, 5, 5, 5, 5, 0, 5, 0, 2, 2, 1, 5, 4, 5, 3, 4, 1, 2, 5, 3, 2, 0, 0, 1, 1, 3, 5, 4, 5, 5, 3, 2, 3, 3, 3, 1, 5, 0, 0, 3, 2, 5, 0, 2, 5, 4, 2, 2, 2, 0, 0, 1, 0, 5, 2, 0, 0, 0, 3, 2, 5, 0, 0, 4, 5, 1, 1, 2, 3, 4, 1, 4, 4, 4, 2, 0, 0, 5, 4, 0, 1, 1, 5, 2, 4, 5, 5, 3, 5, 0, 0, 0, 1, 5, 3, 5, 3, 5, 4, 0, 5, 5, 5, 3, 5, 5, 1, 5, 5, 5, 1, 5, 2, 3, 3, 1, 3, 4, 5, 5, 5, 2, 3, 5, 5, 1, 1, 1, 3, 4, 4, 2, 3, 1, 5, 5, 0, 1, 0, 5, 1, 3, 5, 1, 0, 5, 3, 5, 1, 5, 3, 5, 5, 5, 4, 5, 0, 5, 4, 5, 0, 2, 1, 5, 3, 4, 2, 5, 1, 5, 0, 5, 4, 3, 3, 5, 5, 5, 3, 5, 2, 3, 2, 5, 5, 1, 0, 3, 5, 1, 3, 2, 0, 3, 0, 3, 5, 4, 0, 3, 3, 5, 1, 4, 2, 0, 0, 3, 3, 3, 4, 1, 5, 3, 5, 5, 3, 0, 5, 3, 2, 0, 5, 2, 5, 5, 4, 3, 5, 1, 4, 4, 4, 5, 5, 5, 5, 0, 0, 1, 2, 0, 5, 5, 5, 1, 5, 2, 4, 1, 4, 5, 5, 5, 3, 1, 0, 1, 5, 3, 4, 4, 3, 0, 5, 0, 2, 2, 1, 5, 2, 3, 0, 1, 2, 4, 2, 2, 0, 5, 3, 5, 2, 5, 4, 4, 3, 5, 0, 3, 0, 5, 1, 2, 1, 2, 1, 5, 4, 3, 2, 3, 1, 4, 5, 0, 5, 2, 3, 4, 5, 2, 3, 1, 2, 5, 5, 3, 3, 2, 5, 0, 5, 5, 1, 4, 5, 0, 2, 1, 5, 2, 0, 5, 5, 3, 5, 4, 2, 2, 0, 5, 3, 2, 5, 5, 1, 5, 5, 0, 5, 1, 4, 5, 0, 5, 4, 5, 4, 2, 0, 3, 3, 0, 1, 1, 3, 5, 5, 4, 2, 4, 5, 5, 0, 1, 4, 5, 3, 3, 0, 5, 5, 0, 0, 4, 2, 5, 5, 5, 2, 0, 1, 0, 3, 2, 5, 0, 0, 5, 5, 2, 5, 0, 2, 1, 2, 4, 5, 4, 3, 0, 5, 1, 5, 3, 0, 3, 1, 3, 4, 0, 0, 5, 2, 5, 2, 5, 0, 4, 3, 1, 0, 0, 5, 5, 5, 4, 1, 5, 5, 5, 4, 3, 4, 5, 5, 0, 5, 3, 0, 5, 5, 4, 5, 3, 0, 4, 4, 3, 0, 2, 5, 0, 0, 0, 0, 0, 2, 4, 1, 2, 4, 2, 5, 5, 3, 3, 4, 5, 5, 1, 5, 5, 5, 2, 2, 1, 5, 5, 2, 1, 0, 4, 0, 1, 5, 2, 4, 4, 2, 4, 0, 1, 3, 5, 2, 2, 4, 5, 5, 5, 3, 5, 2, 0, 3, 5, 3, 2, 4, 0, 5, 3, 3, 3, 1, 3, 4, 1, 5, 5, 1, 3, 2, 5, 3, 5, 1, 5, 4, 2, 5, 1, 1, 0, 3, 4, 1, 2, 5, 5, 0, 2, 0, 0, 1, 0, 5, 5, 5, 3, 1, 1, 5, 3, 1, 2, 5, 5, 4, 5, 5, 5, 4, 0, 1, 0, 3, 5, 5, 3, 4, 2, 5, 5, 4, 3, 0, 2, 5, 3, 3, 3, 4, 0, 1, 5, 5, 2, 3, 1, 5, 5, 5, 0, 3, 2, 5, 5, 1, 5, 5, 5, 0, 1, 3, 5, 5, 4, 2, 5, 3, 1, 0, 0, 0, 2, 0, 5, 4, 3, 4, 1, 5, 5, 1, 4, 5, 1, 5, 2, 4, 5, 5, 2, 2, 1, 5, 1, 5, 5, 1, 5, 5, 5, 5, 5, 3, 4, 0, 1, 5, 5, 3, 1, 4, 5, 2, 5, 1, 2, 3, 3, 1, 3, 2, 5, 0, 5, 5, 2, 2, 3, 1, 3, 5, 1, 2, 1, 0, 1, 3, 5, 3, 5, 0, 1, 1, 4, 5, 5, 2, 4, 1, 4, 5, 1, 5, 0, 2, 3, 1, 5, 5, 5, 0, 1, 1, 3, 4, 0, 2, 5, 3, 4, 3, 0, 0, 2, 4, 4, 2, 3, 0, 0, 1, 3, 5, 0, 5, 2, 4, 4, 2, 5, 0, 4, 3, 4, 5, 2, 5, 0, 0, 4, 5, 0, 0, 0, 3, 1, 2, 4, 5, 4, 0, 1, 3, 5, 5, 4, 3, 5, 4, 5, 4, 2, 5, 2, 5, 3, 0, 1, 5, 5, 2, 0, 2, 1, 3, 5, 3, 4, 1, 0, 1, 2, 5, 2, 5, 0, 1, 5, 5, 1, 1, 5, 5, 5, 0, 5, 1, 0, 0, 5, 5, 2, 4, 5, 3, 3, 5, 2, 5, 1, 5, 4, 5, 5, 1, 3, 4, 1, 5, 2, 5, 5, 5, 0, 5, 0, 2, 4, 4, 4, 2, 1, 0, 5, 2, 4, 1, 4, 1, 5, 1, 3, 5, 5, 1, 3, 4, 1, 1, 3, 3, 2, 4, 0, 4, 1, 5, 1, 5, 5, 5, 5, 5, 5, 0, 1, 5, 4, 1, 0, 0, 0, 1, 2, 0, 5, 5, 1, 5, 0, 2, 5, 3, 4, 5, 3, 1, 0, 5, 2, 3, 5, 5, 3, 5, 5, 2, 1, 1, 1, 5, 0, 2, 3, 4, 5, 0, 0, 3, 5, 5, 5, 3, 4, 5, 0, 5, 5, 1, 5, 0, 5, 5, 0, 0, 0, 2, 3, 0, 0, 4, 5, 5, 2, 1, 3, 2, 5, 5, 5, 0, 5, 1, 0, 5, 0, 3, 2, 5, 0, 0, 3, 5, 3, 5, 2, 1, 5, 1, 5, 2, 1, 2, 1, 5, 5, 0, 1, 5, 3, 2, 3, 5, 2, 1, 0, 5, 5, 2, 5, 5, 5, 0, 3, 4, 5, 2, 4, 5, 5, 2, 5, 0, 4, 2, 1, 2, 0, 5, 0, 0, 4, 5, 1, 2, 5, 5, 0, 2, 2, 4, 4, 5, 5, 0, 0, 5, 1, 3, 3, 4, 4, 2, 5, 4, 5, 4, 0, 2, 5, 5, 5, 1, 5, 1, 3, 5, 2, 2, 3, 4, 1, 2, 3, 0, 3, 4, 4, 3, 5, 3, 5, 3, 0, 4, 5, 5, 0, 5, 4, 2, 1, 5, 2, 4, 5, 2, 0, 1, 0, 4, 5, 0, 0, 0, 1, 1, 2, 1, 3, 1, 4, 1, 3, 2, 5, 5, 5, 0, 4, 1, 0, 4, 2, 5, 3, 0, 5, 1, 1, 3, 0, 4, 0, 1, 5, 4, 2, 4, 4, 1, 3, 5, 3, 5, 2, 5, 2, 5, 3, 2, 5, 4, 3, 4, 1, 2, 1, 2, 0, 1, 2, 4, 2, 5, 1, 5, 1, 5, 0, 5, 5, 2, 1, 3, 5, 2, 5, 0, 0, 5, 5, 5, 1, 1, 0, 5, 5, 0, 3, 3, 5, 3, 5, 4, 5, 2, 3, 3, 5, 3, 5, 4, 4, 1, 5, 2, 5, 4, 1, 5, 5, 2, 0, 3, 2, 0, 5, 5, 1, 0, 5, 0, 2, 5, 2, 0, 5, 4, 5, 2, 3, 0, 4, 5, 0, 3, 5, 5, 0, 4, 4, 5, 3, 5, 2, 5, 2, 4, 4, 1, 1, 1, 3, 3, 4, 5, 0, 5, 3, 0, 5, 1, 5, 5, 5, 3, 5, 0, 5, 5, 5, 5, 5, 2, 5, 0, 2, 5, 5, 5, 5, 5, 0, 1, 1, 3, 5, 1, 0, 5, 2, 0, 5, 5, 0, 1, 1, 1, 5, 0, 4, 2, 2, 5, 1, 4, 0, 5, 3, 1, 3, 2, 1, 2, 2, 0, 5, 2, 2, 1, 5, 5, 4, 5, 0, 5, 5, 0, 5, 5, 5, 5, 5, 0, 4, 1, 2, 0, 5, 5, 0, 0, 5, 3, 5, 5, 5, 5, 3, 4, 3, 5, 2, 0, 4, 5, 5, 5, 1, 4, 2, 0, 0, 0, 5, 4, 5, 5, 0, 2, 2, 4, 1, 5, 3, 0, 3, 5, 4, 0, 5, 0, 2, 1, 5, 3, 2, 5, 2, 3, 4, 1, 0, 1, 5, 2, 1, 1, 5, 3, 3, 2, 2, 5, 5, 5, 5, 0, 5, 0, 5, 5, 2, 2, 5, 5, 2, 5, 1, 5, 4, 2, 0, 2, 4, 1, 5, 4, 5, 5, 5, 5, 3, 0, 0, 4, 3, 0, 5, 2, 5, 0, 3, 2, 1, 5, 0, 1, 0, 5, 2, 4, 5, 5, 1, 3, 5, 5, 4, 5, 0, 0, 1, 1, 5, 5, 5, 5, 1, 5, 1, 2, 5, 5, 5, 5, 5, 5, 1, 4, 1, 4, 0, 2, 3, 0, 4, 5, 5, 5, 5, 1, 4, 4, 3, 3, 2, 3, 5, 5, 5, 5, 5, 5, 0, 5, 2, 5, 0, 0, 5, 2, 1, 2, 5, 5, 5, 5, 3, 5, 1, 5, 3, 3, 3, 5, 3, 0, 4, 5, 1, 1, 5, 4, 5, 4, 4, 5, 0, 3, 3, 5, 2, 5, 5, 5, 4, 1, 5, 1, 5, 4, 5, 1, 3, 5, 5, 3, 5, 3, 2, 4, 3, 4, 5, 0, 5, 4, 5, 3, 5, 3, 1, 0, 5, 5, 1, 4, 4, 2, 1, 0, 5, 1, 1, 2, 5, 0, 4, 3, 4, 5, 2, 4, 5, 2, 3, 5, 2, 4, 3, 4, 5, 1, 0, 5, 5, 5, 1, 4, 0, 2, 1, 3, 3, 5, 3, 3, 2, 5, 0, 0, 3, 1, 5, 0, 1, 3, 2, 0, 4, 1, 4, 4, 0, 4, 3, 2, 0, 0, 1, 1, 5, 1, 0, 0, 5, 4, 0, 0, 5, 1, 5, 4, 5, 1, 5, 3, 0, 5, 0, 2, 4, 0, 0, 3, 2, 1, 5, 2, 5, 5, 1, 4, 1, 5, 4, 2, 5, 2, 5, 5, 4, 5, 3, 5, 5, 0, 4, 5, 1, 1, 0, 3, 1, 3, 5, 4, 2, 0, 1, 5, 5, 5, 0, 1, 4, 1, 3, 3, 3, 2, 5, 5, 4, 3, 5, 5, 5, 3, 5, 4, 4, 2, 2, 5, 4, 1, 3, 3, 2, 5, 2, 0, 4, 1, 4, 5, 5, 4, 3, 2, 4, 1, 1, 1, 1, 3, 3, 5, 5, 5, 0, 4, 0, 5, 5, 1, 0, 5, 5, 0, 2, 3, 5, 0, 3, 1, 5, 5, 1, 5, 5, 3, 3, 1, 1, 5, 3, 2, 1, 0, 0, 4, 5, 0, 1, 5, 0, 0, 5, 2, 0, 5, 5, 3, 5, 0, 5, 0, 4, 5, 1, 4, 2, 2, 5, 4, 4, 1, 2, 1, 5, 1, 1, 5, 1, 0, 1, 3, 5, 2, 5, 5, 2, 3, 3, 5, 5, 2, 5, 2, 1, 1, 0, 5, 5, 5, 5, 2, 4, 0, 3, 0, 5, 1, 4, 1, 5, 0, 3, 5, 5, 3, 0, 1, 1, 2, 5, 4, 2, 5, 3, 3, 5, 1, 1, 5, 5, 0, 4, 4, 2, 5, 5, 0, 5, 1, 4, 4, 3, 4, 5, 3, 4, 2, 2, 5, 5, 1, 5, 3, 5, 3, 5, 0, 0, 5, 1, 1, 5, 5, 2, 0, 4, 1, 2, 0, 5, 3, 2, 3, 1, 4, 5, 5, 5, 0, 4, 5, 1, 5, 5, 0, 2, 1, 0, 3, 1, 1, 1, 4, 0, 4, 2, 3, 0, 5, 5, 0, 0, 0, 4, 5, 1, 4, 1, 5, 1, 1, 5, 5, 0, 5, 3, 5, 5, 0, 4, 3, 5, 5, 5, 5, 4, 3, 3, 2, 2, 5, 5, 3, 2, 3, 3, 2, 1, 5, 0, 4, 1, 5, 1, 4, 0, 1, 1, 2, 5, 1, 0, 4, 3, 2, 1, 2, 1, 1, 5, 5, 3, 5, 2, 2, 5, 3, 5, 2, 0, 5, 2, 2, 0, 0, 5, 5, 4, 0, 1, 1, 2, 2, 1, 3, 5, 5, 3, 4, 0, 2, 5, 5, 5, 5, 5, 0, 1, 1, 4, 5, 4, 3, 5, 5, 1, 5, 3, 2, 4, 0, 1, 5, 5, 3, 0, 0, 1, 1, 3, 5, 0, 3, 2, 0, 4, 5, 1, 1, 5, 0, 4, 1, 5, 1, 5, 5, 3, 5, 1, 5, 3, 4, 0, 1, 1, 5, 1, 4, 5, 0, 1, 3, 5, 1, 5, 5, 5, 0, 0, 0, 5, 0, 5, 3, 5, 5, 5, 3, 2, 2, 2, 5, 3, 2, 5, 1, 5, 5, 5, 3, 5, 5, 2, 1, 2, 0, 4, 4, 2, 5, 5, 5, 0, 5, 5, 5, 5, 2, 5, 0, 2, 1, 3, 5, 1, 5, 1, 1, 0, 2, 4, 0, 5, 5, 1, 0, 2, 2, 5, 2, 2, 4, 2, 2, 2, 2, 5, 3, 3, 1, 5, 5, 2, 5, 5, 3, 0, 1, 2, 0, 2, 4, 5, 3, 5, 2, 0, 1, 5, 4, 1, 4, 5, 1, 1, 4, 3, 0, 5, 1, 5, 1, 1, 3, 5, 0, 0, 5, 1, 4, 5, 1, 5, 4, 1, 4, 5, 5, 0, 0, 3, 5, 3, 1, 3, 0, 0, 0, 2, 5, 3, 1, 4, 4, 3, 5, 1, 5, 5, 4, 1, 0, 4, 0, 0, 1, 5, 0, 3, 0, 0, 0, 2, 5, 0, 5, 0, 3, 2, 2, 2, 2, 2, 5, 1, 1, 0, 1, 0, 1, 2, 5, 3, 0, 5, 1, 2, 5, 5, 2, 5, 0, 2, 1, 0, 1, 5, 3, 2, 4, 2, 5, 0, 1, 0, 3, 5, 3, 5, 5, 3, 0, 4, 0, 3, 5, 4, 5, 5, 5, 3, 1, 5, 5, 2, 0, 2, 3, 4, 0, 5, 4, 4, 0, 2, 5, 3, 0, 5, 5, 1, 2, 1, 2, 5, 5, 0, 2, 5, 5, 1, 2, 1, 5, 5, 3, 1, 3, 0, 5, 1, 2, 5, 0, 5, 1, 4, 4, 1, 4, 3, 1, 2, 1, 4, 5, 5, 4, 3, 4, 1, 0, 4, 5, 0, 0, 0, 5, 1, 0, 3, 3, 4, 3, 4, 3, 2, 4, 2, 5, 1, 3, 5, 5, 3, 5, 4, 1, 1, 5, 3, 2, 4, 5, 3, 4, 0, 5, 4, 2, 4, 4, 3, 0, 5, 1, 4, 2, 0, 3, 5, 1, 5, 2, 3, 0, 4, 2, 3, 1, 0, 3, 1, 2, 2, 5, 5, 2, 1, 5, 5, 5, 5, 2, 4, 3, 5, 5, 1, 3, 5, 5, 4, 1, 4, 1, 4, 1, 1, 1, 3, 5, 3, 0, 1, 2, 1, 4, 1, 5, 5, 0, 5, 3, 5, 3, 3, 0, 5, 5, 2, 0, 3, 1, 5, 5, 0, 5, 3, 0, 5, 1, 0, 0, 1, 5, 3, 2, 0, 5, 3, 3, 5, 0, 5, 0, 3, 1, 1, 1, 1, 0, 0, 0, 3, 5, 4, 5, 0, 0, 3, 5, 5, 2, 5, 2, 2, 5, 0, 0, 4, 5, 5, 0, 2, 0, 4, 5, 5, 5, 0, 5, 2, 5, 2, 5, 2, 0, 1, 5, 3, 0, 4, 3, 5, 0, 5, 5, 1, 0, 2, 5, 0, 5, 0, 2, 3, 5, 0, 0, 4, 0, 2, 1, 5, 0, 5, 1, 5, 3, 4, 1, 5, 3, 5, 1, 0, 2, 1, 4, 0, 0, 0, 1, 0, 4, 5, 4, 1, 1, 5, 5, 0, 5, 1, 2, 0, 2, 5, 2, 1, 5, 0, 0, 5, 5, 5, 2, 1, 0, 2, 0, 5, 0, 5, 5, 5, 1, 1, 0, 3, 4, 2, 2, 0, 1, 4, 3, 3, 0, 0, 3, 0, 5, 0, 1, 2, 4, 3, 0, 4, 5, 5, 5, 1, 0, 4, 1, 3, 3, 5, 1, 3, 5, 0, 2, 1, 2, 4, 2, 0, 5, 2, 5, 0, 5, 3, 5, 1, 3, 0, 5, 2, 1, 2, 5, 1, 4, 1, 0, 1, 4, 2, 3, 5, 4, 4, 2, 5, 4, 5, 0, 3, 5, 5, 5, 5, 1, 0, 3, 1, 3, 3, 2, 3, 1, 4, 0, 3, 1, 0, 5, 4, 0, 1, 0, 5, 1, 5, 3, 1, 5, 3, 5, 2, 1, 4, 5, 5, 0, 5, 3, 5, 0, 4, 3, 0, 5, 0, 0, 3, 3, 1, 5, 2, 1, 3, 5, 5, 2, 3, 3, 1, 5, 2, 4, 0, 1, 0, 5, 4, 5, 0, 0, 5, 5, 5, 5, 2, 4, 3, 3, 1, 5, 5, 4, 1, 2, 5, 1, 4, 4, 5, 1, 4, 5, 4, 2, 5, 5, 1, 2, 5, 5, 2, 1, 4, 0, 3, 2, 2, 0, 3, 0, 3, 1, 5, 0, 1, 2, 3, 5, 5, 5, 1, 5, 0, 5, 4, 5, 4, 0, 0, 2, 4, 5, 1, 2, 2, 3, 1, 4, 1, 1, 1, 5, 5, 3, 0, 5, 1, 3, 3, 1, 0, 5, 0, 5, 2, 1, 5, 0, 2, 0, 0, 3, 5, 5, 3, 1, 5, 5, 0, 5, 2, 1, 5, 0, 1, 5, 1, 5, 0, 2, 5, 5, 3, 2, 4, 3, 1, 0, 5, 3, 2, 5, 0, 3, 0, 2, 2, 2, 4, 0, 5, 5, 3, 3, 3, 4, 3, 5, 5, 5, 2, 5, 5, 5, 0, 4, 2, 4, 2, 1, 2, 2, 4, 1, 5, 2, 0, 1, 4, 1, 3, 5, 5, 1, 5, 5, 2, 5, 3, 5, 2, 3, 0, 5, 5, 5, 2, 2, 4, 5, 1, 2, 5, 1, 5, 3, 1, 3, 5, 3, 5, 3, 5, 5, 1, 3, 3, 4, 2, 2, 5, 1, 3, 1, 5, 3, 2, 0, 2, 0, 1, 0, 5, 1, 5, 0, 5, 0, 5, 2, 5, 5, 0, 2, 5, 5, 5, 1, 2, 5, 2, 5, 5, 3, 3, 4, 3, 0, 1, 1, 0, 5, 3, 4, 3, 5, 5, 1, 3, 4, 1, 0, 2, 5, 5, 3, 1, 5, 3, 0, 3, 5, 2, 3, 2, 1, 5, 1, 5, 4, 1, 0, 5, 4, 1, 3, 1, 3, 0, 1, 5, 5, 1, 3, 2, 1, 0, 2, 2, 1, 5, 0, 2, 4, 1, 3, 1, 4, 1, 1, 3, 5, 5, 4, 0, 5, 5, 5, 0, 3, 0, 2, 1, 4, 5, 1, 4, 5, 5, 2, 2, 0, 4, 5, 1, 5, 0, 2, 3, 5, 5, 5, 5, 4, 5, 5, 4, 0, 5, 5, 5, 0, 0, 1, 4, 5, 5, 5, 5, 5, 5, 3, 5, 3, 3, 5, 5, 0, 3, 5, 3, 0, 1, 4, 5, 4, 1, 3, 2, 1, 1, 3, 3, 4, 5, 1, 0, 0, 3, 0, 4, 0, 5, 0, 0, 4, 4, 2, 4, 5, 5, 5, 5, 5, 0, 2, 0, 3, 5, 3, 2, 5, 0, 3, 4, 3, 2, 0, 0, 2, 0, 3, 2, 4, 2, 1, 5, 2, 3, 5, 1, 0, 0, 5, 0, 3, 0, 5, 5, 1, 5, 5, 4, 4, 5, 5, 2, 0, 0, 3, 3, 1, 5, 4, 1, 3, 1, 0, 5, 1, 3, 4, 2, 2, 5, 4, 0, 5, 4, 0, 4, 5, 5, 0, 1, 5, 0, 5, 4, 3, 2, 0, 5, 5, 5, 4, 0, 1, 2, 5, 1, 3, 4, 1, 1, 0, 5, 4, 0, 2, 5, 0, 3, 3, 5, 0, 2, 3, 2, 0, 0, 3, 5, 4, 1, 4, 4, 1, 1, 0, 0, 1, 5, 5, 2, 1, 5, 5, 0, 1, 5, 5, 2, 5, 5, 2, 5, 4, 1, 4, 0, 5, 0, 4, 2, 0, 3, 2, 0, 3, 4, 1, 0, 5, 2, 0, 5, 2, 5, 5, 3, 1, 5, 0, 0, 5, 5, 5, 2, 3, 5, 4, 5, 1, 5, 2, 5, 2, 1, 0, 1, 4, 2, 0, 2, 1, 5, 5, 0, 2, 3, 3, 5, 5, 5, 0, 1, 3, 4, 1, 0, 5, 3, 4, 0, 4, 4, 1, 5, 3, 5, 1, 5, 1, 2, 2, 4, 5, 3, 5, 4, 5, 5, 1, 5, 5, 1, 5, 5, 2, 3, 2, 3, 5, 5, 1, 1, 5, 3, 0, 0, 4, 5, 0, 5, 5, 5, 2, 4, 0, 5, 3, 0, 2, 3, 4, 4, 0, 2, 5, 0, 1, 5, 5, 2, 5, 0, 5, 5, 3, 1, 3, 4, 1, 3, 5, 5, 5, 0, 3, 2, 2, 4, 1, 5, 3, 1, 0, 5, 2, 2, 3, 5, 5, 0, 0, 4, 4, 5, 5, 1, 3, 5, 1, 5, 2, 5, 0, 5, 5, 3, 5, 5, 2, 5, 1, 4, 3, 0, 0, 3, 0, 3, 3, 1, 1, 5, 5, 5, 5, 3, 3, 2, 3, 1, 4, 1, 5, 0, 5, 5, 5, 0, 3, 5, 0, 5, 3, 3, 5, 5, 3, 5, 3, 0, 2, 3, 5, 1, 0, 5, 1, 3, 1, 5, 0, 3, 1, 2, 4, 5, 4, 5, 4, 3, 4, 0, 3, 2, 5, 2, 0, 1, 4, 1, 2, 2, 4, 5, 2, 2, 0, 0, 0, 2, 5, 5, 0, 0, 5, 1, 1, 4, 4, 5, 5, 1, 0, 2, 1, 4, 2, 3, 4, 0, 0, 0, 2, 1, 5, 5, 5, 5, 5, 0, 5, 0, 5, 5, 1, 5, 0, 4, 4, 2, 5, 0, 1, 0, 1, 1, 2, 0, 1, 3, 0, 1, 1, 0, 2, 5, 2, 5, 5, 3, 5, 5, 3, 0, 2, 5, 2, 5, 4, 5, 4, 0, 0, 5, 2, 5, 2, 2, 5, 4, 3, 4, 5, 5, 5, 0, 0, 2, 0, 1, 0, 5, 5, 1, 5, 3, 0, 4, 5, 5, 4, 5, 5, 2, 0, 3, 1, 5, 0, 3, 1, 0, 3, 0, 2, 5, 0, 1, 1, 4, 0, 0, 1, 5, 1, 4, 4, 5, 3, 2, 5, 5, 0, 5, 5, 2, 1, 4, 5, 1, 5, 2, 4, 0, 5, 5, 1, 2, 0, 5, 0, 3, 4, 1, 4, 0, 3, 4, 5, 5, 5, 2, 2, 2, 0, 5, 1, 2, 3, 1, 4, 1, 3, 0, 5, 5, 2, 5, 3, 4, 0, 5, 5, 4, 2, 1, 2, 2, 2, 3, 4, 3, 4, 0, 2, 3, 2, 2, 1, 5, 5, 0, 3, 2, 5, 4, 5, 3, 0, 0, 5, 5, 1, 5, 2, 3, 3, 4, 3, 0, 5, 1, 4, 2, 2, 0, 0, 4, 1, 5, 3, 2, 5, 3, 3, 3, 1, 4, 1, 1, 0, 4, 1, 5, 5, 2, 5, 0, 2, 1, 0, 5, 5, 2, 0, 5, 3, 3, 5, 3, 4, 5, 0, 1, 4, 0, 5, 5, 2, 5, 2, 3, 1, 5, 0, 2, 1, 4, 0, 1, 4, 5, 0, 0, 1, 5, 5, 3, 4, 2, 5, 5, 5, 2, 3, 2, 5, 3, 5, 0, 3, 2, 4, 0, 5, 4, 5, 0, 4, 5, 3, 5, 5, 5, 0, 5, 3, 4, 1, 4, 5, 0, 5, 5, 0, 4, 4, 5, 0, 1, 0, 3, 4, 0, 5, 3, 3, 4, 0, 3, 1, 5, 2, 1, 5, 1, 4, 0, 4, 0, 5, 1, 5, 5, 1, 4, 5, 1, 5, 0, 5, 3, 2, 5, 0, 0, 3, 5, 3, 0, 5, 1, 4, 3, 5, 0, 5, 0, 3, 1, 2, 0, 1, 5, 5, 1, 5, 3, 5, 0, 4, 5, 5, 3, 0, 3, 4, 3, 0, 5, 5, 0, 4, 1, 4, 5, 5, 0, 5, 5, 5, 5, 5, 0, 5, 5, 3, 4, 5, 3, 3, 5, 5, 3, 5, 5, 5, 1, 5, 0, 5, 2, 3, 4, 0, 3, 3, 1, 0, 5, 2, 2, 1, 3, 5, 5, 1, 4, 5, 2, 4, 5, 1, 3, 5, 4, 0, 1, 5, 2, 4, 2, 5, 2, 2, 5, 1, 5, 1, 4, 2, 3, 5, 0, 0, 5, 2, 5, 4, 5, 3, 3, 0, 2, 1, 4, 2, 1, 5, 1, 3, 4, 2, 3, 1, 0, 2, 5, 1, 1, 3, 2, 3, 5, 5, 5, 5, 1, 5, 0, 1, 0, 2, 0, 2, 4, 4, 4, 5, 5, 5, 0, 5, 0, 1, 5, 5, 4, 3, 2, 0, 5, 3, 3, 0, 2, 1, 2, 5, 3, 2, 1, 5, 4, 1, 5, 5, 1, 0, 1, 3, 3, 3, 2, 0, 1, 1, 2, 2, 1, 0, 2, 5, 5, 1, 3, 1, 5, 5, 5, 5, 1, 4, 5, 5, 4, 3, 3, 3, 3, 3, 0, 0, 5, 4, 1, 2, 0, 5, 5, 4, 1, 5, 1, 5, 1, 3, 3, 0, 0, 1, 4, 5, 0, 5, 3, 5, 5, 3, 5, 5, 0, 0, 1, 3, 4, 5, 2, 3, 4, 1, 0, 2, 1, 5, 1, 1, 5, 5, 5, 5, 5, 0, 5, 3, 5, 5, 2, 5, 1, 5, 3, 0, 2, 4, 2, 2, 3, 5, 3, 5, 3, 1, 5, 5, 3, 2, 0, 4, 3, 0, 2, 4, 0, 4, 5, 1, 2, 2, 5, 5, 5, 3, 2, 5, 2, 3, 5, 2, 0, 5, 3, 3, 5, 3, 0, 0, 5, 5, 2, 5, 5, 5, 5, 0, 5, 4, 0, 4, 0, 2, 0, 5, 4, 5, 0, 1, 5, 1, 2, 3, 4, 3, 2, 0, 4, 3, 5, 5, 4, 1, 5, 5, 1, 5, 4, 0, 5, 3, 2, 4, 1, 3, 5, 0, 0, 5, 0, 3, 0, 5, 2, 3, 5, 1, 0, 5, 3, 3, 5, 3, 4, 5, 5, 5, 0, 3, 2, 2, 0, 3, 0, 2, 2, 5, 3, 2, 5, 1, 4, 4, 5, 2, 1, 3, 2, 5, 3, 5, 5, 0, 4, 2, 5, 2, 0, 5, 5, 0, 5, 0, 5, 2, 2, 3, 5, 5, 0, 0, 1, 5, 5, 2, 5, 3, 4, 0, 0, 5, 0, 5, 5, 3, 1, 0, 4, 5, 5, 1, 5, 5, 5, 5, 2, 2, 5, 4, 5, 0, 4, 5, 4, 3, 5, 5, 4, 5, 4, 2, 3, 2, 4, 0, 0, 4, 5, 3, 5, 0, 5, 1, 0, 1, 3, 5, 0, 2, 3, 4, 5, 5, 4, 0, 0, 4, 0, 4, 5, 5, 4, 1, 5, 3, 5, 3, 0, 2, 5, 2, 5, 0, 3, 2, 5, 1, 2, 3, 5, 0, 0, 5, 2, 1, 4, 5, 2, 5, 5, 0, 4, 5, 5, 4, 4, 3, 1, 5, 5, 2, 5, 5, 0, 5, 1, 4, 4, 0, 1, 5, 3, 3, 5, 4, 1, 5, 2, 1, 2, 0, 3, 0, 0, 1, 0, 5, 2, 5, 5, 2, 0, 5, 5, 0, 1, 5, 5, 2, 5, 0, 5, 5, 5, 3, 1, 2, 0, 5, 5, 1, 5, 5, 0, 5, 5, 5, 0, 0, 3, 2, 0, 1, 0, 5, 0, 5, 0, 2, 1, 5, 2, 4, 5, 4, 5, 3, 5, 5, 5, 0, 2, 2, 1, 2, 5, 4, 0, 5, 2, 2, 5, 2, 4, 5, 5, 5, 5, 5, 4, 2, 0, 2, 0, 5, 1, 5, 5, 4, 5, 1, 5, 5, 2, 0, 3, 5, 4, 4, 0, 3, 5, 4, 0, 0, 2, 5, 1, 0, 1, 5, 0, 4, 2, 1, 5, 5, 4, 5, 5, 5, 5, 3, 5, 5, 1, 2, 3, 1, 1, 0, 5, 1, 5, 5, 3, 3, 5, 5, 1, 5, 5, 1, 3, 3, 1, 1, 5, 0, 5, 0, 5, 5, 5, 0, 4, 0, 0, 5, 2, 3, 0, 0, 2, 0, 5, 2, 5, 0, 5, 5, 3, 1, 2, 5, 2, 0, 3, 0, 3, 5, 1, 4, 5, 0, 5, 5, 4, 1, 1, 5, 4, 5, 1, 4, 5, 0, 5, 0, 1, 5, 4, 5, 4, 2, 2, 0, 0, 0, 0, 4, 5, 1, 0, 1, 3, 0, 3, 1, 0, 2, 3, 1, 5, 0, 4, 3, 1, 5, 3, 2, 0, 1, 3, 4, 0, 0, 2, 5, 4, 0, 3, 5, 3, 5, 5, 3, 0, 4, 5, 3, 5, 4, 5, 4, 0, 2, 5, 4, 1, 5, 4, 5, 2, 1, 4, 5, 1, 4, 0, 1, 0, 5, 1, 5, 5, 0, 5, 1, 2, 4, 2, 4, 5, 5, 5, 1, 5, 5, 0, 0, 4, 0, 4, 2, 2, 3, 5, 3, 5, 1, 5, 5, 2, 3, 2, 3, 5, 5, 5, 5, 1, 5, 5, 1, 5, 5, 4, 2, 5, 3, 0, 1, 5, 5, 5, 5, 5, 1, 1, 0, 5, 1, 5, 1, 4, 0, 3, 5, 0, 5, 5, 5, 4, 2, 2, 5, 4, 5, 5, 5, 3, 4, 1, 2, 0, 0, 3, 5, 0, 3, 2, 2, 5, 0, 5, 2, 0, 5, 1, 5, 5, 4, 2, 5, 3, 0, 0, 2, 0, 0, 1, 3, 5, 1, 4, 0, 1, 5, 0, 3, 1, 0, 3, 1, 5, 5, 5, 5, 2, 1, 0, 5, 2, 2, 5, 0, 5, 3, 0, 0, 2, 5, 1, 1, 5, 0, 5, 3, 4, 3, 0, 2, 5, 1, 3, 1, 3, 1, 4, 3, 4, 5, 0, 5, 3, 2, 5, 5, 3, 4, 0, 3, 3, 4, 5, 2, 0, 0, 3, 4, 3, 0, 5, 5, 5, 4, 2, 0, 2, 5, 3, 2, 0, 4, 3, 5, 4, 5, 5, 0, 3, 1, 5, 3, 2, 3, 5, 4, 3, 1, 5, 5, 0, 0, 5, 0, 5, 3, 2, 1, 1, 3, 1, 5, 3, 5, 0, 0, 5, 0, 3, 5, 5, 2, 5, 3, 2, 5, 5, 5, 0, 1, 5, 4, 5, 5, 2, 0, 5, 0, 0, 3, 1, 2, 3, 1, 5, 5, 3, 5, 3, 5, 3, 5, 5, 1, 0, 5, 1, 2, 4, 0, 0, 2, 1, 5, 4, 3, 5, 3, 4, 4, 4, 5, 3, 0, 2, 5, 5, 2, 1, 5, 0, 2, 0, 5, 5, 0, 5, 1, 5, 5, 5, 0, 0, 5, 5, 5, 4, 3, 4, 5, 2, 2, 2, 1, 2, 5, 2, 0, 4, 4, 3, 0, 0, 0, 4, 5, 1, 5, 3, 0, 3, 3, 4, 5, 3, 0, 5, 2, 1, 0, 3, 5, 0, 1, 0, 4, 3, 5, 3, 1, 5, 1, 3, 3, 3, 0, 0, 3, 1, 5, 4, 4, 5, 5, 2, 5, 2, 5, 1, 3, 2, 2, 2, 0, 3, 0, 5, 0, 4, 3, 1, 2, 3, 3, 5, 0, 3, 0, 0, 3, 5, 5, 2, 2, 0, 1, 3, 3, 5, 3, 1, 4, 4, 0, 5, 5, 0, 1, 5, 5, 3, 0, 3, 0, 0, 4, 5, 3, 2, 0, 2, 3, 1, 2, 5, 5, 1, 4, 0, 5, 5, 0, 1, 0, 4, 3, 5, 5, 4, 5, 4, 0, 1, 2, 5, 3, 1, 5, 4, 5, 1, 1, 4, 0, 0, 5, 3, 5, 5, 5, 1, 4, 5, 4, 4, 5, 3, 5, 5, 5, 5, 5, 3, 5, 4, 2, 4, 1, 2, 2, 2, 2, 0, 0, 0, 5, 1, 0, 3, 0, 4, 1, 1, 3, 2, 0, 3, 3, 3, 3, 0, 1, 5, 1, 2, 4, 1, 4, 0, 0, 5, 5, 2, 0, 4, 3, 5, 1, 2, 5, 2, 5, 3, 0, 1, 5, 3, 3, 3, 5, 3, 4, 4, 5, 3, 4, 2, 3, 5, 5, 1, 4, 5, 4, 5, 5, 0, 3, 0, 5, 5, 5, 1, 3, 0, 3, 5, 1, 4, 1, 5, 5, 1, 1, 1, 4, 3, 5, 0, 5, 5, 5, 1, 3, 5, 0, 5, 5, 1, 3, 5, 4, 1, 5, 3, 4, 0, 1, 3, 3, 0, 3, 5, 1, 0, 0, 3, 1, 0, 2, 5, 5, 1, 5, 1, 0, 5, 4, 4, 5, 4, 4, 5, 2, 3, 0, 0, 1, 0, 5, 1, 5, 5, 4, 1, 0, 1, 5, 5, 0, 5, 3, 5, 4, 1, 4, 1, 0, 0, 5, 2, 4, 2, 5, 0, 4, 3, 0, 5, 4, 5, 3, 0, 1, 5, 0, 0, 5, 5, 3, 5, 5, 2, 0, 5, 1, 3, 3, 5, 0, 5, 2, 1, 5, 2, 5, 1, 1, 0, 2, 0, 5, 1, 0, 0, 3, 1, 0, 5, 3, 4, 2, 3, 3, 3, 5, 3, 4, 4, 2, 1, 3, 5, 5, 5, 1, 0, 4, 3, 2, 0, 4, 4, 1, 2, 5, 0, 5, 5, 2, 5, 5, 4, 0, 3, 5, 5, 3, 5, 5, 5, 0, 0, 1, 5, 4, 3, 1, 4, 3, 0, 5, 0, 5, 5, 1, 5, 2, 5, 5, 5, 0, 4, 4, 3, 5, 5, 5, 3, 5, 5, 5, 5, 3, 1, 4, 1, 5, 3, 1, 1, 5, 0, 5, 5, 3, 1, 3, 0, 5, 0, 5, 4, 4, 3, 5, 5, 1, 5, 0, 1, 0, 0, 4, 0, 2, 5, 0, 5, 5, 5, 5, 5, 4, 3, 5, 3, 3, 5, 5, 4, 5, 3, 2, 4, 0, 0, 2, 3, 0, 0, 5, 0, 0, 2, 4, 1, 3, 2, 5, 5, 2, 5, 5, 2, 4, 0, 2, 0, 4, 5, 5, 1, 3, 5, 5, 1, 5, 5, 5, 5, 3, 5, 1, 5, 0, 0, 2, 0, 0, 3, 0, 4, 0, 1, 5, 5, 2, 1, 5, 1, 4, 1, 4, 0, 5, 1, 2, 2, 1, 4, 2, 4, 4, 1, 1, 3, 5, 5, 5, 0, 0, 2, 1, 0, 0, 2, 2, 2, 3, 5, 5, 3, 4, 5, 2, 1, 2, 5, 0, 4, 4, 5, 4, 5, 2, 0, 5, 2, 5, 5, 0, 5, 2, 3, 3, 4, 0, 0, 0, 2, 3, 2, 2, 3, 0, 2, 5, 4, 2, 5, 4, 5, 5, 0, 2, 2, 5, 4, 3, 5, 5, 2, 5, 3, 5, 1, 5, 5, 0, 5, 3, 1, 1, 4, 5, 5, 5, 5, 5, 4, 2, 3, 0, 3, 5, 5, 5, 5, 0, 1, 0, 1, 4, 2, 1, 5, 5, 1, 0, 5, 5, 2, 2, 2, 1, 2, 2, 2, 5, 5, 1, 1, 5, 0, 5, 1, 0, 5, 0, 4, 2, 3, 5, 2, 1, 5, 2, 3, 5, 5, 4, 5, 1, 0, 5, 5, 5, 5, 0, 5, 5, 2, 1, 5, 2, 5, 2, 1, 3, 5, 5, 5, 1, 0, 3, 5, 3, 5, 4, 0, 0, 5, 1, 5, 4, 5, 5, 2, 5, 0, 0, 5, 5, 1, 5, 5, 5, 0, 0, 5, 0, 4, 5, 0, 4, 0, 3, 1, 5, 4, 2, 5, 5, 3, 2, 2, 2, 5, 3, 0, 5, 0, 5, 5, 5, 4, 5, 1, 4, 5, 0, 0, 4, 5, 5, 5, 3, 5, 0, 2, 4, 5, 5, 1, 4, 2, 3, 0, 1, 2, 0, 5, 5, 5, 3, 5, 0, 4, 4, 5, 4, 4, 0, 4, 5, 0, 5, 1, 0, 4, 5, 2, 2, 5, 3, 4, 5, 5, 2, 4, 2, 5, 1, 5, 0, 1, 4, 3, 0, 5, 5, 4, 5, 3, 3, 0, 5, 1, 5, 4, 5, 1, 3, 3, 4, 0, 5, 2, 5, 1, 3, 4, 5, 4, 1, 4, 5, 1, 0, 5, 3, 0, 2, 2, 3, 1, 0, 3, 2, 5, 5, 0, 4, 5, 5, 0, 0, 2, 2, 5, 4, 0, 4, 2, 5, 5, 1, 0, 5, 5, 5, 5, 1, 2, 5, 0, 4, 0, 1, 5, 5, 5, 5, 5, 1, 5, 5, 3, 5, 3, 4, 1, 0, 2, 5, 5, 4, 5, 0, 0, 5, 1, 5, 0, 4, 5, 3, 4, 4, 5, 5, 0, 1, 4, 1, 4, 5, 2, 2, 5, 4, 3, 1, 5, 1, 1, 3, 5, 1, 5, 1, 5, 4, 5, 5, 3, 1, 3, 4, 1, 0, 2, 1, 1, 4, 2, 5, 5, 3, 1, 1, 3, 3, 1, 2, 5, 4, 5, 2, 2, 3, 1, 0, 3, 0, 5, 3, 2, 0, 5, 3, 5, 3, 3, 1, 5, 5, 3, 2, 3, 2, 5, 2, 2, 5, 1, 0, 2, 5, 3, 5, 2, 2, 5, 3, 0, 5, 5, 0, 2, 5, 5, 5, 3, 3, 5, 4, 1, 4, 5, 5, 1, 4, 0, 5, 5, 2, 0, 4, 3, 2, 4, 5, 4, 5, 1, 5, 4, 1, 5, 5, 0, 5, 5, 3, 0, 3, 3, 3, 5, 1, 5, 5, 3, 3, 5, 3, 1, 3, 5, 1, 4, 4, 4, 0, 5, 0, 4, 1, 2, 5, 0, 1, 4, 5, 1, 0, 5, 4, 4, 4, 5, 3, 2, 0, 5, 1, 1, 3, 5, 4, 5, 5, 5, 5, 3, 5, 5, 4, 5, 4, 2, 0, 2, 4, 1, 4, 3, 1, 4, 2, 2, 0, 4, 1, 1, 4, 2, 5, 5, 0, 2, 1, 5, 0, 5, 4, 4, 3, 4, 5, 2, 5, 1, 1, 5, 3, 5, 1, 1, 3, 3, 5, 3, 1, 5, 4, 2, 1, 0, 4, 2, 0, 5, 2, 1, 0, 5, 5, 0, 5, 5, 5, 1, 2, 1, 2, 0, 3, 5, 5, 2, 0, 3, 0, 4, 5, 5, 0, 4, 2, 0, 0, 1, 5, 5, 0, 5, 5, 1, 1, 5, 0, 0, 4, 3, 2, 5, 4, 1, 5, 4, 5, 5, 4, 0, 4, 2, 5, 2, 3, 2, 2, 2, 5, 3, 3, 1, 1, 2, 5, 2, 2, 1, 3, 5, 5, 2, 0, 2, 5, 3, 1, 5, 1, 3, 0, 3, 0, 5, 5, 3, 5, 4, 5, 5, 1, 3, 5, 5, 2, 0, 5, 4, 4, 3, 1, 2, 5, 5, 5, 3, 0, 4, 3, 2, 1, 3, 5, 1, 5, 5, 2, 1, 5, 5, 5, 1, 5, 3, 0, 2, 0, 0, 0, 3, 4, 5, 5, 5, 1, 5, 0, 4, 5, 5]\n"
          ]
        }
      ]
    },
    {
      "cell_type": "code",
      "source": [
        "U, Sigma, VT = randomized_svd(X, n_components=6, n_iter=100, random_state=122)\n",
        "\n",
        "svd_model = TruncatedSVD(n_components=2, algorithm='randomized', n_iter=100, random_state=122)\n",
        "\n",
        "svd_model.fit(X)\n",
        "    \n",
        "print(U.shape) \n",
        "\n",
        "for i, comp in enumerate(VT):\n",
        "    terms_comp = zip(words, comp)\n",
        "    sorted_terms = sorted(terms_comp, key= lambda x:x[1], reverse=True)[:7]\n",
        "    print(\"Cluster \"+str(i)+\": \")\n",
        "    for t in sorted_terms:\n",
        "        print(t[0])\n",
        "    print(\" \")"
      ],
      "metadata": {
        "colab": {
          "base_uri": "https://localhost:8080/"
        },
        "id": "WQXXHegylSKB",
        "outputId": "486411e4-37d4-4829-e5d9-cae0d058ef62"
      },
      "execution_count": null,
      "outputs": [
        {
          "output_type": "stream",
          "name": "stdout",
          "text": [
            "(40217, 6)\n",
            "Cluster 0: \n",
            "account\n",
            "credit\n",
            "call\n",
            "payment\n",
            "report\n",
            "debt\n",
            "receiv\n",
            " \n",
            "Cluster 1: \n",
            "credit\n",
            "report\n",
            "debt\n",
            "account\n",
            "collect\n",
            "ident\n",
            "disput\n",
            " \n",
            "Cluster 2: \n",
            "account\n",
            "bank\n",
            "card\n",
            "check\n",
            "close\n",
            "open\n",
            "charg\n",
            " \n",
            "Cluster 3: \n",
            "payment\n",
            "credit\n",
            "report\n",
            "loan\n",
            "late\n",
            "month\n",
            "mortgag\n",
            " \n",
            "Cluster 4: \n",
            "card\n",
            "credit\n",
            "charg\n",
            "call\n",
            "purchas\n",
            "told\n",
            "use\n",
            " \n",
            "Cluster 5: \n",
            "loan\n",
            "bank\n",
            "mortgag\n",
            "charg\n",
            "servic\n",
            "card\n",
            "document\n",
            " \n"
          ]
        }
      ]
    },
    {
      "cell_type": "code",
      "source": [
        "topic_assigned_to_doc_byLSA = km.fit_predict(X)\n",
        "topic_assigned_to_doc_byLSA"
      ],
      "metadata": {
        "colab": {
          "base_uri": "https://localhost:8080/"
        },
        "id": "VQpY4mZUFp6o",
        "outputId": "9bc49a9c-e4b6-4820-feb5-85f91c6d0a2b"
      },
      "execution_count": null,
      "outputs": [
        {
          "output_type": "execute_result",
          "data": {
            "text/plain": [
              "array([5, 0, 4, ..., 0, 4, 4], dtype=int32)"
            ]
          },
          "metadata": {},
          "execution_count": 61
        }
      ]
    },
    {
      "cell_type": "code",
      "source": [
        "topic_assigned_to_doc_byLSA.shape"
      ],
      "metadata": {
        "colab": {
          "base_uri": "https://localhost:8080/"
        },
        "id": "WherfMxwFzn-",
        "outputId": "da20bb81-1a58-4aab-a9d7-cdf4f04c5c50"
      },
      "execution_count": null,
      "outputs": [
        {
          "output_type": "execute_result",
          "data": {
            "text/plain": [
              "(40217,)"
            ]
          },
          "metadata": {},
          "execution_count": 62
        }
      ]
    },
    {
      "cell_type": "code",
      "source": [
        "time.sleep(1)\n",
        "# store end time\n",
        "end = time.time()\n",
        "\n",
        "lsa_time = end-begin\n",
        "# total time taken\n",
        "print(f\"Total runtime of the program is {lsa_time}\")"
      ],
      "metadata": {
        "colab": {
          "base_uri": "https://localhost:8080/"
        },
        "id": "Wc9F2olS_5wG",
        "outputId": "842e921a-2c36-48b2-a6f8-025d09c45560"
      },
      "execution_count": null,
      "outputs": [
        {
          "output_type": "stream",
          "name": "stdout",
          "text": [
            "Total runtime of the program is 190.9186828136444\n"
          ]
        }
      ]
    },
    {
      "cell_type": "code",
      "source": [
        "from sklearn.metrics import silhouette_score\n",
        "silhouette_avg_lsa = silhouette_score(X, topic_assigned_to_doc_byLSA) \n",
        "silhouette_avg_lsa"
      ],
      "metadata": {
        "id": "H0C_fLWt36Ft",
        "colab": {
          "base_uri": "https://localhost:8080/"
        },
        "outputId": "5cf68cb0-f30b-4f63-deea-5a82878b5595"
      },
      "execution_count": null,
      "outputs": [
        {
          "output_type": "execute_result",
          "data": {
            "text/plain": [
              "0.029534192477011723"
            ]
          },
          "metadata": {},
          "execution_count": 64
        }
      ]
    },
    {
      "cell_type": "code",
      "source": [
        "from sklearn.metrics.cluster import homogeneity_score\n",
        "  \n",
        "# Evaluate the score\n",
        "hscore_lsa = homogeneity_score(train['Product'], topic_assigned_to_doc_byLSA)\n",
        "  \n",
        "print(hscore_lsa)"
      ],
      "metadata": {
        "colab": {
          "base_uri": "https://localhost:8080/"
        },
        "id": "GAsJbr1TpAb6",
        "outputId": "6e927ae8-824f-440c-c523-f12703552b2c"
      },
      "execution_count": null,
      "outputs": [
        {
          "output_type": "stream",
          "name": "stdout",
          "text": [
            "0.29253848541046396\n"
          ]
        }
      ]
    },
    {
      "cell_type": "markdown",
      "source": [
        "# Comparison\n",
        "\n"
      ],
      "metadata": {
        "id": "6O-xDTQ3__rr"
      }
    },
    {
      "cell_type": "markdown",
      "source": [
        "Silhouette Scores"
      ],
      "metadata": {
        "id": "CxLrfCpaAHr6"
      }
    },
    {
      "cell_type": "code",
      "source": [
        "print(f\"The Silhoutte Score for LDA is {silhouette_avg_lda}\")\n",
        "print(f\"The Silhoutte Score for NNMF is {silhouette_avg_nmf}\")\n",
        "print(f\"The Silhoutte Score for LSA is {silhouette_avg_lsa}\")"
      ],
      "metadata": {
        "colab": {
          "base_uri": "https://localhost:8080/"
        },
        "id": "oZ_Vc9ZyAG7C",
        "outputId": "b9761625-91cd-427a-82ab-ae9262dc2a07"
      },
      "execution_count": null,
      "outputs": [
        {
          "output_type": "stream",
          "name": "stdout",
          "text": [
            "The Silhoutte Score for LDA is 0.7868561615030814\n",
            "The Silhoutte Score for NNMF is -0.07932799040112454\n",
            "The Silhoutte Score for LSA is 0.029534192477011723\n"
          ]
        }
      ]
    },
    {
      "cell_type": "markdown",
      "source": [
        "Run Time"
      ],
      "metadata": {
        "id": "GFQMsRqhAqHZ"
      }
    },
    {
      "cell_type": "code",
      "source": [
        "print(f\"Total runtime of LDA is {lda_time}\")\n",
        "print(f\"Total runtime of NNMF is {nmf_time}\")\n",
        "print(f\"Total runtime of LSA is {lsa_time}\")"
      ],
      "metadata": {
        "colab": {
          "base_uri": "https://localhost:8080/"
        },
        "id": "JuU6eCJ4AsjH",
        "outputId": "ab83b6c5-42a3-4d59-80c5-a262d1e61ee1"
      },
      "execution_count": null,
      "outputs": [
        {
          "output_type": "stream",
          "name": "stdout",
          "text": [
            "Total runtime of LDA is 265.3589074611664\n",
            "Total runtime of NNMF is 158.20977067947388\n",
            "Total runtime of LSA is 190.9186828136444\n"
          ]
        }
      ]
    },
    {
      "cell_type": "markdown",
      "source": [
        "Homogeneity Score"
      ],
      "metadata": {
        "id": "VpY1D5mNqIHG"
      }
    },
    {
      "cell_type": "code",
      "source": [
        "print(f\"Total Homogeneity Score of LDA is {hscore_lda}\")\n",
        "print(f\"Total Homogeneity Score of NNMF is {hscore_nnmf}\")\n",
        "print(f\"Total Homogeneity Score of LSA is {hscore_lsa}\")"
      ],
      "metadata": {
        "colab": {
          "base_uri": "https://localhost:8080/"
        },
        "id": "NFIrgHp9qOr-",
        "outputId": "fb03ef67-1e7a-413a-e05d-6b7ef12b6985"
      },
      "execution_count": null,
      "outputs": [
        {
          "output_type": "stream",
          "name": "stdout",
          "text": [
            "Total Homogeneity Score of LDA is 0.3172841426933498\n",
            "Total Homogeneity Score of NNMF is 0.30896245131965394\n",
            "Total Homogeneity Score of LSA is 0.29253848541046396\n"
          ]
        }
      ]
    },
    {
      "cell_type": "code",
      "source": [],
      "metadata": {
        "id": "c8kafYU43vOv"
      },
      "execution_count": null,
      "outputs": []
    }
  ],
  "metadata": {
    "colab": {
      "provenance": [],
      "collapsed_sections": []
    },
    "kernelspec": {
      "display_name": "Python 3",
      "name": "python3"
    },
    "language_info": {
      "name": "python"
    }
  },
  "nbformat": 4,
  "nbformat_minor": 0
}