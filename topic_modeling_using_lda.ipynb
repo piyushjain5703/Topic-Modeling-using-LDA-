{
  "cells": [
    {
      "cell_type": "code",
      "source": [
        "# importing libraries \n",
        "import pandas as pd\n",
        "from sklearn.model_selection import train_test_split\n",
        "import re       #regular expression is used to search the words in a text\n",
        "import spacy\n",
        "import nltk \n",
        "nltk.download('wordnet')\n",
        "nltk.download('omw-1.4')\n",
        "nltk.download('stopwords')\n",
        "nltk.download('punkt')\n",
        "from nltk.corpus import stopwords  #stopwords means those words which doesn't add much value to text context like articles\n",
        "from nltk.stem.wordnet import WordNetLemmatizer\n",
        "from nltk.stem.porter import PorterStemmer\n",
        "import string\n",
        "from sklearn.feature_extraction.text import TfidfVectorizer, CountVectorizer\n",
        "from sklearn.decomposition import LatentDirichletAllocation as LDA\n",
        "import numpy as np"
      ],
      "metadata": {
        "colab": {
          "base_uri": "https://localhost:8080/"
        },
        "id": "HQ0gxSfq_l9G",
        "outputId": "b557adb4-5375-4e3c-d180-63a3364d7064"
      },
      "execution_count": 2,
      "outputs": [
        {
          "output_type": "stream",
          "name": "stderr",
          "text": [
            "[nltk_data] Downloading package wordnet to /root/nltk_data...\n",
            "[nltk_data] Downloading package omw-1.4 to /root/nltk_data...\n",
            "[nltk_data] Downloading package stopwords to /root/nltk_data...\n",
            "[nltk_data]   Unzipping corpora/stopwords.zip.\n",
            "[nltk_data] Downloading package punkt to /root/nltk_data...\n",
            "[nltk_data]   Unzipping tokenizers/punkt.zip.\n"
          ]
        }
      ]
    },
    {
      "cell_type": "markdown",
      "source": [
        "### Importing dataset"
      ],
      "metadata": {
        "id": "ys2GCAH-8si-"
      }
    },
    {
      "cell_type": "code",
      "execution_count": 9,
      "metadata": {
        "colab": {
          "base_uri": "https://localhost:8080/",
          "height": 384
        },
        "id": "c6Ie4dzqdZ2y",
        "outputId": "234d1a18-ba28-4f88-d247-bde356161c1a"
      },
      "outputs": [
        {
          "output_type": "execute_result",
          "data": {
            "text/plain": [
              "  Date received                Product       Sub-product  \\\n",
              "0      4/3/2020  Vehicle loan or lease              Loan   \n",
              "1     3/12/2020        Debt collection  Payday loan debt   \n",
              "\n",
              "                               Issue          Sub-issue  \\\n",
              "0            Getting a loan or lease    Fraudulent loan   \n",
              "1  Attempts to collect debt not owed  Debt is not yours   \n",
              "\n",
              "                        Consumer complaint narrative  \\\n",
              "0  This auto loan was opened on XX/XX/2020 in XXX...   \n",
              "1  In XXXX of 2019 I noticed a debt for {$620.00}...   \n",
              "\n",
              "                             Company public response  \\\n",
              "0  Company has responded to the consumer and the ...   \n",
              "1                                               None   \n",
              "\n",
              "                        Company State ZIP code  Tags  \\\n",
              "0  TRUIST FINANCIAL CORPORATION    PA     None  None   \n",
              "1    CURO Intermediate Holdings    CO    806XX  None   \n",
              "\n",
              "  Consumer consent provided? Submitted via Date sent to company  \\\n",
              "0           Consent provided           Web             4/3/2020   \n",
              "1           Consent provided           Web            3/12/2020   \n",
              "\n",
              "  Company response to consumer Timely response?  Consumer disputed?  \\\n",
              "0      Closed with explanation              Yes                 NaN   \n",
              "1      Closed with explanation              Yes                 NaN   \n",
              "\n",
              "   Complaint ID  \n",
              "0       3591341  \n",
              "1       3564184  "
            ],
            "text/html": [
              "\n",
              "  <div id=\"df-ed19e30b-b889-4570-a5eb-8876d7f0c5de\">\n",
              "    <div class=\"colab-df-container\">\n",
              "      <div>\n",
              "<style scoped>\n",
              "    .dataframe tbody tr th:only-of-type {\n",
              "        vertical-align: middle;\n",
              "    }\n",
              "\n",
              "    .dataframe tbody tr th {\n",
              "        vertical-align: top;\n",
              "    }\n",
              "\n",
              "    .dataframe thead th {\n",
              "        text-align: right;\n",
              "    }\n",
              "</style>\n",
              "<table border=\"1\" class=\"dataframe\">\n",
              "  <thead>\n",
              "    <tr style=\"text-align: right;\">\n",
              "      <th></th>\n",
              "      <th>Date received</th>\n",
              "      <th>Product</th>\n",
              "      <th>Sub-product</th>\n",
              "      <th>Issue</th>\n",
              "      <th>Sub-issue</th>\n",
              "      <th>Consumer complaint narrative</th>\n",
              "      <th>Company public response</th>\n",
              "      <th>Company</th>\n",
              "      <th>State</th>\n",
              "      <th>ZIP code</th>\n",
              "      <th>Tags</th>\n",
              "      <th>Consumer consent provided?</th>\n",
              "      <th>Submitted via</th>\n",
              "      <th>Date sent to company</th>\n",
              "      <th>Company response to consumer</th>\n",
              "      <th>Timely response?</th>\n",
              "      <th>Consumer disputed?</th>\n",
              "      <th>Complaint ID</th>\n",
              "    </tr>\n",
              "  </thead>\n",
              "  <tbody>\n",
              "    <tr>\n",
              "      <th>0</th>\n",
              "      <td>4/3/2020</td>\n",
              "      <td>Vehicle loan or lease</td>\n",
              "      <td>Loan</td>\n",
              "      <td>Getting a loan or lease</td>\n",
              "      <td>Fraudulent loan</td>\n",
              "      <td>This auto loan was opened on XX/XX/2020 in XXX...</td>\n",
              "      <td>Company has responded to the consumer and the ...</td>\n",
              "      <td>TRUIST FINANCIAL CORPORATION</td>\n",
              "      <td>PA</td>\n",
              "      <td>None</td>\n",
              "      <td>None</td>\n",
              "      <td>Consent provided</td>\n",
              "      <td>Web</td>\n",
              "      <td>4/3/2020</td>\n",
              "      <td>Closed with explanation</td>\n",
              "      <td>Yes</td>\n",
              "      <td>NaN</td>\n",
              "      <td>3591341</td>\n",
              "    </tr>\n",
              "    <tr>\n",
              "      <th>1</th>\n",
              "      <td>3/12/2020</td>\n",
              "      <td>Debt collection</td>\n",
              "      <td>Payday loan debt</td>\n",
              "      <td>Attempts to collect debt not owed</td>\n",
              "      <td>Debt is not yours</td>\n",
              "      <td>In XXXX of 2019 I noticed a debt for {$620.00}...</td>\n",
              "      <td>None</td>\n",
              "      <td>CURO Intermediate Holdings</td>\n",
              "      <td>CO</td>\n",
              "      <td>806XX</td>\n",
              "      <td>None</td>\n",
              "      <td>Consent provided</td>\n",
              "      <td>Web</td>\n",
              "      <td>3/12/2020</td>\n",
              "      <td>Closed with explanation</td>\n",
              "      <td>Yes</td>\n",
              "      <td>NaN</td>\n",
              "      <td>3564184</td>\n",
              "    </tr>\n",
              "  </tbody>\n",
              "</table>\n",
              "</div>\n",
              "      <button class=\"colab-df-convert\" onclick=\"convertToInteractive('df-ed19e30b-b889-4570-a5eb-8876d7f0c5de')\"\n",
              "              title=\"Convert this dataframe to an interactive table.\"\n",
              "              style=\"display:none;\">\n",
              "        \n",
              "  <svg xmlns=\"http://www.w3.org/2000/svg\" height=\"24px\"viewBox=\"0 0 24 24\"\n",
              "       width=\"24px\">\n",
              "    <path d=\"M0 0h24v24H0V0z\" fill=\"none\"/>\n",
              "    <path d=\"M18.56 5.44l.94 2.06.94-2.06 2.06-.94-2.06-.94-.94-2.06-.94 2.06-2.06.94zm-11 1L8.5 8.5l.94-2.06 2.06-.94-2.06-.94L8.5 2.5l-.94 2.06-2.06.94zm10 10l.94 2.06.94-2.06 2.06-.94-2.06-.94-.94-2.06-.94 2.06-2.06.94z\"/><path d=\"M17.41 7.96l-1.37-1.37c-.4-.4-.92-.59-1.43-.59-.52 0-1.04.2-1.43.59L10.3 9.45l-7.72 7.72c-.78.78-.78 2.05 0 2.83L4 21.41c.39.39.9.59 1.41.59.51 0 1.02-.2 1.41-.59l7.78-7.78 2.81-2.81c.8-.78.8-2.07 0-2.86zM5.41 20L4 18.59l7.72-7.72 1.47 1.35L5.41 20z\"/>\n",
              "  </svg>\n",
              "      </button>\n",
              "      \n",
              "  <style>\n",
              "    .colab-df-container {\n",
              "      display:flex;\n",
              "      flex-wrap:wrap;\n",
              "      gap: 12px;\n",
              "    }\n",
              "\n",
              "    .colab-df-convert {\n",
              "      background-color: #E8F0FE;\n",
              "      border: none;\n",
              "      border-radius: 50%;\n",
              "      cursor: pointer;\n",
              "      display: none;\n",
              "      fill: #1967D2;\n",
              "      height: 32px;\n",
              "      padding: 0 0 0 0;\n",
              "      width: 32px;\n",
              "    }\n",
              "\n",
              "    .colab-df-convert:hover {\n",
              "      background-color: #E2EBFA;\n",
              "      box-shadow: 0px 1px 2px rgba(60, 64, 67, 0.3), 0px 1px 3px 1px rgba(60, 64, 67, 0.15);\n",
              "      fill: #174EA6;\n",
              "    }\n",
              "\n",
              "    [theme=dark] .colab-df-convert {\n",
              "      background-color: #3B4455;\n",
              "      fill: #D2E3FC;\n",
              "    }\n",
              "\n",
              "    [theme=dark] .colab-df-convert:hover {\n",
              "      background-color: #434B5C;\n",
              "      box-shadow: 0px 1px 3px 1px rgba(0, 0, 0, 0.15);\n",
              "      filter: drop-shadow(0px 1px 2px rgba(0, 0, 0, 0.3));\n",
              "      fill: #FFFFFF;\n",
              "    }\n",
              "  </style>\n",
              "\n",
              "      <script>\n",
              "        const buttonEl =\n",
              "          document.querySelector('#df-ed19e30b-b889-4570-a5eb-8876d7f0c5de button.colab-df-convert');\n",
              "        buttonEl.style.display =\n",
              "          google.colab.kernel.accessAllowed ? 'block' : 'none';\n",
              "\n",
              "        async function convertToInteractive(key) {\n",
              "          const element = document.querySelector('#df-ed19e30b-b889-4570-a5eb-8876d7f0c5de');\n",
              "          const dataTable =\n",
              "            await google.colab.kernel.invokeFunction('convertToInteractive',\n",
              "                                                     [key], {});\n",
              "          if (!dataTable) return;\n",
              "\n",
              "          const docLinkHtml = 'Like what you see? Visit the ' +\n",
              "            '<a target=\"_blank\" href=https://colab.research.google.com/notebooks/data_table.ipynb>data table notebook</a>'\n",
              "            + ' to learn more about interactive tables.';\n",
              "          element.innerHTML = '';\n",
              "          dataTable['output_type'] = 'display_data';\n",
              "          await google.colab.output.renderOutput(dataTable, element);\n",
              "          const docLink = document.createElement('div');\n",
              "          docLink.innerHTML = docLinkHtml;\n",
              "          element.appendChild(docLink);\n",
              "        }\n",
              "      </script>\n",
              "    </div>\n",
              "  </div>\n",
              "  "
            ]
          },
          "metadata": {},
          "execution_count": 9
        }
      ],
      "source": [
        "  #useful in creaing dataframs and storing the data in the dataframes\n",
        "data  = pd.read_csv(\"https://github.com/srivatsan88/YouTubeLI/blob/master/dataset/consumer_compliants.zip?raw=true\",compression='zip')\n",
        "data.head(2)"
      ]
    },
    {
      "cell_type": "markdown",
      "source": [
        "### Exploratory data analysis"
      ],
      "metadata": {
        "id": "bMAxpTJz81wy"
      }
    },
    {
      "cell_type": "code",
      "source": [
        "data['Product'].value_counts()"
      ],
      "metadata": {
        "colab": {
          "base_uri": "https://localhost:8080/"
        },
        "id": "67pd4OXnnByC",
        "outputId": "a20450af-742f-45da-c019-94fcb99ec7a8"
      },
      "execution_count": 10,
      "outputs": [
        {
          "output_type": "execute_result",
          "data": {
            "text/plain": [
              "Debt collection                21772\n",
              "Credit card or prepaid card    13193\n",
              "Mortgage                        9799\n",
              "Checking or savings account     7003\n",
              "Student loan                    2950\n",
              "Vehicle loan or lease           2736\n",
              "Name: Product, dtype: int64"
            ]
          },
          "metadata": {},
          "execution_count": 10
        }
      ]
    },
    {
      "cell_type": "code",
      "source": [
        "data['Company'].value_counts()"
      ],
      "metadata": {
        "colab": {
          "base_uri": "https://localhost:8080/"
        },
        "id": "IrGBKFH3nSSg",
        "outputId": "63de6468-05b8-491c-9acc-964f1a02fb21"
      },
      "execution_count": null,
      "outputs": [
        {
          "output_type": "execute_result",
          "data": {
            "text/plain": [
              "CITIBANK, N.A.                                                    3226\n",
              "CAPITAL ONE FINANCIAL CORPORATION                                 2711\n",
              "BANK OF AMERICA, NATIONAL ASSOCIATION                             2580\n",
              "JPMORGAN CHASE & CO.                                              2409\n",
              "WELLS FARGO & COMPANY                                             2001\n",
              "                                                                  ... \n",
              "Time Investment Company, Inc.                                        1\n",
              "Automotive Services Finance, Inc.                                    1\n",
              "Foxstar Energy Resources LLC DBA Federal Student Loans Council       1\n",
              "Uplift, Inc                                                          1\n",
              "Keystone Credit Services LLC                                         1\n",
              "Name: Company, Length: 2197, dtype: int64"
            ]
          },
          "metadata": {},
          "execution_count": 4
        }
      ]
    },
    {
      "cell_type": "code",
      "execution_count": 11,
      "metadata": {
        "colab": {
          "base_uri": "https://localhost:8080/",
          "height": 1000
        },
        "id": "vybq7sg1yCn4",
        "outputId": "2aafe733-dc41-428b-be83-71193a275323"
      },
      "outputs": [
        {
          "output_type": "stream",
          "name": "stderr",
          "text": [
            "/usr/local/lib/python3.7/dist-packages/ipykernel_launcher.py:5: FutureWarning: Passing a negative integer is deprecated in version 1.0 and will not be supported in future version. Instead, use None to not limit the column width.\n",
            "  \"\"\"\n"
          ]
        },
        {
          "output_type": "execute_result",
          "data": {
            "text/plain": [
              "                           Product  \\\n",
              "0      Vehicle loan or lease         \n",
              "1      Debt collection               \n",
              "2      Vehicle loan or lease         \n",
              "3      Checking or savings account   \n",
              "4      Debt collection               \n",
              "...                ...               \n",
              "57448  Student loan                  \n",
              "57449  Debt collection               \n",
              "57450  Debt collection               \n",
              "57451  Checking or savings account   \n",
              "57452  Debt collection               \n",
              "\n",
              "                                                           Company  \\\n",
              "0      TRUIST FINANCIAL CORPORATION                                  \n",
              "1      CURO Intermediate Holdings                                    \n",
              "2      CAPITAL ONE FINANCIAL CORPORATION                             \n",
              "3      CAPITAL ONE FINANCIAL CORPORATION                             \n",
              "4      Merchants and Professional Bureau, Inc.                       \n",
              "...                                        ...                       \n",
              "57448  Nelnet, Inc.                                                  \n",
              "57449  The Receivable Management Services LLC, New York, NY Branch   \n",
              "57450  Convergent Resources, Inc.                                    \n",
              "57451  WELLS FARGO & COMPANY                                         \n",
              "57452  Exeter Finance Corp.                                          \n",
              "\n",
              "                                                                                                                                                                                                                                                                                                                                                                                                                                                                                                                                                                                                                                                                                                                                                                                                                                                                                                                                                                                                                                                                                                                                                    Complaint  \n",
              "0      This auto loan was opened on XX/XX/2020 in XXXX, NC with BB & T in my name. I have NEVER been to North Carolina and I have NEVER been a resident. I have filed a dispute twice through my credit bureaus but both times BB & T has claimed that this is an accurate loan. Which I wasn't aware of until today. I have tried to contact BB & T multiple times but I have never gotten through to a live person. I do n't drive and I have never owned a car before. I didn't have any knowledge of this account until I checked XXXXXXXX XXXX  and noticed it. I've tried twice to dispute it. Additionally I never received any bills or information about this account. This is my last resort in trying to remove this fraudulent loan off of my account.                                                                                                                                                                                                                                                                                                                                                                                             \n",
              "1      In XXXX of 2019 I noticed a debt for {$620.00} on my credit which i believed was mine I thought speedy cash had bought one of my old debts and sold it to XXXX XXXX XXXX XXXX. I contacted XXXX XXXX XXXX XXXX and after several attempts of giving my full name, nothing came up in their system. I gave my social and the rep said the account popped up but DID NOT tell me that the account was under someone elses name and continued to let me make a payment. The payment was for {$120.00}. Confirmation number-XXXX. After realizing it was not my account, I called back to get my money back and inform them of the mistake. I was told i needed to mail them an FTC report and dispute letter to get my money back. I completed all of this and when i called again they said they transferred the account back to speedy cash for fraud review and I would need to contact them. After contacting them i was again told that i can not get my money back. The issue im having is this representative at XXXX XXXX played blind to obvious fraud and let an innocent person make a payment on someone elses debt and i want my money back.  \n",
              "2      As stated from Capital One, XXXX XX/XX/XXXX and XXXX 2018, My wife and I went to several car dealerships to request for a car loan to get a used car. However, according to their credit requirements unfortunately my credit score was insufficient for the car loan approval at that time. It seemed as though they pulled my credit report multiple times.                                                                                                                                                                                                                                                                                                                                                                                                                                                                                                                                                                                                                                                                                                                                                                                           \n",
              "3      Please see CFPB case XXXX. \\n\\nCapital One, in the letter they provided ( and attached to that case as their response ) said this : \" The funds were reversed and sent back to XXXX XXXX XXXX  on XX/XX/XXXX ''. \\n\\nXXXX XXXX XXXX  ( now XXXX XXXX  ) has not received these funds. Staff at XXXX XXXX  - and also staff at the account-holder 's business - have looked for return of my money ( {$650.00} ) and find nothing. \\n\\nCapital One needs to document - actually prove - they returned the funds, as stated in their letter. Capital One must provide electronic information, if the return was made that way, or document the paper check they sent back to XXXX XXXX. \\n\\nI've left 3 messages about this problem for the person who signed the letter ( XXXX ) from Capital One. I have received no call-backs. \\n\\nSummary : Capital One said they returned my money on XX/XX/XXXX : they did not. If they continue claim they did, then they need to prove that.                                                                                                                                                                     \n",
              "4      This debt was incurred due to medical malpractice ( XXXX XXXX XXXX, XXXX, TX ). I asked the doctor to turn over my claim to his malpractice insurance company. This has cost me thousands of dollars to XXXX XXXX XXXX. I am still trying to collect damages from this doctor. He never responded and turned over me to collections Merchants and Professional Collection Bureau , Inc. I sent them a letter describing exactly this issue and instead of not contacting me and verifying my debt they start reporting this debt to the credit reporting agencies. They never verified the debt, like I asked and they never stopped it from being reported when I specifically told them not to, due to the circumstances above.                                                                                                                                                                                                                                                                                                                                                                                                                       \n",
              "...                                                                                                                                                                                                                                                                                                                                                                                                                                                                                                                                                                                                                                                                                                                                  ...                                                                                                                                                                                                                                                                                                                                                                                                                       \n",
              "57448  I am attempting to make a payment toward my student loans on the Nelnet website today, XX/XX/20, and Nelnet will not allow me to post the payment sooner than XX/XX/20. By the time the payment posts, 2-3 days of additional interest will have accrued and my payments will apply more to interest than is due today, the day that I'm attempting to pay. My understanding was that I could make a payment at any time but this does not appear to be true. The funds are available in my bank account today regardless of whether Nelnet can collect over the weekend. I should not be penalized for this. \\n\\nI submitted complaint XXXX in XXXX for other deceptive practices with Nelnet. They have not yet resolved the issue identified in that complaint or contacted me as they said they would in their response. I believe this new issue is just one more deceptive practice by this company that causes financial harm to borrowers.                                                                                                                                                                                                      \n",
              "57449  Received letter for {$480.00}. Original creditor didnt contact me until past statute of limitations for insurance company recoupment per Arizona law. Debt collection is illegal for phantom debt. Additionally they are phoning my office excessively.                                                                                                                                                                                                                                                                                                                                                                                                                                                                                                                                                                                                                                                                                                                                                                                                                                                                                                 \n",
              "57450  entire time 10 years until XX/XX/2020. XXXX makes my blood boil. I have called and was lied to told to provide my checking account information over the phone in order to turn my cell phone back on. i called at XXXX them at XXXX {$300.00} was added to my bill. \\n\\nScam scam scam I was told I can not call the office of the President just to write to XXXX XXXX XXXX XXXX XXXX XXXX XXXX, NM XXXX. I did three thousand times. the last letter I mailed on XX/XX/2020. Two collection agencies later. \\n\\nI chose to leave XXXX XXXX every time I called the XXXX supervisor would threaten me on a recorded line. I need peace of mind and a good Heart to beat inside of me. Im on a XXXX XXXX due to the stress at XXXX XXXX   taking all my money 4 10 years.                                                                                                                                                                                                                                                                                                                                                                               \n",
              "57451  I am a customer with Wells Fargo Bank. Recently money was withdrawn on a couple of occasions without my permission or consent to pay for a timeshare account that was never used by me nor anyone connected to me because of unfair policies pertaining to the fees of the said timeshare. I tried cancelling the said timeshare account several times because of these fees that were never mentioned at the initiation. My account was debited to pay for the timeshare fees without my knowledge or consent several times. I tried correcting this with Wells Fargo bank with no avail. I would appreciate it if you can look into this matter for me. I was left with no funds in my account and as such I could not take care of the basic necessities of my day to day life. \\nThanks in advance,                                                                                                                                                                                                                                                                                                                                                 \n",
              "57452  I spoken with them several times in a year. An in XXXX they informed me yes they sold my information to a third party without my knowledge. Also, I told them that I dont owe them anything because my car was paid off by insurance XXXX an Gap an they said no. I also informed them that constantly calling me an telling me that my credit score would be damage was inappropriate. But on my credit they written several negative things. An I didnt give Exeter financial Corp no authority to sell my information to XXXX XXXX                                                                                                                                                                                                                                                                                                                                                                                                                                                                                                                                                                                                                   \n",
              "\n",
              "[57453 rows x 3 columns]"
            ],
            "text/html": [
              "\n",
              "  <div id=\"df-94fdd4af-de49-48c2-87d4-ca5930f5b856\">\n",
              "    <div class=\"colab-df-container\">\n",
              "      <div>\n",
              "<style scoped>\n",
              "    .dataframe tbody tr th:only-of-type {\n",
              "        vertical-align: middle;\n",
              "    }\n",
              "\n",
              "    .dataframe tbody tr th {\n",
              "        vertical-align: top;\n",
              "    }\n",
              "\n",
              "    .dataframe thead th {\n",
              "        text-align: right;\n",
              "    }\n",
              "</style>\n",
              "<table border=\"1\" class=\"dataframe\">\n",
              "  <thead>\n",
              "    <tr style=\"text-align: right;\">\n",
              "      <th></th>\n",
              "      <th>Product</th>\n",
              "      <th>Company</th>\n",
              "      <th>Complaint</th>\n",
              "    </tr>\n",
              "  </thead>\n",
              "  <tbody>\n",
              "    <tr>\n",
              "      <th>0</th>\n",
              "      <td>Vehicle loan or lease</td>\n",
              "      <td>TRUIST FINANCIAL CORPORATION</td>\n",
              "      <td>This auto loan was opened on XX/XX/2020 in XXXX, NC with BB &amp; T in my name. I have NEVER been to North Carolina and I have NEVER been a resident. I have filed a dispute twice through my credit bureaus but both times BB &amp; T has claimed that this is an accurate loan. Which I wasn't aware of until today. I have tried to contact BB &amp; T multiple times but I have never gotten through to a live person. I do n't drive and I have never owned a car before. I didn't have any knowledge of this account until I checked XXXXXXXX XXXX  and noticed it. I've tried twice to dispute it. Additionally I never received any bills or information about this account. This is my last resort in trying to remove this fraudulent loan off of my account.</td>\n",
              "    </tr>\n",
              "    <tr>\n",
              "      <th>1</th>\n",
              "      <td>Debt collection</td>\n",
              "      <td>CURO Intermediate Holdings</td>\n",
              "      <td>In XXXX of 2019 I noticed a debt for {$620.00} on my credit which i believed was mine I thought speedy cash had bought one of my old debts and sold it to XXXX XXXX XXXX XXXX. I contacted XXXX XXXX XXXX XXXX and after several attempts of giving my full name, nothing came up in their system. I gave my social and the rep said the account popped up but DID NOT tell me that the account was under someone elses name and continued to let me make a payment. The payment was for {$120.00}. Confirmation number-XXXX. After realizing it was not my account, I called back to get my money back and inform them of the mistake. I was told i needed to mail them an FTC report and dispute letter to get my money back. I completed all of this and when i called again they said they transferred the account back to speedy cash for fraud review and I would need to contact them. After contacting them i was again told that i can not get my money back. The issue im having is this representative at XXXX XXXX played blind to obvious fraud and let an innocent person make a payment on someone elses debt and i want my money back.</td>\n",
              "    </tr>\n",
              "    <tr>\n",
              "      <th>2</th>\n",
              "      <td>Vehicle loan or lease</td>\n",
              "      <td>CAPITAL ONE FINANCIAL CORPORATION</td>\n",
              "      <td>As stated from Capital One, XXXX XX/XX/XXXX and XXXX 2018, My wife and I went to several car dealerships to request for a car loan to get a used car. However, according to their credit requirements unfortunately my credit score was insufficient for the car loan approval at that time. It seemed as though they pulled my credit report multiple times.</td>\n",
              "    </tr>\n",
              "    <tr>\n",
              "      <th>3</th>\n",
              "      <td>Checking or savings account</td>\n",
              "      <td>CAPITAL ONE FINANCIAL CORPORATION</td>\n",
              "      <td>Please see CFPB case XXXX. \\n\\nCapital One, in the letter they provided ( and attached to that case as their response ) said this : \" The funds were reversed and sent back to XXXX XXXX XXXX  on XX/XX/XXXX ''. \\n\\nXXXX XXXX XXXX  ( now XXXX XXXX  ) has not received these funds. Staff at XXXX XXXX  - and also staff at the account-holder 's business - have looked for return of my money ( {$650.00} ) and find nothing. \\n\\nCapital One needs to document - actually prove - they returned the funds, as stated in their letter. Capital One must provide electronic information, if the return was made that way, or document the paper check they sent back to XXXX XXXX. \\n\\nI've left 3 messages about this problem for the person who signed the letter ( XXXX ) from Capital One. I have received no call-backs. \\n\\nSummary : Capital One said they returned my money on XX/XX/XXXX : they did not. If they continue claim they did, then they need to prove that.</td>\n",
              "    </tr>\n",
              "    <tr>\n",
              "      <th>4</th>\n",
              "      <td>Debt collection</td>\n",
              "      <td>Merchants and Professional Bureau, Inc.</td>\n",
              "      <td>This debt was incurred due to medical malpractice ( XXXX XXXX XXXX, XXXX, TX ). I asked the doctor to turn over my claim to his malpractice insurance company. This has cost me thousands of dollars to XXXX XXXX XXXX. I am still trying to collect damages from this doctor. He never responded and turned over me to collections Merchants and Professional Collection Bureau , Inc. I sent them a letter describing exactly this issue and instead of not contacting me and verifying my debt they start reporting this debt to the credit reporting agencies. They never verified the debt, like I asked and they never stopped it from being reported when I specifically told them not to, due to the circumstances above.</td>\n",
              "    </tr>\n",
              "    <tr>\n",
              "      <th>...</th>\n",
              "      <td>...</td>\n",
              "      <td>...</td>\n",
              "      <td>...</td>\n",
              "    </tr>\n",
              "    <tr>\n",
              "      <th>57448</th>\n",
              "      <td>Student loan</td>\n",
              "      <td>Nelnet, Inc.</td>\n",
              "      <td>I am attempting to make a payment toward my student loans on the Nelnet website today, XX/XX/20, and Nelnet will not allow me to post the payment sooner than XX/XX/20. By the time the payment posts, 2-3 days of additional interest will have accrued and my payments will apply more to interest than is due today, the day that I'm attempting to pay. My understanding was that I could make a payment at any time but this does not appear to be true. The funds are available in my bank account today regardless of whether Nelnet can collect over the weekend. I should not be penalized for this. \\n\\nI submitted complaint XXXX in XXXX for other deceptive practices with Nelnet. They have not yet resolved the issue identified in that complaint or contacted me as they said they would in their response. I believe this new issue is just one more deceptive practice by this company that causes financial harm to borrowers.</td>\n",
              "    </tr>\n",
              "    <tr>\n",
              "      <th>57449</th>\n",
              "      <td>Debt collection</td>\n",
              "      <td>The Receivable Management Services LLC, New York, NY Branch</td>\n",
              "      <td>Received letter for {$480.00}. Original creditor didnt contact me until past statute of limitations for insurance company recoupment per Arizona law. Debt collection is illegal for phantom debt. Additionally they are phoning my office excessively.</td>\n",
              "    </tr>\n",
              "    <tr>\n",
              "      <th>57450</th>\n",
              "      <td>Debt collection</td>\n",
              "      <td>Convergent Resources, Inc.</td>\n",
              "      <td>entire time 10 years until XX/XX/2020. XXXX makes my blood boil. I have called and was lied to told to provide my checking account information over the phone in order to turn my cell phone back on. i called at XXXX them at XXXX {$300.00} was added to my bill. \\n\\nScam scam scam I was told I can not call the office of the President just to write to XXXX XXXX XXXX XXXX XXXX XXXX XXXX, NM XXXX. I did three thousand times. the last letter I mailed on XX/XX/2020. Two collection agencies later. \\n\\nI chose to leave XXXX XXXX every time I called the XXXX supervisor would threaten me on a recorded line. I need peace of mind and a good Heart to beat inside of me. Im on a XXXX XXXX due to the stress at XXXX XXXX   taking all my money 4 10 years.</td>\n",
              "    </tr>\n",
              "    <tr>\n",
              "      <th>57451</th>\n",
              "      <td>Checking or savings account</td>\n",
              "      <td>WELLS FARGO &amp; COMPANY</td>\n",
              "      <td>I am a customer with Wells Fargo Bank. Recently money was withdrawn on a couple of occasions without my permission or consent to pay for a timeshare account that was never used by me nor anyone connected to me because of unfair policies pertaining to the fees of the said timeshare. I tried cancelling the said timeshare account several times because of these fees that were never mentioned at the initiation. My account was debited to pay for the timeshare fees without my knowledge or consent several times. I tried correcting this with Wells Fargo bank with no avail. I would appreciate it if you can look into this matter for me. I was left with no funds in my account and as such I could not take care of the basic necessities of my day to day life. \\nThanks in advance,</td>\n",
              "    </tr>\n",
              "    <tr>\n",
              "      <th>57452</th>\n",
              "      <td>Debt collection</td>\n",
              "      <td>Exeter Finance Corp.</td>\n",
              "      <td>I spoken with them several times in a year. An in XXXX they informed me yes they sold my information to a third party without my knowledge. Also, I told them that I dont owe them anything because my car was paid off by insurance XXXX an Gap an they said no. I also informed them that constantly calling me an telling me that my credit score would be damage was inappropriate. But on my credit they written several negative things. An I didnt give Exeter financial Corp no authority to sell my information to XXXX XXXX</td>\n",
              "    </tr>\n",
              "  </tbody>\n",
              "</table>\n",
              "<p>57453 rows × 3 columns</p>\n",
              "</div>\n",
              "      <button class=\"colab-df-convert\" onclick=\"convertToInteractive('df-94fdd4af-de49-48c2-87d4-ca5930f5b856')\"\n",
              "              title=\"Convert this dataframe to an interactive table.\"\n",
              "              style=\"display:none;\">\n",
              "        \n",
              "  <svg xmlns=\"http://www.w3.org/2000/svg\" height=\"24px\"viewBox=\"0 0 24 24\"\n",
              "       width=\"24px\">\n",
              "    <path d=\"M0 0h24v24H0V0z\" fill=\"none\"/>\n",
              "    <path d=\"M18.56 5.44l.94 2.06.94-2.06 2.06-.94-2.06-.94-.94-2.06-.94 2.06-2.06.94zm-11 1L8.5 8.5l.94-2.06 2.06-.94-2.06-.94L8.5 2.5l-.94 2.06-2.06.94zm10 10l.94 2.06.94-2.06 2.06-.94-2.06-.94-.94-2.06-.94 2.06-2.06.94z\"/><path d=\"M17.41 7.96l-1.37-1.37c-.4-.4-.92-.59-1.43-.59-.52 0-1.04.2-1.43.59L10.3 9.45l-7.72 7.72c-.78.78-.78 2.05 0 2.83L4 21.41c.39.39.9.59 1.41.59.51 0 1.02-.2 1.41-.59l7.78-7.78 2.81-2.81c.8-.78.8-2.07 0-2.86zM5.41 20L4 18.59l7.72-7.72 1.47 1.35L5.41 20z\"/>\n",
              "  </svg>\n",
              "      </button>\n",
              "      \n",
              "  <style>\n",
              "    .colab-df-container {\n",
              "      display:flex;\n",
              "      flex-wrap:wrap;\n",
              "      gap: 12px;\n",
              "    }\n",
              "\n",
              "    .colab-df-convert {\n",
              "      background-color: #E8F0FE;\n",
              "      border: none;\n",
              "      border-radius: 50%;\n",
              "      cursor: pointer;\n",
              "      display: none;\n",
              "      fill: #1967D2;\n",
              "      height: 32px;\n",
              "      padding: 0 0 0 0;\n",
              "      width: 32px;\n",
              "    }\n",
              "\n",
              "    .colab-df-convert:hover {\n",
              "      background-color: #E2EBFA;\n",
              "      box-shadow: 0px 1px 2px rgba(60, 64, 67, 0.3), 0px 1px 3px 1px rgba(60, 64, 67, 0.15);\n",
              "      fill: #174EA6;\n",
              "    }\n",
              "\n",
              "    [theme=dark] .colab-df-convert {\n",
              "      background-color: #3B4455;\n",
              "      fill: #D2E3FC;\n",
              "    }\n",
              "\n",
              "    [theme=dark] .colab-df-convert:hover {\n",
              "      background-color: #434B5C;\n",
              "      box-shadow: 0px 1px 3px 1px rgba(0, 0, 0, 0.15);\n",
              "      filter: drop-shadow(0px 1px 2px rgba(0, 0, 0, 0.3));\n",
              "      fill: #FFFFFF;\n",
              "    }\n",
              "  </style>\n",
              "\n",
              "      <script>\n",
              "        const buttonEl =\n",
              "          document.querySelector('#df-94fdd4af-de49-48c2-87d4-ca5930f5b856 button.colab-df-convert');\n",
              "        buttonEl.style.display =\n",
              "          google.colab.kernel.accessAllowed ? 'block' : 'none';\n",
              "\n",
              "        async function convertToInteractive(key) {\n",
              "          const element = document.querySelector('#df-94fdd4af-de49-48c2-87d4-ca5930f5b856');\n",
              "          const dataTable =\n",
              "            await google.colab.kernel.invokeFunction('convertToInteractive',\n",
              "                                                     [key], {});\n",
              "          if (!dataTable) return;\n",
              "\n",
              "          const docLinkHtml = 'Like what you see? Visit the ' +\n",
              "            '<a target=\"_blank\" href=https://colab.research.google.com/notebooks/data_table.ipynb>data table notebook</a>'\n",
              "            + ' to learn more about interactive tables.';\n",
              "          element.innerHTML = '';\n",
              "          dataTable['output_type'] = 'display_data';\n",
              "          await google.colab.output.renderOutput(dataTable, element);\n",
              "          const docLink = document.createElement('div');\n",
              "          docLink.innerHTML = docLinkHtml;\n",
              "          element.appendChild(docLink);\n",
              "        }\n",
              "      </script>\n",
              "    </div>\n",
              "  </div>\n",
              "  "
            ]
          },
          "metadata": {},
          "execution_count": 11
        }
      ],
      "source": [
        "# considering usefull data columns (Product,company,Consumer complaint narrative)\n",
        "\n",
        "complaint_data = data[['Product','Company','Consumer complaint narrative']].rename(columns={'Consumer complaint narrative':'Complaint'})\n",
        "\n",
        "pd.set_option('display.max_colwidth', -1)\n",
        "complaint_data"
      ]
    },
    {
      "cell_type": "code",
      "execution_count": null,
      "metadata": {
        "colab": {
          "base_uri": "https://localhost:8080/"
        },
        "id": "jNVF94NT3fAz",
        "outputId": "51f530c1-79df-4651-a3dd-54b2ba7ea45a"
      },
      "outputs": [
        {
          "output_type": "stream",
          "name": "stdout",
          "text": [
            "Product      57453\n",
            "Company      57453\n",
            "Complaint    57453\n",
            "dtype: int64\n"
          ]
        }
      ],
      "source": [
        "# more exploration on dataset\n",
        "print(complaint_data.isnull().count())"
      ]
    },
    {
      "cell_type": "code",
      "execution_count": null,
      "metadata": {
        "colab": {
          "base_uri": "https://localhost:8080/"
        },
        "id": "BztzPrSiypN0",
        "outputId": "9afbd7ee-69d3-4813-d16e-e32a6898a103"
      },
      "outputs": [
        {
          "output_type": "stream",
          "name": "stdout",
          "text": [
            "Product      object\n",
            "Company      object\n",
            "Complaint    object\n",
            "dtype: object\n"
          ]
        }
      ],
      "source": [
        "print(complaint_data.dtypes)"
      ]
    },
    {
      "cell_type": "markdown",
      "source": [
        "### **Data Preprocessing**"
      ],
      "metadata": {
        "id": "MxZa7X9y9BJT"
      }
    },
    {
      "cell_type": "code",
      "execution_count": 12,
      "metadata": {
        "id": "9RgSsCIF3qUO"
      },
      "outputs": [],
      "source": [
        "# data set split for further analysis \n",
        "\n",
        "train,test = train_test_split(complaint_data,test_size=0.3,random_state=42)"
      ]
    },
    {
      "cell_type": "code",
      "execution_count": 13,
      "metadata": {
        "colab": {
          "base_uri": "https://localhost:8080/"
        },
        "id": "xQ2p2Cms4tDf",
        "outputId": "47d2dacd-ed40-4b0c-8956-446c280da9ff"
      },
      "outputs": [
        {
          "output_type": "execute_result",
          "data": {
            "text/plain": [
              "(40217, 3)"
            ]
          },
          "metadata": {},
          "execution_count": 13
        }
      ],
      "source": [
        "train.shape"
      ]
    },
    {
      "cell_type": "code",
      "execution_count": 14,
      "metadata": {
        "id": "5X3tkRJg4vQN"
      },
      "outputs": [],
      "source": [
        "\n",
        "train['Complaint_processed'] = train['Complaint'].map(lambda x: re.sub('[,\\.!?]', '', x))  #(˄ means exclusion of everything which is not alphabets and replacing it with null space)"
      ]
    },
    {
      "cell_type": "code",
      "execution_count": 15,
      "metadata": {
        "colab": {
          "base_uri": "https://localhost:8080/"
        },
        "id": "qSyvyKjj570H",
        "outputId": "afc0cbe0-3c26-4652-ff9c-12e75abd6581"
      },
      "outputs": [
        {
          "output_type": "execute_result",
          "data": {
            "text/plain": [
              "42027    after many weeks of receiving hourly phone calls from navient i sent them a letter instructing them only to contact me by mail per the fair debt collection practices act and the calls stopped although they have emailed me a couple of times today xx/xx/19 the mother of a friend from middle school let me know that navient had called her and left a message for me she is not listed as an emergency or secondary contact in any of my paperwork ; navient should not have her number unless they dig it up themselves this is a huge breach of privacy and a clear violation of the fdcpa given that i had instructed them to only contact me by phone and that they contacted someone completely unrelated to me and told them they were looking for me regarding student loan debt per the fdcpa : \" a debt collector may not communicate in connection with the collection of any debt with any person other than the consumer his attorney a consumer reporting agency if otherwise permitted by law the creditor the attorney of the creditor or the attorney of the debt collector '' navient clearly violated this \\n\\nthe person who contacted her was named xxxx xxxx and she gave the reference number xxxx and the phone number xxxx extension xxxx                                                                                                                                                                                                                                                                                                                                                                                                                                                                                                                                                                                                                                                                                                                                                                                                                                                                                                                                                                                                                                                                                                                                                                                                                                                                                                                                                                                                                                                                                                                                                                                                                                                                                                                                                                                                                                                                                                                                                                                                                                                                                                                                                                                                                                                                                                                                                                                                                                                                                                                                                                                                                                                                                                                                                                                                                                                                                                                                                                                                                                                                                                                                                                                                                                                                                                                                                                                                                                                                                                                                                                                                                                                      \n",
              "13307    as a former customer of xxxx i swithced my services to another carrier as of xx/xx/2018 after experiencing a period of two weeks in which time we had no service this was due to a global technical issue however we were not able to make and or receive calls prior to leaving xxxx i did reach out to tech support both via phone and via the app on the phone time and time again with an attempt to get this issue resolved however i was not able too even though we did not have service xxxx was not forgiving the bill in any way shape or form and i had an infant therefore it was and is important that i have a cell phone that works in case of an emergency finally after getting no place i took my business else where \\n\\na few days later after switching my cell phone provider without even contacting xxxx i received a return kit in the mail so that i could return the two devices xxxx to them using the prepaid return label via xxxx this was exactly what did during this time we were in the processing of moving therefore i misplaced the return tracking number however working in customer care and with return label i am fully aware that as a company they have the means to locate the return tracking # and track the return package if they wanted too \\n\\nagain call after call i got no place on xxxx day xx/xx/2018 i received notification from at least 3 cards one being my bank card that xxxx illegally tried to charge each of the cards {$180000} \\n\\nthis was an issue and i flipped from the beginning as i never authorized xxxx to keep any card i ever used to pay a bill with on file each time i paid a bill via the ivr and was asked if i wanted my information kept on file i responded no furthermore the amount was incorrect \\n\\nworking in the xxxx industry full time there is nothing slow about me i am fully aware that is illegal to keep a customers credit card and or banking information on file and charge it for any amount with out their consent on the same day after notifying my card issuers i did not make this purchase and i did not authorize it to have all my cards cancelled and new ones issued i contacted xxxx yet again \\n\\ni spoke with a nice rep who was only able to assist me to a limited amount she advised me she would note the account accordingly and have the phones returned located at this point my account should have been placed on hold and it was not \\n\\ni continued to climb the corporate ladder and went to the executive office originally i was dealing with xxxx xxxx who was useless she admitted xxxx did keep my information on file and that it was okay for them to charge my cards as a letter was sent to me advising it would be done i never got this letter to begin with and it is not okay as i never authorized xxxx to keep my information on file \\n\\nshe was not willing to help we had a few words and i started working with xxxx xxxx again we went back and forth and originally he too did not want to assist me in locating the phones i told him what xxxx did is fraud even cc executive leadership on each email sent to xxxx and xxxx though it got me no place finally after the 120 days passsed ( this is the length of time xxxx keeps the return tracking information in there system for ) i was told that as a courtesy he lowered my bill to {$47000} \\n\\ni requested that the account me removed from my credit immediately and xxxx continued to refuse even though they committed fraud and they are to blame i agreed to make a payment which i did never committed to an amount and still they would not remove it from my credit \\n\\nxxxx has changed their collection companies time and time again just to keep this invalid debit active \\n\\ni have continued to research my rights and have even sent xxxx a demand letter requesting {$300000} ; in court i can get 3 times the amount if it is found in my favor and clearly with xxxx illegally keeping and attempting to charge several of my cards with out my consent they clearly committed fraud \\n\\ni went back and forth with the collection companies and finally reached a really nice rep several months ago at sunrise when i explained the above in detail to her she did confirm what xxxx did was fraud and that she would put my account on hold while i appreciate her help this is not good enough \\n\\ni want this removed from my credit for over a year xxxx the collection companies and their illegal practices have ruined my credit beyond belief \\n\\ni pay all my bills on time and xxxx  carelessness and fraudlent activity as destroyed my credit \\n\\ni am not able to get any new cards no loans and or refinance my car \\n\\nthis is not acceptable and i would like this removed from my credit immediately and {$300000} for all that they have put me thru \\n\\nthank you\n",
              "19649    i called this collection company after finding out that xxxx xxxx had submitted a {$5000} debt from our now xxxx year old at the time she was xxxx or xxxx and this was also around the time she was on our insurance however i believe we had declared bankruptcy this was a copay that xxxx xxxx xxxx never ever called about or anything we moved in xxxx and had our mail forwarded but never ever received a bill when i called this company recently as soon as i found out this debt existed via xxxx  xxxx alert system i told them i can easily pay the {$5000} they said it was too late because it was over 7 years old but they said it wouldnt go on our credit until i just saw in now xx/xx/xxxx why would i not pay {$5000} this xxxx xxxx xxxx is notorious for this behavior one simple phone call or a certified letter would have instantly solved this 7 years ago we have always paid our co pay at the time of visit but my then minor daughter may have been told she would be billed and didnt tell me  at least that is the only thing i can come up with tell me who to send the {$5000} to i want this off my credit                                                                                                                                                                                                                                                                                                                                                                                                                                                                                                                                                                                                                                                                                                                                                                                                                                                                                                                                                                                                                                                                                                                                                                                                                                                                                                                                                                                                                                                                                                                                                                                                                                                                                                                                                                                                                                                                                                                                                                                                                                                                                                                                                                                                                                                                                                                                                                                                                                                                                                                                                                                                                                                                                                                                                                                                                                                                                                                                                                                                                                                                                                                                                                                                                                                                                                                                                                                                                                                                                                                                                                                                                                                                                                                                                                             \n",
              "37669    i have reached out multiple times to my local chase in xxxx il and they have failed to solve my problem i recieved my account number from a teller at my local chase on a business card when i filed my taxes for xxxx on xx/xx/xxxx i provided the account number that chase had provided me well i was supposed to receive my direct deposit for my tax return for the amount of {$110000} on xx/xx/xxxx well xx/xx/xxxx came and no deposit was made when i contacted my local chase to see what the issue was on xxxx xxxx thus my first complaint it turned out that the teller person had provided me with the incorrect account number and the account number provided to me by my local chase was somebody else account and my direct deposit went into this other persons account after reaching out multiple times and going into my local chase in xxxx il in person chase has refused to reverse that payment back to the irs or back to my account chase has also allowed somebody else to use of my money chase has refused multiple times to reverse the payment into my account and accept their fault at giving me the wrong account number and they have allowed another person to use my hard working money that i earned i have received a letter from the irs stating that chase is fully responsible for fixing there mistake and reversing the payment to my account this is not right and i am extremely dissapointed you are supposed to trust your bank and trust that they take care of your money and the fact that they have refused and allowed someone else to steal my money is absured i have filed a police report and this other person wont be so happy to hear that they are being charged with theft for stealing my money as well as jp morgan chase wont be happy to hear this is my 3rd complaint and nothing has been resolved and it will be posted on the reviews that they have refused to issue my refund back to me                                                                                                                                                                                                                                                                                                                                                                                                                                                                                                                                                                                                                                                                                                                                                                                                                                                                                                                                                                                                                                                                                                                                                                                                                                                                                                                                                                                                                                                                                                                                                                                                                                                                                                                                                                                                                                                                                                                                                                                                                                                                                                                                                                                                                                                                                                                                                                                                                                                                                                                                                                                                                                                                                                                                                                                                                                                                                                                                                           \n",
              "9392     robocall claiming i owe a debt i do not owe any debts                                                                                                                                                                                                                                                                                                                                                                                                                                                                                                                                                                                                                                                                                                                                                                                                                                                                                                                                                                                                                                                                                                                                                                                                                                                                                                                                                                                                                                                                                                                                                                                                                                                                                                                                                                                                                                                                                                                                                                                                                                                                                                                                                                                                                                                                                                                                                                                                                                                                                                                                                                                                                                                                                                                                                                                                                                                                                                                                                                                                                                                                                                                                                                                                                                                                                                                                                                                                                                                                                                                                                                                                                                                                                                                                                                                                                                                                                                                                                                                                                                                                                                                                                                                                                                                                                                                                                                                                                                                                                                                                                                                                                                                                                                                                                                                                                                                                        \n",
              "Name: Complaint_processed, dtype: object"
            ]
          },
          "metadata": {},
          "execution_count": 15
        }
      ],
      "source": [
        "train['Complaint_processed'] = train['Complaint_processed'].map(lambda x: x.lower())   #converting all the letters into lowercase\n",
        "train['Complaint_processed'].head()   "
      ]
    },
    {
      "cell_type": "code",
      "execution_count": null,
      "metadata": {
        "colab": {
          "base_uri": "https://localhost:8080/"
        },
        "id": "Y5Hi9Bb2B1PD",
        "outputId": "39b09f2a-193a-40d2-cad6-b97c0718ec83"
      },
      "outputs": [
        {
          "output_type": "stream",
          "name": "stdout",
          "text": [
            "Looking in indexes: https://pypi.org/simple, https://us-python.pkg.dev/colab-wheels/public/simple/\n",
            "Requirement already satisfied: nltk in /usr/local/lib/python3.7/dist-packages (3.7)\n",
            "Requirement already satisfied: tqdm in /usr/local/lib/python3.7/dist-packages (from nltk) (4.64.1)\n",
            "Requirement already satisfied: regex>=2021.8.3 in /usr/local/lib/python3.7/dist-packages (from nltk) (2022.6.2)\n",
            "Requirement already satisfied: joblib in /usr/local/lib/python3.7/dist-packages (from nltk) (1.2.0)\n",
            "Requirement already satisfied: click in /usr/local/lib/python3.7/dist-packages (from nltk) (7.1.2)\n"
          ]
        }
      ],
      "source": [
        "!pip install nltk   #natural language toolkit "
      ]
    },
    {
      "cell_type": "code",
      "source": [
        "stop_words = (stopwords.words('english'))\n",
        "\n",
        "stemmer = PorterStemmer()\n",
        "stemmer = nltk.stem.SnowballStemmer('english')"
      ],
      "metadata": {
        "id": "l03lbnikqGTp"
      },
      "execution_count": 16,
      "outputs": []
    },
    {
      "cell_type": "markdown",
      "source": [
        "## Tokenisation"
      ],
      "metadata": {
        "id": "v0XJhz7nBngL"
      }
    },
    {
      "cell_type": "code",
      "execution_count": 17,
      "metadata": {
        "id": "7XjRJ8Ut_36_"
      },
      "outputs": [],
      "source": [
        "\n",
        "def tokenize(text):\n",
        "   tokens = [word for word in nltk.word_tokenize(text) if (len(word) > 3 and len(word.strip('Xx/')) > 2 and len(re.sub('\\d+', '', word.strip('Xx/'))) > 3) ] \n",
        "  #  tokens = map(str.lower, tokens)\n",
        "   stems = [stemmer.stem(item) for item in tokens if (item not in stop_words)]\n",
        "   return stems\n",
        "\n",
        "\n",
        "docs = train.Complaint_processed.values.tolist()\n",
        "data_words = [tokenize(doc) for doc in docs]"
      ]
    },
    {
      "cell_type": "code",
      "execution_count": 18,
      "metadata": {
        "colab": {
          "base_uri": "https://localhost:8080/"
        },
        "id": "tQQfLhmdBkrS",
        "outputId": "f6909480-bede-4f20-815f-754ade003b61"
      },
      "outputs": [
        {
          "output_type": "stream",
          "name": "stdout",
          "text": [
            "40217\n"
          ]
        },
        {
          "output_type": "execute_result",
          "data": {
            "text/plain": [
              "[['mani',\n",
              "  'week',\n",
              "  'receiv',\n",
              "  'hour',\n",
              "  'phone',\n",
              "  'call',\n",
              "  'navient',\n",
              "  'sent',\n",
              "  'letter',\n",
              "  'instruct',\n",
              "  'contact',\n",
              "  'mail',\n",
              "  'fair',\n",
              "  'debt',\n",
              "  'collect',\n",
              "  'practic',\n",
              "  'call',\n",
              "  'stop',\n",
              "  'although',\n",
              "  'email',\n",
              "  'coupl',\n",
              "  'time',\n",
              "  'today',\n",
              "  'mother',\n",
              "  'friend',\n",
              "  'middl',\n",
              "  'school',\n",
              "  'know',\n",
              "  'navient',\n",
              "  'call',\n",
              "  'left',\n",
              "  'messag',\n",
              "  'list',\n",
              "  'emerg',\n",
              "  'secondari',\n",
              "  'contact',\n",
              "  'paperwork',\n",
              "  'navient',\n",
              "  'number',\n",
              "  'unless',\n",
              "  'huge',\n",
              "  'breach',\n",
              "  'privaci',\n",
              "  'clear',\n",
              "  'violat',\n",
              "  'fdcpa',\n",
              "  'given',\n",
              "  'instruct',\n",
              "  'contact',\n",
              "  'phone',\n",
              "  'contact',\n",
              "  'someon',\n",
              "  'complet',\n",
              "  'unrel',\n",
              "  'told',\n",
              "  'look',\n",
              "  'regard',\n",
              "  'student',\n",
              "  'loan',\n",
              "  'debt',\n",
              "  'fdcpa',\n",
              "  'debt',\n",
              "  'collector',\n",
              "  'communic',\n",
              "  'connect',\n",
              "  'collect',\n",
              "  'debt',\n",
              "  'person',\n",
              "  'consum',\n",
              "  'attorney',\n",
              "  'consum',\n",
              "  'report',\n",
              "  'agenc',\n",
              "  'otherwis',\n",
              "  'permit',\n",
              "  'creditor',\n",
              "  'attorney',\n",
              "  'creditor',\n",
              "  'attorney',\n",
              "  'debt',\n",
              "  'collector',\n",
              "  'navient',\n",
              "  'clear',\n",
              "  'violat',\n",
              "  'person',\n",
              "  'contact',\n",
              "  'name',\n",
              "  'gave',\n",
              "  'refer',\n",
              "  'number',\n",
              "  'phone',\n",
              "  'number',\n",
              "  'extens'],\n",
              " ['former',\n",
              "  'custom',\n",
              "  'swithc',\n",
              "  'servic',\n",
              "  'anoth',\n",
              "  'carrier',\n",
              "  'experienc',\n",
              "  'period',\n",
              "  'week',\n",
              "  'time',\n",
              "  'servic',\n",
              "  'global',\n",
              "  'technic',\n",
              "  'issu',\n",
              "  'howev',\n",
              "  'abl',\n",
              "  'make',\n",
              "  'receiv',\n",
              "  'call',\n",
              "  'prior',\n",
              "  'leav',\n",
              "  'reach',\n",
              "  'tech',\n",
              "  'support',\n",
              "  'phone',\n",
              "  'phone',\n",
              "  'time',\n",
              "  'time',\n",
              "  'attempt',\n",
              "  'issu',\n",
              "  'resolv',\n",
              "  'howev',\n",
              "  'abl',\n",
              "  'even',\n",
              "  'though',\n",
              "  'servic',\n",
              "  'forgiv',\n",
              "  'bill',\n",
              "  'shape',\n",
              "  'form',\n",
              "  'infant',\n",
              "  'therefor',\n",
              "  'import',\n",
              "  'cell',\n",
              "  'phone',\n",
              "  'work',\n",
              "  'case',\n",
              "  'emerg',\n",
              "  'final',\n",
              "  'get',\n",
              "  'place',\n",
              "  'took',\n",
              "  'busi',\n",
              "  'els',\n",
              "  'day',\n",
              "  'later',\n",
              "  'switch',\n",
              "  'cell',\n",
              "  'phone',\n",
              "  'provid',\n",
              "  'without',\n",
              "  'even',\n",
              "  'contact',\n",
              "  'receiv',\n",
              "  'return',\n",
              "  'mail',\n",
              "  'could',\n",
              "  'return',\n",
              "  'devic',\n",
              "  'use',\n",
              "  'prepaid',\n",
              "  'return',\n",
              "  'label',\n",
              "  'exact',\n",
              "  'time',\n",
              "  'process',\n",
              "  'move',\n",
              "  'therefor',\n",
              "  'misplac',\n",
              "  'return',\n",
              "  'track',\n",
              "  'number',\n",
              "  'howev',\n",
              "  'work',\n",
              "  'custom',\n",
              "  'care',\n",
              "  'return',\n",
              "  'label',\n",
              "  'fulli',\n",
              "  'awar',\n",
              "  'compani',\n",
              "  'mean',\n",
              "  'locat',\n",
              "  'return',\n",
              "  'track',\n",
              "  'track',\n",
              "  'return',\n",
              "  'packag',\n",
              "  'want',\n",
              "  'call',\n",
              "  'call',\n",
              "  'place',\n",
              "  'receiv',\n",
              "  'notif',\n",
              "  'least',\n",
              "  'card',\n",
              "  'bank',\n",
              "  'card',\n",
              "  'illeg',\n",
              "  'tri',\n",
              "  'charg',\n",
              "  'card',\n",
              "  'issu',\n",
              "  'flip',\n",
              "  'begin',\n",
              "  'never',\n",
              "  'author',\n",
              "  'keep',\n",
              "  'card',\n",
              "  'ever',\n",
              "  'use',\n",
              "  'bill',\n",
              "  'file',\n",
              "  'time',\n",
              "  'paid',\n",
              "  'bill',\n",
              "  'ask',\n",
              "  'want',\n",
              "  'inform',\n",
              "  'kept',\n",
              "  'file',\n",
              "  'respond',\n",
              "  'furthermor',\n",
              "  'amount',\n",
              "  'incorrect',\n",
              "  'work',\n",
              "  'industri',\n",
              "  'full',\n",
              "  'time',\n",
              "  'noth',\n",
              "  'slow',\n",
              "  'fulli',\n",
              "  'awar',\n",
              "  'illeg',\n",
              "  'keep',\n",
              "  'custom',\n",
              "  'credit',\n",
              "  'card',\n",
              "  'bank',\n",
              "  'inform',\n",
              "  'file',\n",
              "  'charg',\n",
              "  'amount',\n",
              "  'consent',\n",
              "  'notifi',\n",
              "  'card',\n",
              "  'issuer',\n",
              "  'make',\n",
              "  'purchas',\n",
              "  'author',\n",
              "  'card',\n",
              "  'cancel',\n",
              "  'one',\n",
              "  'issu',\n",
              "  'contact',\n",
              "  'spoke',\n",
              "  'nice',\n",
              "  'abl',\n",
              "  'assist',\n",
              "  'limit',\n",
              "  'amount',\n",
              "  'advis',\n",
              "  'would',\n",
              "  'note',\n",
              "  'account',\n",
              "  'accord',\n",
              "  'phone',\n",
              "  'return',\n",
              "  'locat',\n",
              "  'point',\n",
              "  'account',\n",
              "  'place',\n",
              "  'hold',\n",
              "  'continu',\n",
              "  'climb',\n",
              "  'corpor',\n",
              "  'ladder',\n",
              "  'went',\n",
              "  'execut',\n",
              "  'offic',\n",
              "  'origin',\n",
              "  'deal',\n",
              "  'useless',\n",
              "  'admit',\n",
              "  'keep',\n",
              "  'inform',\n",
              "  'file',\n",
              "  'okay',\n",
              "  'charg',\n",
              "  'card',\n",
              "  'letter',\n",
              "  'sent',\n",
              "  'advis',\n",
              "  'would',\n",
              "  'done',\n",
              "  'never',\n",
              "  'letter',\n",
              "  'begin',\n",
              "  'okay',\n",
              "  'never',\n",
              "  'author',\n",
              "  'keep',\n",
              "  'inform',\n",
              "  'file',\n",
              "  'will',\n",
              "  'help',\n",
              "  'word',\n",
              "  'start',\n",
              "  'work',\n",
              "  'went',\n",
              "  'back',\n",
              "  'forth',\n",
              "  'origin',\n",
              "  'want',\n",
              "  'assist',\n",
              "  'locat',\n",
              "  'phone',\n",
              "  'told',\n",
              "  'fraud',\n",
              "  'even',\n",
              "  'execut',\n",
              "  'leadership',\n",
              "  'email',\n",
              "  'sent',\n",
              "  'though',\n",
              "  'place',\n",
              "  'final',\n",
              "  'day',\n",
              "  'passs',\n",
              "  'length',\n",
              "  'time',\n",
              "  'keep',\n",
              "  'return',\n",
              "  'track',\n",
              "  'inform',\n",
              "  'system',\n",
              "  'told',\n",
              "  'courtesi',\n",
              "  'lower',\n",
              "  'bill',\n",
              "  'request',\n",
              "  'account',\n",
              "  'remov',\n",
              "  'credit',\n",
              "  'immedi',\n",
              "  'continu',\n",
              "  'refus',\n",
              "  'even',\n",
              "  'though',\n",
              "  'commit',\n",
              "  'fraud',\n",
              "  'blame',\n",
              "  'agre',\n",
              "  'make',\n",
              "  'payment',\n",
              "  'never',\n",
              "  'commit',\n",
              "  'amount',\n",
              "  'still',\n",
              "  'would',\n",
              "  'remov',\n",
              "  'credit',\n",
              "  'chang',\n",
              "  'collect',\n",
              "  'compani',\n",
              "  'time',\n",
              "  'time',\n",
              "  'keep',\n",
              "  'invalid',\n",
              "  'debit',\n",
              "  'activ',\n",
              "  'continu',\n",
              "  'research',\n",
              "  'right',\n",
              "  'even',\n",
              "  'sent',\n",
              "  'demand',\n",
              "  'letter',\n",
              "  'request',\n",
              "  'court',\n",
              "  'time',\n",
              "  'amount',\n",
              "  'found',\n",
              "  'favor',\n",
              "  'clear',\n",
              "  'illeg',\n",
              "  'keep',\n",
              "  'attempt',\n",
              "  'charg',\n",
              "  'sever',\n",
              "  'card',\n",
              "  'consent',\n",
              "  'clear',\n",
              "  'commit',\n",
              "  'fraud',\n",
              "  'went',\n",
              "  'back',\n",
              "  'forth',\n",
              "  'collect',\n",
              "  'compani',\n",
              "  'final',\n",
              "  'reach',\n",
              "  'realli',\n",
              "  'nice',\n",
              "  'sever',\n",
              "  'month',\n",
              "  'sunris',\n",
              "  'explain',\n",
              "  'detail',\n",
              "  'confirm',\n",
              "  'fraud',\n",
              "  'would',\n",
              "  'account',\n",
              "  'hold',\n",
              "  'appreci',\n",
              "  'help',\n",
              "  'good',\n",
              "  'enough',\n",
              "  'want',\n",
              "  'remov',\n",
              "  'credit',\n",
              "  'year',\n",
              "  'collect',\n",
              "  'compani',\n",
              "  'illeg',\n",
              "  'practic',\n",
              "  'ruin',\n",
              "  'credit',\n",
              "  'beyond',\n",
              "  'belief',\n",
              "  'bill',\n",
              "  'time',\n",
              "  'careless',\n",
              "  'fraudlent',\n",
              "  'activ',\n",
              "  'destroy',\n",
              "  'credit',\n",
              "  'abl',\n",
              "  'card',\n",
              "  'loan',\n",
              "  'refin',\n",
              "  'accept',\n",
              "  'would',\n",
              "  'like',\n",
              "  'remov',\n",
              "  'credit',\n",
              "  'immedi',\n",
              "  'thru',\n",
              "  'thank']]"
            ]
          },
          "metadata": {},
          "execution_count": 18
        }
      ],
      "source": [
        "print(len(data_words))\n",
        "\n",
        "data_words[:2]"
      ]
    },
    {
      "cell_type": "markdown",
      "source": [
        "## Convert Text into Numerical Representation\n"
      ],
      "metadata": {
        "id": "jE3TUdq8YcoI"
      }
    },
    {
      "cell_type": "code",
      "execution_count": 19,
      "metadata": {
        "id": "bGS15M0-DGlj"
      },
      "outputs": [],
      "source": [
        "# In Natural language Processing there are many vectorizer which can convert text tokens to numerical tokens here we will try only two method \n",
        "# 1 - TF-IFD vectorizer    \n",
        "# 2 - Count Vectorizer\n",
        "# You can  find more about them in Document file\n",
        "\n",
        "tf_ifd  = TfidfVectorizer(tokenizer=tokenize, max_df = 0.75, min_df=50 , max_features=10000,use_idf= False,  lowercase=False )\n",
        "\n",
        "# Converting text into numerical representation\n",
        "cv = CountVectorizer(tokenizer=tokenize, max_df = 0.75, min_df=50 , max_features=10000, lowercase=False)"
      ]
    },
    {
      "cell_type": "code",
      "source": [
        "tf_vector = tf_ifd.fit_transform(train.Complaint_processed)\n",
        "vc_vectore = cv.fit_transform(train.Complaint_processed)"
      ],
      "metadata": {
        "id": "5tLdhMEqaEjh"
      },
      "execution_count": 20,
      "outputs": []
    },
    {
      "cell_type": "code",
      "source": [
        "print(\"tf_vector matrx\",tf_vector.A)\n",
        "tf_vector.shape"
      ],
      "metadata": {
        "colab": {
          "base_uri": "https://localhost:8080/"
        },
        "id": "40Ox1v0NbTrj",
        "outputId": "541444ba-f048-4363-a77a-55b3be6b0ef6"
      },
      "execution_count": 21,
      "outputs": [
        {
          "output_type": "stream",
          "name": "stdout",
          "text": [
            "tf_vector matrx [[0. 0. 0. ... 0. 0. 0.]\n",
            " [0. 0. 0. ... 0. 0. 0.]\n",
            " [0. 0. 0. ... 0. 0. 0.]\n",
            " ...\n",
            " [0. 0. 0. ... 0. 0. 0.]\n",
            " [0. 0. 0. ... 0. 0. 0.]\n",
            " [0. 0. 0. ... 0. 0. 0.]]\n"
          ]
        },
        {
          "output_type": "execute_result",
          "data": {
            "text/plain": [
              "(40217, 2602)"
            ]
          },
          "metadata": {},
          "execution_count": 21
        }
      ]
    },
    {
      "cell_type": "code",
      "source": [
        "print(\"count vectorizer matrix \",vc_vectore.A)\n",
        "vc_vectore.shape"
      ],
      "metadata": {
        "colab": {
          "base_uri": "https://localhost:8080/"
        },
        "id": "f9LhTRD3bYGK",
        "outputId": "5f601f08-90b8-470f-8cb6-726731c048bc"
      },
      "execution_count": 22,
      "outputs": [
        {
          "output_type": "stream",
          "name": "stdout",
          "text": [
            "count vectorizer matrix  [[0 0 0 ... 0 0 0]\n",
            " [0 0 0 ... 0 0 0]\n",
            " [0 0 0 ... 0 0 0]\n",
            " ...\n",
            " [0 0 0 ... 0 0 0]\n",
            " [0 0 0 ... 0 0 0]\n",
            " [0 0 0 ... 0 0 0]]\n"
          ]
        },
        {
          "output_type": "execute_result",
          "data": {
            "text/plain": [
              "(40217, 2602)"
            ]
          },
          "metadata": {},
          "execution_count": 22
        }
      ]
    },
    {
      "cell_type": "code",
      "source": [
        "cv_voc = (cv.get_feature_names())\n"
      ],
      "metadata": {
        "colab": {
          "base_uri": "https://localhost:8080/"
        },
        "id": "Qp1pJHWE5o9a",
        "outputId": "24fed523-8b9c-4d6a-bb54-1744ed41e6cd"
      },
      "execution_count": 23,
      "outputs": [
        {
          "output_type": "stream",
          "name": "stderr",
          "text": [
            "/usr/local/lib/python3.7/dist-packages/sklearn/utils/deprecation.py:87: FutureWarning: Function get_feature_names is deprecated; get_feature_names is deprecated in 1.0 and will be removed in 1.2. Please use get_feature_names_out instead.\n",
            "  warnings.warn(msg, category=FutureWarning)\n"
          ]
        }
      ]
    },
    {
      "cell_type": "code",
      "source": [
        "tf_voc = tf_ifd.get_feature_names()"
      ],
      "metadata": {
        "id": "Ve_Bscbc6YX4"
      },
      "execution_count": 24,
      "outputs": []
    },
    {
      "cell_type": "code",
      "source": [
        "print(\"length of tf_ifd vector vocabalury is :\",len(tf_ifd.get_feature_names()))\n",
        "print(\"length of cv vector vocabalury is :\",len(cv.get_feature_names()))"
      ],
      "metadata": {
        "colab": {
          "base_uri": "https://localhost:8080/"
        },
        "id": "N3lOA1PX748M",
        "outputId": "9634277e-a7f9-4646-e23b-b54651b6e991"
      },
      "execution_count": 25,
      "outputs": [
        {
          "output_type": "stream",
          "name": "stdout",
          "text": [
            "length of tf_ifd vector vocabalury is : 2602\n",
            "length of cv vector vocabalury is : 2602\n"
          ]
        }
      ]
    },
    {
      "cell_type": "markdown",
      "source": [
        "## LDA Implementation Using Sckit learn"
      ],
      "metadata": {
        "id": "16miJT5O8Wo_"
      }
    },
    {
      "cell_type": "code",
      "source": [
        "n_topics = 8\n",
        "model_lda = LDA(n_components = n_topics, learning_method='online',max_iter = 20,learning_offset=50,n_jobs = -1, random_state = 42)\n",
        "# fit transform on model on our count_vectorizer : running this will return our topics \n",
        "X_topics = model_lda.fit_transform(tf_vector)\n",
        "\n"
      ],
      "metadata": {
        "id": "rkAKyT8n9c4X"
      },
      "execution_count": null,
      "outputs": []
    },
    {
      "cell_type": "code",
      "source": [
        "\n",
        "# .components_ gives us our topic distribution \n",
        "topic_words = model_lda.components_"
      ],
      "metadata": {
        "id": "Mr-gd2z41myi"
      },
      "execution_count": null,
      "outputs": []
    },
    {
      "cell_type": "code",
      "source": [
        "X_topics"
      ],
      "metadata": {
        "colab": {
          "base_uri": "https://localhost:8080/"
        },
        "id": "BtUA2_wFzzYg",
        "outputId": "0baf485a-8a29-4e50-d008-fbb1d0092e80"
      },
      "execution_count": null,
      "outputs": [
        {
          "output_type": "execute_result",
          "data": {
            "text/plain": [
              "array([[0.01602825, 0.01602824, 0.016024  , ..., 0.01605815, 0.016024  ,\n",
              "        0.01602578],\n",
              "       [0.01112842, 0.01111141, 0.01111128, ..., 0.92211192, 0.01111128,\n",
              "        0.01114164],\n",
              "       [0.01640639, 0.0163859 , 0.01636912, ..., 0.01641548, 0.01636912,\n",
              "        0.01637997],\n",
              "       ...,\n",
              "       [0.65803602, 0.02186396, 0.02186366, ..., 0.21065441, 0.02186366,\n",
              "        0.02187585],\n",
              "       [0.02040153, 0.02035488, 0.02034854, ..., 0.02041819, 0.02034854,\n",
              "        0.02036167],\n",
              "       [0.01949243, 0.01948182, 0.01946629, ..., 0.01949309, 0.01946629,\n",
              "        0.01952527]])"
            ]
          },
          "metadata": {},
          "execution_count": 32
        }
      ]
    },
    {
      "cell_type": "code",
      "source": [
        "topic_words"
      ],
      "metadata": {
        "colab": {
          "base_uri": "https://localhost:8080/"
        },
        "id": "t1G3sV5nz3sY",
        "outputId": "d9b5199e-b67e-4bd6-e8f0-3e27d39c90e5"
      },
      "execution_count": null,
      "outputs": [
        {
          "output_type": "execute_result",
          "data": {
            "text/plain": [
              "array([[ 0.12500005,  1.97872592,  0.1260384 , ...,  0.12607867,\n",
              "         0.12585044,  0.12511835],\n",
              "       [ 0.12500023,  0.12502719,  0.12500227, ...,  0.12500161,\n",
              "         0.1250494 ,  0.12501165],\n",
              "       [ 0.12500133,  0.12500887,  0.12501411, ...,  0.12500958,\n",
              "         0.12500832,  0.12502112],\n",
              "       ...,\n",
              "       [ 0.125     ,  1.28019551,  1.17852976, ...,  2.12105489,\n",
              "        18.71096697,  1.1796296 ],\n",
              "       [ 0.12500133,  0.12500887,  0.12501411, ...,  0.12500958,\n",
              "         0.12500832,  0.12502112],\n",
              "       [ 0.12500024,  0.12500161,  0.12500255, ...,  0.12500174,\n",
              "         3.82780958,  0.12500385]])"
            ]
          },
          "metadata": {},
          "execution_count": 33
        }
      ]
    },
    {
      "cell_type": "markdown",
      "source": [
        "So, **what X_topics and topic_words represents ?**\n",
        "\n",
        "\n",
        "*  **X_topics**: represents probability of each topic to be assigned to each document. So, it should be (no. of doc , no. of topics) shape.It is known as Document-topic matrix.\n",
        "*   **topic_words**: represents probability of particualr word being in particular topic. So, it is (no. of topics, no. of words) shape.It is known as Topic-Word matrix.\n",
        "\n"
      ],
      "metadata": {
        "id": "WIXlGiLT0WFG"
      }
    },
    {
      "cell_type": "code",
      "source": [
        "print(topic_words.shape)\n",
        "print(X_topics.shape)"
      ],
      "metadata": {
        "colab": {
          "base_uri": "https://localhost:8080/"
        },
        "id": "z0gpR34L0JNY",
        "outputId": "b35e7d80-9e4b-4746-ee81-7b909dc37724"
      },
      "execution_count": null,
      "outputs": [
        {
          "output_type": "stream",
          "name": "stdout",
          "text": [
            "(8, 2602)\n",
            "(40217, 8)\n"
          ]
        }
      ]
    },
    {
      "cell_type": "code",
      "source": [
        "n_top_words = 15\n",
        "topics = []\n",
        "\n",
        "for i, topic_dist in enumerate(topic_words):\n",
        "    \n",
        "    # np.argsort to sorting an array or a list or the matrix acc to their values\n",
        "    sorted_topic_dist = np.argsort(topic_dist)\n",
        "    \n",
        "    # Next, to view the actual words present in those indexes we can make the use of the vocab created earlier\n",
        "    topic_words = np.array(tf_voc)[sorted_topic_dist]\n",
        "    \n",
        "    # so using the sorted_topic_indexes we ar extracting the words from the vocabulary\n",
        "    # obtaining topics + words\n",
        "    # this topic_words variable contains the Topics  as well as the respective words present in those Topics\n",
        "    topic_words = topic_words[:-n_top_words:-1]\n",
        "    topics.append(topic_words)\n",
        "    print (\"Topic\", str(i), topic_words)\n",
        "topics=np.array(topics)"
      ],
      "metadata": {
        "colab": {
          "base_uri": "https://localhost:8080/"
        },
        "id": "gHQCqKnD9qsa",
        "outputId": "ff0d1cd1-5b55-4a1d-b85c-7f2f86ff3380"
      },
      "execution_count": null,
      "outputs": [
        {
          "output_type": "stream",
          "name": "stdout",
          "text": [
            "Topic 0 ['credit' 'payment' 'late' 'account' 'report' 'balanc' 'card' 'interest'\n",
            " 'month' 'charg' 'statement' 'paid' 'made' 'date']\n",
            "Topic 1 ['ident' 'theft' 'victim' 'report' 'belong' 'attach' 'pleas' 'debt'\n",
            " 'affidavit' 'legal' 'result' 'discov' 'monitor' 'other']\n",
            "Topic 2 ['repositori' 'endless' 'enrich' 'balloon' 'devast' 'deactiv' 'helpless'\n",
            " 'surround' 'realiti' 'protocol' 'southern' 'rush' 'contravent' 'rebil']\n",
            "Topic 3 ['payment' 'loan' 'call' 'mortgag' 'would' 'month' 'time' 'compani'\n",
            " 'receiv' 'told' 'account' 'servic' 'year' 'amount']\n",
            "Topic 4 ['debt' 'credit' 'report' 'account' 'collect' 'compani' 'inform' 'receiv'\n",
            " 'letter' 'disput' 'never' 'request' 'provid' 'remov']\n",
            "Topic 5 ['account' 'call' 'card' 'bank' 'credit' 'charg' 'receiv' 'would' 'check'\n",
            " 'time' 'told' 'number' 'money' 'back']\n",
            "Topic 6 ['repositori' 'endless' 'enrich' 'balloon' 'devast' 'deactiv' 'helpless'\n",
            " 'surround' 'realiti' 'protocol' 'southern' 'rush' 'contravent' 'rebil']\n",
            "Topic 7 ['account' 'pleas' 'sure' 'credit' 'charg' 'remov' 'make' 'balanc'\n",
            " 'demand' 'inform' 'wrong' 'right' 'document' 'figur']\n"
          ]
        }
      ]
    },
    {
      "cell_type": "code",
      "source": [
        "doc_topic = model_lda.transform(tf_vector)  \n",
        "topic_to_doc = []\n",
        "# iterating over ever value till the end value\n",
        "for n in range(doc_topic.shape[0]):\n",
        "    \n",
        "    # argmax() gives maximum index value\n",
        "    topic_doc = doc_topic[n].argmax()\n",
        "    topic_to_doc.append(topic_doc)\n",
        "\n",
        "def doc_to_topic(doc_no,topic_to_doc=topic_to_doc):\n",
        "  print(\"topic assigned to document \",doc_no,\" is \",topic_to_doc[doc_no+1],\" that is \",topics[topic_to_doc[doc_no+1]])\n",
        "\n",
        "doc_to_topic(2)"
      ],
      "metadata": {
        "colab": {
          "base_uri": "https://localhost:8080/"
        },
        "id": "eEpFQQKm-I4Z",
        "outputId": "b016bd64-c315-4a0f-bfb7-ef624c1f08e9"
      },
      "execution_count": null,
      "outputs": [
        {
          "output_type": "stream",
          "name": "stdout",
          "text": [
            "topic assigned to document  2  is  5  that is  ['account' 'call' 'card' 'bank' 'credit' 'charg' 'receiv' 'would' 'check'\n",
            " 'time' 'told' 'number' 'money' 'back']\n"
          ]
        }
      ]
    },
    {
      "cell_type": "code",
      "source": [
        "topic_assigned_to_doc = pd.DataFrame(X_topics,columns=['topic0','topic1','topic2','topic3','topic4','topic5','topic6','topic7'])\n",
        "topic_assigned_to_doc['topic_assigned'] = topic_to_doc"
      ],
      "metadata": {
        "id": "pEHempuzF7ll"
      },
      "execution_count": null,
      "outputs": []
    },
    {
      "cell_type": "code",
      "source": [
        "topic_assigned_to_doc"
      ],
      "metadata": {
        "colab": {
          "base_uri": "https://localhost:8080/",
          "height": 424
        },
        "id": "-bPLBmRmF-F9",
        "outputId": "88c84131-8e31-44b1-fd92-ab79ea9736dd"
      },
      "execution_count": null,
      "outputs": [
        {
          "output_type": "execute_result",
          "data": {
            "text/plain": [
              "         topic0    topic1    topic2    topic3    topic4    topic5    topic6  \\\n",
              "0      0.016028  0.016028  0.016024  0.333768  0.570044  0.016058  0.016024   \n",
              "1      0.011128  0.011111  0.011111  0.011148  0.011136  0.922112  0.011111   \n",
              "2      0.016406  0.016386  0.016369  0.885249  0.016425  0.016415  0.016369   \n",
              "3      0.016411  0.016507  0.016389  0.016420  0.016413  0.885026  0.016389   \n",
              "4      0.047475  0.047542  0.047475  0.047493  0.667529  0.047537  0.047475   \n",
              "...         ...       ...       ...       ...       ...       ...       ...   \n",
              "40212  0.015152  0.015139  0.015137  0.893944  0.015162  0.015177  0.015137   \n",
              "40213  0.019786  0.019805  0.019759  0.019789  0.406082  0.474967  0.019759   \n",
              "40214  0.658036  0.021864  0.021864  0.021918  0.021925  0.210654  0.021864   \n",
              "40215  0.020402  0.020355  0.020349  0.020407  0.857359  0.020418  0.020349   \n",
              "40216  0.019492  0.019482  0.019466  0.863592  0.019483  0.019493  0.019466   \n",
              "\n",
              "         topic7  topic_assigned  \n",
              "0      0.016026  4               \n",
              "1      0.011142  5               \n",
              "2      0.016380  3               \n",
              "3      0.016445  5               \n",
              "4      0.047475  4               \n",
              "...         ... ..               \n",
              "40212  0.015152  3               \n",
              "40213  0.020053  5               \n",
              "40214  0.021876  0               \n",
              "40215  0.020362  4               \n",
              "40216  0.019525  3               \n",
              "\n",
              "[40217 rows x 9 columns]"
            ],
            "text/html": [
              "\n",
              "  <div id=\"df-4a8bf868-e7a2-4226-9992-a32282a87f4a\">\n",
              "    <div class=\"colab-df-container\">\n",
              "      <div>\n",
              "<style scoped>\n",
              "    .dataframe tbody tr th:only-of-type {\n",
              "        vertical-align: middle;\n",
              "    }\n",
              "\n",
              "    .dataframe tbody tr th {\n",
              "        vertical-align: top;\n",
              "    }\n",
              "\n",
              "    .dataframe thead th {\n",
              "        text-align: right;\n",
              "    }\n",
              "</style>\n",
              "<table border=\"1\" class=\"dataframe\">\n",
              "  <thead>\n",
              "    <tr style=\"text-align: right;\">\n",
              "      <th></th>\n",
              "      <th>topic0</th>\n",
              "      <th>topic1</th>\n",
              "      <th>topic2</th>\n",
              "      <th>topic3</th>\n",
              "      <th>topic4</th>\n",
              "      <th>topic5</th>\n",
              "      <th>topic6</th>\n",
              "      <th>topic7</th>\n",
              "      <th>topic_assigned</th>\n",
              "    </tr>\n",
              "  </thead>\n",
              "  <tbody>\n",
              "    <tr>\n",
              "      <th>0</th>\n",
              "      <td>0.016028</td>\n",
              "      <td>0.016028</td>\n",
              "      <td>0.016024</td>\n",
              "      <td>0.333768</td>\n",
              "      <td>0.570044</td>\n",
              "      <td>0.016058</td>\n",
              "      <td>0.016024</td>\n",
              "      <td>0.016026</td>\n",
              "      <td>4</td>\n",
              "    </tr>\n",
              "    <tr>\n",
              "      <th>1</th>\n",
              "      <td>0.011128</td>\n",
              "      <td>0.011111</td>\n",
              "      <td>0.011111</td>\n",
              "      <td>0.011148</td>\n",
              "      <td>0.011136</td>\n",
              "      <td>0.922112</td>\n",
              "      <td>0.011111</td>\n",
              "      <td>0.011142</td>\n",
              "      <td>5</td>\n",
              "    </tr>\n",
              "    <tr>\n",
              "      <th>2</th>\n",
              "      <td>0.016406</td>\n",
              "      <td>0.016386</td>\n",
              "      <td>0.016369</td>\n",
              "      <td>0.885249</td>\n",
              "      <td>0.016425</td>\n",
              "      <td>0.016415</td>\n",
              "      <td>0.016369</td>\n",
              "      <td>0.016380</td>\n",
              "      <td>3</td>\n",
              "    </tr>\n",
              "    <tr>\n",
              "      <th>3</th>\n",
              "      <td>0.016411</td>\n",
              "      <td>0.016507</td>\n",
              "      <td>0.016389</td>\n",
              "      <td>0.016420</td>\n",
              "      <td>0.016413</td>\n",
              "      <td>0.885026</td>\n",
              "      <td>0.016389</td>\n",
              "      <td>0.016445</td>\n",
              "      <td>5</td>\n",
              "    </tr>\n",
              "    <tr>\n",
              "      <th>4</th>\n",
              "      <td>0.047475</td>\n",
              "      <td>0.047542</td>\n",
              "      <td>0.047475</td>\n",
              "      <td>0.047493</td>\n",
              "      <td>0.667529</td>\n",
              "      <td>0.047537</td>\n",
              "      <td>0.047475</td>\n",
              "      <td>0.047475</td>\n",
              "      <td>4</td>\n",
              "    </tr>\n",
              "    <tr>\n",
              "      <th>...</th>\n",
              "      <td>...</td>\n",
              "      <td>...</td>\n",
              "      <td>...</td>\n",
              "      <td>...</td>\n",
              "      <td>...</td>\n",
              "      <td>...</td>\n",
              "      <td>...</td>\n",
              "      <td>...</td>\n",
              "      <td>...</td>\n",
              "    </tr>\n",
              "    <tr>\n",
              "      <th>40212</th>\n",
              "      <td>0.015152</td>\n",
              "      <td>0.015139</td>\n",
              "      <td>0.015137</td>\n",
              "      <td>0.893944</td>\n",
              "      <td>0.015162</td>\n",
              "      <td>0.015177</td>\n",
              "      <td>0.015137</td>\n",
              "      <td>0.015152</td>\n",
              "      <td>3</td>\n",
              "    </tr>\n",
              "    <tr>\n",
              "      <th>40213</th>\n",
              "      <td>0.019786</td>\n",
              "      <td>0.019805</td>\n",
              "      <td>0.019759</td>\n",
              "      <td>0.019789</td>\n",
              "      <td>0.406082</td>\n",
              "      <td>0.474967</td>\n",
              "      <td>0.019759</td>\n",
              "      <td>0.020053</td>\n",
              "      <td>5</td>\n",
              "    </tr>\n",
              "    <tr>\n",
              "      <th>40214</th>\n",
              "      <td>0.658036</td>\n",
              "      <td>0.021864</td>\n",
              "      <td>0.021864</td>\n",
              "      <td>0.021918</td>\n",
              "      <td>0.021925</td>\n",
              "      <td>0.210654</td>\n",
              "      <td>0.021864</td>\n",
              "      <td>0.021876</td>\n",
              "      <td>0</td>\n",
              "    </tr>\n",
              "    <tr>\n",
              "      <th>40215</th>\n",
              "      <td>0.020402</td>\n",
              "      <td>0.020355</td>\n",
              "      <td>0.020349</td>\n",
              "      <td>0.020407</td>\n",
              "      <td>0.857359</td>\n",
              "      <td>0.020418</td>\n",
              "      <td>0.020349</td>\n",
              "      <td>0.020362</td>\n",
              "      <td>4</td>\n",
              "    </tr>\n",
              "    <tr>\n",
              "      <th>40216</th>\n",
              "      <td>0.019492</td>\n",
              "      <td>0.019482</td>\n",
              "      <td>0.019466</td>\n",
              "      <td>0.863592</td>\n",
              "      <td>0.019483</td>\n",
              "      <td>0.019493</td>\n",
              "      <td>0.019466</td>\n",
              "      <td>0.019525</td>\n",
              "      <td>3</td>\n",
              "    </tr>\n",
              "  </tbody>\n",
              "</table>\n",
              "<p>40217 rows × 9 columns</p>\n",
              "</div>\n",
              "      <button class=\"colab-df-convert\" onclick=\"convertToInteractive('df-4a8bf868-e7a2-4226-9992-a32282a87f4a')\"\n",
              "              title=\"Convert this dataframe to an interactive table.\"\n",
              "              style=\"display:none;\">\n",
              "        \n",
              "  <svg xmlns=\"http://www.w3.org/2000/svg\" height=\"24px\"viewBox=\"0 0 24 24\"\n",
              "       width=\"24px\">\n",
              "    <path d=\"M0 0h24v24H0V0z\" fill=\"none\"/>\n",
              "    <path d=\"M18.56 5.44l.94 2.06.94-2.06 2.06-.94-2.06-.94-.94-2.06-.94 2.06-2.06.94zm-11 1L8.5 8.5l.94-2.06 2.06-.94-2.06-.94L8.5 2.5l-.94 2.06-2.06.94zm10 10l.94 2.06.94-2.06 2.06-.94-2.06-.94-.94-2.06-.94 2.06-2.06.94z\"/><path d=\"M17.41 7.96l-1.37-1.37c-.4-.4-.92-.59-1.43-.59-.52 0-1.04.2-1.43.59L10.3 9.45l-7.72 7.72c-.78.78-.78 2.05 0 2.83L4 21.41c.39.39.9.59 1.41.59.51 0 1.02-.2 1.41-.59l7.78-7.78 2.81-2.81c.8-.78.8-2.07 0-2.86zM5.41 20L4 18.59l7.72-7.72 1.47 1.35L5.41 20z\"/>\n",
              "  </svg>\n",
              "      </button>\n",
              "      \n",
              "  <style>\n",
              "    .colab-df-container {\n",
              "      display:flex;\n",
              "      flex-wrap:wrap;\n",
              "      gap: 12px;\n",
              "    }\n",
              "\n",
              "    .colab-df-convert {\n",
              "      background-color: #E8F0FE;\n",
              "      border: none;\n",
              "      border-radius: 50%;\n",
              "      cursor: pointer;\n",
              "      display: none;\n",
              "      fill: #1967D2;\n",
              "      height: 32px;\n",
              "      padding: 0 0 0 0;\n",
              "      width: 32px;\n",
              "    }\n",
              "\n",
              "    .colab-df-convert:hover {\n",
              "      background-color: #E2EBFA;\n",
              "      box-shadow: 0px 1px 2px rgba(60, 64, 67, 0.3), 0px 1px 3px 1px rgba(60, 64, 67, 0.15);\n",
              "      fill: #174EA6;\n",
              "    }\n",
              "\n",
              "    [theme=dark] .colab-df-convert {\n",
              "      background-color: #3B4455;\n",
              "      fill: #D2E3FC;\n",
              "    }\n",
              "\n",
              "    [theme=dark] .colab-df-convert:hover {\n",
              "      background-color: #434B5C;\n",
              "      box-shadow: 0px 1px 3px 1px rgba(0, 0, 0, 0.15);\n",
              "      filter: drop-shadow(0px 1px 2px rgba(0, 0, 0, 0.3));\n",
              "      fill: #FFFFFF;\n",
              "    }\n",
              "  </style>\n",
              "\n",
              "      <script>\n",
              "        const buttonEl =\n",
              "          document.querySelector('#df-4a8bf868-e7a2-4226-9992-a32282a87f4a button.colab-df-convert');\n",
              "        buttonEl.style.display =\n",
              "          google.colab.kernel.accessAllowed ? 'block' : 'none';\n",
              "\n",
              "        async function convertToInteractive(key) {\n",
              "          const element = document.querySelector('#df-4a8bf868-e7a2-4226-9992-a32282a87f4a');\n",
              "          const dataTable =\n",
              "            await google.colab.kernel.invokeFunction('convertToInteractive',\n",
              "                                                     [key], {});\n",
              "          if (!dataTable) return;\n",
              "\n",
              "          const docLinkHtml = 'Like what you see? Visit the ' +\n",
              "            '<a target=\"_blank\" href=https://colab.research.google.com/notebooks/data_table.ipynb>data table notebook</a>'\n",
              "            + ' to learn more about interactive tables.';\n",
              "          element.innerHTML = '';\n",
              "          dataTable['output_type'] = 'display_data';\n",
              "          await google.colab.output.renderOutput(dataTable, element);\n",
              "          const docLink = document.createElement('div');\n",
              "          docLink.innerHTML = docLinkHtml;\n",
              "          element.appendChild(docLink);\n",
              "        }\n",
              "      </script>\n",
              "    </div>\n",
              "  </div>\n",
              "  "
            ]
          },
          "metadata": {},
          "execution_count": 45
        }
      ]
    },
    {
      "cell_type": "code",
      "source": [
        "from sklearn.cluster import KMeans\n",
        "km = KMeans(8,init='k-means++',max_iter=20)\n",
        "km.fit(tf_vector)"
      ],
      "metadata": {
        "colab": {
          "base_uri": "https://localhost:8080/"
        },
        "id": "XWhpChujE3OY",
        "outputId": "bb47e79e-fd3b-48a9-f38b-ef6b7cfde311"
      },
      "execution_count": 26,
      "outputs": [
        {
          "output_type": "execute_result",
          "data": {
            "text/plain": [
              "KMeans(max_iter=20)"
            ]
          },
          "metadata": {},
          "execution_count": 26
        }
      ]
    },
    {
      "cell_type": "code",
      "source": [
        "centroids = km.cluster_centers_.argsort()[:,::-1]\n",
        "for i in range(8):\n",
        "  print(\"centroid \", i)\n",
        "  for ind in centroids[i,:15]:\n",
        "    print(tf_voc[ind],end=' ')\n",
        "  print()"
      ],
      "metadata": {
        "colab": {
          "base_uri": "https://localhost:8080/"
        },
        "id": "a_1m0tnDF39I",
        "outputId": "7de4952f-f78e-46d4-a8c5-725e56d57737"
      },
      "execution_count": 30,
      "outputs": [
        {
          "output_type": "stream",
          "name": "stdout",
          "text": [
            "centroid  0\n",
            "credit report account compani collect inform debt remov never disput file receiv request payment time \n",
            "centroid  1\n",
            "payment month account loan call late credit made mortgag would time make receiv bank told \n",
            "centroid  2\n",
            "call told time number phone receiv would back compani account said ask debt inform contact \n",
            "centroid  3\n",
            "card credit charg account call bank receiv would time told disput never purchas payment balanc \n",
            "centroid  4\n",
            "debt collect credit report compani account receiv letter inform valid provid contact request disput call \n",
            "centroid  5\n",
            "ident theft report belong attach victim debt affidavit pleas legal account inform result fraudul file \n",
            "centroid  6\n",
            "loan mortgag receiv time compani would servic payment call month inform bank told state request \n",
            "centroid  7\n",
            "account bank check credit close call open charg receiv money would inform time deposit told \n"
          ]
        }
      ]
    },
    {
      "cell_type": "code",
      "source": [
        "from sklearn.naive_bayes import MultinomialNB\n",
        "MNB = MultinomialNB()"
      ],
      "metadata": {
        "id": "wQseKU9jJhJN"
      },
      "execution_count": null,
      "outputs": []
    }
  ],
  "metadata": {
    "colab": {
      "provenance": [],
      "collapsed_sections": []
    },
    "kernelspec": {
      "display_name": "Python 3",
      "name": "python3"
    },
    "language_info": {
      "name": "python"
    }
  },
  "nbformat": 4,
  "nbformat_minor": 0
}